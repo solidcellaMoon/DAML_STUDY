{
 "cells": [
  {
   "cell_type": "markdown",
   "metadata": {},
   "source": [
    "# (3). ndarray - 정렬, 선형대수"
   ]
  },
  {
   "cell_type": "markdown",
   "metadata": {},
   "source": [
    "## 1. 행렬의 정렬 - sort()와 argsort()"
   ]
  },
  {
   "cell_type": "markdown",
   "metadata": {},
   "source": [
    "### 1-1. numpy의 sort() 유형\n",
    "\n",
    "* np.sort(arr): 원 행렬은 그대로 유지, 정렬된 행렬을 반환\n",
    "\n",
    "* ndarray.sort(): 원 행렬 자체를 정렬한 형태로 변환, 반환값은 None\n",
    "\n",
    "#### 기본적으로 오름차순으로 정렬한다. [1,2,3,4...]\n",
    "\n",
    "* 내림차순 정렬하기 -> np.sort()[::-1]\n",
    "\n",
    "\n"
   ]
  },
  {
   "cell_type": "code",
   "execution_count": 1,
   "metadata": {},
   "outputs": [
    {
     "name": "stdout",
     "output_type": "stream",
     "text": [
      "원본 행렬: [3 1 9 5]\n",
      "np.sort() 호출 후 반환된 정렬 행렬: [1 3 5 9]\n",
      "np.sort() 호출 후 원본 행렬:  [3 1 9 5]\n",
      "arr.sort() 호출 후 반환된 행렬: None\n",
      "arr.sort() 호출 후 원본 행렬: [1 3 5 9]\n"
     ]
    }
   ],
   "source": [
    "import numpy as np\n",
    "\n",
    "arr = np.array([3, 1, 9, 5])\n",
    "print('원본 행렬:', arr)\n",
    "\n",
    "#np.sort()로 정렬하기\n",
    "sort_arr = np.sort(arr)\n",
    "print('np.sort() 호출 후 반환된 정렬 행렬:', sort_arr)\n",
    "print('np.sort() 호출 후 원본 행렬: ', arr)\n",
    "\n",
    "#ndarray.sort()로 정렬하기\n",
    "sort_arr = arr.sort()\n",
    "arr.sort()\n",
    "print('arr.sort() 호출 후 반환된 행렬:', sort_arr)\n",
    "print('arr.sort() 호출 후 원본 행렬:', arr)"
   ]
  },
  {
   "cell_type": "markdown",
   "metadata": {},
   "source": [
    "#### 내림차순으로 정렬하기"
   ]
  },
  {
   "cell_type": "code",
   "execution_count": 2,
   "metadata": {},
   "outputs": [
    {
     "name": "stdout",
     "output_type": "stream",
     "text": [
      "내림차순으로 정렬:  [9 5 3 1]\n"
     ]
    }
   ],
   "source": [
    "sort_desc = np.sort(arr)[::-1]\n",
    "print('내림차순으로 정렬: ', sort_desc)\n",
    "\n",
    "# arr.sort()[::-1] -> ERROR"
   ]
  },
  {
   "cell_type": "markdown",
   "metadata": {},
   "source": [
    "#### axis 방향에 따라 정렬하기"
   ]
  },
  {
   "cell_type": "code",
   "execution_count": 3,
   "metadata": {},
   "outputs": [
    {
     "name": "stdout",
     "output_type": "stream",
     "text": [
      "Row 방향으로 정렬:\n",
      " [[ 7  1]\n",
      " [ 8 12]]\n",
      "Col 방향으로 정렬:\n",
      " [[ 8 12]\n",
      " [ 1  7]]\n"
     ]
    }
   ],
   "source": [
    "arr2d = np.array([[8, 12],\n",
    "                 [7, 1]])\n",
    "\n",
    "# 행 방향으로 정렬\n",
    "sort_arr = np.sort(arr2d, axis=0)\n",
    "print('Row 방향으로 정렬:\\n', sort_arr)\n",
    "\n",
    "# 열 방향으로 정렬\n",
    "sort_arr = np.sort(arr2d, axis=1)\n",
    "print('Col 방향으로 정렬:\\n', sort_arr)"
   ]
  },
  {
   "cell_type": "markdown",
   "metadata": {},
   "source": [
    "### 1-2. argsort"
   ]
  },
  {
   "cell_type": "code",
   "execution_count": 4,
   "metadata": {},
   "outputs": [
    {
     "name": "stdout",
     "output_type": "stream",
     "text": [
      "[1 3 5 9]\n",
      "<class 'numpy.ndarray'>\n",
      "행렬 정렬 시 원본 행렬의 인덱스: [1 0 3 2]\n"
     ]
    }
   ],
   "source": [
    "arr = np.array([3, 1, 9, 5])\n",
    "print(np.sort(arr))\n",
    "\n",
    "sort_index = np.argsort(arr)\n",
    "print(type(sort_index))\n",
    "print('행렬 정렬 시 원본 행렬의 인덱스:', sort_index)"
   ]
  },
  {
   "cell_type": "code",
   "execution_count": 5,
   "metadata": {},
   "outputs": [
    {
     "name": "stdout",
     "output_type": "stream",
     "text": [
      "[9 5 3 1]\n",
      "행렬 내림차순 정렬 시 원본 행렬의 인덱스: [2 3 0 1]\n"
     ]
    }
   ],
   "source": [
    "print(np.sort(arr)[::-1])\n",
    "\n",
    "sort_desc = np.argsort(arr)[::-1]\n",
    "print('행렬 내림차순 정렬 시 원본 행렬의 인덱스:', sort_desc)"
   ]
  },
  {
   "cell_type": "markdown",
   "metadata": {},
   "source": [
    "### 활용예시:\n",
    "#### key-value 형태의 데이터를 A=78, B=95, C=84, D=98, E=88 을 ndarray로 표현하고, argsort()를 이용하여 key값을 정렬한다.\n",
    "\n",
    "Q. 점수를 낮은 순서대로 정렬하여, 그 순서대로 사람 명단을 출력하고 싶을 때?\n"
   ]
  },
  {
   "cell_type": "code",
   "execution_count": 6,
   "metadata": {},
   "outputs": [
    {
     "name": "stdout",
     "output_type": "stream",
     "text": [
      "sort indices: [0 2 4 1 3]\n",
      "['A' 'C' 'E' 'B' 'D']\n",
      "[78 84 88 95 98]\n"
     ]
    }
   ],
   "source": [
    "name = np.array(['A','B','C','D','E'])\n",
    "score = np.array([78, 95, 84, 98, 88])\n",
    "\n",
    "#score의 정렬된 값에 해당하는 원본 행렬 위치 인덱스를 반환\n",
    "sort_index = np.argsort(score)\n",
    "print(\"sort indices:\", sort_index)\n",
    "\n",
    "#이를 이용하여 name 행렬에서 해당 순서의 name값 추출. -> Fancy Ind\n",
    "name_sort =  name[sort_index]\n",
    "score_sort = score[sort_index]\n",
    "print(name_sort)\n",
    "print(score_sort)"
   ]
  },
  {
   "cell_type": "markdown",
   "metadata": {},
   "source": [
    "## 2. 선형대수 연산 - 행렬 내적과 전치 행렬"
   ]
  },
  {
   "cell_type": "markdown",
   "metadata": {},
   "source": [
    "### 2-1. 행렬의 내적"
   ]
  },
  {
   "cell_type": "code",
   "execution_count": 7,
   "metadata": {},
   "outputs": [
    {
     "name": "stdout",
     "output_type": "stream",
     "text": [
      "행렬 내적 결과:\n",
      " [[ 58  64]\n",
      " [139 154]]\n"
     ]
    }
   ],
   "source": [
    "A = np.array([[1,2,3],\n",
    "             [4,5,6]])\n",
    "\n",
    "B = np.array([[7,8],\n",
    "             [9,10],\n",
    "             [11,12]])\n",
    "\n",
    "dot_arr = np.dot(A,B)\n",
    "print('행렬 내적 결과:\\n', dot_arr)"
   ]
  },
  {
   "cell_type": "markdown",
   "metadata": {},
   "source": [
    "### 2-2. 전치 행렬"
   ]
  },
  {
   "cell_type": "code",
   "execution_count": 8,
   "metadata": {},
   "outputs": [
    {
     "name": "stdout",
     "output_type": "stream",
     "text": [
      "A의 전치 행렬:\n",
      " [[1 3]\n",
      " [2 4]]\n"
     ]
    }
   ],
   "source": [
    "A = np.array([[1,2],\n",
    "             [3,4]])\n",
    "trans_mat = np.transpose(A)\n",
    "print('A의 전치 행렬:\\n', trans_mat)"
   ]
  }
 ],
 "metadata": {
  "kernelspec": {
   "display_name": "Python 3",
   "language": "python",
   "name": "python3"
  },
  "language_info": {
   "codemirror_mode": {
    "name": "ipython",
    "version": 3
   },
   "file_extension": ".py",
   "mimetype": "text/x-python",
   "name": "python",
   "nbconvert_exporter": "python",
   "pygments_lexer": "ipython3",
   "version": "3.8.3"
  }
 },
 "nbformat": 4,
 "nbformat_minor": 4
}
