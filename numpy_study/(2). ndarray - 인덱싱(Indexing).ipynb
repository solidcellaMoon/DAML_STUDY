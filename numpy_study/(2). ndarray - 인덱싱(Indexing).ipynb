{
 "cells": [
  {
   "cell_type": "markdown",
   "metadata": {},
   "source": [
    "# (2). ndarray - 인덱싱(Indexing)"
   ]
  },
  {
   "cell_type": "markdown",
   "metadata": {},
   "source": [
    "## Indexing 개요\n",
    "\n",
    "### 1. 특정 위치의 단일값 추출\n",
    "\n",
    "원하는 위치의 인덱스값을 지정하면, 해당 위치의 데이터가 반환.\n",
    "\n",
    "### 2. 슬라이싱 (Slicing)\n",
    "\n",
    "연속된 인덱스상의 ndarray를 추출한다. ':' 기호 사이에 시작, 종료 인덱스를 표시하면, 시작 인덱스에서 종료 인덱스-1 위치에 있는 값들을 반환.\n",
    "\n",
    "ex) 1:5 -> 시작(1) ~ 종료(4) 까지 반환\n",
    "\n",
    "### 3. 팬시 인덱싱 (Fancy Indexing)\n",
    "\n",
    "일정한 인덱싱 집합을 리스트 또는 ndarray 형태로 지정하고, 해당 위치에 있는 값들을 반환한다.\n",
    "\n",
    "### 4. 불린 인덱싱 (Boolean Indexing) ★★★\n",
    "\n",
    "특정 조건에 해당하는지 여부인 T/F 값 인덱싱 집합을 기반으로 T에 해당하는 인덱스 위치에 있는 값들을 반환한다. \n"
   ]
  },
  {
   "cell_type": "markdown",
   "metadata": {},
   "source": [
    "### 1. 특정 위치의 단일값 추출"
   ]
  },
  {
   "cell_type": "code",
   "execution_count": 1,
   "metadata": {},
   "outputs": [
    {
     "name": "stdout",
     "output_type": "stream",
     "text": [
      "arr1: [1 2 3 4 5 6 7 8 9]\n",
      "value: 3\n",
      "<class 'numpy.int32'>\n"
     ]
    }
   ],
   "source": [
    "import numpy as np\n",
    "\n",
    "# 1부터 9까지의 1차원 ndarray 생성\n",
    "arr1 = np.arange(start=1, stop=10)\n",
    "print('arr1:',arr1)\n",
    "\n",
    "#index는 0부터 시작하므로, arr1[2]는 3번째 위치의 값을 의미.\n",
    "val = arr1[2]\n",
    "print('value:',val)\n",
    "print(type(val))\n"
   ]
  },
  {
   "cell_type": "code",
   "execution_count": 2,
   "metadata": {},
   "outputs": [
    {
     "name": "stdout",
     "output_type": "stream",
     "text": [
      "맨 뒤의 값: 9 \n",
      "맨 뒤에서 두번째 값: 8\n"
     ]
    }
   ],
   "source": [
    "print('맨 뒤의 값:',arr1[-1],'\\n맨 뒤에서 두번째 값:',arr1[-2])"
   ]
  },
  {
   "cell_type": "code",
   "execution_count": 3,
   "metadata": {},
   "outputs": [
    {
     "name": "stdout",
     "output_type": "stream",
     "text": [
      "arr1: [9 2 3 4 5 6 7 8 0]\n"
     ]
    }
   ],
   "source": [
    "arr1[0] = 9\n",
    "arr1[8] = 0\n",
    "print('arr1:',arr1)"
   ]
  },
  {
   "cell_type": "markdown",
   "metadata": {},
   "source": [
    "* 다차원 배열에서 활용하기"
   ]
  },
  {
   "cell_type": "code",
   "execution_count": 4,
   "metadata": {},
   "outputs": [
    {
     "name": "stdout",
     "output_type": "stream",
     "text": [
      "[[1 2 3]\n",
      " [4 5 6]\n",
      " [7 8 9]]\n",
      "[0,0] index 가리키는 값: 1\n",
      "[0,1] index 가리키는 값: 2\n",
      "[1,0] index 가리키는 값: 4\n",
      "[2,2] index 가리키는 값: 9\n"
     ]
    }
   ],
   "source": [
    "arr1d = np.arange(start=1, stop=10)\n",
    "arr2d = arr1d.reshape(3,3)\n",
    "print(arr2d)\n",
    "\n",
    "print('[0,0] index 가리키는 값:', arr2d[0,0])\n",
    "print('[0,1] index 가리키는 값:', arr2d[0,1])\n",
    "print('[1,0] index 가리키는 값:', arr2d[1,0])\n",
    "print('[2,2] index 가리키는 값:', arr2d[2,2])"
   ]
  },
  {
   "cell_type": "markdown",
   "metadata": {},
   "source": [
    "### 2. 슬라이싱 (Slicing)"
   ]
  },
  {
   "cell_type": "code",
   "execution_count": 5,
   "metadata": {},
   "outputs": [
    {
     "name": "stdout",
     "output_type": "stream",
     "text": [
      "[1 2 3 4 5 6 7 8 9]\n",
      "[1 2 3]\n",
      "<class 'numpy.ndarray'>\n"
     ]
    }
   ],
   "source": [
    "arr1 = np.arange(start=1, stop=10)\n",
    "print(arr1)\n",
    "arr3 = arr1[0:3]\n",
    "print(arr3)\n",
    "print(type(arr3))"
   ]
  },
  {
   "cell_type": "code",
   "execution_count": 6,
   "metadata": {},
   "outputs": [
    {
     "name": "stdout",
     "output_type": "stream",
     "text": [
      "[1 2 3]\n",
      "[4 5 6 7 8 9]\n",
      "[1 2 3 4 5 6 7 8 9]\n"
     ]
    }
   ],
   "source": [
    "print(arr1[:3])\n",
    "print(arr1[3:])\n",
    "print(arr1[:])"
   ]
  },
  {
   "cell_type": "markdown",
   "metadata": {},
   "source": [
    "* 다차원 배열에서 활용하기"
   ]
  },
  {
   "cell_type": "code",
   "execution_count": 7,
   "metadata": {},
   "outputs": [
    {
     "name": "stdout",
     "output_type": "stream",
     "text": [
      "arr2d:\n",
      " [[1 2 3]\n",
      " [4 5 6]\n",
      " [7 8 9]] \n",
      "\n",
      "arr2d[ 0:2,0:2 ]\n",
      " [[1 2]\n",
      " [4 5]]\n",
      "arr2d[ :2,:2 ]\n",
      " [[1 2]\n",
      " [4 5]]\n",
      "arr2d[ 1:3,:2 ]\n",
      " [[4 5]\n",
      " [7 8]]\n",
      "arr2d[ :2,1: ]\n",
      " [[2 3]\n",
      " [5 6]]\n",
      "arr2d[ 1:,:2 ]\n",
      " [[4 5]\n",
      " [7 8]]\n"
     ]
    }
   ],
   "source": [
    "print(\"arr2d:\\n\",arr2d,'\\n')\n",
    "\n",
    "print('arr2d[ 0:2,0:2 ]\\n', arr2d[ 0:2,0:2 ])\n",
    "print('arr2d[ :2,:2 ]\\n', arr2d[ :2,:2 ])\n",
    "print('arr2d[ 1:3,:2 ]\\n', arr2d[ 1:3,:2 ])\n",
    "print('arr2d[ :2,1: ]\\n', arr2d[ :2,1: ])\n",
    "print('arr2d[ 1:,:2 ]\\n', arr2d[ 1:,:2 ])\n"
   ]
  },
  {
   "cell_type": "markdown",
   "metadata": {},
   "source": [
    "### 3. 팬시 인덱싱 (Fancy Indexing)"
   ]
  },
  {
   "cell_type": "code",
   "execution_count": 8,
   "metadata": {},
   "outputs": [
    {
     "name": "stdout",
     "output_type": "stream",
     "text": [
      "[[1 2 3]\n",
      " [4 5 6]\n",
      " [7 8 9]]\n"
     ]
    }
   ],
   "source": [
    "print(arr2d)"
   ]
  },
  {
   "cell_type": "code",
   "execution_count": 9,
   "metadata": {},
   "outputs": [
    {
     "name": "stdout",
     "output_type": "stream",
     "text": [
      "[3 6]\n",
      "arr2d[[0,1],2] => [3, 6]\n"
     ]
    }
   ],
   "source": [
    "arr = arr2d[[0,1],2]\n",
    "print(arr)\n",
    "print('arr2d[[0,1],2] =>', arr.tolist())"
   ]
  },
  {
   "cell_type": "code",
   "execution_count": 10,
   "metadata": {},
   "outputs": [
    {
     "name": "stdout",
     "output_type": "stream",
     "text": [
      "[[1 2]\n",
      " [7 8]]\n",
      "arr2d[[0,2],:2] => [[1, 2], [7, 8]]\n"
     ]
    }
   ],
   "source": [
    "arr = arr2d[[0,2],:2]\n",
    "print(arr)\n",
    "print('arr2d[[0,2],:2] =>', arr.tolist())"
   ]
  },
  {
   "cell_type": "code",
   "execution_count": 11,
   "metadata": {},
   "outputs": [
    {
     "name": "stdout",
     "output_type": "stream",
     "text": [
      "[[1 2 3]\n",
      " [7 8 9]]\n",
      "arr2d[[0,2]] => [[1, 2, 3], [7, 8, 9]]\n"
     ]
    }
   ],
   "source": [
    "arr = arr2d[[0,2]]\n",
    "print(arr)\n",
    "print('arr2d[[0,2]] =>', arr.tolist())"
   ]
  },
  {
   "cell_type": "markdown",
   "metadata": {},
   "source": [
    "### 4. 불린 인덱싱 (Boolean Indexing) ★★★"
   ]
  },
  {
   "cell_type": "code",
   "execution_count": 12,
   "metadata": {},
   "outputs": [
    {
     "name": "stdout",
     "output_type": "stream",
     "text": [
      "[1 2 3 4 5 6 7 8 9]\n"
     ]
    }
   ],
   "source": [
    "print(arr1d)"
   ]
  },
  {
   "cell_type": "code",
   "execution_count": 13,
   "metadata": {},
   "outputs": [
    {
     "name": "stdout",
     "output_type": "stream",
     "text": [
      "[False False False False False  True  True  True  True]\n"
     ]
    }
   ],
   "source": [
    "print(arr1d > 5)"
   ]
  },
  {
   "cell_type": "code",
   "execution_count": 14,
   "metadata": {},
   "outputs": [
    {
     "name": "stdout",
     "output_type": "stream",
     "text": [
      "val: [False False False False False  True  True  True  True]\n",
      "<class 'numpy.ndarray'>\n"
     ]
    }
   ],
   "source": [
    "val = arr1d > 5\n",
    "\n",
    "print('val:',val)\n",
    "print(type(val))"
   ]
  },
  {
   "cell_type": "code",
   "execution_count": 15,
   "metadata": {},
   "outputs": [
    {
     "name": "stdout",
     "output_type": "stream",
     "text": [
      "[1 2 3 4 5 6 7 8 9]\n",
      "arr1d > 5 인덱싱 결과 값: [6 7 8 9]\n"
     ]
    }
   ],
   "source": [
    "#[]안에 arr1d > 5 boolean indexing 적용\n",
    "print(arr1d)\n",
    "arr = arr1d[ arr1d > 5 ]\n",
    "print('arr1d > 5 인덱싱 결과 값:', arr)"
   ]
  },
  {
   "cell_type": "code",
   "execution_count": 16,
   "metadata": {},
   "outputs": [
    {
     "name": "stdout",
     "output_type": "stream",
     "text": [
      "불린 인덱스로 필터링한 결과: [6 7 8 9]\n"
     ]
    }
   ],
   "source": [
    "bool_index = [False, False, False, False, False,  True,  True,  True,  True]\n",
    "arr = arr1d[bool_index]\n",
    "print('불린 인덱스로 필터링한 결과:',arr)"
   ]
  },
  {
   "cell_type": "markdown",
   "metadata": {},
   "source": [
    "즉, True인 값만 받아서 출력한다."
   ]
  },
  {
   "cell_type": "code",
   "execution_count": 17,
   "metadata": {},
   "outputs": [
    {
     "name": "stdout",
     "output_type": "stream",
     "text": [
      "일반 인덱스로 필터링한 결과: [6 7 8 9]\n"
     ]
    }
   ],
   "source": [
    "index = np.array([5,6,7,8])\n",
    "arr = arr1d[index]\n",
    "print('일반 인덱스로 필터링한 결과:', arr)"
   ]
  },
  {
   "cell_type": "markdown",
   "metadata": {},
   "source": [
    "for문과 if문으로 똑같은 기능을 구현 가능.\n",
    "\n",
    "하지만 불린 인덱스는 한문장으로 간편하게 사용 가능하다."
   ]
  },
  {
   "cell_type": "code",
   "execution_count": 18,
   "metadata": {},
   "outputs": [
    {
     "name": "stdout",
     "output_type": "stream",
     "text": [
      "[6 7 8 9]\n"
     ]
    }
   ],
   "source": [
    "#총정리\n",
    "print(arr1d[ arr1d > 5])"
   ]
  }
 ],
 "metadata": {
  "kernelspec": {
   "display_name": "Python 3",
   "language": "python",
   "name": "python3"
  },
  "language_info": {
   "codemirror_mode": {
    "name": "ipython",
    "version": 3
   },
   "file_extension": ".py",
   "mimetype": "text/x-python",
   "name": "python",
   "nbconvert_exporter": "python",
   "pygments_lexer": "ipython3",
   "version": "3.8.3"
  }
 },
 "nbformat": 4,
 "nbformat_minor": 4
}
