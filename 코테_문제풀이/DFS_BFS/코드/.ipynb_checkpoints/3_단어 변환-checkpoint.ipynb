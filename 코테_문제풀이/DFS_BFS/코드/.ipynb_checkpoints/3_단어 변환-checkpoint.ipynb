{
 "cells": [
  {
   "cell_type": "markdown",
   "metadata": {},
   "source": [
    "# 프로그래머스 DFS/BFS 문제\n",
    "https://programmers.co.kr/learn/courses/30/parts/12421\n",
    "\n",
    "# 단어 변환\n",
    "https://programmers.co.kr/learn/courses/30/lessons/43163\n",
    "\n",
    "## 문제 설명\n",
    "두 개의 단어 begin, target과 단어의 집합 words가 있습니다. 아래와 같은 규칙을 이용하여 begin에서 target으로 변환하는 가장 짧은 변환 과정을 찾으려고 합니다.\n",
    "\n",
    "\n",
    "1. 한 번에 한 개의 알파벳만 바꿀 수 있습니다.\n",
    "2. words에 있는 단어로만 변환할 수 있습니다.\n",
    "\n",
    "\n",
    "예를 들어 begin이 hit, target가 cog, words가 [hot,dot,dog,lot,log,cog]라면 hit -> hot -> dot -> dog -> cog와 같이 4단계를 거쳐 변환할 수 있습니다.\n",
    "\n",
    "\n",
    "두 개의 단어 begin, target과 단어의 집합 words가 매개변수로 주어질 때, 최소 몇 단계의 과정을 거쳐 begin을 target으로 변환할 수 있는지 return 하도록 solution 함수를 작성해주세요.\n",
    "\n",
    "\n",
    "### 제한 조건\n",
    "* 각 단어는 알파벳 소문자로만 이루어져 있습니다.\n",
    "* 각 단어의 길이는 3 이상 10 이하이며 모든 단어의 길이는 같습니다.\n",
    "* words에는 3개 이상 50개 이하의 단어가 있으며 중복되는 단어는 없습니다.\n",
    "* begin과 target은 같지 않습니다.\n",
    "* 변환할 수 없는 경우에는 0를 return 합니다."
   ]
  },
  {
   "cell_type": "code",
   "execution_count": 190,
   "metadata": {},
   "outputs": [],
   "source": [
    "begin = 'hit'\n",
    "target = 'cog'\n",
    "\n",
    "words = ['hot', 'dot', 'dog', 'lot', 'log', 'cog']\n",
    "#결과 = 4\n",
    "\n",
    "#words = ['hot', 'dot', 'dog', 'lot', 'log']\n",
    "#결과 = 0"
   ]
  },
  {
   "cell_type": "code",
   "execution_count": 204,
   "metadata": {},
   "outputs": [],
   "source": [
    "from collections import deque\n",
    "    \n",
    "def can_change(cur_word, words):\n",
    "    cand = []\n",
    "    \n",
    "    for word in words:\n",
    "        diff = [True for x, y in zip(cur_word,word) if x != y]\n",
    "        print(diff)\n",
    "        if len(diff) == 1:\n",
    "            cand.append(word)\n",
    "            \n",
    "            return cand\n",
    "    \n",
    "    "
   ]
  },
  {
   "cell_type": "code",
   "execution_count": null,
   "metadata": {},
   "outputs": [],
   "source": []
  },
  {
   "cell_type": "code",
   "execution_count": null,
   "metadata": {},
   "outputs": [],
   "source": []
  },
  {
   "cell_type": "code",
   "execution_count": 201,
   "metadata": {},
   "outputs": [
    {
     "data": {
      "text/plain": [
       "0"
      ]
     },
     "execution_count": 201,
     "metadata": {},
     "output_type": "execute_result"
    }
   ],
   "source": [
    "solution(begin,target,words)"
   ]
  },
  {
   "cell_type": "code",
   "execution_count": 183,
   "metadata": {},
   "outputs": [
    {
     "data": {
      "text/plain": [
       "[1, 2, 3, 0]"
      ]
     },
     "execution_count": 183,
     "metadata": {},
     "output_type": "execute_result"
    }
   ],
   "source": [
    "arr = [1,2,3]\n",
    "arr.append(0)\n",
    "arr"
   ]
  },
  {
   "cell_type": "code",
   "execution_count": null,
   "metadata": {},
   "outputs": [],
   "source": []
  },
  {
   "cell_type": "code",
   "execution_count": null,
   "metadata": {},
   "outputs": [],
   "source": []
  },
  {
   "cell_type": "code",
   "execution_count": null,
   "metadata": {},
   "outputs": [],
   "source": [
    "answer = 0\n",
    "\n",
    "def dfs(begin,target,words,visited):\n",
    "    global answer\n",
    "    stacks = [begin]\n",
    "    \n",
    "    whilie stacks:\n",
    "        stack = stacks.pop()\n",
    "        \n",
    "        if stack == target:\n",
    "            return answer\n",
    "        \n",
    "        for w in range(len(words)):\n",
    "            #조건 1. 한 개의 알파벳만 다른 경우\n",
    "            if len()\n",
    "        \n"
   ]
  },
  {
   "cell_type": "code",
   "execution_count": null,
   "metadata": {},
   "outputs": [],
   "source": []
  },
  {
   "cell_type": "code",
   "execution_count": null,
   "metadata": {},
   "outputs": [],
   "source": []
  },
  {
   "cell_type": "code",
   "execution_count": null,
   "metadata": {},
   "outputs": [],
   "source": []
  },
  {
   "cell_type": "code",
   "execution_count": null,
   "metadata": {},
   "outputs": [],
   "source": []
  },
  {
   "cell_type": "code",
   "execution_count": null,
   "metadata": {},
   "outputs": [],
   "source": []
  },
  {
   "cell_type": "code",
   "execution_count": null,
   "metadata": {},
   "outputs": [],
   "source": []
  },
  {
   "cell_type": "code",
   "execution_count": null,
   "metadata": {},
   "outputs": [],
   "source": []
  },
  {
   "cell_type": "code",
   "execution_count": null,
   "metadata": {},
   "outputs": [],
   "source": []
  },
  {
   "cell_type": "code",
   "execution_count": 18,
   "metadata": {},
   "outputs": [
    {
     "name": "stdout",
     "output_type": "stream",
     "text": [
      "o 가 있음\n"
     ]
    }
   ],
   "source": [
    "for i in words[0]:\n",
    "    if i in target:\n",
    "        print(i,'가 있음')"
   ]
  },
  {
   "cell_type": "code",
   "execution_count": null,
   "metadata": {},
   "outputs": [],
   "source": []
  },
  {
   "cell_type": "code",
   "execution_count": 180,
   "metadata": {},
   "outputs": [],
   "source": [
    "from collections import deque\n",
    "\n",
    "visited = [False] * len(words)\n",
    "\n",
    "def dfs(start,words,target,visited):\n",
    "    \n",
    "    #arr = [start]\n",
    "    arr = deque([start])\n",
    "    idx = 0\n",
    "    \n",
    "    visited[0] = True\n",
    "    \n",
    "    while arr:\n",
    "        print(arr)\n",
    "        i = arr.popleft()\n",
    "        print(i)\n",
    "        \n",
    "        for j in range(len(words)):\n",
    "            if not visited[j]:\n",
    "                arr.append(words[j])\n",
    "                visited[j]=True\n",
    "    \n",
    "    \n",
    "    \n",
    "    \n",
    "    \n",
    "    "
   ]
  },
  {
   "cell_type": "code",
   "execution_count": 181,
   "metadata": {},
   "outputs": [
    {
     "name": "stdout",
     "output_type": "stream",
     "text": [
      "deque(['hit'])\n",
      "hit\n",
      "deque(['dot', 'dog', 'lot', 'log', 'cog'])\n",
      "dot\n",
      "deque(['dog', 'lot', 'log', 'cog'])\n",
      "dog\n",
      "deque(['lot', 'log', 'cog'])\n",
      "lot\n",
      "deque(['log', 'cog'])\n",
      "log\n",
      "deque(['cog'])\n",
      "cog\n"
     ]
    }
   ],
   "source": [
    "dfs(begin,words,target,visited)"
   ]
  },
  {
   "cell_type": "code",
   "execution_count": null,
   "metadata": {},
   "outputs": [],
   "source": []
  },
  {
   "cell_type": "code",
   "execution_count": null,
   "metadata": {},
   "outputs": [],
   "source": []
  },
  {
   "cell_type": "code",
   "execution_count": null,
   "metadata": {},
   "outputs": [],
   "source": []
  },
  {
   "cell_type": "code",
   "execution_count": null,
   "metadata": {},
   "outputs": [],
   "source": []
  },
  {
   "cell_type": "code",
   "execution_count": null,
   "metadata": {},
   "outputs": [],
   "source": []
  },
  {
   "cell_type": "code",
   "execution_count": null,
   "metadata": {},
   "outputs": [],
   "source": []
  },
  {
   "cell_type": "code",
   "execution_count": 146,
   "metadata": {},
   "outputs": [],
   "source": [
    "visited = [False] * len(words)\n",
    "\n",
    "def search_word(word, target):\n",
    "    number = 0\n",
    "    for i in word:\n",
    "        if i in target:\n",
    "            number += 1\n",
    "            \n",
    "    return number\n",
    "\n",
    "num = 0\n",
    "\n",
    "def dfs(idx, target, words, visited, num):\n",
    "    \n",
    "    visited[idx] = True\n",
    "    number = 0\n",
    "    \n",
    "    print(words[idx])\n",
    "    \n",
    "    for i in words[idx]:\n",
    "        if i in target:\n",
    "            number += 1\n",
    "            \n",
    "    \n",
    "    for i in range(len(words)):\n",
    "        #print(num)\n",
    "        if not visited[i]:\n",
    "            #print(num, end = ' ')\n",
    "            if search_word(words[idx], target) >= num:\n",
    "                num = search_word(words[idx], target)\n",
    "                print('바뀐 후:',num)\n",
    "            #print(num)\n",
    "            #dfs(i, target, words, visited, num)\n",
    "    \n",
    "    \n",
    "    for i in range(len(words)):\n",
    "        #print(num)\n",
    "        if not visited[i]:\n",
    "            #print(num, end = ' ')\n",
    "            if search_word(words[idx], target) >= num:\n",
    "                num = search_word(words[idx], target)\n",
    "                print('바뀐 후:',num)\n",
    "            #print(num)\n",
    "            #dfs(i, target, words, visited, num)\n",
    "\n",
    "\n",
    "def solution(begin, target, words):\n",
    "    answer = 0\n",
    "    idx = 0\n",
    "    \n",
    "    #모든 단어 리스트를 방문할 때까지\n",
    "    while False in visited:\n",
    "        \n",
    "        #아직 방문하지 않은 단어라면\n",
    "        if not visited[idx]:\n",
    "            \n",
    "            #dfs 수행\n",
    "            dfs(idx, target, words, visited, num)\n",
    "            answer += 1\n",
    "            \n",
    "        else: idx += 1\n",
    "        \n",
    "    \n",
    "    \n",
    "    \n",
    "    return answer"
   ]
  },
  {
   "cell_type": "code",
   "execution_count": 147,
   "metadata": {},
   "outputs": [
    {
     "name": "stdout",
     "output_type": "stream",
     "text": [
      "hot\n",
      "바뀐 후: 1\n",
      "바뀐 후: 1\n",
      "바뀐 후: 1\n",
      "바뀐 후: 1\n",
      "바뀐 후: 1\n",
      "dot\n",
      "바뀐 후: 1\n",
      "바뀐 후: 1\n",
      "바뀐 후: 1\n",
      "바뀐 후: 1\n",
      "dog\n",
      "바뀐 후: 2\n",
      "바뀐 후: 2\n",
      "바뀐 후: 2\n",
      "lot\n",
      "바뀐 후: 1\n",
      "바뀐 후: 1\n",
      "log\n",
      "바뀐 후: 2\n",
      "cog\n"
     ]
    },
    {
     "data": {
      "text/plain": [
       "6"
      ]
     },
     "execution_count": 147,
     "metadata": {},
     "output_type": "execute_result"
    }
   ],
   "source": [
    "solution(begin, target, words)"
   ]
  },
  {
   "cell_type": "code",
   "execution_count": 140,
   "metadata": {},
   "outputs": [],
   "source": [
    "def search_word(word, target):\n",
    "    number = 0\n",
    "    for i in word:\n",
    "        if i in target:\n",
    "            number += 1\n",
    "            \n",
    "    return number\n",
    "\n",
    "def solution(begin, target, words):\n",
    "    answer = 0\n",
    "    idx = 0\n",
    "    num = 0\n",
    "    \n",
    "    for i in range(len(words)):\n",
    "        \n",
    "        if i+1 < len(words):\n",
    "        \n",
    "            if search_word(words[i], target) >= num :\n",
    "                num = search_word(words[i], target)\n",
    "                print(words[i],num)\n",
    "                if search_word(words[i], words[i+1]) >= num:\n",
    "                    answer += 1\n",
    "\n",
    "                if num == len(target) - 1:\n",
    "                    if search_word(words[i+1], target) != len(target):\n",
    "                        answer -= 1\n",
    "            \n",
    "            \n",
    "    if num == len(target): return answer\n",
    "    else: return answer"
   ]
  },
  {
   "cell_type": "code",
   "execution_count": 141,
   "metadata": {},
   "outputs": [
    {
     "name": "stdout",
     "output_type": "stream",
     "text": [
      "hot 1\n",
      "dot 1\n",
      "dog 2\n",
      "log 2\n"
     ]
    },
    {
     "data": {
      "text/plain": [
       "2"
      ]
     },
     "execution_count": 141,
     "metadata": {},
     "output_type": "execute_result"
    }
   ],
   "source": [
    "solution(begin, target, words)"
   ]
  },
  {
   "cell_type": "code",
   "execution_count": null,
   "metadata": {},
   "outputs": [],
   "source": [
    "def solution(begin, target, words):\n",
    "    answer = 0\n",
    "    idx = 0\n",
    "    \n",
    "    #모든 단어 리스트를 방문할 때까지\n",
    "    while False in visited:\n",
    "        \n",
    "        #아직 방문하지 않은 단어라면\n",
    "        if not visited[idx]:\n",
    "            \n",
    "            #dfs 수행\n",
    "            \n",
    "        \n",
    "    \n",
    "    \n",
    "    \n",
    "    return answer"
   ]
  },
  {
   "cell_type": "code",
   "execution_count": 66,
   "metadata": {
    "scrolled": false
   },
   "outputs": [
    {
     "name": "stdout",
     "output_type": "stream",
     "text": [
      "hot\n",
      "1 1 1 1 1 "
     ]
    }
   ],
   "source": [
    "dfs(0, target, words, visited, num)"
   ]
  },
  {
   "cell_type": "code",
   "execution_count": null,
   "metadata": {},
   "outputs": [],
   "source": [
    "def solution(begin, target, words):\n",
    "    answer = 0\n",
    "    return answer"
   ]
  },
  {
   "cell_type": "code",
   "execution_count": null,
   "metadata": {},
   "outputs": [],
   "source": []
  },
  {
   "cell_type": "code",
   "execution_count": null,
   "metadata": {},
   "outputs": [],
   "source": []
  },
  {
   "cell_type": "code",
   "execution_count": null,
   "metadata": {},
   "outputs": [],
   "source": []
  },
  {
   "cell_type": "code",
   "execution_count": null,
   "metadata": {},
   "outputs": [],
   "source": []
  },
  {
   "cell_type": "code",
   "execution_count": null,
   "metadata": {},
   "outputs": [],
   "source": []
  },
  {
   "cell_type": "code",
   "execution_count": null,
   "metadata": {},
   "outputs": [],
   "source": []
  },
  {
   "cell_type": "code",
   "execution_count": null,
   "metadata": {},
   "outputs": [],
   "source": []
  },
  {
   "cell_type": "code",
   "execution_count": null,
   "metadata": {},
   "outputs": [],
   "source": []
  }
 ],
 "metadata": {
  "kernelspec": {
   "display_name": "Python 3",
   "language": "python",
   "name": "python3"
  },
  "language_info": {
   "codemirror_mode": {
    "name": "ipython",
    "version": 3
   },
   "file_extension": ".py",
   "mimetype": "text/x-python",
   "name": "python",
   "nbconvert_exporter": "python",
   "pygments_lexer": "ipython3",
   "version": "3.8.3"
  }
 },
 "nbformat": 4,
 "nbformat_minor": 4
}
