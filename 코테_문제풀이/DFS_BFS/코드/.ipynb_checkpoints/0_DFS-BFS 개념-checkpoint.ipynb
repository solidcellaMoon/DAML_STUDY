{
 "cells": [
  {
   "cell_type": "markdown",
   "metadata": {},
   "source": [
    "## DFS (Depth-First-Search)\n",
    "https://deepinsight.tistory.com/146\n",
    "\n",
    "그래프에서 깊은 부분을 우선적으로 탐색합니다.\n",
    "\n",
    "### 동작 과정\n",
    "* Stack을 사용합니다\n",
    "* 탐색의 시작노드를 스택에 삽입하고 방문 처리\n",
    "* 스택의 최상단 노드에 방문하지 않은 인접노드가 하나라도 있다면, 그 노드를 스택에 넣고 방문 처리\n",
    "* 방문하지 않은 인접 노드가 없으면, 스택에서 최상단 노드를 꺼낸다\n",
    "* 더이상 2번의 과정을 수행할 수 없을 때까지 반복한다"
   ]
  },
  {
   "cell_type": "code",
   "execution_count": 7,
   "metadata": {},
   "outputs": [],
   "source": [
    "#각 노드가 연결된 정보 (2차원 리스트)\n",
    "graph = [\n",
    "    [],\n",
    "    [2,3,8],\n",
    "    [1,7],\n",
    "    [1,4,5],\n",
    "    [3,5],\n",
    "    [3,4],\n",
    "    [7],\n",
    "    [2,6,8],\n",
    "    [1,7]\n",
    "]\n",
    "\n",
    "#각 노드가 방문된 정보를 표현 (1차원 리스트)\n",
    "visited = [False] * len(graph)"
   ]
  },
  {
   "cell_type": "code",
   "execution_count": 8,
   "metadata": {},
   "outputs": [],
   "source": [
    "def dfs(graph, v, visited):\n",
    "    visited[v]= True\n",
    "    print(v, end=' ')\n",
    "    \n",
    "    for i in graph[v]:\n",
    "        if not visited[i]: #방문한 적 없는 노드라면\n",
    "            dfs(graph, i, visited) #방문한다 - 재귀"
   ]
  },
  {
   "cell_type": "code",
   "execution_count": 9,
   "metadata": {},
   "outputs": [
    {
     "name": "stdout",
     "output_type": "stream",
     "text": [
      "1 2 7 6 8 3 4 5 "
     ]
    }
   ],
   "source": [
    "dfs(graph, 1, visited)"
   ]
  },
  {
   "cell_type": "markdown",
   "metadata": {},
   "source": [
    "## BFS (Breadth-First-Search)\n",
    "\n",
    "그래프에서 가까운 노드부터 우선적으로 탐색합니다.\n",
    "\n",
    "### 동작 과정\n",
    "* Queue를 사용합니다\n",
    "* 탐색 시작 노드를 큐에 삽입하고 방문 처리\n",
    "* 큐에서 노드를 꺼낸다\n",
    "* 해당 노드의 인접 노드 중에서 방문하지 않은 노드를 모두 큐에 삽입하고 방문 처리\n",
    "* 더 이상 위 과정(3~4)을 수행할 수 없을 떄까지 반복"
   ]
  },
  {
   "cell_type": "code",
   "execution_count": 10,
   "metadata": {},
   "outputs": [],
   "source": [
    "#각 노드가 연결된 정보 (2차원 리스트)\n",
    "graph = [\n",
    "    [],\n",
    "    [2,3,8],\n",
    "    [1,7],\n",
    "    [1,4,5],\n",
    "    [3,5],\n",
    "    [3,4],\n",
    "    [7],\n",
    "    [2,6,8],\n",
    "    [1,7]\n",
    "]\n",
    "\n",
    "#각 노드가 방문된 정보를 표현 (1차원 리스트)\n",
    "visited = [False] * len(graph)"
   ]
  },
  {
   "cell_type": "code",
   "execution_count": 11,
   "metadata": {},
   "outputs": [],
   "source": [
    "from collections import deque\n",
    "\n",
    "def bfs(graph, start, visited):\n",
    "    \n",
    "    #시작노드를 큐에 추가하고, 방문처리\n",
    "    queue = deque([start])\n",
    "    visited[start] = True\n",
    "    \n",
    "    #큐가 빌 때까지 반복한다\n",
    "    while queue:\n",
    "        #시작노드를 큐에서 제거한다\n",
    "        v = queue.popleft()\n",
    "        print(v, end=' ')\n",
    "        \n",
    "        #인접노드가 있다면 큐에 추가한다\n",
    "        for i in graph[v]:\n",
    "            if not visited[i]: #방문한 적 없는 노드를 추가\n",
    "                queue.append(i)\n",
    "                visited[i] = True"
   ]
  },
  {
   "cell_type": "code",
   "execution_count": 12,
   "metadata": {},
   "outputs": [
    {
     "name": "stdout",
     "output_type": "stream",
     "text": [
      "1 2 3 8 7 4 5 6 "
     ]
    }
   ],
   "source": [
    "bfs(graph, 1, visited)"
   ]
  },
  {
   "cell_type": "code",
   "execution_count": null,
   "metadata": {},
   "outputs": [],
   "source": []
  },
  {
   "cell_type": "code",
   "execution_count": null,
   "metadata": {},
   "outputs": [],
   "source": []
  },
  {
   "cell_type": "code",
   "execution_count": null,
   "metadata": {},
   "outputs": [],
   "source": []
  },
  {
   "cell_type": "code",
   "execution_count": null,
   "metadata": {},
   "outputs": [],
   "source": []
  }
 ],
 "metadata": {
  "kernelspec": {
   "display_name": "Python 3",
   "language": "python",
   "name": "python3"
  },
  "language_info": {
   "codemirror_mode": {
    "name": "ipython",
    "version": 3
   },
   "file_extension": ".py",
   "mimetype": "text/x-python",
   "name": "python",
   "nbconvert_exporter": "python",
   "pygments_lexer": "ipython3",
   "version": "3.8.3"
  }
 },
 "nbformat": 4,
 "nbformat_minor": 4
}
