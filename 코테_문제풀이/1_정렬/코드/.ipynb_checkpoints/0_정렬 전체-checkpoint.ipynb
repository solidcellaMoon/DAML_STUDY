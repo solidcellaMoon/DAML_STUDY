{
 "cells": [
  {
   "cell_type": "markdown",
   "metadata": {},
   "source": [
    "# 프로그래머스 정렬 문제\n",
    "https://programmers.co.kr/learn/courses/30/parts/12198"
   ]
  },
  {
   "cell_type": "markdown",
   "metadata": {},
   "source": [
    "# K번째 수\n",
    "\n",
    "## 문제 설명\n",
    "https://programmers.co.kr/learn/courses/30/lessons/42748\n",
    "\n",
    "배열 array의 i번째 숫자부터 j번째 숫자까지 자르고 정렬했을 때, k번째에 있는 수를 구하려 합니다.\n",
    "\n",
    "\n",
    "예를 들어 array가 [1, 5, 2, 6, 3, 7, 4], i = 2, j = 5, k = 3이라면\n",
    "\n",
    "\n",
    "array의 2번째부터 5번째까지 자르면 [5, 2, 6, 3]입니다.\n",
    "\n",
    "\n",
    "1에서 나온 배열을 정렬하면 [2, 3, 5, 6]입니다.\n",
    "\n",
    "\n",
    "2에서 나온 배열의 3번째 숫자는 5입니다.\n",
    "\n",
    "\n",
    "배열 array, [i, j, k]를 원소로 가진 2차원 배열 commands가 매개변수로 주어질 때, commands의 모든 원소에 대해 앞서 설명한 연산을 적용했을 때 나온 결과를 배열에 담아 return 하도록 solution 함수를 작성해주세요.\n",
    "\n",
    "### 제한사항\n",
    "* array의 길이는 1 이상 100 이하입니다.\n",
    "* array의 각 원소는 1 이상 100 이하입니다.\n",
    "* commands의 길이는 1 이상 50 이하입니다.\n",
    "* commands의 각 원소는 길이가 3입니다."
   ]
  },
  {
   "cell_type": "code",
   "execution_count": 1,
   "metadata": {},
   "outputs": [],
   "source": [
    "#입출력 예\n",
    "array = [1, 5, 2, 6, 3, 7, 4]\n",
    "commands = [[2, 5, 3], [4, 4, 1], [1, 7, 3]]\n",
    "# returm = [5, 6, 3]"
   ]
  },
  {
   "cell_type": "code",
   "execution_count": 13,
   "metadata": {},
   "outputs": [],
   "source": [
    "def solution(array, commands):\n",
    "    answer = []\n",
    "    #commands에 있는 command(i,j,k)를 추출\n",
    "    for com in commands:\n",
    "        i, j, k = com[0], com[1], com[2]\n",
    "        slice = array[i-1:j] #i~j까지 array 자르기\n",
    "        slice.sort() #정렬 - 기본은 오름차순\n",
    "        answer.append(slice[k-1]) #정답 추출\n",
    "\n",
    "    return answer"
   ]
  },
  {
   "cell_type": "code",
   "execution_count": 3,
   "metadata": {},
   "outputs": [
    {
     "data": {
      "text/plain": [
       "[5, 6, 3]"
      ]
     },
     "execution_count": 3,
     "metadata": {},
     "output_type": "execute_result"
    }
   ],
   "source": [
    "solution(array, commands)"
   ]
  },
  {
   "cell_type": "markdown",
   "metadata": {},
   "source": [
    "## 배워둘 것"
   ]
  },
  {
   "cell_type": "markdown",
   "metadata": {},
   "source": [
    "## 1. sort()"
   ]
  },
  {
   "cell_type": "code",
   "execution_count": 17,
   "metadata": {},
   "outputs": [
    {
     "name": "stdout",
     "output_type": "stream",
     "text": [
      "[1, 2, 3]\n"
     ]
    }
   ],
   "source": [
    "# 기본 - 오름차순으로 정렬\n",
    "arr = [1,3,2]\n",
    "arr.sort()\n",
    "print(arr)"
   ]
  },
  {
   "cell_type": "code",
   "execution_count": 18,
   "metadata": {},
   "outputs": [
    {
     "name": "stdout",
     "output_type": "stream",
     "text": [
      "[3, 2, 1]\n"
     ]
    }
   ],
   "source": [
    "# 내림차순으로 정렬하기\n",
    "arr = [1,3,2]\n",
    "arr.sort(reverse = True)\n",
    "print(arr)"
   ]
  },
  {
   "cell_type": "markdown",
   "metadata": {},
   "source": [
    "### 다중 조건으로 정렬하기 - sorted, key\n",
    "https://dailyheumsi.tistory.com/67"
   ]
  },
  {
   "cell_type": "code",
   "execution_count": 32,
   "metadata": {},
   "outputs": [
    {
     "data": {
      "text/plain": [
       "[1, 2, 3, 4, 5, 6, 7]"
      ]
     },
     "execution_count": 32,
     "metadata": {},
     "output_type": "execute_result"
    }
   ],
   "source": [
    "a = [4,1,2,5,7,3,6]\n",
    "b = sorted(a)\n",
    "b"
   ]
  },
  {
   "cell_type": "markdown",
   "metadata": {},
   "source": [
    "#### 인자없이 그냥 sorted()만 쓰면, 리스트 아이템의 각 요소 순서대로 정렬을 한다."
   ]
  },
  {
   "cell_type": "code",
   "execution_count": 33,
   "metadata": {},
   "outputs": [
    {
     "data": {
      "text/plain": [
       "[(0, 1), (1, 2), (3, 0), (5, 1), (5, 2)]"
      ]
     },
     "execution_count": 33,
     "metadata": {},
     "output_type": "execute_result"
    }
   ],
   "source": [
    "a = [(1, 2), (0, 1), (5, 1), (5, 2), (3, 0)]\n",
    "\n",
    "# 인자없이 그냥 sorted()만 쓰면, 리스트 아이템의 각 요소 순서대로 정렬을 한다.\n",
    "b = sorted(a)\n",
    "print(b)"
   ]
  },
  {
   "cell_type": "markdown",
   "metadata": {},
   "source": [
    "#### key 인자에 함수를 넘겨주면 해당 함수의 반환값을 비교하여 순서대로 정렬한다."
   ]
  },
  {
   "cell_type": "code",
   "execution_count": 38,
   "metadata": {},
   "outputs": [
    {
     "name": "stdout",
     "output_type": "stream",
     "text": [
      "[(0, 1), (1, 2), (3, 0), (5, 1), (5, 2)]\n"
     ]
    }
   ],
   "source": [
    "# key 인자에 함수를 넘겨주면 해당 함수의 반환값을 비교하여 순서대로 정렬한다.\n",
    "# a 배열을 람다식에 대입한다!\n",
    "c = sorted(a, key = lambda x: x[0])\n",
    "print(c)"
   ]
  },
  {
   "cell_type": "markdown",
   "metadata": {},
   "source": [
    "#### sorted와 sort의 차이 => inplace 여부"
   ]
  },
  {
   "cell_type": "code",
   "execution_count": 79,
   "metadata": {},
   "outputs": [
    {
     "name": "stdout",
     "output_type": "stream",
     "text": [
      "[(0, 1), (0, 3), (1, 3), (1, 4), (2, 4), (1, 5)]\n"
     ]
    }
   ],
   "source": [
    "#sorted와 sort의 차이 => inplace 여부\n",
    "a.sort(key = lambda x: x[1])\n",
    "print(a)"
   ]
  },
  {
   "cell_type": "markdown",
   "metadata": {},
   "source": [
    "#### 람다식으로 내림차순 정렬하기"
   ]
  },
  {
   "cell_type": "code",
   "execution_count": 41,
   "metadata": {},
   "outputs": [
    {
     "name": "stdout",
     "output_type": "stream",
     "text": [
      "[(5, 2), (5, 1), (3, 0), (1, 2), (0, 1)]\n"
     ]
    }
   ],
   "source": [
    "#내림차순 정렬\n",
    "a.sort(key = lambda x: -x[0])\n",
    "print(a)"
   ]
  },
  {
   "cell_type": "markdown",
   "metadata": {},
   "source": [
    "#### 응용: 첫 번째 인자는 오름차순, 두 번째 인자는 내림차순"
   ]
  },
  {
   "cell_type": "code",
   "execution_count": 43,
   "metadata": {},
   "outputs": [
    {
     "name": "stdout",
     "output_type": "stream",
     "text": [
      "[(0, 3), (0, 1), (1, 5), (1, 4), (1, 3), (2, 4)]\n"
     ]
    }
   ],
   "source": [
    "#첫 번째 인자는 오름차순, 두 번째 인자는 내림차순\n",
    "a = [(1, 3), (0, 3), (1, 4), (1, 5), (0, 1), (2, 4)]\n",
    "a.sort(key = lambda x: (x[0],-x[1]))\n",
    "print(a)"
   ]
  },
  {
   "cell_type": "markdown",
   "metadata": {},
   "source": [
    "## 2. 슬라이싱"
   ]
  },
  {
   "cell_type": "code",
   "execution_count": 22,
   "metadata": {},
   "outputs": [
    {
     "name": "stdout",
     "output_type": "stream",
     "text": [
      "처음부터 n개까지 자르기\n",
      "[5, 4, 3]\n",
      "\n",
      "n번째부터 끝까지 자르기\n",
      "[2, 1]\n",
      "\n",
      "i번째부터 j번째까지 자르기\n",
      "[4, 3, 2, 1]\n"
     ]
    }
   ],
   "source": [
    "arr = [5,4,3,2,1]\n",
    "\n",
    "print('처음부터 n개까지 자르기')\n",
    "sliced = arr[:3]\n",
    "print(sliced)\n",
    "\n",
    "print()\n",
    "\n",
    "print('n번째부터 끝까지 자르기')\n",
    "sliced = arr[3:]\n",
    "print(sliced)\n",
    "\n",
    "print()\n",
    "\n",
    "print('i번째부터 j번째까지 자르기')\n",
    "i, j = 2, 5\n",
    "sliced = arr[i-1:j]\n",
    "print(sliced)"
   ]
  },
  {
   "cell_type": "markdown",
   "metadata": {},
   "source": [
    "# 가장 큰 수 (★)\n",
    "https://programmers.co.kr/learn/courses/30/lessons/42746\n",
    "\n",
    "## 문제 설명\n",
    "0 또는 양의 정수가 주어졌을 때, 정수를 이어 붙여 만들 수 있는 가장 큰 수를 알아내 주세요.\n",
    "\n",
    "\n",
    "예를 들어, 주어진 정수가 [6, 10, 2]라면 [6102, 6210, 1062, 1026, 2610, 2106]를 만들 수 있고, 이중 가장 큰 수는 6210입니다.\n",
    "\n",
    "\n",
    "0 또는 양의 정수가 담긴 배열 numbers가 매개변수로 주어질 때, 순서를 재배치하여 만들 수 있는 가장 큰 수를 문자열로 바꾸어 return 하도록 solution 함수를 작성해주세요.\n",
    "\n",
    "\n",
    "### 제한 사항\n",
    "* numbers의 길이는 1 이상 100,000 이하입니다.\n",
    "* numbers의 원소는 0 이상 1,000 이하입니다.\n",
    "* 정답이 너무 클 수 있으니 문자열로 바꾸어 return 합니다.\n",
    "\n",
    "풀이 참고: https://wooaoe.tistory.com/82"
   ]
  },
  {
   "cell_type": "code",
   "execution_count": 57,
   "metadata": {},
   "outputs": [],
   "source": [
    "#입출력 예\n",
    "numbers = [3, 30, 34, 5, 9]\n",
    "# return = \"9534330\""
   ]
  },
  {
   "cell_type": "code",
   "execution_count": 69,
   "metadata": {},
   "outputs": [],
   "source": [
    "def solution(num):\n",
    "    num = list(map(str, num)) #map으로 string으로 치환\n",
    "    print(num)\n",
    "    \n",
    "    num.sort(key = lambda x : x*3, reverse = True) #내림차순으로\n",
    "    print(num)\n",
    "    \n",
    "    answer = str(int(''.join(num)))\n",
    "    return answer"
   ]
  },
  {
   "cell_type": "code",
   "execution_count": 70,
   "metadata": {},
   "outputs": [
    {
     "name": "stdout",
     "output_type": "stream",
     "text": [
      "['3', '30', '34', '5', '9']\n",
      "['9', '5', '34', '3', '30']\n"
     ]
    },
    {
     "data": {
      "text/plain": [
       "'9534330'"
      ]
     },
     "execution_count": 70,
     "metadata": {},
     "output_type": "execute_result"
    }
   ],
   "source": [
    "solution(numbers)"
   ]
  },
  {
   "cell_type": "markdown",
   "metadata": {},
   "source": [
    "### 람다식을 쓰는 이유"
   ]
  },
  {
   "cell_type": "markdown",
   "metadata": {},
   "source": [
    "num.sort(key = lambda x : x*3, reverse = True) 로 [6, 10, 2] 정렬\n",
    "\n",
    "* 문제의 numbers의 원소는 0 이상 1,000 이하입니다. 라는 조건을 통해서 x*3\n",
    "\n",
    "\n",
    "* [666, 101010, 222]가 되고 이를 정렬하면, [666, 222, 101010]이 되어서 결과적으로 [6, 2, 10]의 순서가 된다.\n",
    "\n",
    "\n",
    "* 문자열 비교연산의 경우엔 첫번째 인덱스인 666[0]인 6과 101010[0]인 1과 222[0]인 2를 ascii숫자로 바꿔서 비교합니다. 물론 같으면, 다음 인덱스도 비교합니다. 비교한 결과 [6, 2, 10]의 순으로 정렬됩니다.\n",
    "\n",
    "\n",
    "* 즉, 앞자리가 큰 6 -> 2 -> 1순으로 정렬되어서 위와 같은 결과를 얻게 된 것입니다.\n",
    "\n",
    "\n",
    "https://eda-ai-lab.tistory.com/467"
   ]
  },
  {
   "cell_type": "markdown",
   "metadata": {},
   "source": [
    "#### 람다식을 안 쓸 경우 - 오답\n",
    "\n",
    "['3', '30', '34', '5', '9']\n",
    "\n",
    "['9', '5', '34', '30', '3']\n",
    "\n",
    "결과 : '9534303'"
   ]
  },
  {
   "cell_type": "markdown",
   "metadata": {},
   "source": [
    "## 배워둘 것"
   ]
  },
  {
   "cell_type": "markdown",
   "metadata": {},
   "source": [
    "## 1. map 함수\n",
    "https://www.daleseo.com/python-map/\n",
    "\n",
    "#### map(변환 함수, 순회 가능한 데이터)\n",
    "\n",
    "두 번째 인자의 모든 데이터에 첫 번째 인자를 적용하여 다른 형태로 변환"
   ]
  },
  {
   "cell_type": "code",
   "execution_count": 25,
   "metadata": {},
   "outputs": [
    {
     "data": {
      "text/plain": [
       "['1', '2', '3', '4', '5']"
      ]
     },
     "execution_count": 25,
     "metadata": {},
     "output_type": "execute_result"
    }
   ],
   "source": [
    "arr = [1,2,3,4,5]\n",
    "list(map(str,arr))"
   ]
  },
  {
   "cell_type": "markdown",
   "metadata": {},
   "source": [
    "### 일반 함수로 맵핑 (문자열)"
   ]
  },
  {
   "cell_type": "code",
   "execution_count": 28,
   "metadata": {},
   "outputs": [
    {
     "name": "stdout",
     "output_type": "stream",
     "text": [
      "{'first': 'Brett', 'last': 'Holland', 'num': '2'}\n",
      "{'first': 'Madison', 'last': 'Martinez', 'num': '3'}\n"
     ]
    }
   ],
   "source": [
    "#dictionary \n",
    "users = [{'mail': 'gre@gmail.com', 'name': 'Brett Holland 2', 'sex': 'M'},\n",
    "         {'mail': 'hin@hotmail.com', 'name': 'Madison Martinez 3', 'sex': 'F'}]\n",
    "\n",
    "def convert_arr(users):\n",
    "    first, last, num = users['name'].split()\n",
    "    return {'first': first, 'last': last, 'num': num}\n",
    "\n",
    "for name in map(convert_arr,users):\n",
    "    print(name)"
   ]
  },
  {
   "cell_type": "markdown",
   "metadata": {},
   "source": [
    "### 람다 함수로 필터링"
   ]
  },
  {
   "cell_type": "code",
   "execution_count": 30,
   "metadata": {},
   "outputs": [
    {
     "name": "stdout",
     "output_type": "stream",
     "text": [
      "남\n",
      "여\n",
      "남\n",
      "여\n"
     ]
    }
   ],
   "source": [
    "lam = lambda x: '남' if x['sex'] == 'M' else '여'\n",
    "for info in map(lam, users):\n",
    "    print(info)\n",
    "    \n",
    "for info in map(lambda x: '남' if x['sex'] == 'M' else '여', users):\n",
    "    print(info)"
   ]
  },
  {
   "cell_type": "markdown",
   "metadata": {},
   "source": [
    "# H-Index\n",
    "https://programmers.co.kr/learn/courses/30/lessons/42747\n",
    "\n",
    "## 문제 설명\n",
    "H-Index는 과학자의 생산성과 영향력을 나타내는 지표입니다. 어느 과학자의 H-Index를 나타내는 값인 h를 구하려고 합니다. 위키백과1에 따르면, H-Index는 다음과 같이 구합니다.\n",
    "\n",
    "\n",
    "어떤 과학자가 발표한 논문 n편 중, h번 이상 인용된 논문이 h편 이상이고 나머지 논문이 h번 이하 인용되었다면 h의 최댓값이 이 과학자의 H-Index입니다.\n",
    "\n",
    "\n",
    "어떤 과학자가 발표한 논문의 인용 횟수를 담은 배열 citations가 매개변수로 주어질 때, 이 과학자의 H-Index를 return 하도록 solution 함수를 작성해주세요.\n",
    "\n",
    "\n",
    "### 제한사항\n",
    "* 과학자가 발표한 논문의 수는 1편 이상 1,000편 이하입니다.\n",
    "* 논문별 인용 횟수는 0회 이상 10,000회 이하입니다.\n",
    "\n",
    "풀이: https://eda-ai-lab.tistory.com/471"
   ]
  },
  {
   "cell_type": "code",
   "execution_count": 7,
   "metadata": {},
   "outputs": [],
   "source": [
    "#입출력 예\n",
    "citations = [3, 0, 6, 1, 5]\n",
    "# return = 3"
   ]
  },
  {
   "cell_type": "code",
   "execution_count": 107,
   "metadata": {},
   "outputs": [],
   "source": [
    "def solution(citations):\n",
    "    #내림차순 정렬\n",
    "    citations.sort(reverse=True)\n",
    "    \n",
    "    #enumerate로 순서 잡기\n",
    "    arr = enumerate(citations, start=1)\n",
    "    for i, value in arr:\n",
    "        print(i,\":\",value)\n",
    "        \n",
    "    #인덱스와 비교해서 작은 수 추출\n",
    "    arr = list(map(min, enumerate(citations, start=1)))\n",
    "    print(arr)\n",
    "    \n",
    "    # 그 중 가장 큰 값\n",
    "    print(max(arr))\n",
    "    \n",
    "    #위의 과정을 한줄로 요약\n",
    "    answer = max(map(min, enumerate(citations, start=1)))\n",
    "    \n",
    "    return answer"
   ]
  },
  {
   "cell_type": "code",
   "execution_count": 108,
   "metadata": {},
   "outputs": [
    {
     "name": "stdout",
     "output_type": "stream",
     "text": [
      "1 : 6\n",
      "2 : 5\n",
      "3 : 3\n",
      "4 : 1\n",
      "5 : 0\n",
      "[1, 2, 3, 1, 0]\n",
      "3\n"
     ]
    },
    {
     "data": {
      "text/plain": [
       "3"
      ]
     },
     "execution_count": 108,
     "metadata": {},
     "output_type": "execute_result"
    }
   ],
   "source": [
    "solution(citations)"
   ]
  },
  {
   "cell_type": "markdown",
   "metadata": {},
   "source": [
    "## 배워둘 것\n",
    "## range & enumerate 함수\n",
    "\n",
    "### range 함수\n",
    "\n",
    "#### range(start, stop, step)\n",
    "* start~stop-1까지 step 단위로 증감\n"
   ]
  },
  {
   "cell_type": "code",
   "execution_count": 89,
   "metadata": {},
   "outputs": [
    {
     "name": "stdout",
     "output_type": "stream",
     "text": [
      "[0, 1, 2, 3, 4]\n",
      "[1, 2, 3, 4, 5]\n",
      "[1, 3, 5]\n",
      "[6, 5, 4, 3, 2]\n",
      "[6, 4, 2]\n"
     ]
    }
   ],
   "source": [
    "print(list(range(5))) #[0, 1, 2, 3, 4]\n",
    "\n",
    "print(list(range(1,6))) #[1, 2, 3, 4, 5]\n",
    "print(list(range(1,6,2))) #[1, 3, 5]\n",
    "\n",
    "print(list(range(6,1,-1))) #[6, 5, 4, 3, 2]\n",
    "print(list(range(6,1,-2))) #[6, 4, 2]"
   ]
  },
  {
   "cell_type": "markdown",
   "metadata": {},
   "source": [
    "### enumerate 함수 (★)\n",
    "\n",
    "#### enumerate(sequence, start=0)\n",
    "\n",
    "* enumerate는 “열거하다”라는 뜻입니다.\n",
    "* 리스트가 있는 경우 순서와 리스트의 값을 전달하는 기능을 가집니다.\n",
    "* 이 함수는 순서가 있는 자료형(list, set, tuple, dictionary, string)을 입력으로 받아 인덱스 값을 포함하는 enumerate 객체를 리턴합니다.\n",
    "* 보통 enumerate 함수는 for문과 함께 자주 사용됩니다.\n",
    "* start=1로 하면 인덱스가 1부터 시작 (기본은 0부터 시작)\n",
    "\n",
    "https://wikidocs.net/20792"
   ]
  },
  {
   "cell_type": "code",
   "execution_count": 97,
   "metadata": {},
   "outputs": [
    {
     "name": "stdout",
     "output_type": "stream",
     "text": [
      "0 : 1\n",
      "1 : 2\n",
      "2 : 3\n",
      "\n",
      "0 : 1\n",
      "1 : 2\n",
      "2 : 3\n",
      "\n",
      "0 : 이름 aaa\n",
      "1 : 나이 11\n",
      "\n",
      "0 : 안\n",
      "1 : 녕\n",
      "2 :  \n",
      "3 : 하\n",
      "4 : 세\n",
      "5 : 요\n",
      "\n"
     ]
    }
   ],
   "source": [
    "arr = enumerate((1,2,3))\n",
    "for i, value in arr:\n",
    "    print(i,\":\",value)\n",
    "\n",
    "print()\n",
    "\n",
    "arr = enumerate([1,2,3])\n",
    "for i, value in arr:\n",
    "    print(i,\":\",value)\n",
    "\n",
    "print()\n",
    "\n",
    "dict1 = {'이름': 'aaa', '나이': 11}\n",
    "data = enumerate(dict1)\n",
    "for i, key in data:\n",
    "    print(i, \":\", key, dict1[key])\n",
    "    \n",
    "print()\n",
    "\n",
    "data = enumerate(\"안녕 하세요\")\n",
    "for i, value in data:\n",
    "    print(i, \":\", value)\n",
    "    \n",
    "print()"
   ]
  },
  {
   "cell_type": "code",
   "execution_count": null,
   "metadata": {},
   "outputs": [],
   "source": []
  }
 ],
 "metadata": {
  "kernelspec": {
   "display_name": "Python 3",
   "language": "python",
   "name": "python3"
  },
  "language_info": {
   "codemirror_mode": {
    "name": "ipython",
    "version": 3
   },
   "file_extension": ".py",
   "mimetype": "text/x-python",
   "name": "python",
   "nbconvert_exporter": "python",
   "pygments_lexer": "ipython3",
   "version": "3.8.3"
  }
 },
 "nbformat": 4,
 "nbformat_minor": 4
}
