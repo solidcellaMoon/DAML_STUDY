{
 "cells": [
  {
   "cell_type": "markdown",
   "metadata": {},
   "source": [
    "# 프로그래머스 정렬 문제\n",
    "https://programmers.co.kr/learn/courses/30/parts/12198"
   ]
  },
  {
   "cell_type": "markdown",
   "metadata": {},
   "source": [
    "# 가장 큰 수 (★)\n",
    "https://programmers.co.kr/learn/courses/30/lessons/42746\n",
    "\n",
    "## 문제 설명\n",
    "0 또는 양의 정수가 주어졌을 때, 정수를 이어 붙여 만들 수 있는 가장 큰 수를 알아내 주세요.\n",
    "\n",
    "\n",
    "예를 들어, 주어진 정수가 [6, 10, 2]라면 [6102, 6210, 1062, 1026, 2610, 2106]를 만들 수 있고, 이중 가장 큰 수는 6210입니다.\n",
    "\n",
    "\n",
    "0 또는 양의 정수가 담긴 배열 numbers가 매개변수로 주어질 때, 순서를 재배치하여 만들 수 있는 가장 큰 수를 문자열로 바꾸어 return 하도록 solution 함수를 작성해주세요.\n",
    "\n",
    "\n",
    "### 제한 사항\n",
    "* numbers의 길이는 1 이상 100,000 이하입니다.\n",
    "* numbers의 원소는 0 이상 1,000 이하입니다.\n",
    "* 정답이 너무 클 수 있으니 문자열로 바꾸어 return 합니다.\n",
    "\n",
    "풀이 참고: https://wooaoe.tistory.com/82"
   ]
  },
  {
   "cell_type": "code",
   "execution_count": 57,
   "metadata": {},
   "outputs": [],
   "source": [
    "#입출력 예\n",
    "numbers = [3, 30, 34, 5, 9]\n",
    "# return = \"9534330\""
   ]
  },
  {
   "cell_type": "code",
   "execution_count": 69,
   "metadata": {},
   "outputs": [],
   "source": [
    "def solution(num):\n",
    "    num = list(map(str, num)) #map으로 string으로 치환\n",
    "    print(num)\n",
    "    \n",
    "    num.sort(key = lambda x : x*3, reverse = True) #내림차순으로\n",
    "    print(num)\n",
    "    \n",
    "    #모든 문자열 합치기\n",
    "    answer = str(int(''.join(num)))\n",
    "    #str(int())를 쓰는 이유:\n",
    "    #모든 값이 0일 때 -> \"000\" -> \"0\"으로 바꾸기 위해\n",
    "    \n",
    "    return answer"
   ]
  },
  {
   "cell_type": "code",
   "execution_count": 70,
   "metadata": {},
   "outputs": [
    {
     "name": "stdout",
     "output_type": "stream",
     "text": [
      "['3', '30', '34', '5', '9']\n",
      "['9', '5', '34', '3', '30']\n"
     ]
    },
    {
     "data": {
      "text/plain": [
       "'9534330'"
      ]
     },
     "execution_count": 70,
     "metadata": {},
     "output_type": "execute_result"
    }
   ],
   "source": [
    "solution(numbers)"
   ]
  },
  {
   "cell_type": "markdown",
   "metadata": {},
   "source": [
    "### 람다식을 쓰는 이유"
   ]
  },
  {
   "cell_type": "markdown",
   "metadata": {},
   "source": [
    "num.sort(key = lambda x : x*3, reverse = True) 로 [6, 10, 2] 정렬\n",
    "\n",
    "* 문제의 numbers의 원소는 0 이상 1,000 이하입니다. 라는 조건을 통해서 x*3\n",
    "\n",
    "\n",
    "* [666, 101010, 222]가 되고 이를 정렬하면, [666, 222, 101010]이 되어서 결과적으로 [6, 2, 10]의 순서가 된다.\n",
    "\n",
    "\n",
    "* 문자열 비교연산의 경우엔 첫번째 인덱스인 666[0]인 6과 101010[0]인 1과 222[0]인 2를 ascii숫자로 바꿔서 비교합니다. 물론 같으면, 다음 인덱스도 비교합니다. 비교한 결과 [6, 2, 10]의 순으로 정렬됩니다.\n",
    "\n",
    "\n",
    "* 즉, 앞자리가 큰 6 -> 2 -> 1순으로 정렬되어서 위와 같은 결과를 얻게 된 것입니다.\n",
    "\n",
    "\n",
    "https://eda-ai-lab.tistory.com/467"
   ]
  },
  {
   "cell_type": "markdown",
   "metadata": {},
   "source": [
    "#### 람다식을 안 쓸 경우 - 오답\n",
    "\n",
    "['3', '30', '34', '5', '9']\n",
    "\n",
    "['9', '5', '34', '30', '3']\n",
    "\n",
    "결과 : '9534303'"
   ]
  },
  {
   "cell_type": "markdown",
   "metadata": {},
   "source": [
    "## 배워둘 것"
   ]
  },
  {
   "cell_type": "markdown",
   "metadata": {},
   "source": [
    "## 1. map 함수\n",
    "https://www.daleseo.com/python-map/\n",
    "\n",
    "#### map(변환 함수, 순회 가능한 데이터)\n",
    "\n",
    "두 번째 인자의 모든 데이터에 첫 번째 인자를 적용하여 다른 형태로 변환"
   ]
  },
  {
   "cell_type": "code",
   "execution_count": 25,
   "metadata": {},
   "outputs": [
    {
     "data": {
      "text/plain": [
       "['1', '2', '3', '4', '5']"
      ]
     },
     "execution_count": 25,
     "metadata": {},
     "output_type": "execute_result"
    }
   ],
   "source": [
    "arr = [1,2,3,4,5]\n",
    "list(map(str,arr))"
   ]
  },
  {
   "cell_type": "markdown",
   "metadata": {},
   "source": [
    "### 일반 함수로 맵핑 (문자열)"
   ]
  },
  {
   "cell_type": "code",
   "execution_count": 28,
   "metadata": {},
   "outputs": [
    {
     "name": "stdout",
     "output_type": "stream",
     "text": [
      "{'first': 'Brett', 'last': 'Holland', 'num': '2'}\n",
      "{'first': 'Madison', 'last': 'Martinez', 'num': '3'}\n"
     ]
    }
   ],
   "source": [
    "#dictionary \n",
    "users = [{'mail': 'gre@gmail.com', 'name': 'Brett Holland 2', 'sex': 'M'},\n",
    "         {'mail': 'hin@hotmail.com', 'name': 'Madison Martinez 3', 'sex': 'F'}]\n",
    "\n",
    "def convert_arr(users):\n",
    "    first, last, num = users['name'].split()\n",
    "    return {'first': first, 'last': last, 'num': num}\n",
    "\n",
    "for name in map(convert_arr,users):\n",
    "    print(name)"
   ]
  },
  {
   "cell_type": "markdown",
   "metadata": {},
   "source": [
    "### 람다 함수로 필터링"
   ]
  },
  {
   "cell_type": "code",
   "execution_count": 30,
   "metadata": {},
   "outputs": [
    {
     "name": "stdout",
     "output_type": "stream",
     "text": [
      "남\n",
      "여\n",
      "남\n",
      "여\n"
     ]
    }
   ],
   "source": [
    "lam = lambda x: '남' if x['sex'] == 'M' else '여'\n",
    "for info in map(lam, users):\n",
    "    print(info)\n",
    "    \n",
    "for info in map(lambda x: '남' if x['sex'] == 'M' else '여', users):\n",
    "    print(info)"
   ]
  },
  {
   "cell_type": "markdown",
   "metadata": {},
   "source": [
    "## 2. split/join() 함수\n",
    "\n",
    "https://devpouch.tistory.com/77\n",
    "\n",
    "### 문자열 쪼개기 - split()\n"
   ]
  },
  {
   "cell_type": "code",
   "execution_count": 1,
   "metadata": {},
   "outputs": [
    {
     "name": "stdout",
     "output_type": "stream",
     "text": [
      "['hello', 'world', '2021']\n"
     ]
    }
   ],
   "source": [
    "string = 'hello world 2021'\n",
    "splited = string.split()\n",
    "print(splited)"
   ]
  },
  {
   "cell_type": "markdown",
   "metadata": {},
   "source": [
    "### 문자열 합치기 - join()"
   ]
  },
  {
   "cell_type": "code",
   "execution_count": 8,
   "metadata": {},
   "outputs": [
    {
     "name": "stdout",
     "output_type": "stream",
     "text": [
      "helloworld2021\n",
      "hello world 2021\n",
      "hello-world-2021\n",
      "1\n"
     ]
    }
   ],
   "source": [
    "joined = ''.join(splited)\n",
    "print(joined)\n",
    "\n",
    "joined = ' '.join(splited)\n",
    "print(joined)\n",
    "\n",
    "joined = '-'.join(splited)\n",
    "print(joined)\n",
    "\n",
    "num = '001'\n",
    "joined = int(''.join(num))\n",
    "print(joined)"
   ]
  },
  {
   "cell_type": "code",
   "execution_count": null,
   "metadata": {},
   "outputs": [],
   "source": []
  }
 ],
 "metadata": {
  "kernelspec": {
   "display_name": "Python 3",
   "language": "python",
   "name": "python3"
  },
  "language_info": {
   "codemirror_mode": {
    "name": "ipython",
    "version": 3
   },
   "file_extension": ".py",
   "mimetype": "text/x-python",
   "name": "python",
   "nbconvert_exporter": "python",
   "pygments_lexer": "ipython3",
   "version": "3.8.3"
  }
 },
 "nbformat": 4,
 "nbformat_minor": 4
}
