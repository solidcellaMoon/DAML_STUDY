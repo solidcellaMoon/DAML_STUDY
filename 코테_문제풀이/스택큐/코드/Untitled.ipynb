{
 "cells": [
  {
   "cell_type": "markdown",
   "metadata": {},
   "source": [
    "# 프로그래머스 스택/큐 문제\n",
    "https://programmers.co.kr/learn/courses/30/parts/12081\n",
    "\n",
    "# 주식 가격\n",
    "https://programmers.co.kr/learn/courses/30/lessons/42584\n",
    "\n",
    "## 문제 설명\n",
    "초 단위로 기록된 주식가격이 담긴 배열 prices가 매개변수로 주어질 때, 가격이 떨어지지 않은 기간은 몇 초인지를 return 하도록 solution 함수를 완성하세요.\n",
    "\n",
    "### 제한 조건\n",
    "* prices의 각 가격은 1 이상 10,000 이하인 자연수입니다.\n",
    "* prices의 길이는 2 이상 100,000 이하입니다."
   ]
  },
  {
   "cell_type": "code",
   "execution_count": 3,
   "metadata": {},
   "outputs": [],
   "source": [
    "prices = [1, 2, 3, 2, 3]\n",
    "# 결과 = [4, 3, 1, 1, 0]"
   ]
  },
  {
   "cell_type": "code",
   "execution_count": null,
   "metadata": {},
   "outputs": [],
   "source": [
    "def solution(prices):\n",
    "    answer = []\n",
    "    \n",
    "    time = list(range(len(prices)-1,-1,-1))\n",
    "    \n",
    "    for i in range(len(prices)):\n",
    "\n",
    "        if i == len(prices)-1:\n",
    "            break\n",
    "\n",
    "        elif prices[i] > prices[i+1]:\n",
    "            time[i] -= 1\n",
    "            \n",
    "    answer = time\n",
    "    \n",
    "    \n",
    "    return answer"
   ]
  },
  {
   "cell_type": "code",
   "execution_count": null,
   "metadata": {},
   "outputs": [],
   "source": []
  },
  {
   "cell_type": "code",
   "execution_count": null,
   "metadata": {},
   "outputs": [],
   "source": []
  },
  {
   "cell_type": "code",
   "execution_count": null,
   "metadata": {},
   "outputs": [],
   "source": []
  },
  {
   "cell_type": "code",
   "execution_count": 54,
   "metadata": {},
   "outputs": [
    {
     "name": "stdout",
     "output_type": "stream",
     "text": [
      "dd\n",
      "[(1, 4), (2, 3), (3, 1), (2, 1), (3, 0)]\n"
     ]
    }
   ],
   "source": [
    "time = list(range(len(prices)-1,-1,-1))\n",
    "time\n",
    "\n",
    "stack = []\n",
    "idx = 0\n",
    "\n",
    "for i in range(len(prices)):\n",
    "    \n",
    "    if i == len(prices)-1:\n",
    "        break\n",
    "    \n",
    "    elif prices[i] > prices[i+1]:\n",
    "        print('dd')\n",
    "        time[i] -= 1\n",
    "        \n",
    "print(list(zip(prices, time)))\n",
    "\n"
   ]
  },
  {
   "cell_type": "code",
   "execution_count": 18,
   "metadata": {},
   "outputs": [],
   "source": [
    "time = [len(prices)-1] * len(prices)\n",
    "time\n",
    "\n",
    "arr = list(zip(prices, time))"
   ]
  },
  {
   "cell_type": "code",
   "execution_count": 20,
   "metadata": {},
   "outputs": [
    {
     "name": "stdout",
     "output_type": "stream",
     "text": [
      "1 4\n",
      "2 4\n",
      "3 4\n",
      "2 4\n",
      "3 4\n"
     ]
    }
   ],
   "source": [
    "for p,t in list(arr):\n",
    "    print(p,t)"
   ]
  },
  {
   "cell_type": "code",
   "execution_count": null,
   "metadata": {},
   "outputs": [],
   "source": []
  },
  {
   "cell_type": "code",
   "execution_count": null,
   "metadata": {},
   "outputs": [],
   "source": []
  },
  {
   "cell_type": "code",
   "execution_count": null,
   "metadata": {},
   "outputs": [],
   "source": []
  },
  {
   "cell_type": "code",
   "execution_count": null,
   "metadata": {},
   "outputs": [],
   "source": []
  }
 ],
 "metadata": {
  "kernelspec": {
   "display_name": "Python 3",
   "language": "python",
   "name": "python3"
  },
  "language_info": {
   "codemirror_mode": {
    "name": "ipython",
    "version": 3
   },
   "file_extension": ".py",
   "mimetype": "text/x-python",
   "name": "python",
   "nbconvert_exporter": "python",
   "pygments_lexer": "ipython3",
   "version": "3.8.3"
  }
 },
 "nbformat": 4,
 "nbformat_minor": 4
}
