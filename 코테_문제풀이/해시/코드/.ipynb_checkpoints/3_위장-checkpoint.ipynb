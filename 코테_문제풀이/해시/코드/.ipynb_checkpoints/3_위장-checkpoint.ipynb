{
 "cells": [
  {
   "cell_type": "markdown",
   "metadata": {},
   "source": [
    "# 프로그래머스 해시 문제\n",
    "https://programmers.co.kr/learn/courses/30/parts/12077\n",
    "\n",
    "# 위장\n",
    "https://programmers.co.kr/learn/courses/30/lessons/42578\n",
    "\n",
    "## 문제 설명\n",
    "스파이들은 매일 다른 옷을 조합하여 입어 자신을 위장합니다.\n",
    "\n",
    "예를 들어 스파이가 가진 옷이 아래와 같고 오늘 스파이가 동그란 안경, 긴 코트, 파란색 티셔츠를 입었다면 다음날은 청바지를 추가로 입거나 동그란 안경 대신 검정 선글라스를 착용하거나 해야 합니다.\n",
    "\n",
    "* 얼굴:\t동그란 안경, 검정 선글라스\n",
    "* 상의:\t파란색 티셔츠\n",
    "* 하의:\t청바지\n",
    "* 겉옷:\t긴 코트\n",
    "\n",
    "스파이가 가진 의상들이 담긴 2차원 배열 clothes가 주어질 때 서로 다른 옷의 조합의 수를 return 하도록 solution 함수를 작성해주세요.\n",
    "\n",
    "\n",
    "### 제한 조건\n",
    "* clothes의 각 행은 [의상의 이름, 의상의 종류]로 이루어져 있습니다.\n",
    "* 스파이가 가진 의상의 수는 1개 이상 30개 이하입니다.\n",
    "* 같은 이름을 가진 의상은 존재하지 않습니다.\n",
    "* clothes의 모든 원소는 문자열로 이루어져 있습니다.\n",
    "* 모든 문자열의 길이는 1 이상 20 이하인 자연수이고 알파벳 소문자 또는 '_' 로만 이루어져 있습니다.\n",
    "* 스파이는 하루에 최소 한 개의 의상은 입습니다."
   ]
  },
  {
   "cell_type": "code",
   "execution_count": 43,
   "metadata": {},
   "outputs": [],
   "source": [
    "cloths = [['yellow_hat', 'headgear'], ['blue_sunglasses', 'eyewear'], ['green_turban', 'headgear']]\n",
    "#결과 = 5"
   ]
  },
  {
   "cell_type": "code",
   "execution_count": 52,
   "metadata": {},
   "outputs": [
    {
     "data": {
      "text/plain": [
       "defaultdict(list,\n",
       "            {'headgear': ['yellow_hat', 'green_turban'],\n",
       "             'eyewear': ['blue_sunglasses']})"
      ]
     },
     "execution_count": 52,
     "metadata": {},
     "output_type": "execute_result"
    }
   ],
   "source": [
    "from collections import defaultdict\n",
    "\n",
    "#append로 추가하기 위하여\n",
    "dics = defaultdict(list)\n",
    "\n",
    "for cloth,types in cloths:\n",
    "    dics[types].append(cloth)\n",
    "    \n",
    "dics"
   ]
  },
  {
   "cell_type": "code",
   "execution_count": 58,
   "metadata": {},
   "outputs": [
    {
     "name": "stdout",
     "output_type": "stream",
     "text": [
      "headgear ['yellow_hat', 'green_turban']\n",
      "eyewear ['blue_sunglasses']\n"
     ]
    }
   ],
   "source": [
    "for key in dics.keys():\n",
    "    print(key,dics[key])"
   ]
  },
  {
   "cell_type": "markdown",
   "metadata": {},
   "source": [
    "a[1,2] / b[1,2,3] / c[1,2]\n",
    "a => 2 / b => 3 / c = 2 => 7개\n",
    "ab ac bc\n",
    "abc"
   ]
  },
  {
   "cell_type": "code",
   "execution_count": null,
   "metadata": {},
   "outputs": [],
   "source": []
  },
  {
   "cell_type": "code",
   "execution_count": 65,
   "metadata": {},
   "outputs": [
    {
     "name": "stdout",
     "output_type": "stream",
     "text": [
      "headgear\n",
      "eyewear\n"
     ]
    }
   ],
   "source": [
    "from itertools import product\n",
    "\n",
    "for key in dics.keys():\n",
    "    print(key)\n",
    "    for i in products"
   ]
  },
  {
   "cell_type": "code",
   "execution_count": null,
   "metadata": {},
   "outputs": [],
   "source": []
  },
  {
   "cell_type": "code",
   "execution_count": 53,
   "metadata": {},
   "outputs": [],
   "source": [
    "from itertools import product\n",
    "\n",
    "for key_num in range(1,len(dics.keys())+1):\n",
    "    for nums in product():\n",
    "    \n"
   ]
  },
  {
   "cell_type": "code",
   "execution_count": null,
   "metadata": {},
   "outputs": [],
   "source": []
  },
  {
   "cell_type": "code",
   "execution_count": 59,
   "metadata": {},
   "outputs": [
    {
     "name": "stdout",
     "output_type": "stream",
     "text": [
      "[]  [1]  [2]  [3]  [4]  [1, 2]  [1, 3]  [1, 4]  [2, 3]  [2, 4]  [3, 4]  [1, 2, 3]  [1, 2, 4]  [1, 3, 4]  [2, 3, 4]  [1, 2, 3, 4]  \n",
      "부분집합 개수: 16\n"
     ]
    }
   ],
   "source": [
    "arr = range(1,5) # (1,2,3,4)\n",
    "count = 0\n",
    "\n",
    "for i in range(0,len(arr)+1):\n",
    "    for j in combinations(arr,i):\n",
    "        count += 1\n",
    "        print(list(j), end='  ')\n",
    "        \n",
    "print('\\n부분집합 개수:',count)"
   ]
  },
  {
   "cell_type": "code",
   "execution_count": null,
   "metadata": {},
   "outputs": [],
   "source": []
  },
  {
   "cell_type": "code",
   "execution_count": null,
   "metadata": {},
   "outputs": [],
   "source": []
  },
  {
   "cell_type": "code",
   "execution_count": null,
   "metadata": {},
   "outputs": [],
   "source": []
  },
  {
   "cell_type": "code",
   "execution_count": null,
   "metadata": {},
   "outputs": [],
   "source": []
  },
  {
   "cell_type": "code",
   "execution_count": null,
   "metadata": {},
   "outputs": [],
   "source": []
  },
  {
   "cell_type": "code",
   "execution_count": null,
   "metadata": {},
   "outputs": [],
   "source": []
  },
  {
   "cell_type": "code",
   "execution_count": null,
   "metadata": {},
   "outputs": [],
   "source": []
  }
 ],
 "metadata": {
  "kernelspec": {
   "display_name": "Python 3",
   "language": "python",
   "name": "python3"
  },
  "language_info": {
   "codemirror_mode": {
    "name": "ipython",
    "version": 3
   },
   "file_extension": ".py",
   "mimetype": "text/x-python",
   "name": "python",
   "nbconvert_exporter": "python",
   "pygments_lexer": "ipython3",
   "version": "3.8.3"
  }
 },
 "nbformat": 4,
 "nbformat_minor": 4
}
