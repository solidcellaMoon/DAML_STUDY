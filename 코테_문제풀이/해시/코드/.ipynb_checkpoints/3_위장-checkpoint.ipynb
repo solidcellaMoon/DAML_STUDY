{
 "cells": [
  {
   "cell_type": "markdown",
   "metadata": {},
   "source": [
    "# 프로그래머스 해시 문제\n",
    "https://programmers.co.kr/learn/courses/30/parts/12077\n",
    "\n",
    "# 위장\n",
    "https://programmers.co.kr/learn/courses/30/lessons/42578\n",
    "\n",
    "## 문제 설명\n",
    "스파이들은 매일 다른 옷을 조합하여 입어 자신을 위장합니다.\n",
    "\n",
    "예를 들어 스파이가 가진 옷이 아래와 같고 오늘 스파이가 동그란 안경, 긴 코트, 파란색 티셔츠를 입었다면 다음날은 청바지를 추가로 입거나 동그란 안경 대신 검정 선글라스를 착용하거나 해야 합니다.\n",
    "\n",
    "* 얼굴:\t동그란 안경, 검정 선글라스\n",
    "* 상의:\t파란색 티셔츠\n",
    "* 하의:\t청바지\n",
    "* 겉옷:\t긴 코트\n",
    "\n",
    "스파이가 가진 의상들이 담긴 2차원 배열 clothes가 주어질 때 서로 다른 옷의 조합의 수를 return 하도록 solution 함수를 작성해주세요.\n",
    "\n",
    "\n",
    "### 제한 조건\n",
    "* clothes의 각 행은 [의상의 이름, 의상의 종류]로 이루어져 있습니다.\n",
    "* 스파이가 가진 의상의 수는 1개 이상 30개 이하입니다.\n",
    "* 같은 이름을 가진 의상은 존재하지 않습니다.\n",
    "* clothes의 모든 원소는 문자열로 이루어져 있습니다.\n",
    "* 모든 문자열의 길이는 1 이상 20 이하인 자연수이고 알파벳 소문자 또는 '_' 로만 이루어져 있습니다.\n",
    "* 스파이는 하루에 최소 한 개의 의상은 입습니다."
   ]
  },
  {
   "cell_type": "markdown",
   "metadata": {},
   "source": [
    "## 풀이\n",
    "\n",
    "#### a = [1,2,3] / b = [1,2]\n",
    " \n",
    " 라고 할 때, len(a)*len(b)는 a와 b를 하나씩 입는 경우를 말함.\n",
    " \n",
    " \n",
    "#### a = [1,2,3,無] / b = [1,2,無]\n",
    " \n",
    " 라고 할 때, len(a)*len(b)에는 a 또는 b 하나씩만 입는 경우가 모두 포함됨.\n",
    " \n",
    "### 따라서 모든 종류 리스트에 +1을 하고 곱하면 됨.\n",
    "\n",
    "단, 마지막에 모든 종류를 입지 않은 경우로 -1을 해줘야 정답.\n",
    " \n",
    " \n",
    "\n",
    "#### 매우 많이 참고: https://programmers.co.kr/questions/15225"
   ]
  },
  {
   "cell_type": "code",
   "execution_count": 106,
   "metadata": {},
   "outputs": [],
   "source": [
    "clothes = [['yellow_hat', 'headgear'], ['blue_sunglasses', 'eyewear'], ['green_turban', 'headgear']]\n",
    "#결과 = 5"
   ]
  },
  {
   "cell_type": "code",
   "execution_count": 107,
   "metadata": {},
   "outputs": [],
   "source": [
    "from collections import defaultdict\n",
    "\n",
    "def solution(clothes):\n",
    "    answer = 0\n",
    "    case = 1\n",
    "    \n",
    "    #딕셔너리에 append로 추가하기 위하여\n",
    "    dics = defaultdict(list)\n",
    "    \n",
    "    # 옷 종류: 옷 이름 으로 딕셔너리 생성\n",
    "    for cloth,types in clothes:\n",
    "        dics[types].append(cloth)\n",
    "        \n",
    "    kList = dics.keys()\n",
    "    \n",
    "    for key in kList:\n",
    "        #타입별 옷 종류 개수 + 안 입는 경우(無)\n",
    "        case *= len(dics[key]) + 1\n",
    "        \n",
    "    #모든 옷을 안 입는 단 한개의 경우 뺌\n",
    "    answer = case - 1\n",
    "    \n",
    "    return answer"
   ]
  },
  {
   "cell_type": "code",
   "execution_count": 108,
   "metadata": {
    "scrolled": true
   },
   "outputs": [
    {
     "data": {
      "text/plain": [
       "5"
      ]
     },
     "execution_count": 108,
     "metadata": {},
     "output_type": "execute_result"
    }
   ],
   "source": [
    "solution(clothes)"
   ]
  },
  {
   "cell_type": "markdown",
   "metadata": {},
   "source": [
    "## 내 풀이 - 순열조합 (BAD)\n",
    "시간초과 난다..."
   ]
  },
  {
   "cell_type": "code",
   "execution_count": 109,
   "metadata": {},
   "outputs": [],
   "source": [
    "from collections import defaultdict\n",
    "from itertools import combinations, product\n",
    "\n",
    "def solution(clothes):\n",
    "    answer = 0\n",
    "    \n",
    "    #딕셔너리에 append로 추가하기 위하여\n",
    "    dics = defaultdict(list)\n",
    "    \n",
    "    # 옷 종류: 옷 이름 으로 딕셔너리 생성\n",
    "    for cloth,types in clothes:\n",
    "        dics[types].append(cloth)\n",
    "        \n",
    "    kList = dics.keys()\n",
    "\n",
    "    #옷의 종류 조합을 combination으로 구함\n",
    "    for key_idx in range(1,len(kList)+1):\n",
    "        for comb_key in combinations(kList,key_idx):\n",
    "            #각 종류 조합에서, 종류 리스트의 개수를 곱해나가면\n",
    "            #해당 조합에서의 경우의 수\n",
    "            case = 1\n",
    "            for idx in range(len(comb_key)):\n",
    "                case *= len(dics[comb_key[idx]])\n",
    "            answer += case\n",
    "    \n",
    "    return answer"
   ]
  },
  {
   "cell_type": "code",
   "execution_count": 110,
   "metadata": {},
   "outputs": [
    {
     "data": {
      "text/plain": [
       "5"
      ]
     },
     "execution_count": 110,
     "metadata": {},
     "output_type": "execute_result"
    }
   ],
   "source": [
    "solution(cloths)"
   ]
  },
  {
   "cell_type": "code",
   "execution_count": null,
   "metadata": {},
   "outputs": [],
   "source": []
  },
  {
   "cell_type": "code",
   "execution_count": null,
   "metadata": {},
   "outputs": [],
   "source": []
  },
  {
   "cell_type": "code",
   "execution_count": null,
   "metadata": {},
   "outputs": [],
   "source": []
  }
 ],
 "metadata": {
  "kernelspec": {
   "display_name": "Python 3",
   "language": "python",
   "name": "python3"
  },
  "language_info": {
   "codemirror_mode": {
    "name": "ipython",
    "version": 3
   },
   "file_extension": ".py",
   "mimetype": "text/x-python",
   "name": "python",
   "nbconvert_exporter": "python",
   "pygments_lexer": "ipython3",
   "version": "3.8.3"
  }
 },
 "nbformat": 4,
 "nbformat_minor": 4
}
