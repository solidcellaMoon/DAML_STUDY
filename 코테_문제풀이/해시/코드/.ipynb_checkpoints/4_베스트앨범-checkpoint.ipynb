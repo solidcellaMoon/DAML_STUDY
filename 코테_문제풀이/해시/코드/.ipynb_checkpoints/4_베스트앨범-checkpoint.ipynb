{
 "cells": [
  {
   "cell_type": "markdown",
   "metadata": {},
   "source": [
    "# 프로그래머스 해시 문제\n",
    "https://programmers.co.kr/learn/courses/30/parts/12077\n",
    "\n",
    "# 베스트앨범\n",
    "https://programmers.co.kr/learn/courses/30/lessons/42579\n",
    "\n",
    "## 문제 설명\n",
    "스트리밍 사이트에서 장르 별로 가장 많이 재생된 노래를 두 개씩 모아 베스트 앨범을 출시하려 합니다. 노래는 고유 번호로 구분하며, 노래를 수록하는 기준은 다음과 같습니다.\n",
    "\n",
    "1. 속한 노래가 많이 재생된 장르를 먼저 수록합니다.\n",
    "2. 장르 내에서 많이 재생된 노래를 먼저 수록합니다.\n",
    "3. 장르 내에서 재생 횟수가 같은 노래 중에서는 고유 번호가 낮은 노래를 먼저 수록합니다.\n",
    "\n",
    "노래의 장르를 나타내는 문자열 배열 genres와 노래별 재생 횟수를 나타내는 정수 배열 plays가 주어질 때, 베스트 앨범에 들어갈 노래의 고유 번호를 순서대로 return 하도록 solution 함수를 완성하세요.\n",
    "\n",
    "\n",
    "### 제한 조건\n",
    "* genres[i]는 고유번호가 i인 노래의 장르입니다.\n",
    "* plays[i]는 고유번호가 i인 노래가 재생된 횟수입니다.\n",
    "* genres와 plays의 길이는 같으며, 이는 1 이상 10,000 이하입니다.\n",
    "* 장르 종류는 100개 미만입니다.\n",
    "* 장르에 속한 곡이 하나라면, 하나의 곡만 선택합니다.\n",
    "* 모든 장르는 재생된 횟수가 다릅니다."
   ]
  },
  {
   "cell_type": "code",
   "execution_count": 1,
   "metadata": {},
   "outputs": [],
   "source": [
    "genres = ['classic', 'pop', 'classic', 'classic', 'pop']\n",
    "plays = [500, 600, 150, 500, 2500]\n",
    "#결과 = [4,1,0,3]"
   ]
  },
  {
   "cell_type": "markdown",
   "metadata": {},
   "source": [
    "## 내 풀이\n",
    "\n",
    "딕셔너리 정렬 참고: https://kkamikoon.tistory.com/138"
   ]
  },
  {
   "cell_type": "code",
   "execution_count": 2,
   "metadata": {},
   "outputs": [],
   "source": [
    "from collections import defaultdict\n",
    "import operator\n",
    "\n",
    "def solution(genres, plays):\n",
    "    answer = []\n",
    "    \n",
    "    #dictionary 생성\n",
    "    dics = defaultdict(list) #dics엔 장르별 재생수 개별적으로 저장\n",
    "    dics2 = defaultdict(list) #dics2엔 장르별 고유번호&재생수 저장\n",
    "    dics3 = {} #장르별 재생수의 합을 저장할 dics3\n",
    "    \n",
    "    #dics, dics2에 값을 넣어준다\n",
    "    for i,gen in enumerate(genres):\n",
    "        dics[gen].append(plays[i])\n",
    "        dics2[gen].append((i,plays[i]))\n",
    "\n",
    "    for key in dics.keys():\n",
    "        dics2[key].sort(key = lambda x: x[1], reverse = True) #재생수 내림차순으로 정렬\n",
    "        dics3[key] = sum(dics[key]) #재생수 합을 더함\n",
    "\n",
    "    #재생수가 높은 순서대로 정렬\n",
    "    dics3 = sorted(dics3.items(),key=operator.itemgetter(1),reverse = True)\n",
    "\n",
    "    #장르마다 첫번째, 두번째로 높은 재생수의 곡을 뽑아 저장\n",
    "    for gen, rate in dics3:\n",
    "        #장르에 곡이 하나일수도 있으므로\n",
    "        answer.append(dics2[gen][0][0])\n",
    "        if len(dics2[gen]) > 1:\n",
    "            answer.append(dics2[gen][1][0])\n",
    "    \n",
    "    return answer"
   ]
  },
  {
   "cell_type": "code",
   "execution_count": 3,
   "metadata": {
    "scrolled": false
   },
   "outputs": [
    {
     "data": {
      "text/plain": [
       "[4, 1, 0, 3]"
      ]
     },
     "execution_count": 3,
     "metadata": {},
     "output_type": "execute_result"
    }
   ],
   "source": [
    "solution(genres, plays)"
   ]
  },
  {
   "cell_type": "markdown",
   "metadata": {},
   "source": [
    "## 풀이과정"
   ]
  },
  {
   "cell_type": "code",
   "execution_count": 4,
   "metadata": {},
   "outputs": [
    {
     "name": "stdout",
     "output_type": "stream",
     "text": [
      "defaultdict(<class 'list'>, {'classic': [500, 150, 500], 'pop': [600, 2500]})\n",
      "defaultdict(<class 'list'>, {'classic': [(0, 500), (2, 150), (3, 500)], 'pop': [(1, 600), (4, 2500)]})\n"
     ]
    }
   ],
   "source": [
    "from collections import defaultdict\n",
    "\n",
    "#dictionary 생성 \n",
    "dics = defaultdict(list)\n",
    "dics2 = defaultdict(list)\n",
    "\n",
    "for i,gen in enumerate(genres):\n",
    "    dics[gen].append(plays[i])\n",
    "    dics2[gen].append((i,plays[i]))\n",
    "    \n",
    "print(dics)\n",
    "print(dics2)"
   ]
  },
  {
   "cell_type": "markdown",
   "metadata": {},
   "source": [
    "### 두 곡이 동일한 최댓값인 경우, 정렬할 때 문제 조건에 만족하게 됨.\n",
    "\n",
    "조건: 장르 내에서 재생 횟수가 같은 노래 중에서는 고유 번호가 낮은 노래를 먼저 수록합니다.\n",
    "\n",
    "#### 참고: 람다식으로 인자별 오름/내림차순 정하기\n",
    "* a.sort(key = lambda x: (x[0],-x[1]))\n",
    "\n",
    "-가 붙으면 내림차순!\n",
    "\n",
    "링크: 정렬 1_K번째 수 https://github.com/solidcellaMoon/studynote/blob/master/%EC%BD%94%ED%85%8C_%EB%AC%B8%EC%A0%9C%ED%92%80%EC%9D%B4/%EC%A0%95%EB%A0%AC/1_K%EB%B2%88%EC%A7%B8%20%EC%88%98.md"
   ]
  },
  {
   "cell_type": "code",
   "execution_count": 5,
   "metadata": {
    "scrolled": true
   },
   "outputs": [
    {
     "name": "stdout",
     "output_type": "stream",
     "text": [
      "defaultdict(<class 'list'>, {'classic': [(0, 500), (3, 500), (2, 150)], 'pop': [(4, 2500), (1, 600)]})\n",
      "{'classic': 1150, 'pop': 3100}\n"
     ]
    }
   ],
   "source": [
    "dics3 = {}\n",
    "\n",
    "for key in dics.keys():\n",
    "    dics2[key].sort(key = lambda x: x[1], reverse = True)\n",
    "    dics3[key] = sum(dics[key])\n",
    "\n",
    "print(dics2)\n",
    "print(dics3)"
   ]
  },
  {
   "cell_type": "code",
   "execution_count": 6,
   "metadata": {
    "scrolled": true
   },
   "outputs": [
    {
     "name": "stdout",
     "output_type": "stream",
     "text": [
      "[('pop', 3100), ('classic', 1150)]\n"
     ]
    }
   ],
   "source": [
    "import operator\n",
    "\n",
    "dics3 = sorted(dics3.items(),key=operator.itemgetter(1),reverse = True)\n",
    "\n",
    "print(dics3)"
   ]
  },
  {
   "cell_type": "markdown",
   "metadata": {},
   "source": [
    "### 조건 잘 보기!!\n",
    "조건: 장르에 속한 곡이 하나라면, 하나의 곡만 선택합니다.\n",
    "\n",
    "즉 장르에 곡이 하나뿐인 경우를 대비해 if문으로 구분해줘야함."
   ]
  },
  {
   "cell_type": "code",
   "execution_count": 7,
   "metadata": {},
   "outputs": [
    {
     "name": "stdout",
     "output_type": "stream",
     "text": [
      "[4, 1, 0, 3]\n"
     ]
    }
   ],
   "source": [
    "answer = []\n",
    "\n",
    "for gen, rate in dics3:\n",
    "    answer.append(dics2[gen][0][0])\n",
    "    if len(dics2[gen]) > 1:\n",
    "        answer.append(dics2[gen][1][0])\n",
    "\n",
    "print(answer)"
   ]
  },
  {
   "cell_type": "code",
   "execution_count": null,
   "metadata": {},
   "outputs": [],
   "source": []
  },
  {
   "cell_type": "code",
   "execution_count": null,
   "metadata": {},
   "outputs": [],
   "source": []
  },
  {
   "cell_type": "code",
   "execution_count": null,
   "metadata": {},
   "outputs": [],
   "source": []
  }
 ],
 "metadata": {
  "kernelspec": {
   "display_name": "Python 3",
   "language": "python",
   "name": "python3"
  },
  "language_info": {
   "codemirror_mode": {
    "name": "ipython",
    "version": 3
   },
   "file_extension": ".py",
   "mimetype": "text/x-python",
   "name": "python",
   "nbconvert_exporter": "python",
   "pygments_lexer": "ipython3",
   "version": "3.8.3"
  }
 },
 "nbformat": 4,
 "nbformat_minor": 4
}
