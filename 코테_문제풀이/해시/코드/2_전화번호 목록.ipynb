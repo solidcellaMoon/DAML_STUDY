{
 "cells": [
  {
   "cell_type": "markdown",
   "metadata": {},
   "source": [
    "# 프로그래머스 해시 문제\n",
    "https://programmers.co.kr/learn/courses/30/parts/12077\n",
    "\n",
    "# 전화번호 목록 (★★)\n",
    "https://programmers.co.kr/learn/courses/30/lessons/42577\n",
    "\n",
    "## 문제 설명\n",
    "전화번호부에 적힌 전화번호 중, 한 번호가 다른 번호의 접두어인 경우가 있는지 확인하려 합니다.\n",
    "\n",
    "전화번호가 다음과 같을 경우, 구조대 전화번호는 영석이의 전화번호의 접두사입니다.\n",
    "\n",
    "* 구조대 : 119\n",
    "* 박준영 : 97 674 223\n",
    "* 지영석 : 11 9552 4421\n",
    "\n",
    "전화번호부에 적힌 전화번호를 담은 배열 phone_book 이 solution 함수의 매개변수로 주어질 때, 어떤 번호가 다른 번호의 접두어인 경우가 있으면 false를 그렇지 않으면 true를 return 하도록 solution 함수를 작성해주세요.\n",
    "\n",
    "\n",
    "### 제한 조건\n",
    "* phone_book의 길이는 1 이상 1,000,000 이하입니다.\n",
    "* 각 전화번호의 길이는 1 이상 20 이하입니다."
   ]
  },
  {
   "cell_type": "markdown",
   "metadata": {},
   "source": [
    "# 내 풀이 (최종)\n",
    "\n",
    "굳이 해시나 딕셔너리같은걸 사용할 필요가 있는지 모르겠다...?\n",
    "\n",
    "정확하지 않아도 통과 가능한 듯 하니 일단 이 문제는 보류....\n",
    "\n"
   ]
  },
  {
   "cell_type": "code",
   "execution_count": 99,
   "metadata": {},
   "outputs": [],
   "source": [
    "phone_book = ['889521222223','11', '889521','1234325','56578','43536','667']\n",
    "#결과 False (어떤 경우라도 접두어가 있으면 false!!)"
   ]
  },
  {
   "cell_type": "code",
   "execution_count": 100,
   "metadata": {},
   "outputs": [],
   "source": [
    "def solution(pho):\n",
    "    answer = True\n",
    "    \n",
    "    #정렬\n",
    "    pho.sort()\n",
    "    \n",
    "    while answer:\n",
    "        \n",
    "        print(pho)\n",
    "        \n",
    "        #접두어가 있는 경우엔, pho에 값이 남아있음\n",
    "        if pho: #가장 짧은 번호를 key로 뽑는다\n",
    "            key = pho.pop(0)\n",
    "            print(key)\n",
    "        else: #접두어가 없다면 pho가 비게 되므로 while문 탈출\n",
    "            break\n",
    "    \n",
    "        # pho 리스트에 key가 포함된 번호가 있는지 확인\n",
    "        for number in pho:\n",
    "            if key in number: #있다면 False로 바꾸고 for문 탈출\n",
    "                answer = False\n",
    "                break\n",
    "            #맨 앞자리가 다르면 비교할 필요없으니 탈출\n",
    "            if key[0] != number[0]:\n",
    "                print(key, number)\n",
    "                break\n",
    "                \n",
    "    \n",
    "    return answer"
   ]
  },
  {
   "cell_type": "code",
   "execution_count": 101,
   "metadata": {
    "scrolled": false
   },
   "outputs": [
    {
     "name": "stdout",
     "output_type": "stream",
     "text": [
      "['11', '1234325', '43536', '56578', '667', '889521', '889521222223']\n",
      "11\n",
      "11 43536\n",
      "['1234325', '43536', '56578', '667', '889521', '889521222223']\n",
      "1234325\n",
      "1234325 43536\n",
      "['43536', '56578', '667', '889521', '889521222223']\n",
      "43536\n",
      "43536 56578\n",
      "['56578', '667', '889521', '889521222223']\n",
      "56578\n",
      "56578 667\n",
      "['667', '889521', '889521222223']\n",
      "667\n",
      "667 889521\n",
      "['889521', '889521222223']\n",
      "889521\n"
     ]
    },
    {
     "data": {
      "text/plain": [
       "False"
      ]
     },
     "execution_count": 101,
     "metadata": {},
     "output_type": "execute_result"
    }
   ],
   "source": [
    "solution(phone_book)"
   ]
  },
  {
   "cell_type": "markdown",
   "metadata": {},
   "source": [
    "### 가장 큰 수를 만들려면?\n",
    "참고: https://github.com/solidcellaMoon/studynote/blob/master/%EC%BD%94%ED%85%8C_%EB%AC%B8%EC%A0%9C%ED%92%80%EC%9D%B4/%EC%A0%95%EB%A0%AC/2_%EA%B0%80%EC%9E%A5%20%ED%81%B0%20%EC%88%98.md"
   ]
  },
  {
   "cell_type": "code",
   "execution_count": 89,
   "metadata": {},
   "outputs": [
    {
     "name": "stdout",
     "output_type": "stream",
     "text": [
      "['889521', '889521222223', '667', '56578', '43536', '1234325', '11']\n"
     ]
    }
   ],
   "source": [
    "pho = ['889521222223','11', '889521','1234325','56578','43536','667']\n",
    "pho.sort(key = lambda x : x*6, reverse = True)\n",
    "print(pho)"
   ]
  },
  {
   "cell_type": "markdown",
   "metadata": {},
   "source": [
    "## 내 풀이 (BAD)\n",
    "\n",
    "어쩌다보니 맞췄다\n",
    "\n",
    "\n",
    "#### 접두사 인정 조건 1:\n",
    "119가 접두사라면, 무조건 119로 시작하는 번호가 있어야 함\n",
    "\n",
    "#### 접두사 인정 조건 2:\n",
    "가장 짧은 번호가 접두사가 될 수 있..다고 생각했는데\n",
    "\n",
    "아닌거 같음...\n",
    "\n",
    "11,889521, 889521**** => 889521 가 접두사"
   ]
  },
  {
   "cell_type": "code",
   "execution_count": 31,
   "metadata": {},
   "outputs": [],
   "source": [
    "phone_book = ['119', '97674223', '1195524421']\n",
    "#결과 False (어떤 경우라도 접두어가 있으면 false!!)"
   ]
  },
  {
   "cell_type": "code",
   "execution_count": 32,
   "metadata": {},
   "outputs": [],
   "source": [
    "def solution(pho):\n",
    "    answer = True\n",
    "    \n",
    "    key = min(pho)\n",
    "    pho.remove(key)\n",
    "    \n",
    "    for i in pho:\n",
    "        if key in i:\n",
    "            answer = False\n",
    "            break\n",
    "    \n",
    "    \n",
    "    return answer"
   ]
  },
  {
   "cell_type": "code",
   "execution_count": 33,
   "metadata": {
    "scrolled": true
   },
   "outputs": [
    {
     "data": {
      "text/plain": [
       "False"
      ]
     },
     "execution_count": 33,
     "metadata": {},
     "output_type": "execute_result"
    }
   ],
   "source": [
    "solution(phone_book)"
   ]
  },
  {
   "cell_type": "code",
   "execution_count": null,
   "metadata": {},
   "outputs": [],
   "source": []
  },
  {
   "cell_type": "code",
   "execution_count": null,
   "metadata": {},
   "outputs": [],
   "source": []
  }
 ],
 "metadata": {
  "kernelspec": {
   "display_name": "Python 3",
   "language": "python",
   "name": "python3"
  },
  "language_info": {
   "codemirror_mode": {
    "name": "ipython",
    "version": 3
   },
   "file_extension": ".py",
   "mimetype": "text/x-python",
   "name": "python",
   "nbconvert_exporter": "python",
   "pygments_lexer": "ipython3",
   "version": "3.8.3"
  }
 },
 "nbformat": 4,
 "nbformat_minor": 4
}
