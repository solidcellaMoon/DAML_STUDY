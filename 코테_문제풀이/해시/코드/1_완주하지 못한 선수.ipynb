{
 "cells": [
  {
   "cell_type": "markdown",
   "metadata": {},
   "source": [
    "# 프로그래머스 해시 문제\n",
    "https://programmers.co.kr/learn/courses/30/parts/12077\n",
    "\n",
    "# 완주하지 못한 선수 (★)\n",
    "https://programmers.co.kr/learn/courses/30/lessons/42576\n",
    "\n",
    "## 문제 설명\n",
    "수많은 마라톤 선수들이 마라톤에 참여하였습니다. 단 한 명의 선수를 제외하고는 모든 선수가 마라톤을 완주하였습니다.\n",
    "\n",
    "마라톤에 참여한 선수들의 이름이 담긴 배열 participant와 완주한 선수들의 이름이 담긴 배열 completion이 주어질 때, 완주하지 못한 선수의 이름을 return 하도록 solution 함수를 작성해주세요.\n",
    "\n",
    "### 제한 조건\n",
    "* 마라톤 경기에 참여한 선수의 수는 1명 이상 100,000명 이하입니다.\n",
    "* completion의 길이는 participant의 길이보다 1 작습니다.\n",
    "* 참가자의 이름은 1개 이상 20개 이하의 알파벳 소문자로 이루어져 있습니다.\n",
    "* 참가자 중에는 동명이인이 있을 수 있습니다.\n",
    "\n",
    "풀이: https://wooaoe.tistory.com/m/71"
   ]
  },
  {
   "cell_type": "markdown",
   "metadata": {},
   "source": [
    "## 풀이 1: dictionary 사용 (★★★)\n",
    "\n",
    "#### hash() : return the hash value of the object (if it has one)\n",
    "* hash()는 각 값에 대한 고유한 정수형 숫자를 반환해준다.\n",
    "\n",
    "* 따라서 key = 고유한 값 / value = list 값이 되어 Dictionary 형태로 담기게된다.\n",
    "\n",
    "* participant의 hash값을 temp에 다 더해준 뒤, completetion의 hash값을 빼준다.\n",
    "\n",
    "* 연산된 temp를 dic의 key로 불러와 answer에 담아주고 반환하면 완주하지 못한 선수가 나오게 된다. (동명이인 문제도 해결) \n",
    "\n",
    "\n",
    "참고: https://wooaoe.tistory.com/m/71"
   ]
  },
  {
   "cell_type": "code",
   "execution_count": 1,
   "metadata": {},
   "outputs": [],
   "source": [
    "participant = ['leo', 'kiki', 'eden','eden']\n",
    "completion = ['eden', 'kiki','leo']\n",
    "#결과: 에덴"
   ]
  },
  {
   "cell_type": "code",
   "execution_count": 2,
   "metadata": {},
   "outputs": [],
   "source": [
    "def solution(participant, completion):\n",
    "    answer = ''\n",
    "    temp = 0\n",
    "    dic = {}\n",
    "    \n",
    "    for par in participant:\n",
    "        dic[hash(par)] = par\n",
    "        temp += int(hash(par))\n",
    "        \n",
    "    for com in completion:\n",
    "        temp -= hash(com)\n",
    "        \n",
    "    answer = dic[temp]\n",
    "    \n",
    "    print(dic)\n",
    "    \n",
    "    return answer"
   ]
  },
  {
   "cell_type": "code",
   "execution_count": 3,
   "metadata": {},
   "outputs": [
    {
     "name": "stdout",
     "output_type": "stream",
     "text": [
      "{-4449047404052440825: 'leo', -6307346689883993739: 'kiki', 2314018515277788103: 'eden'}\n"
     ]
    },
    {
     "data": {
      "text/plain": [
       "'eden'"
      ]
     },
     "execution_count": 3,
     "metadata": {},
     "output_type": "execute_result"
    }
   ],
   "source": [
    "solution(participant, completion)"
   ]
  },
  {
   "cell_type": "markdown",
   "metadata": {},
   "source": [
    "### hash() 연습"
   ]
  },
  {
   "cell_type": "code",
   "execution_count": 4,
   "metadata": {
    "scrolled": true
   },
   "outputs": [
    {
     "name": "stdout",
     "output_type": "stream",
     "text": [
      "-427842778927709090\n",
      "-427842778927709090\n",
      "-4590790600709797406\n",
      "-1423789461349305725\n"
     ]
    }
   ],
   "source": [
    "print(hash('a'))\n",
    "print(hash('a'))\n",
    "print(hash('a111'))\n",
    "print(hash('b'))"
   ]
  },
  {
   "cell_type": "markdown",
   "metadata": {},
   "source": [
    "## 풀이 2: Collections 사용\n",
    "\n",
    "#### import collections\n",
    "\n",
    "* collections에 내장된 함수인 Counter()는 Dic과 같이 hash형 자료들의 값의 개수를 셀 때 사용 \n",
    "* Dic처럼 {key:value} 형식으로 만들어짐 \n",
    "* Counter() 객체끼리 빼는 것도 가능\n",
    "* 0 (zero) 나 음수 (minus)의 값들도 가능\n",
    "* 해당하는 값이 없더라도 error가 아닌 0을 반환 (오..!)\n",
    "\n",
    "참고: https://wooaoe.tistory.com/m/71"
   ]
  },
  {
   "cell_type": "code",
   "execution_count": 5,
   "metadata": {},
   "outputs": [],
   "source": [
    "participant = ['leo', 'kiki', 'eden','eden']\n",
    "completion = ['eden', 'kiki','leo']\n",
    "#결과: 에덴"
   ]
  },
  {
   "cell_type": "code",
   "execution_count": 6,
   "metadata": {},
   "outputs": [],
   "source": [
    "import collections as col\n",
    "\n",
    "def solution(participant, completion):\n",
    "    answer = ''\n",
    "    par = sorted(participant)\n",
    "    com = sorted(completion)\n",
    "    \n",
    "    result = col.Counter(par) - col.Counter(com)\n",
    "    answer = list(result)[0]\n",
    "    \n",
    "    return answer"
   ]
  },
  {
   "cell_type": "code",
   "execution_count": 7,
   "metadata": {},
   "outputs": [
    {
     "data": {
      "text/plain": [
       "'eden'"
      ]
     },
     "execution_count": 7,
     "metadata": {},
     "output_type": "execute_result"
    }
   ],
   "source": [
    "solution(participant, completion)"
   ]
  },
  {
   "cell_type": "markdown",
   "metadata": {},
   "source": [
    "### collections 연습"
   ]
  },
  {
   "cell_type": "code",
   "execution_count": 8,
   "metadata": {},
   "outputs": [
    {
     "name": "stdout",
     "output_type": "stream",
     "text": [
      "Counter({'aa': 2, 'cc': 1, 'dd': 1, 'bb': 1, 'ee': 1})\n",
      "\n",
      "list화: ['aa', 'cc', 'dd', 'bb', 'ee']\n",
      "\n",
      "keys(): ['aa', 'cc', 'dd', 'bb', 'ee']\n",
      "\n",
      "values(): [2, 1, 1, 1, 1]\n",
      "\n",
      "items(): [('aa', 2), ('cc', 1), ('dd', 1), ('bb', 1), ('ee', 1)]\n",
      "\n",
      "counter 고유\n",
      "elements: ['aa', 'aa', 'cc', 'dd', 'bb', 'ee']\n"
     ]
    }
   ],
   "source": [
    "import collections as col\n",
    "\n",
    "lst = ['aa', 'cc', 'dd', 'aa', 'bb', 'ee']\n",
    "dic = col.Counter(lst)\n",
    "print(dic)\n",
    "print()\n",
    "print('list화:',list(dic))\n",
    "print()\n",
    "print('keys():',list(dic.keys()))\n",
    "print()\n",
    "print('values():',list(dic.values()))\n",
    "print()\n",
    "print('items():',list(dic.items()))\n",
    "print()\n",
    "print('counter 고유')\n",
    "print('elements:',list(dic.elements()))"
   ]
  },
  {
   "cell_type": "markdown",
   "metadata": {},
   "source": [
    "---\n",
    "\n",
    "## 내 풀이 1 (BAD)\n",
    "\n",
    "정답 자체는 쉽게 나오지만 효율성 꽝 ㅠㅠ"
   ]
  },
  {
   "cell_type": "code",
   "execution_count": 9,
   "metadata": {},
   "outputs": [],
   "source": [
    "participant = ['leo', 'kiki', 'eden','eden']\n",
    "completion = ['eden', 'kiki','leo']\n",
    "#결과: 에덴"
   ]
  },
  {
   "cell_type": "code",
   "execution_count": 10,
   "metadata": {},
   "outputs": [],
   "source": [
    "def solution(participant, completion):\n",
    "    answer = ''\n",
    "    par = participant\n",
    "    com = completion\n",
    "    \n",
    "    while len(par) > 1:\n",
    "        name = par.pop(0)\n",
    "\n",
    "        if name not in com:\n",
    "            par.append(name)\n",
    "        else:\n",
    "            com.remove(name)\n",
    "\n",
    "    answer = par.pop()\n",
    "    \n",
    "    return answer"
   ]
  },
  {
   "cell_type": "code",
   "execution_count": 11,
   "metadata": {},
   "outputs": [
    {
     "data": {
      "text/plain": [
       "'eden'"
      ]
     },
     "execution_count": 11,
     "metadata": {},
     "output_type": "execute_result"
    }
   ],
   "source": [
    "solution(participant, completion)"
   ]
  },
  {
   "cell_type": "markdown",
   "metadata": {},
   "source": [
    "## 내 풀이 2 (BAD)\n",
    "\n",
    "try except는 써볼 수 있었음..."
   ]
  },
  {
   "cell_type": "code",
   "execution_count": 12,
   "metadata": {},
   "outputs": [],
   "source": [
    "participant = ['leo', 'kiki', 'eden','eden']\n",
    "completion = ['eden', 'kiki','leo']\n",
    "#결과: 에덴"
   ]
  },
  {
   "cell_type": "code",
   "execution_count": 13,
   "metadata": {},
   "outputs": [],
   "source": [
    "def solution(participant, completion):\n",
    "    answer = ''\n",
    "    par = participant\n",
    "    com = completion\n",
    "    \n",
    "    while len(par) > 1:\n",
    "        name = par.pop(0)\n",
    "        \n",
    "        try:\n",
    "            com.remove(name)\n",
    "        except:\n",
    "            par.append(name)\n",
    "            \n",
    "    answer = par.pop()\n",
    "    \n",
    "    return answer"
   ]
  },
  {
   "cell_type": "code",
   "execution_count": 14,
   "metadata": {},
   "outputs": [
    {
     "data": {
      "text/plain": [
       "'eden'"
      ]
     },
     "execution_count": 14,
     "metadata": {},
     "output_type": "execute_result"
    }
   ],
   "source": [
    "solution(participant, completion)"
   ]
  },
  {
   "cell_type": "code",
   "execution_count": null,
   "metadata": {},
   "outputs": [],
   "source": []
  },
  {
   "cell_type": "code",
   "execution_count": null,
   "metadata": {},
   "outputs": [],
   "source": []
  },
  {
   "cell_type": "code",
   "execution_count": null,
   "metadata": {},
   "outputs": [],
   "source": []
  }
 ],
 "metadata": {
  "kernelspec": {
   "display_name": "Python 3",
   "language": "python",
   "name": "python3"
  },
  "language_info": {
   "codemirror_mode": {
    "name": "ipython",
    "version": 3
   },
   "file_extension": ".py",
   "mimetype": "text/x-python",
   "name": "python",
   "nbconvert_exporter": "python",
   "pygments_lexer": "ipython3",
   "version": "3.8.3"
  }
 },
 "nbformat": 4,
 "nbformat_minor": 4
}
