{
 "cells": [
  {
   "cell_type": "markdown",
   "metadata": {},
   "source": [
    "# 프로그래머스 탐욕법 문제\n",
    "https://programmers.co.kr/learn/courses/30/parts/12421\n",
    "\n",
    "# 조이스틱\n",
    "https://programmers.co.kr/learn/courses/30/lessons/42860\n",
    "\n",
    "## 문제 설명\n",
    "조이스틱으로 알파벳 이름을 완성하세요. 맨 처음엔 A로만 이루어져 있습니다.\n",
    "ex) 완성해야 하는 이름이 세 글자면 AAA, 네 글자면 AAAA\n",
    "\n",
    "조이스틱을 각 방향으로 움직이면 아래와 같습니다.\n",
    "\n",
    "- ▲ - 다음 알파벳\n",
    "- ▼ - 이전 알파벳 (A에서 아래쪽으로 이동하면 Z로)\n",
    "- ◀ - 커서를 왼쪽으로 이동 (첫 번째 위치에서 왼쪽으로 이동하면 마지막 문자에 커서)\n",
    "- ▶ - 커서를 오른쪽으로 이동\n",
    "\n",
    "예를 들어 아래의 방법으로 JAZ를 만들 수 있습니다.\n",
    "\n",
    "- 첫 번째 위치에서 조이스틱을 위▲로 9번 조작하여 J를 완성합니다.\n",
    "- 조이스틱을 왼쪽◀으로 1번 조작하여 커서를 마지막 문자 위치로 이동시킵니다.\n",
    "- 마지막 위치에서 조이스틱을 아래▼로 1번 조작하여 Z를 완성합니다.\n",
    "- 따라서 11번 이동시켜 \"JAZ\"를 만들 수 있고, 이때가 최소 이동입니다.\n",
    "\n",
    "만들고자 하는 이름 name이 매개변수로 주어질 때, 이름에 대해 조이스틱 조작 횟수의 최솟값을 return 하도록 solution 함수를 만드세요.\n",
    "\n",
    "\n",
    "### 제한 조건\n",
    "* name은 알파벳 대문자로만 이루어져 있습니다.\n",
    "* name의 길이는 1 이상 20 이하입니다."
   ]
  },
  {
   "cell_type": "code",
   "execution_count": 13,
   "metadata": {},
   "outputs": [],
   "source": [
    "name = 'JEROEN'\n",
    "#결과 56"
   ]
  },
  {
   "cell_type": "markdown",
   "metadata": {},
   "source": [
    "## 풀이\n",
    "https://whwl.tistory.com/93\n",
    "\n",
    "- 상하로 최소거리 구해서 알파벳 바꾸기\n",
    "- 좌우로 최소거리 구해서 방향 정한 후 이동하기\n",
    "\n",
    "\n",
    "- change 배열에는 각 알파벳마다 상하 조정 중 min값으로 최소횟수 담기\n",
    "- idx 0번부터 시작해서 좌우 이동 횟수를 answer에 더해주기\n",
    "- 좌우 방향 전환 시에는 바꿔야하는 알파벳이 나오기까지의 좌우거리를 더하고, 그 중 최소값이 되는 방향으로 전환\n",
    "- 모든 알파벳이 조정, 즉 sum(change)가 0이면 결과를 반환"
   ]
  },
  {
   "cell_type": "code",
   "execution_count": 14,
   "metadata": {},
   "outputs": [],
   "source": [
    "def solution(name):\n",
    "    \n",
    "    #상하 조정으로 알파벳 바꾸기\n",
    "    #change 배열에는 각 알파벳마다 상하 조정 중 min값으로 최소횟수 담기\n",
    "    change = [min(ord(i) - ord('A'), ord('Z') - ord(i) + 1) for i in name]\n",
    "    #왜 Z는 1이냐?:: A->Z는 아래버튼 1번이기 때문\n",
    "    #만약에 Y를 얻고싶다면, A - Z - Y로, 2번을 눌러야한다 (Z-Y는 원래 1임)\n",
    "    \n",
    "    #ord는 문자의 아스키코드 반환: A65 Z90\n",
    "    \n",
    "    idx = 0\n",
    "    answer = 0\n",
    "    \n",
    "    while True:\n",
    "        #각 알파벳마다 상하 조정 중 min값으로 최소횟수 담기\n",
    "        #즉, 문자별로 필요한 상하 버튼 개수\n",
    "        answer += change[idx]\n",
    "        \n",
    "        #상하조정 입력 후, 이 문자는 완성됐으므로 0 대입\n",
    "        change[idx] = 0\n",
    "        \n",
    "        #모든 알파벳이 조정, 즉 sum(change)가 0이면 결과를 반환\n",
    "        if sum(change) == 0:\n",
    "            return answer\n",
    "        \n",
    "        \n",
    "        #좌우 이동방향 정하기\n",
    "        left, right = 1, 1\n",
    "        \n",
    "        #바꿔야하는 알파벳이 나오기까지의 좌우거리를 더하고\n",
    "        #그 중 최소값이 되는 방향으로 전환\n",
    "        while change[idx - left] == 0: #이동했는데 0이면 바꿀 필요없기에 계속 이동\n",
    "            left += 1\n",
    "        while change[idx + right] == 0:\n",
    "            right += 1\n",
    "            \n",
    "            \n",
    "        #위치(인덱스) 조정 - 좌우정보 대입\n",
    "        #좌우중 최솟값으로 이동하는게 정답이다~\n",
    "        answer += left if left < right else right\n",
    "        idx += -left if left < right else right"
   ]
  },
  {
   "cell_type": "code",
   "execution_count": 15,
   "metadata": {},
   "outputs": [
    {
     "data": {
      "text/plain": [
       "56"
      ]
     },
     "execution_count": 15,
     "metadata": {},
     "output_type": "execute_result"
    }
   ],
   "source": [
    "solution(name)"
   ]
  },
  {
   "cell_type": "code",
   "execution_count": null,
   "metadata": {},
   "outputs": [],
   "source": []
  },
  {
   "cell_type": "code",
   "execution_count": null,
   "metadata": {},
   "outputs": [],
   "source": []
  },
  {
   "cell_type": "code",
   "execution_count": null,
   "metadata": {},
   "outputs": [],
   "source": []
  }
 ],
 "metadata": {
  "kernelspec": {
   "display_name": "Python 3",
   "language": "python",
   "name": "python3"
  },
  "language_info": {
   "codemirror_mode": {
    "name": "ipython",
    "version": 3
   },
   "file_extension": ".py",
   "mimetype": "text/x-python",
   "name": "python",
   "nbconvert_exporter": "python",
   "pygments_lexer": "ipython3",
   "version": "3.8.3"
  }
 },
 "nbformat": 4,
 "nbformat_minor": 4
}
