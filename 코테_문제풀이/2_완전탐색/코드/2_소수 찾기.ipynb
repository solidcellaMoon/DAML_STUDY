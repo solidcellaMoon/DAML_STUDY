{
 "cells": [
  {
   "cell_type": "markdown",
   "metadata": {},
   "source": [
    "# 프로그래머스 완전탐색 문제\n",
    "https://programmers.co.kr/learn/courses/30/parts/12230\n",
    "\n",
    "# 소수 찾기 (★)\n",
    "https://programmers.co.kr/learn/courses/30/lessons/42839\n",
    "\n",
    "## 문제 설명\n",
    "한자리 숫자가 적힌 종이 조각이 흩어져있습니다. 흩어진 종이 조각을 붙여 소수를 몇 개 만들 수 있는지 알아내려 합니다.\n",
    "\n",
    "각 종이 조각에 적힌 숫자가 적힌 문자열 numbers가 주어졌을 때, 종이 조각으로 만들 수 있는 소수가 몇 개인지 return 하도록 solution 함수를 완성해주세요.\n",
    "\n",
    "### 제한 조건\n",
    "* numbers는 길이 1 이상 7 이하인 문자열입니다.\n",
    "* numbers는 0~9까지 숫자만으로 이루어져 있습니다.\n",
    "* 013은 0, 1, 3 숫자가 적힌 종이 조각이 흩어져있다는 의미입니다.\n",
    "\n",
    "풀이: https://eda-ai-lab.tistory.com/466"
   ]
  },
  {
   "cell_type": "code",
   "execution_count": 1,
   "metadata": {},
   "outputs": [],
   "source": [
    "numbers = '17'\n",
    "#결과 3"
   ]
  },
  {
   "cell_type": "code",
   "execution_count": 2,
   "metadata": {},
   "outputs": [],
   "source": [
    "from itertools import permutations\n",
    "\n",
    "def solution(numbers):\n",
    "    answer = 0\n",
    "    \n",
    "    #한글자씩 나누기\n",
    "    arr = list(numbers)\n",
    "    \n",
    "    #순열을 저장할 리스트\n",
    "    pers = []\n",
    "\n",
    "    # nP1 ~ nPn까지 순열 계산\n",
    "    for i in range(1,len(arr)+1):\n",
    "        for j in permutations(arr,i):\n",
    "            pers.append(int(''.join(j)))\n",
    "    \n",
    "    #중복 제거\n",
    "    pers = list(set(pers))\n",
    "    \n",
    "    #각 수가 소수인지 아닌지 확인\n",
    "    for i in pers:\n",
    "        if is_prime(i): answer +=1\n",
    "\n",
    "    return answer\n",
    "\n",
    "#소수인지 아닌지 ★\n",
    "def is_prime(num):\n",
    "    #1은 소수가 아니다\n",
    "    if (num == 1): return False\n",
    "    \n",
    "    #짝수는 2이면 소수다\n",
    "    #2를 제외한 모든 짝수는 소수가 아니다\n",
    "    if (num % 2 == 0) :return (n==2)\n",
    "    \n",
    "    #홀수는 2~n-1 사이에서 약수를 갖지 않는다 (1과 자기 자신만 약수이기에)\n",
    "    for i in range(3,num,2):\n",
    "        if(num % i == 0): return False\n",
    "        \n",
    "    return True"
   ]
  },
  {
   "cell_type": "code",
   "execution_count": 3,
   "metadata": {},
   "outputs": [
    {
     "data": {
      "text/plain": [
       "3"
      ]
     },
     "execution_count": 3,
     "metadata": {},
     "output_type": "execute_result"
    }
   ],
   "source": [
    "solution(numbers)"
   ]
  },
  {
   "cell_type": "markdown",
   "metadata": {},
   "source": [
    "## 소수 판별 함수\n",
    "\n",
    "앞에 모든 경우의 수를 다 구해도, 소수 판별 조건이 잘못되면 실패하니 주의\n",
    "\n",
    "소수의 특징: https://opentutorials.org/course/1685/9469\n",
    "\n",
    "* 1은 소수가 아니다.\n",
    "* 2는 소수이다.\n",
    "* 2를 제외한 모든 짝수는 소수가 아니다.\n",
    "* 홀수는 2와 n-1사이에서 약수를 가지지 않는다. (1과 자기 자신만이 약수이기 때문)"
   ]
  },
  {
   "cell_type": "code",
   "execution_count": 4,
   "metadata": {},
   "outputs": [],
   "source": [
    "def is_prime(num):\n",
    "    #1은 소수가 아니다\n",
    "    if (num == 1): return False\n",
    "    \n",
    "    #짝수는 2이면 소수다\n",
    "    #2를 제외한 모든 짝수는 소수가 아니다\n",
    "    if (num % 2 == 0) :return (num==2)\n",
    "    \n",
    "    #홀수는 2~n-1 사이에서 약수를 갖지 않는다 (1과 자기 자신만 약수이기에)\n",
    "    for i in range(3,num,2):\n",
    "        if(num % i == 0): return False\n",
    "    \n",
    "    return True"
   ]
  },
  {
   "cell_type": "markdown",
   "metadata": {},
   "source": [
    "#### 잘못된 조건\n",
    "어설프게 쓰면 틀린거..."
   ]
  },
  {
   "cell_type": "code",
   "execution_count": 5,
   "metadata": {},
   "outputs": [],
   "source": [
    "def is_prime(num):\n",
    "    if num != 1:\n",
    "        if num == 2 or num ==3:\n",
    "            return True\n",
    "        elif num%6 == 1 or num%6 == 5:\n",
    "            return True\n",
    "        else: return False\n",
    "    \n",
    "    else:\n",
    "        return False"
   ]
  },
  {
   "cell_type": "markdown",
   "metadata": {},
   "source": [
    "## 배워둘 것\n",
    "\n",
    "## 1. itertools - 순열/조합 만들기\n",
    "https://juhee-maeng.tistory.com/91\n",
    "\n",
    "### 1. 순열(permutations)\n",
    "\n",
    "* 반복 가능한 객체(=길이가 n인)에 대해서 중복을 허용하지 않고 r개를 뽑아서 나열한다.\n",
    "\n",
    "* 뽑힌 순서대로 나열하기 때문에 순서가 의미가 있다. (즉, 같은 값이 뽑히더라도 순서가 다르면 다른 경우의 수로 취급한다.)\n",
    "\n",
    "#### permutations( 반복 가능한 iterable 객체, r)"
   ]
  },
  {
   "cell_type": "code",
   "execution_count": 1,
   "metadata": {},
   "outputs": [
    {
     "name": "stdout",
     "output_type": "stream",
     "text": [
      "(1, 2) (1, 3) (1, 4) (2, 1) (2, 3) (2, 4) (3, 1) (3, 2) (3, 4) (4, 1) (4, 2) (4, 3) "
     ]
    }
   ],
   "source": [
    "from itertools import permutations\n",
    "\n",
    "for i in permutations(range(1,5),2):\n",
    "    print(i, end=' ')"
   ]
  },
  {
   "cell_type": "code",
   "execution_count": 9,
   "metadata": {
    "scrolled": false
   },
   "outputs": [
    {
     "name": "stdout",
     "output_type": "stream",
     "text": [
      "[1]  [2]  [3]  [4]  [1, 2]  [1, 3]  [1, 4]  [2, 1]  [2, 3]  [2, 4]  [3, 1]  [3, 2]  [3, 4]  [4, 1]  [4, 2]  [4, 3]  [1, 2, 3]  [1, 2, 4]  [1, 3, 2]  [1, 3, 4]  [1, 4, 2]  [1, 4, 3]  [2, 1, 3]  [2, 1, 4]  [2, 3, 1]  [2, 3, 4]  [2, 4, 1]  [2, 4, 3]  [3, 1, 2]  [3, 1, 4]  [3, 2, 1]  [3, 2, 4]  [3, 4, 1]  [3, 4, 2]  [4, 1, 2]  [4, 1, 3]  [4, 2, 1]  [4, 2, 3]  [4, 3, 1]  [4, 3, 2]  [1, 2, 3, 4]  [1, 2, 4, 3]  [1, 3, 2, 4]  [1, 3, 4, 2]  [1, 4, 2, 3]  [1, 4, 3, 2]  [2, 1, 3, 4]  [2, 1, 4, 3]  [2, 3, 1, 4]  [2, 3, 4, 1]  [2, 4, 1, 3]  [2, 4, 3, 1]  [3, 1, 2, 4]  [3, 1, 4, 2]  [3, 2, 1, 4]  [3, 2, 4, 1]  [3, 4, 1, 2]  [3, 4, 2, 1]  [4, 1, 2, 3]  [4, 1, 3, 2]  [4, 2, 1, 3]  [4, 2, 3, 1]  [4, 3, 1, 2]  [4, 3, 2, 1]  "
     ]
    }
   ],
   "source": [
    "arr = range(1,5)\n",
    "\n",
    "for i in range(1,len(arr)+1):\n",
    "    for j in permutations(arr,i):\n",
    "        print(list(j), end='  ')"
   ]
  },
  {
   "cell_type": "markdown",
   "metadata": {},
   "source": [
    "### 2. 조합(combinations)\n",
    "\n",
    "* 반복 가능한 객체(=길이가 n인)에 대해서 중복을 허용하지 않고 r개를 뽑는다.\n",
    "\n",
    "* 어떤 것을 뽑는지만 중요하게 보기 때문에 뽑은 순서는 고려하지 않는다.\n",
    "\n",
    "#### combinations( iterable 객체, r)"
   ]
  },
  {
   "cell_type": "code",
   "execution_count": 11,
   "metadata": {},
   "outputs": [
    {
     "name": "stdout",
     "output_type": "stream",
     "text": [
      "(1, 2) (1, 3) (1, 4) (2, 3) (2, 4) (3, 4) "
     ]
    }
   ],
   "source": [
    "from itertools import combinations\n",
    "\n",
    "for i in combinations(range(1,5),2):\n",
    "    print(i, end=' ')"
   ]
  },
  {
   "cell_type": "code",
   "execution_count": 17,
   "metadata": {},
   "outputs": [
    {
     "name": "stdout",
     "output_type": "stream",
     "text": [
      "[]  [1]  [2]  [3]  [4]  [1, 2]  [1, 3]  [1, 4]  [2, 3]  [2, 4]  [3, 4]  [1, 2, 3]  [1, 2, 4]  [1, 3, 4]  [2, 3, 4]  [1, 2, 3, 4]  \n",
      "부분집합 개수: 16\n"
     ]
    }
   ],
   "source": [
    "arr = range(1,5)\n",
    "count = 0\n",
    "\n",
    "for i in range(0,len(arr)+1):\n",
    "    for j in combinations(arr,i):\n",
    "        count += 1\n",
    "        print(list(j), end='  ')\n",
    "        \n",
    "print('\\n부분집합 개수:',count)"
   ]
  },
  {
   "cell_type": "markdown",
   "metadata": {},
   "source": [
    "### 3. 중복 순열(product)\n",
    "#### product(반복 가능한 객체, repeat=1)"
   ]
  },
  {
   "cell_type": "code",
   "execution_count": 23,
   "metadata": {},
   "outputs": [
    {
     "name": "stdout",
     "output_type": "stream",
     "text": [
      "(1, 'a') (1, 'b') (2, 'a') (2, 'b') (3, 'a') (3, 'b') "
     ]
    }
   ],
   "source": [
    "from itertools import product\n",
    "\n",
    "for i in product(range(1,4),'ab'):\n",
    "    print(i, end=' ')"
   ]
  },
  {
   "cell_type": "code",
   "execution_count": 24,
   "metadata": {},
   "outputs": [
    {
     "name": "stdout",
     "output_type": "stream",
     "text": [
      "(0, 0, 0) (0, 0, 1) (0, 0, 2) (0, 1, 0) (0, 1, 1) (0, 1, 2) (0, 2, 0) (0, 2, 1) (0, 2, 2) (1, 0, 0) (1, 0, 1) (1, 0, 2) (1, 1, 0) (1, 1, 1) (1, 1, 2) (1, 2, 0) (1, 2, 1) (1, 2, 2) (2, 0, 0) (2, 0, 1) (2, 0, 2) (2, 1, 0) (2, 1, 1) (2, 1, 2) (2, 2, 0) (2, 2, 1) (2, 2, 2) "
     ]
    }
   ],
   "source": [
    "for i in product(range(3), range(3), range(3)):\n",
    "    print(i, end=' ')"
   ]
  },
  {
   "cell_type": "code",
   "execution_count": 28,
   "metadata": {
    "scrolled": true
   },
   "outputs": [
    {
     "name": "stdout",
     "output_type": "stream",
     "text": [
      "(1, 1) (1, 2) (1, 3) (1, 4) (2, 1) (2, 2) (2, 3) (2, 4) (3, 1) (3, 2) (3, 3) (3, 4) (4, 1) (4, 2) (4, 3) (4, 4) "
     ]
    }
   ],
   "source": [
    "for i in product(range(1,5), repeat=2):\n",
    "    print(i, end=' ')"
   ]
  },
  {
   "cell_type": "markdown",
   "metadata": {},
   "source": [
    "### 4. 중복 조합(combinations_with_replacement)\n",
    "#### combinations_with_replacement(반복 가능한 객체, repeat=1)"
   ]
  },
  {
   "cell_type": "code",
   "execution_count": 27,
   "metadata": {},
   "outputs": [
    {
     "name": "stdout",
     "output_type": "stream",
     "text": [
      "(1, 1) (1, 2) (1, 3) (1, 4) (2, 2) (2, 3) (2, 4) (3, 3) (3, 4) (4, 4) "
     ]
    }
   ],
   "source": [
    "from itertools import combinations_with_replacement as cwr\n",
    "\n",
    "for i in cwr(range(1,5), 2):\n",
    "    print(i, end=' ')"
   ]
  },
  {
   "cell_type": "markdown",
   "metadata": {},
   "source": [
    "## 2. 중복 제거\n",
    "\n",
    "### set을 이용하여 중복 제거\n",
    "https://velog.io/@daybreak/Python%EC%97%90%EC%84%9C-%EB%A6%AC%EC%8A%A4%ED%8A%B8-%EC%A4%91%EB%B3%B5%EC%A0%9C%EA%B1%B0\n",
    "#### 집합 자료형의 특징\n",
    "* 중복을 허용하지 않는다 (★)\n",
    "* 순서가 없다"
   ]
  },
  {
   "cell_type": "code",
   "execution_count": 31,
   "metadata": {},
   "outputs": [
    {
     "name": "stdout",
     "output_type": "stream",
     "text": [
      "['C', 'B', 'A', 'D', 'E']\n"
     ]
    }
   ],
   "source": [
    "my_list = ['A', 'B', 'C', 'D', 'B', 'D', 'E']\n",
    "my_set = set(my_list) #집합set으로 변환\n",
    "my_list = list(my_set) #list로 변환\n",
    "print(my_list)"
   ]
  },
  {
   "cell_type": "code",
   "execution_count": null,
   "metadata": {},
   "outputs": [],
   "source": []
  },
  {
   "cell_type": "code",
   "execution_count": null,
   "metadata": {},
   "outputs": [],
   "source": []
  }
 ],
 "metadata": {
  "kernelspec": {
   "display_name": "Python 3",
   "language": "python",
   "name": "python3"
  },
  "language_info": {
   "codemirror_mode": {
    "name": "ipython",
    "version": 3
   },
   "file_extension": ".py",
   "mimetype": "text/x-python",
   "name": "python",
   "nbconvert_exporter": "python",
   "pygments_lexer": "ipython3",
   "version": "3.8.3"
  }
 },
 "nbformat": 4,
 "nbformat_minor": 4
}
