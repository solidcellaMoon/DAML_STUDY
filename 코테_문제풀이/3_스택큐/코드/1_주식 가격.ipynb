{
 "cells": [
  {
   "cell_type": "markdown",
   "metadata": {},
   "source": [
    "# 프로그래머스 스택/큐 문제\n",
    "https://programmers.co.kr/learn/courses/30/parts/12081\n",
    "\n",
    "# 주식 가격\n",
    "https://programmers.co.kr/learn/courses/30/lessons/42584\n",
    "\n",
    "## 문제 설명\n",
    "초 단위로 기록된 주식가격이 담긴 배열 prices가 매개변수로 주어질 때, 가격이 떨어지지 않은 기간은 몇 초인지를 return 하도록 solution 함수를 완성하세요.\n",
    "\n",
    "### 제한 조건\n",
    "* prices의 각 가격은 1 이상 10,000 이하인 자연수입니다.\n",
    "* prices의 길이는 2 이상 100,000 이하입니다.\n",
    "\n",
    "풀이: https://kangmin1012.tistory.com/25"
   ]
  },
  {
   "cell_type": "code",
   "execution_count": 1,
   "metadata": {},
   "outputs": [],
   "source": [
    "prices = [1, 2, 3, 2, 3]\n",
    "# 결과 = [4, 3, 1, 1, 0]"
   ]
  },
  {
   "cell_type": "code",
   "execution_count": 71,
   "metadata": {},
   "outputs": [],
   "source": [
    "from collections import deque\n",
    "\n",
    "def solution(prices):\n",
    "    answer = []\n",
    "    \n",
    "    #큐에 가격 정보를 넣음\n",
    "    queue = deque(prices)\n",
    "    \n",
    "    while queue:\n",
    "        \n",
    "        #하나 꺼냄\n",
    "        price = queue.popleft()\n",
    "        #시간세기용\n",
    "        time = 0\n",
    "        \n",
    "        for i in queue:\n",
    "            #큐의 요소를 하나씩 돌때마다 시간 += 1\n",
    "            time += 1\n",
    "            \n",
    "            #만약 꺼냈던 값이 지금 비교하는 값보다 크다면?\n",
    "            # 가격이 떨어졌으므로 비교 멈춤\n",
    "            if price > i:\n",
    "                break\n",
    "                \n",
    "        #정답에 시간정보 추가\n",
    "        answer.append(time)\n",
    "        \n",
    "    return answer"
   ]
  },
  {
   "cell_type": "code",
   "execution_count": 72,
   "metadata": {},
   "outputs": [
    {
     "data": {
      "text/plain": [
       "[4, 3, 1, 1, 0]"
      ]
     },
     "execution_count": 72,
     "metadata": {},
     "output_type": "execute_result"
    }
   ],
   "source": [
    "solution(prices)"
   ]
  },
  {
   "cell_type": "markdown",
   "metadata": {},
   "source": [
    "### 내 풀이 (효율성 실패)"
   ]
  },
  {
   "cell_type": "code",
   "execution_count": 65,
   "metadata": {},
   "outputs": [],
   "source": [
    "def solution(prices):\n",
    "    answer = []\n",
    "    \n",
    "    for idx, price in enumerate(prices):\n",
    "    \n",
    "        stack = []\n",
    "        time = 0\n",
    "\n",
    "        #자신 이후의 주식들을 스택에 넣음\n",
    "        for i in range(idx+1, len(prices)):\n",
    "            stack.append(prices[i])\n",
    "\n",
    "        for j in stack:\n",
    "\n",
    "            #자신보다 크거나 같다면 +=1\n",
    "            if j >= price:\n",
    "                time += 1      \n",
    "\n",
    "            #그렇지 않은 경우가 오기 직전까지 값이 떨어지지 않았으므로\n",
    "            #+1초한 후 루프 종료\n",
    "            else: \n",
    "                time += 1\n",
    "                break\n",
    "                \n",
    "        answer.append(time)\n",
    "    \n",
    "    return answer"
   ]
  },
  {
   "cell_type": "code",
   "execution_count": 64,
   "metadata": {},
   "outputs": [
    {
     "data": {
      "text/plain": [
       "[4, 3, 1, 1, 0]"
      ]
     },
     "execution_count": 64,
     "metadata": {},
     "output_type": "execute_result"
    }
   ],
   "source": [
    "solution(prices)"
   ]
  },
  {
   "cell_type": "code",
   "execution_count": null,
   "metadata": {},
   "outputs": [],
   "source": []
  },
  {
   "cell_type": "code",
   "execution_count": null,
   "metadata": {},
   "outputs": [],
   "source": []
  },
  {
   "cell_type": "code",
   "execution_count": null,
   "metadata": {},
   "outputs": [],
   "source": []
  }
 ],
 "metadata": {
  "kernelspec": {
   "display_name": "Python 3",
   "language": "python",
   "name": "python3"
  },
  "language_info": {
   "codemirror_mode": {
    "name": "ipython",
    "version": 3
   },
   "file_extension": ".py",
   "mimetype": "text/x-python",
   "name": "python",
   "nbconvert_exporter": "python",
   "pygments_lexer": "ipython3",
   "version": "3.8.3"
  }
 },
 "nbformat": 4,
 "nbformat_minor": 4
}
