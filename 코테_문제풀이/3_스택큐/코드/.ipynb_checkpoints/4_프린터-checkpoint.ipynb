{
 "cells": [
  {
   "cell_type": "markdown",
   "metadata": {},
   "source": [
    "# 프로그래머스 스택/큐 문제\n",
    "https://programmers.co.kr/learn/courses/30/parts/12081\n",
    "\n",
    "# 프린터 (★)\n",
    "https://programmers.co.kr/learn/courses/30/lessons/42587\n",
    "\n",
    "## 문제 설명\n",
    "일반적인 프린터는 인쇄 요청이 들어온 순서대로 인쇄합니다. 그렇기 때문에 중요한 문서가 나중에 인쇄될 수 있습니다. 이런 문제를 보완하기 위해 중요도가 높은 문서를 먼저 인쇄하는 프린터를 개발했습니다. 이 새롭게 개발한 프린터는 아래와 같은 방식으로 인쇄 작업을 수행합니다.\n",
    "\n",
    "1. 인쇄 대기목록의 가장 앞에 있는 문서(J)를 대기목록에서 꺼냅니다.\n",
    "2. 나머지 인쇄 대기목록에서 J보다 중요도가 높은 문서가 한 개라도 존재하면 J를 대기목록의 가장 마지막에 넣습니다.\n",
    "3. 그렇지 않으면 J를 인쇄합니다.\n",
    "\n",
    "예를 들어, 4개의 문서(A, B, C, D)가 순서대로 인쇄 대기목록에 있고 중요도가 2 1 3 2 라면 C D A B 순으로 인쇄하게 됩니다.\n",
    "\n",
    "내가 인쇄를 요청한 문서가 몇 번째로 인쇄되는지 알고 싶습니다. 위의 예에서 C는 1번째로, A는 3번째로 인쇄됩니다.\n",
    "\n",
    "현재 대기목록에 있는 문서의 중요도가 순서대로 담긴 배열 priorities와 내가 인쇄를 요청한 문서가 현재 대기목록의 어떤 위치에 있는지를 알려주는 location이 매개변수로 주어질 때, 내가 인쇄를 요청한 문서가 몇 번째로 인쇄되는지 return 하도록 solution 함수를 작성해주세요.\n",
    "\n",
    "\n",
    "### 제한 조건\n",
    "* 현재 대기목록에는 1개 이상 100개 이하의 문서가 있습니다.\n",
    "* 인쇄 작업의 중요도는 1~9로 표현하며 숫자가 클수록 중요하다는 뜻입니다.\n",
    "* location은 0 이상 (현재 대기목록에 있는 작업 수 - 1) 이하의 값을 가지며 대기목록의 가장 앞에 있으면 0, 두 번째에 있으면 1로 표현합니다."
   ]
  },
  {
   "cell_type": "code",
   "execution_count": 170,
   "metadata": {},
   "outputs": [],
   "source": [
    "priorities = [2,1,3,2]\n",
    "location = 2\n",
    "#결과 = 1"
   ]
  },
  {
   "cell_type": "markdown",
   "metadata": {},
   "source": [
    "## 내 풀이\n",
    "\n",
    "처음에 3번 조건을 간과했더니 예시가 아니면 다 틀렸음.\n",
    "\n",
    "반례를 좀 생각해보자!\n",
    "\n",
    "문제를 풀리는 과정을 한번 쭉 나열해보면 좋은 것 같다. (이하 메모장처럼)"
   ]
  },
  {
   "cell_type": "code",
   "execution_count": 168,
   "metadata": {},
   "outputs": [],
   "source": [
    "def solution(priorities, location):\n",
    "    answer = 0\n",
    "    \n",
    "    #초기 인덱스와 우선순위를 enumerate로 표현\n",
    "    prio = list(enumerate(priorities))\n",
    "    #최종결과 저장할 큐 (즉 인쇄한 문서를 저장함)\n",
    "    queue = []\n",
    "\n",
    "    #모든 문서를 인쇄할 때까지\n",
    "    while prio:\n",
    "        \n",
    "        #1. 인쇄 대기목록의 가장 앞에 있는 문서(J)를 대기목록에서 꺼냅니다.\n",
    "        j = prio.pop(0)\n",
    "\n",
    "        #2. 나머지 인쇄 대기목록에서 J보다 중요도가 높은 문서가 한 개라도 존재하면\n",
    "        if prio and j[1] < max(prio, key = lambda x: x[1])[1]:\n",
    "            prio.append(j) #J를 대기목록의 가장 마지막에 넣습니다.\n",
    "        \n",
    "        #3. 그렇지 않으면 J를 인쇄합니다 (★)\n",
    "        else:\n",
    "            queue.append(j)\n",
    "    \n",
    "    #while문이 끝나면 큐에 최종 출력 순서가 저장됨\n",
    "    \n",
    "    #for문으로 큐에서 위치 찾기\n",
    "    for idx, value in queue:\n",
    "        answer += 1\n",
    "        if idx != location: #현재 위치가 정답이 아니면 계속\n",
    "            continue\n",
    "        else: #정답일 경우 break\n",
    "            break\n",
    "    \n",
    "    return answer"
   ]
  },
  {
   "cell_type": "code",
   "execution_count": 173,
   "metadata": {},
   "outputs": [
    {
     "data": {
      "text/plain": [
       "1"
      ]
     },
     "execution_count": 173,
     "metadata": {},
     "output_type": "execute_result"
    }
   ],
   "source": [
    "solution(priorities, location)"
   ]
  },
  {
   "cell_type": "markdown",
   "metadata": {},
   "source": [
    "### 메모장\n",
    "\n",
    "#### 시작\n",
    "\n",
    "#### priorities / 출력순서\n",
    "\n",
    "[2,1,3,1]\n",
    "\n",
    "[1,3,1,2]\n",
    "\n",
    "[3,1,2,1]\n",
    "\n",
    "[1,2,1] [3]\n",
    "\n",
    "[2,1,1]\n",
    "\n",
    "[1,1] [3,2]\n",
    "\n",
    "[1] [3,2,1]\n",
    "\n",
    "[] [3,2,1,1]\n",
    "\n",
    "#### 끝"
   ]
  },
  {
   "cell_type": "markdown",
   "metadata": {},
   "source": [
    "## 주석 없는 코드"
   ]
  },
  {
   "cell_type": "code",
   "execution_count": 172,
   "metadata": {},
   "outputs": [],
   "source": [
    "def solution(priorities, location):\n",
    "    answer = 0\n",
    "    \n",
    "    prio = list(enumerate(priorities))\n",
    "    queue = []\n",
    "\n",
    "    while prio:\n",
    "        j = prio.pop(0)\n",
    "        \n",
    "        if prio and j[1] < max(prio, key = lambda x: x[1])[1]:\n",
    "            prio.append(j)\n",
    "        else:\n",
    "            queue.append(j)\n",
    "    \n",
    "    for idx, value in queue:\n",
    "        answer += 1\n",
    "        if idx != location:\n",
    "            continue\n",
    "        else:\n",
    "            break\n",
    "    \n",
    "    return answer"
   ]
  },
  {
   "cell_type": "markdown",
   "metadata": {},
   "source": [
    "## 배워둘 것\n",
    "\n",
    "### index()\n",
    "\n",
    "index() 안에 원하는 값을 쓰면 해당 값이 있는 위치를 알려줌.\n"
   ]
  },
  {
   "cell_type": "code",
   "execution_count": 176,
   "metadata": {},
   "outputs": [
    {
     "name": "stdout",
     "output_type": "stream",
     "text": [
      "3\n"
     ]
    }
   ],
   "source": [
    "arr = [1,2,3,4,5]\n",
    "print(arr.index(4))"
   ]
  },
  {
   "cell_type": "code",
   "execution_count": null,
   "metadata": {},
   "outputs": [],
   "source": []
  },
  {
   "cell_type": "code",
   "execution_count": null,
   "metadata": {},
   "outputs": [],
   "source": []
  },
  {
   "cell_type": "code",
   "execution_count": null,
   "metadata": {},
   "outputs": [],
   "source": []
  }
 ],
 "metadata": {
  "kernelspec": {
   "display_name": "Python 3",
   "language": "python",
   "name": "python3"
  },
  "language_info": {
   "codemirror_mode": {
    "name": "ipython",
    "version": 3
   },
   "file_extension": ".py",
   "mimetype": "text/x-python",
   "name": "python",
   "nbconvert_exporter": "python",
   "pygments_lexer": "ipython3",
   "version": "3.8.3"
  }
 },
 "nbformat": 4,
 "nbformat_minor": 4
}
