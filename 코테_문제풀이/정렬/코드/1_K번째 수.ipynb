{
 "cells": [
  {
   "cell_type": "markdown",
   "metadata": {},
   "source": [
    "# 프로그래머스 정렬 문제\n",
    "https://programmers.co.kr/learn/courses/30/parts/12198"
   ]
  },
  {
   "cell_type": "markdown",
   "metadata": {},
   "source": [
    "# K번째 수\n",
    "\n",
    "## 문제 설명\n",
    "https://programmers.co.kr/learn/courses/30/lessons/42748\n",
    "\n",
    "배열 array의 i번째 숫자부터 j번째 숫자까지 자르고 정렬했을 때, k번째에 있는 수를 구하려 합니다.\n",
    "\n",
    "\n",
    "예를 들어 array가 [1, 5, 2, 6, 3, 7, 4], i = 2, j = 5, k = 3이라면\n",
    "\n",
    "\n",
    "array의 2번째부터 5번째까지 자르면 [5, 2, 6, 3]입니다.\n",
    "\n",
    "\n",
    "1에서 나온 배열을 정렬하면 [2, 3, 5, 6]입니다.\n",
    "\n",
    "\n",
    "2에서 나온 배열의 3번째 숫자는 5입니다.\n",
    "\n",
    "\n",
    "배열 array, [i, j, k]를 원소로 가진 2차원 배열 commands가 매개변수로 주어질 때, commands의 모든 원소에 대해 앞서 설명한 연산을 적용했을 때 나온 결과를 배열에 담아 return 하도록 solution 함수를 작성해주세요.\n",
    "\n",
    "### 제한사항\n",
    "* array의 길이는 1 이상 100 이하입니다.\n",
    "* array의 각 원소는 1 이상 100 이하입니다.\n",
    "* commands의 길이는 1 이상 50 이하입니다.\n",
    "* commands의 각 원소는 길이가 3입니다."
   ]
  },
  {
   "cell_type": "code",
   "execution_count": 1,
   "metadata": {},
   "outputs": [],
   "source": [
    "#입출력 예\n",
    "array = [1, 5, 2, 6, 3, 7, 4]\n",
    "commands = [[2, 5, 3], [4, 4, 1], [1, 7, 3]]\n",
    "# returm = [5, 6, 3]"
   ]
  },
  {
   "cell_type": "code",
   "execution_count": 13,
   "metadata": {},
   "outputs": [],
   "source": [
    "def solution(array, commands):\n",
    "    answer = []\n",
    "    #commands에 있는 command(i,j,k)를 추출\n",
    "    for com in commands:\n",
    "        i, j, k = com[0], com[1], com[2]\n",
    "        slice = array[i-1:j] #i~j까지 array 자르기\n",
    "        slice.sort() #정렬 - 기본은 오름차순\n",
    "        answer.append(slice[k-1]) #정답 추출\n",
    "\n",
    "    return answer"
   ]
  },
  {
   "cell_type": "code",
   "execution_count": 3,
   "metadata": {},
   "outputs": [
    {
     "data": {
      "text/plain": [
       "[5, 6, 3]"
      ]
     },
     "execution_count": 3,
     "metadata": {},
     "output_type": "execute_result"
    }
   ],
   "source": [
    "solution(array, commands)"
   ]
  },
  {
   "cell_type": "markdown",
   "metadata": {},
   "source": [
    "## 배워둘 것"
   ]
  },
  {
   "cell_type": "markdown",
   "metadata": {},
   "source": [
    "## 1. sort()"
   ]
  },
  {
   "cell_type": "code",
   "execution_count": 17,
   "metadata": {},
   "outputs": [
    {
     "name": "stdout",
     "output_type": "stream",
     "text": [
      "[1, 2, 3]\n"
     ]
    }
   ],
   "source": [
    "# 기본 - 오름차순으로 정렬\n",
    "arr = [1,3,2]\n",
    "arr.sort()\n",
    "print(arr)"
   ]
  },
  {
   "cell_type": "code",
   "execution_count": 18,
   "metadata": {},
   "outputs": [
    {
     "name": "stdout",
     "output_type": "stream",
     "text": [
      "[3, 2, 1]\n"
     ]
    }
   ],
   "source": [
    "# 내림차순으로 정렬하기\n",
    "arr = [1,3,2]\n",
    "arr.sort(reverse = True)\n",
    "print(arr)"
   ]
  },
  {
   "cell_type": "markdown",
   "metadata": {},
   "source": [
    "### 다중 조건으로 정렬하기 - sorted, key\n",
    "https://dailyheumsi.tistory.com/67"
   ]
  },
  {
   "cell_type": "code",
   "execution_count": 32,
   "metadata": {},
   "outputs": [
    {
     "data": {
      "text/plain": [
       "[1, 2, 3, 4, 5, 6, 7]"
      ]
     },
     "execution_count": 32,
     "metadata": {},
     "output_type": "execute_result"
    }
   ],
   "source": [
    "a = [4,1,2,5,7,3,6]\n",
    "b = sorted(a)\n",
    "b"
   ]
  },
  {
   "cell_type": "markdown",
   "metadata": {},
   "source": [
    "#### 인자없이 그냥 sorted()만 쓰면, 리스트 아이템의 각 요소 순서대로 정렬을 한다."
   ]
  },
  {
   "cell_type": "code",
   "execution_count": 33,
   "metadata": {},
   "outputs": [
    {
     "data": {
      "text/plain": [
       "[(0, 1), (1, 2), (3, 0), (5, 1), (5, 2)]"
      ]
     },
     "execution_count": 33,
     "metadata": {},
     "output_type": "execute_result"
    }
   ],
   "source": [
    "a = [(1, 2), (0, 1), (5, 1), (5, 2), (3, 0)]\n",
    "\n",
    "# 인자없이 그냥 sorted()만 쓰면, 리스트 아이템의 각 요소 순서대로 정렬을 한다.\n",
    "b = sorted(a)\n",
    "print(b)"
   ]
  },
  {
   "cell_type": "markdown",
   "metadata": {},
   "source": [
    "#### key 인자에 함수를 넘겨주면 해당 함수의 반환값을 비교하여 순서대로 정렬한다."
   ]
  },
  {
   "cell_type": "code",
   "execution_count": 38,
   "metadata": {},
   "outputs": [
    {
     "name": "stdout",
     "output_type": "stream",
     "text": [
      "[(0, 1), (1, 2), (3, 0), (5, 1), (5, 2)]\n"
     ]
    }
   ],
   "source": [
    "# key 인자에 함수를 넘겨주면 해당 함수의 반환값을 비교하여 순서대로 정렬한다.\n",
    "# a 배열을 람다식에 대입한다!\n",
    "c = sorted(a, key = lambda x: x[0])\n",
    "print(c)"
   ]
  },
  {
   "cell_type": "markdown",
   "metadata": {},
   "source": [
    "#### sorted와 sort의 차이 => inplace 여부"
   ]
  },
  {
   "cell_type": "code",
   "execution_count": 79,
   "metadata": {},
   "outputs": [
    {
     "name": "stdout",
     "output_type": "stream",
     "text": [
      "[(0, 1), (0, 3), (1, 3), (1, 4), (2, 4), (1, 5)]\n"
     ]
    }
   ],
   "source": [
    "#sorted와 sort의 차이 => inplace 여부\n",
    "a.sort(key = lambda x: x[1])\n",
    "print(a)"
   ]
  },
  {
   "cell_type": "markdown",
   "metadata": {},
   "source": [
    "#### 람다식으로 내림차순 정렬하기"
   ]
  },
  {
   "cell_type": "code",
   "execution_count": 41,
   "metadata": {},
   "outputs": [
    {
     "name": "stdout",
     "output_type": "stream",
     "text": [
      "[(5, 2), (5, 1), (3, 0), (1, 2), (0, 1)]\n"
     ]
    }
   ],
   "source": [
    "#내림차순 정렬\n",
    "a.sort(key = lambda x: -x[0])\n",
    "print(a)"
   ]
  },
  {
   "cell_type": "markdown",
   "metadata": {},
   "source": [
    "#### 응용: 첫 번째 인자는 오름차순, 두 번째 인자는 내림차순"
   ]
  },
  {
   "cell_type": "code",
   "execution_count": 43,
   "metadata": {},
   "outputs": [
    {
     "name": "stdout",
     "output_type": "stream",
     "text": [
      "[(0, 3), (0, 1), (1, 5), (1, 4), (1, 3), (2, 4)]\n"
     ]
    }
   ],
   "source": [
    "#첫 번째 인자는 오름차순, 두 번째 인자는 내림차순\n",
    "a = [(1, 3), (0, 3), (1, 4), (1, 5), (0, 1), (2, 4)]\n",
    "a.sort(key = lambda x: (x[0],-x[1]))\n",
    "print(a)"
   ]
  },
  {
   "cell_type": "markdown",
   "metadata": {},
   "source": [
    "## 2. 슬라이싱"
   ]
  },
  {
   "cell_type": "code",
   "execution_count": 22,
   "metadata": {},
   "outputs": [
    {
     "name": "stdout",
     "output_type": "stream",
     "text": [
      "처음부터 n개까지 자르기\n",
      "[5, 4, 3]\n",
      "\n",
      "n번째부터 끝까지 자르기\n",
      "[2, 1]\n",
      "\n",
      "i번째부터 j번째까지 자르기\n",
      "[4, 3, 2, 1]\n"
     ]
    }
   ],
   "source": [
    "arr = [5,4,3,2,1]\n",
    "\n",
    "print('처음부터 n개까지 자르기')\n",
    "sliced = arr[:3]\n",
    "print(sliced)\n",
    "\n",
    "print()\n",
    "\n",
    "print('n번째부터 끝까지 자르기')\n",
    "sliced = arr[3:]\n",
    "print(sliced)\n",
    "\n",
    "print()\n",
    "\n",
    "print('i번째부터 j번째까지 자르기')\n",
    "i, j = 2, 5\n",
    "sliced = arr[i-1:j]\n",
    "print(sliced)"
   ]
  },
  {
   "cell_type": "code",
   "execution_count": null,
   "metadata": {},
   "outputs": [],
   "source": []
  }
 ],
 "metadata": {
  "kernelspec": {
   "display_name": "Python 3",
   "language": "python",
   "name": "python3"
  },
  "language_info": {
   "codemirror_mode": {
    "name": "ipython",
    "version": 3
   },
   "file_extension": ".py",
   "mimetype": "text/x-python",
   "name": "python",
   "nbconvert_exporter": "python",
   "pygments_lexer": "ipython3",
   "version": "3.8.3"
  }
 },
 "nbformat": 4,
 "nbformat_minor": 4
}
