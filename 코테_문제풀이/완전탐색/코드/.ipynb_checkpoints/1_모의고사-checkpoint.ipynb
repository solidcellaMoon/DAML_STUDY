{
 "cells": [
  {
   "cell_type": "markdown",
   "metadata": {},
   "source": [
    "# 프로그래머스 완전탐색 문제\n",
    "https://programmers.co.kr/learn/courses/30/parts/12230\n",
    "\n",
    "# 모의고사\n",
    "https://programmers.co.kr/learn/courses/30/lessons/42840\n",
    "\n",
    "## 문제 설명\n",
    "수포자는 수학을 포기한 사람의 준말입니다. 수포자 삼인방은 모의고사에 수학 문제를 전부 찍으려 합니다. 수포자는 1번 문제부터 마지막 문제까지 다음과 같이 찍습니다.\n",
    "\n",
    "\n",
    "1번 수포자가 찍는 방식: 1, 2, 3, 4, 5, 1, 2, 3, 4, 5, ...\n",
    "\n",
    "\n",
    "2번 수포자가 찍는 방식: 2, 1, 2, 3, 2, 4, 2, 5, 2, 1, 2, 3, 2, 4, 2, 5, ...\n",
    "\n",
    "\n",
    "3번 수포자가 찍는 방식: 3, 3, 1, 1, 2, 2, 4, 4, 5, 5, 3, 3, 1, 1, 2, 2, 4, 4, 5, 5, ...\n",
    "\n",
    "\n",
    "1번 문제부터 마지막 문제까지의 정답이 순서대로 들은 배열 answers가 주어졌을 때, 가장 많은 문제를 맞힌 사람이 누구인지 배열에 담아 return 하도록 solution 함수를 작성해주세요.\n",
    "\n",
    "\n",
    "### 제한 조건\n",
    "* 시험은 최대 10,000 문제로 구성되어있습니다.\n",
    "* 문제의 정답은 1, 2, 3, 4, 5중 하나입니다.\n",
    "* 가장 높은 점수를 받은 사람이 여럿일 경우, return하는 값을 오름차순 정렬해주세요."
   ]
  },
  {
   "cell_type": "code",
   "execution_count": 1,
   "metadata": {},
   "outputs": [],
   "source": [
    "answers = [1,3,2,4,2]\n",
    "#결과 [1,2,3]"
   ]
  },
  {
   "cell_type": "code",
   "execution_count": 2,
   "metadata": {},
   "outputs": [],
   "source": [
    "def solution(answers):\n",
    "    answer = []\n",
    "    \n",
    "    # 각 사람의 입력 패턴\n",
    "    list1 = [1,2,3,4,5]\n",
    "    list2 = [2, 1, 2, 3, 2, 4, 2, 5]\n",
    "    list3 = [3, 3, 1, 1, 2, 2, 4, 4, 5, 5]\n",
    "    pattern = [list1,list2,list3]\n",
    "    \n",
    "    # 각 사람의 점수를 담는 리스트\n",
    "    score = [0,0,0]\n",
    "    \n",
    "    # 패턴의 각 리스트마다 인덱스 포함하여\n",
    "    for i, arr in enumerate(pattern):\n",
    "        #정답 리스트에서 인덱스를 포함하여\n",
    "        for j, ans in enumerate(answers):\n",
    "            #정답인 경우 score의 해당 인덱스 값 +=1\n",
    "            if ans == arr[j%len(arr)]: score[i] += 1 \n",
    "                \n",
    "    #1, 2, 3의 점수 입력 완료\n",
    "    #print(score)\n",
    "    \n",
    "    #각 점수의 인덱스를 포함하여\n",
    "    for i, value in enumerate(score, start = 1):\n",
    "        #최대 점수일 경우 정답 리스트에 넣기\n",
    "        if max(score) == value: answer.append(i)\n",
    "    \n",
    "    return answer"
   ]
  },
  {
   "cell_type": "code",
   "execution_count": 3,
   "metadata": {},
   "outputs": [
    {
     "data": {
      "text/plain": [
       "[1, 2, 3]"
      ]
     },
     "execution_count": 3,
     "metadata": {},
     "output_type": "execute_result"
    }
   ],
   "source": [
    "solution(answers)"
   ]
  },
  {
   "cell_type": "markdown",
   "metadata": {},
   "source": [
    "### 예전 정답"
   ]
  },
  {
   "cell_type": "code",
   "execution_count": 4,
   "metadata": {},
   "outputs": [],
   "source": [
    "def solution2(answers):\n",
    "\n",
    "    score = [0,0,0]\n",
    "    pattern1 = range(1,6)\n",
    "    pattern2 = [2,1,2,3,2,4,2,5]\n",
    "    pattern3 = [3,3,1,1,2,2,4,4,5,5]\n",
    "    answer=[]\n",
    "\n",
    "    for i in range(len(answers)):\n",
    "\n",
    "        ans = answers[i]\n",
    "        if pattern1[i % len(pattern1)] == ans:\n",
    "            score[0] += 1\n",
    "        if pattern2[i % len(pattern2)] == ans:\n",
    "            score[1] += 1\n",
    "        if pattern3[i % len(pattern3)] == ans:\n",
    "            score[2] += 1\n",
    "\n",
    "    maxs = max(score)\n",
    "    for i in range(3):\n",
    "        if score[i] == maxs:\n",
    "            answer.append(i+1)\n",
    "\n",
    "    return answer"
   ]
  },
  {
   "cell_type": "code",
   "execution_count": null,
   "metadata": {},
   "outputs": [],
   "source": []
  },
  {
   "cell_type": "code",
   "execution_count": null,
   "metadata": {},
   "outputs": [],
   "source": []
  }
 ],
 "metadata": {
  "kernelspec": {
   "display_name": "Python 3",
   "language": "python",
   "name": "python3"
  },
  "language_info": {
   "codemirror_mode": {
    "name": "ipython",
    "version": 3
   },
   "file_extension": ".py",
   "mimetype": "text/x-python",
   "name": "python",
   "nbconvert_exporter": "python",
   "pygments_lexer": "ipython3",
   "version": "3.8.3"
  }
 },
 "nbformat": 4,
 "nbformat_minor": 4
}
