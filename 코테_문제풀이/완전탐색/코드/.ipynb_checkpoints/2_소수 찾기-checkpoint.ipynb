{
 "cells": [
  {
   "cell_type": "markdown",
   "metadata": {},
   "source": [
    "# 프로그래머스 완전탐색 문제\n",
    "https://programmers.co.kr/learn/courses/30/parts/12230\n",
    "\n",
    "# 소수 찾기 (★)\n",
    "https://programmers.co.kr/learn/courses/30/lessons/42839\n",
    "\n",
    "## 문제 설명\n",
    "한자리 숫자가 적힌 종이 조각이 흩어져있습니다. 흩어진 종이 조각을 붙여 소수를 몇 개 만들 수 있는지 알아내려 합니다.\n",
    "\n",
    "각 종이 조각에 적힌 숫자가 적힌 문자열 numbers가 주어졌을 때, 종이 조각으로 만들 수 있는 소수가 몇 개인지 return 하도록 solution 함수를 완성해주세요.\n",
    "\n",
    "### 제한 조건\n",
    "* numbers는 길이 1 이상 7 이하인 문자열입니다.\n",
    "* numbers는 0~9까지 숫자만으로 이루어져 있습니다.\n",
    "* 013은 0, 1, 3 숫자가 적힌 종이 조각이 흩어져있다는 의미입니다.\n",
    "\n",
    "풀이: https://eda-ai-lab.tistory.com/466"
   ]
  },
  {
   "cell_type": "code",
   "execution_count": 1,
   "metadata": {},
   "outputs": [],
   "source": [
    "numbers = '17'\n",
    "#결과 3"
   ]
  },
  {
   "cell_type": "code",
   "execution_count": 2,
   "metadata": {},
   "outputs": [],
   "source": [
    "from itertools import permutations\n",
    "\n",
    "def solution(numbers):\n",
    "    answer = 0\n",
    "    \n",
    "    #한글자씩 나누기\n",
    "    arr = list(numbers)\n",
    "    \n",
    "    #순열을 저장할 리스트\n",
    "    pers = []\n",
    "\n",
    "    # nP1 ~ nPn까지 순열 계산\n",
    "    for i in range(1,len(arr)+1):\n",
    "        for j in permutations(arr,i):\n",
    "            pers.append(int(''.join(j)))\n",
    "    \n",
    "    #중복 제거\n",
    "    pers = list(set(pers))\n",
    "    \n",
    "    #각 수가 소수인지 아닌지 확인\n",
    "    for i in pers:\n",
    "        if is_prime(i): answer +=1\n",
    "\n",
    "    return answer\n",
    "\n",
    "#소수인지 아닌지 ★\n",
    "def is_prime(num):\n",
    "    #1은 소수가 아니다\n",
    "    if (num == 1): return False\n",
    "    \n",
    "    #짝수는 2이면 소수다\n",
    "    #2를 제외한 모든 짝수는 소수가 아니다\n",
    "    if (num % 2 == 0) :return (n==2)\n",
    "    \n",
    "    #홀수는 2~n-1 사이에서 약수를 갖지 않는다 (1과 자기 자신만 약수이기에)\n",
    "    for i in range(3,num,2):\n",
    "        if(num % i == 0): return False\n",
    "        \n",
    "    return True"
   ]
  },
  {
   "cell_type": "code",
   "execution_count": 3,
   "metadata": {},
   "outputs": [
    {
     "data": {
      "text/plain": [
       "3"
      ]
     },
     "execution_count": 3,
     "metadata": {},
     "output_type": "execute_result"
    }
   ],
   "source": [
    "solution(numbers)"
   ]
  },
  {
   "cell_type": "markdown",
   "metadata": {},
   "source": [
    "## 소수 판별 함수\n",
    "\n",
    "앞에 모든 경우의 수를 다 구해도, 소수 판별 조건이 잘못되면 실패하니 주의\n",
    "\n",
    "소수의 특징: https://opentutorials.org/course/1685/9469\n",
    "\n",
    "* 1은 소수가 아니다.\n",
    "* 2는 소수이다.\n",
    "* 2를 제외한 모든 짝수는 소수가 아니다.\n",
    "* 홀수는 2와 n-1사이에서 약수를 가지지 않는다. (1과 자기 자신만이 약수이기 때문)"
   ]
  },
  {
   "cell_type": "code",
   "execution_count": 4,
   "metadata": {},
   "outputs": [],
   "source": [
    "def is_prime(num):\n",
    "    #1은 소수가 아니다\n",
    "    if (num == 1): return False\n",
    "    \n",
    "    #짝수는 2이면 소수다\n",
    "    #2를 제외한 모든 짝수는 소수가 아니다\n",
    "    if (num % 2 == 0) :return (num==2)\n",
    "    \n",
    "    #홀수는 2~n-1 사이에서 약수를 갖지 않는다 (1과 자기 자신만 약수이기에)\n",
    "    for i in range(3,num,2):\n",
    "        if(num % i == 0): return False\n",
    "    \n",
    "    return True"
   ]
  },
  {
   "cell_type": "markdown",
   "metadata": {},
   "source": [
    "#### 잘못된 조건\n",
    "어설프게 쓰면 틀린거..."
   ]
  },
  {
   "cell_type": "code",
   "execution_count": 5,
   "metadata": {},
   "outputs": [],
   "source": [
    "def is_prime(num):\n",
    "    if num != 1:\n",
    "        if num == 2 or num ==3:\n",
    "            return True\n",
    "        elif num%6 == 1 or num%6 == 5:\n",
    "            return True\n",
    "        else: return False\n",
    "    \n",
    "    else:\n",
    "        return False"
   ]
  },
  {
   "cell_type": "code",
   "execution_count": null,
   "metadata": {},
   "outputs": [],
   "source": []
  },
  {
   "cell_type": "code",
   "execution_count": null,
   "metadata": {},
   "outputs": [],
   "source": []
  },
  {
   "cell_type": "code",
   "execution_count": null,
   "metadata": {},
   "outputs": [],
   "source": []
  },
  {
   "cell_type": "code",
   "execution_count": null,
   "metadata": {},
   "outputs": [],
   "source": []
  }
 ],
 "metadata": {
  "kernelspec": {
   "display_name": "Python 3",
   "language": "python",
   "name": "python3"
  },
  "language_info": {
   "codemirror_mode": {
    "name": "ipython",
    "version": 3
   },
   "file_extension": ".py",
   "mimetype": "text/x-python",
   "name": "python",
   "nbconvert_exporter": "python",
   "pygments_lexer": "ipython3",
   "version": "3.8.3"
  }
 },
 "nbformat": 4,
 "nbformat_minor": 4
}
