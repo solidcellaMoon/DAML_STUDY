{
 "cells": [
  {
   "cell_type": "markdown",
   "metadata": {},
   "source": [
    "# 프로그래머스 이분탐색 문제\n",
    "https://programmers.co.kr/learn/courses/30/parts/12486\n",
    "\n",
    "# 징검다리\n",
    "https://programmers.co.kr/learn/courses/30/lessons/43236\n",
    "\n",
    "## 문제 설명\n",
    "출발지점부터 distance만큼 떨어진 곳에 도착지점이 있습니다. 그리고 그사이에는 바위들이 놓여있습니다. 바위 중 몇 개를 제거하려고 합니다.\n",
    "예를 들어, 도착지점이 25만큼 떨어져 있고, 바위가 [2, 14, 11, 21, 17] 지점에 놓여있을 때 바위 2개를 제거하면 출발지점, 도착지점, 바위 간의 거리가 아래와 같습니다.\n",
    " \n",
    " ...\n",
    " \n",
    "위에서 구한 거리의 최솟값 중에 가장 큰 값은 4입니다.\n",
    "\n",
    "출발지점부터 도착지점까지의 거리 distance, 바위들이 있는 위치를 담은 배열 rocks, 제거할 바위의 수 n이 매개변수로 주어질 때, 바위를 n개 제거한 뒤 각 지점 사이의 거리의 최솟값 중에 가장 큰 값을 return 하도록 solution 함수를 작성해주세요.\n",
    "\n",
    "\n",
    "### 제한 조건\n",
    "* 도착지점까지의 거리 distance는 1 이상 1,000,000,000 이하입니다.\n",
    "* 바위는 1개 이상 50,000개 이하가 있습니다.\n",
    "* n 은 1 이상 바위의 개수 이하입니다."
   ]
  },
  {
   "cell_type": "code",
   "execution_count": 1,
   "metadata": {},
   "outputs": [],
   "source": [
    "distance = 25\n",
    "rocks = [2, 14, 11, 21, 17]\n",
    "n = 2\n",
    "#결과 4"
   ]
  },
  {
   "cell_type": "markdown",
   "metadata": {},
   "source": [
    "0 - 25\n",
    "\n",
    "0 [2, 14, 11, 21, 17] 25\n",
    "\n",
    "정렬 후\n",
    "\n",
    "0 [2, 11, 14, 17, 21] 25\n",
    "\n",
    "[21,17] 제거?\n",
    "\n",
    "0 [2, 11, 14] 25\n",
    "=> [2, 9, 3, 11]\n"
   ]
  },
  {
   "cell_type": "markdown",
   "metadata": {},
   "source": [
    "## 풀이\n",
    "https://coreenee.github.io/2020/05/13/%ED%94%84%EB%A1%9C%EA%B7%B8%EB%9E%98%EB%A8%B8%EC%8A%A4(%EC%A7%95%EA%B2%80%EB%8B%A4%EB%A6%AC)/"
   ]
  },
  {
   "cell_type": "code",
   "execution_count": 5,
   "metadata": {},
   "outputs": [],
   "source": [
    "def solution(distance, rocks, n):\n",
    "    answer = 0\n",
    "    left = 1\n",
    "    right = distance\n",
    "    \n",
    "    rocks.sort()\n",
    "    \n",
    "    while left <= right:\n",
    "        \n",
    "        mid = (left + right) // 2\n",
    "        \n",
    "        pre_rock = 0\n",
    "        num_of_rock = 0\n",
    "        m_min = distance\n",
    "        \n",
    "        for rock in rocks:\n",
    "            if rock - pre_rock < mid:\n",
    "                num_of_rock += 1\n",
    "                \n",
    "            else:\n",
    "                m_min = min(m_min, rock-pre_rock)\n",
    "                pre_rock = rock\n",
    "\n",
    "        if num_of_rock > n:\n",
    "            right = mid - 1\n",
    "            \n",
    "        else:\n",
    "            answer = m_min\n",
    "            left = mid + 1\n",
    "\n",
    "    return answer"
   ]
  },
  {
   "cell_type": "code",
   "execution_count": 6,
   "metadata": {},
   "outputs": [
    {
     "data": {
      "text/plain": [
       "4"
      ]
     },
     "execution_count": 6,
     "metadata": {},
     "output_type": "execute_result"
    }
   ],
   "source": [
    "solution(distance, rocks, n)"
   ]
  },
  {
   "cell_type": "code",
   "execution_count": null,
   "metadata": {},
   "outputs": [],
   "source": []
  },
  {
   "cell_type": "code",
   "execution_count": null,
   "metadata": {},
   "outputs": [],
   "source": []
  },
  {
   "cell_type": "code",
   "execution_count": null,
   "metadata": {},
   "outputs": [],
   "source": []
  },
  {
   "cell_type": "code",
   "execution_count": null,
   "metadata": {},
   "outputs": [],
   "source": []
  },
  {
   "cell_type": "code",
   "execution_count": null,
   "metadata": {},
   "outputs": [],
   "source": []
  },
  {
   "cell_type": "code",
   "execution_count": null,
   "metadata": {},
   "outputs": [],
   "source": []
  },
  {
   "cell_type": "code",
   "execution_count": null,
   "metadata": {},
   "outputs": [],
   "source": []
  }
 ],
 "metadata": {
  "kernelspec": {
   "display_name": "Python 3",
   "language": "python",
   "name": "python3"
  },
  "language_info": {
   "codemirror_mode": {
    "name": "ipython",
    "version": 3
   },
   "file_extension": ".py",
   "mimetype": "text/x-python",
   "name": "python",
   "nbconvert_exporter": "python",
   "pygments_lexer": "ipython3",
   "version": "3.8.3"
  }
 },
 "nbformat": 4,
 "nbformat_minor": 4
}
