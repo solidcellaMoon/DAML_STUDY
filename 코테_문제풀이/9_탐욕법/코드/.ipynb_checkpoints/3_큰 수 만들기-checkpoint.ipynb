{
 "cells": [
  {
   "cell_type": "markdown",
   "metadata": {},
   "source": [
    "# 프로그래머스 탐욕법 문제\n",
    "https://programmers.co.kr/learn/courses/30/parts/12244\n",
    "\n",
    "# 큰 수 만들기 (★)\n",
    "https://programmers.co.kr/learn/courses/30/lessons/42883\n",
    "\n",
    "## 문제 설명\n",
    "어떤 숫자에서 k개의 수를 제거했을 때 얻을 수 있는 가장 큰 숫자를 구하려 합니다.\n",
    "\n",
    "예를 들어, 숫자 1924에서 수 두 개를 제거하면 [19, 12, 14, 92, 94, 24] 를 만들 수 있습니다. 이 중 가장 큰 숫자는 94 입니다.\n",
    "\n",
    "문자열 형식으로 숫자 number와 제거할 수의 개수 k가 solution 함수의 매개변수로 주어집니다. number에서 k 개의 수를 제거했을 때 만들 수 있는 수 중 가장 큰 숫자를 문자열 형태로 return 하도록 solution 함수를 완성하세요.\n",
    "\n",
    "\n",
    "### 제한 조건\n",
    "- number는 1자리 이상, 1,000,000자리 이하인 숫자입니다.\n",
    "- k는 1 이상 number의 자릿수 미만인 자연수입니다."
   ]
  },
  {
   "cell_type": "code",
   "execution_count": 3,
   "metadata": {},
   "outputs": [],
   "source": [
    "number = '4177252841'\n",
    "k = 4\n",
    "#결과 775841"
   ]
  },
  {
   "cell_type": "markdown",
   "metadata": {},
   "source": [
    "'4177252841'\n",
    "\n",
    "* 77252841 [4,1,]\n",
    "* 7752841 [4,1,2]\n",
    "* 775841 [4,1,2,2]\n",
    "\n",
    "아하!\n",
    "\n",
    "\n",
    "'119999999999999993' / k = 4\n",
    "\n",
    "* 9999999999999993 [1,1]\n",
    "\n",
    "...\n",
    "\n",
    "* 999999999999999 [1,1,3]\n",
    "\n",
    "하나 더 빼야함\n",
    "\n",
    "* 99999999999999 [1,1,3,9]"
   ]
  },
  {
   "cell_type": "markdown",
   "metadata": {},
   "source": [
    "## 풀이\n",
    "https://eda-ai-lab.tistory.com/465?category=766271"
   ]
  },
  {
   "cell_type": "code",
   "execution_count": 4,
   "metadata": {},
   "outputs": [],
   "source": [
    "def solution(number, k):\n",
    "    #스택에 입력값을 순서대로 삽입\n",
    "    stack = [number[0]]\n",
    "    for num in number[1:]:\n",
    "        \n",
    "        #들어오는 값이 스택값보다 크면? 기존값 제거하고 새값으로 바꿈\n",
    "        #len(stk) > 0 == stk\n",
    "        while len(stack) > 0 and stack[-1] < num and k>0:\n",
    "            #값을 한개 뺐기에 k--\n",
    "            k -= 1\n",
    "            #스택 내부값 제거\n",
    "            stack.pop()\n",
    "        \n",
    "        #새로운 값 삽입!\n",
    "        stack.append(num)\n",
    "        \n",
    "    #만일 충분히 제거하지 못했다면, 남은 부분은 단순삭제\n",
    "    #왜?:: 이미 큰수부터 앞에서 채웠기에 괜찮음!\n",
    "    if k != 0:\n",
    "        #뒤의 k개 삭제\n",
    "        stack = stack[:-k]\n",
    "\n",
    "    return ''.join(stack)"
   ]
  },
  {
   "cell_type": "code",
   "execution_count": 5,
   "metadata": {},
   "outputs": [
    {
     "data": {
      "text/plain": [
       "'775841'"
      ]
     },
     "execution_count": 5,
     "metadata": {},
     "output_type": "execute_result"
    }
   ],
   "source": [
    "solution(number, k)"
   ]
  },
  {
   "cell_type": "markdown",
   "metadata": {},
   "source": [
    "## 풀이2\n",
    "https://velog.io/@tjdud0123/%ED%81%B0-%EC%88%98-%EB%A7%8C%EB%93%A4%EA%B8%B0-python-javascript\n",
    "\n",
    "아직 다 이해 못함..."
   ]
  },
  {
   "cell_type": "code",
   "execution_count": 15,
   "metadata": {},
   "outputs": [],
   "source": [
    "from collections import deque\n",
    "\n",
    "def solution(number, k):\n",
    "    \n",
    "    del_num, stack = 0, []\n",
    "    \n",
    "    #숫자는 큐 형태로 변환\n",
    "    number = deque(number)\n",
    "    \n",
    "    #지워야하는 횟수에 도달할 때까지\n",
    "    while number and del_num < k:\n",
    "        \n",
    "        #스택의 최신값이 앞자리보다 작을 때?\n",
    "        #작은 값을 지워야 큰 수가 만들어지니...??\n",
    "        while stack and stack[-1] < number[0]:\n",
    "            stack.pop() #스택에서 꺼냄\n",
    "            #즉 스택의 최상위값을 지워야하는 것임\n",
    "            del_num += 1 #지우는 숫자 ++\n",
    "            if del_num == k: #k번째로 지웠으면 while문 탈출!\n",
    "                break;\n",
    "                \n",
    "        #맨 앞자리 값을 스택에 넣음\n",
    "        stack.append(number.popleft())\n",
    "        \n",
    "    \n",
    "    stack = stack[:-k] if del_num != k else stack + list(number)\n",
    "    \n",
    "    return ''.join(stack)"
   ]
  },
  {
   "cell_type": "code",
   "execution_count": 16,
   "metadata": {},
   "outputs": [
    {
     "data": {
      "text/plain": [
       "'775841'"
      ]
     },
     "execution_count": 16,
     "metadata": {},
     "output_type": "execute_result"
    }
   ],
   "source": [
    "solution(number, k)"
   ]
  },
  {
   "cell_type": "markdown",
   "metadata": {},
   "source": [
    "### 참고"
   ]
  },
  {
   "cell_type": "code",
   "execution_count": 17,
   "metadata": {},
   "outputs": [
    {
     "name": "stdout",
     "output_type": "stream",
     "text": [
      "[1, 2, 3]\n"
     ]
    }
   ],
   "source": [
    "arr = [1,2,3,4,5]\n",
    "print(arr[:-2])"
   ]
  },
  {
   "cell_type": "code",
   "execution_count": 18,
   "metadata": {
    "scrolled": false
   },
   "outputs": [
    {
     "name": "stdout",
     "output_type": "stream",
     "text": [
      "True\n",
      "True\n",
      "True\n",
      "False\n"
     ]
    }
   ],
   "source": [
    "print([] < [1])\n",
    "print([] < [0])\n",
    "print([] < [-1])\n",
    "print([2] < [1])"
   ]
  },
  {
   "cell_type": "code",
   "execution_count": null,
   "metadata": {},
   "outputs": [],
   "source": []
  },
  {
   "cell_type": "code",
   "execution_count": null,
   "metadata": {},
   "outputs": [],
   "source": []
  },
  {
   "cell_type": "code",
   "execution_count": null,
   "metadata": {},
   "outputs": [],
   "source": []
  },
  {
   "cell_type": "code",
   "execution_count": null,
   "metadata": {},
   "outputs": [],
   "source": []
  },
  {
   "cell_type": "code",
   "execution_count": null,
   "metadata": {},
   "outputs": [],
   "source": []
  },
  {
   "cell_type": "code",
   "execution_count": null,
   "metadata": {},
   "outputs": [],
   "source": []
  }
 ],
 "metadata": {
  "kernelspec": {
   "display_name": "Python 3",
   "language": "python",
   "name": "python3"
  },
  "language_info": {
   "codemirror_mode": {
    "name": "ipython",
    "version": 3
   },
   "file_extension": ".py",
   "mimetype": "text/x-python",
   "name": "python",
   "nbconvert_exporter": "python",
   "pygments_lexer": "ipython3",
   "version": "3.8.3"
  }
 },
 "nbformat": 4,
 "nbformat_minor": 4
}
