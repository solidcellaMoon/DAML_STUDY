{
 "cells": [
  {
   "cell_type": "markdown",
   "metadata": {},
   "source": [
    "# (1). ndarray - 생성, 구조, 타입변환\n",
    "---\n",
    "\n",
    "## 1. ndarray 생성\n",
    "---"
   ]
  },
  {
   "cell_type": "code",
   "execution_count": 1,
   "metadata": {},
   "outputs": [],
   "source": [
    "import numpy as np\n",
    "\n",
    "#1차원 배열\n",
    "array1 = np.array([1,2,3])\n",
    "# shape = (3,) 1차원배열이며 요소는 3개임을 뜻함.\n",
    "\n",
    "#2차원 배열\n",
    "array2 = np.array([[1,2,3],[2,3,4]])\n",
    "# shape = (2,3) 2행(row), 3열(col)\n",
    "\n",
    "# shape: ndarray.shape\n",
    "# dimension : ndarray.ndim"
   ]
  },
  {
   "cell_type": "markdown",
   "metadata": {},
   "source": [
    "axis0 = row (가로, 행 방향)\n",
    "\n",
    "axis1 = col (세로, 열 방향)\n",
    "\n",
    "\n",
    "#### ndarray의 데이터 타입은 같은 데이터 타입만 가능.\n",
    "---\n",
    "ex) [1,2,3] (o) [1.1,2,3] (x)\n",
    "    \n",
    "데이터 타입: ndarray.dtype 으로 확인 가능.\n",
    "\n",
    "\n",
    "#### 타입 변환\n",
    "---\n",
    "astype() 을 이용한다. 괄호 사이에 변경을 원하는 타입을 인자로 입력함.\n",
    "\n",
    "### 1-1. 기본 생성하기\n",
    "---"
   ]
  },
  {
   "cell_type": "code",
   "execution_count": 2,
   "metadata": {},
   "outputs": [
    {
     "name": "stdout",
     "output_type": "stream",
     "text": [
      "list1: [1, 2, 3]\n",
      "list1 type: <class 'list'>\n",
      "array1: [1 2 3]\n",
      "array1 type: <class 'numpy.ndarray'>\n"
     ]
    }
   ],
   "source": [
    "list1 = [1,2,3]\n",
    "print(\"list1:\",list1)\n",
    "print(\"list1 type:\", type(list1))\n",
    "\n",
    "array1 = np.array(list1)\n",
    "print(\"array1:\", array1)\n",
    "print(\"array1 type:\",type(array1))"
   ]
  },
  {
   "cell_type": "markdown",
   "metadata": {},
   "source": [
    "### 1-2. shape 확인"
   ]
  },
  {
   "cell_type": "code",
   "execution_count": 3,
   "metadata": {},
   "outputs": [
    {
     "name": "stdout",
     "output_type": "stream",
     "text": [
      "array1 type: <class 'numpy.ndarray'>\n",
      "array1 shape: (3,)\n",
      "\n",
      "array2 type: <class 'numpy.ndarray'>\n",
      "array2 shape: (2, 3)\n",
      "\n",
      "array3 type: <class 'numpy.ndarray'>\n",
      "array3 shape (1, 3)\n",
      "\n",
      "array1: 1차원, array2: 2차원, array3:  2차원\n"
     ]
    }
   ],
   "source": [
    "array1 = np.array([1,2,3])\n",
    "print(\"array1 type:\",type(array1))\n",
    "print(\"array1 shape:\", array1.shape)\n",
    "\n",
    "array2 = np.array([[1,2,3],\n",
    "                   [2,3,4]])\n",
    "print(\"\\narray2 type:\", type(array2))\n",
    "print(\"array2 shape:\", array2.shape)\n",
    "\n",
    "array3 = np.array([[1,2,3]])\n",
    "print(\"\\narray3 type:\", type(array3))\n",
    "print(\"array3 shape\",array3.shape)\n",
    "\n",
    "print('\\narray1: {:0}차원, array2: {:1}차원, array3: {:2}차원'.format(array1.ndim,array2.ndim,array3.ndim))"
   ]
  },
  {
   "cell_type": "markdown",
   "metadata": {},
   "source": [
    "### 1-3. 데이터 값 확인 (dtype)\n",
    "---"
   ]
  },
  {
   "cell_type": "code",
   "execution_count": 4,
   "metadata": {},
   "outputs": [
    {
     "name": "stdout",
     "output_type": "stream",
     "text": [
      "<class 'list'>\n",
      "<class 'numpy.ndarray'>\n",
      "[1 2 3] int32\n"
     ]
    }
   ],
   "source": [
    "list1 = [1,2,3]\n",
    "print(type(list1))\n",
    "\n",
    "array1 = np.array(list1)\n",
    "print(type(array1))\n",
    "print(array1, array1.dtype)"
   ]
  },
  {
   "cell_type": "code",
   "execution_count": 5,
   "metadata": {},
   "outputs": [
    {
     "name": "stdout",
     "output_type": "stream",
     "text": [
      "['1' '2' 'test'] <U11\n",
      "[1. 2. 3.] float64\n"
     ]
    }
   ],
   "source": [
    "#리스트는 서로 다른 타입이 올 수 있지만, array는 아님.\n",
    "list2 = [1,2,'test']\n",
    "array2 = np.array(list2)\n",
    "print(array2, array2.dtype)\n",
    "#정수형 1,2가 문자열로 변환됨\n",
    "\n",
    "list3 = [1,2,3.0]\n",
    "array3 = np.array(list3)\n",
    "print(array3, array3.dtype)\n",
    "#모두 float형으로 통일됨"
   ]
  },
  {
   "cell_type": "markdown",
   "metadata": {},
   "source": [
    "## 2. astype()을 통한 타입 변환\n",
    "---"
   ]
  },
  {
   "cell_type": "code",
   "execution_count": 6,
   "metadata": {},
   "outputs": [
    {
     "name": "stdout",
     "output_type": "stream",
     "text": [
      "[1. 2. 3.] float64\n",
      "[1 2 3] int32\n",
      "[1 2 3 4 5] int32\n"
     ]
    }
   ],
   "source": [
    "# int32 -> float64\n",
    "arr_int = np.array([1,2,3])\n",
    "arr_float = arr_int.astype('float64')\n",
    "print(arr_float, arr_float.dtype)\n",
    "\n",
    "# float64 -> int32\n",
    "arr_int1 = arr_float.astype('int32')\n",
    "print(arr_int1,arr_int1.dtype)\n",
    "\n",
    "#float64 -> int32\n",
    "arr_float1 = np.array([1.1, 2.1, 3.1, 4.3, 5.6])\n",
    "arr_int2 = arr_float1.astype('int32')\n",
    "print(arr_int2, arr_int2.dtype)\n",
    "#소숫점 아래는 내림"
   ]
  },
  {
   "cell_type": "markdown",
   "metadata": {},
   "source": [
    "## 3. axis 기반의 연산함수 수행\n",
    "---"
   ]
  },
  {
   "cell_type": "code",
   "execution_count": 7,
   "metadata": {},
   "outputs": [
    {
     "name": "stdout",
     "output_type": "stream",
     "text": [
      "15\n",
      "행방향 덧셈: [3 5 7]\n",
      "열방향 덧셈: [6 9]\n"
     ]
    }
   ],
   "source": [
    "arr2 = np.array([[1,2,3],\n",
    "                [2,3,4]])\n",
    "\n",
    "print(arr2.sum())\n",
    "print('행방향 덧셈:',arr2.sum(axis=0))\n",
    "print('열방향 덧셈:',arr2.sum(axis=1))"
   ]
  },
  {
   "cell_type": "markdown",
   "metadata": {},
   "source": [
    "## 4. 편리하게 생성하기 - arange, zeros, ones\n",
    "---"
   ]
  },
  {
   "cell_type": "code",
   "execution_count": 8,
   "metadata": {},
   "outputs": [
    {
     "name": "stdout",
     "output_type": "stream",
     "text": [
      "[0 1 2 3 4 5 6 7 8 9]\n",
      "int32 (10,)\n"
     ]
    }
   ],
   "source": [
    "seq_arr = np.arange(10)\n",
    "print(seq_arr)\n",
    "print(seq_arr.dtype, seq_arr.shape)"
   ]
  },
  {
   "cell_type": "code",
   "execution_count": 9,
   "metadata": {},
   "outputs": [
    {
     "name": "stdout",
     "output_type": "stream",
     "text": [
      "[[0 0]\n",
      " [0 0]\n",
      " [0 0]]\n",
      "int32 (3, 2) \n",
      "\n",
      "[[1. 1.]\n",
      " [1. 1.]\n",
      " [1. 1.]]\n",
      "float64 (3, 2) \n",
      "\n",
      "[[1 1]\n",
      " [1 1]\n",
      " [1 1]]\n",
      "int32 (3, 2)\n"
     ]
    }
   ],
   "source": [
    "zero_arr = np.zeros((3,2), dtype='int32')\n",
    "print(zero_arr)\n",
    "print(zero_arr.dtype, zero_arr.shape,'\\n')\n",
    "\n",
    "#디폴트 타입 -> float\n",
    "one_arr = np.ones((3,2))\n",
    "print(one_arr)\n",
    "print(one_arr.dtype, one_arr.shape,'\\n')\n",
    "\n",
    "one_arr = np.ones((3,2), dtype='int32')\n",
    "print(one_arr)\n",
    "print(one_arr.dtype, one_arr.shape)"
   ]
  },
  {
   "cell_type": "markdown",
   "metadata": {},
   "source": [
    "## 5. ndarray의 shape를 변경하는 reshape()\n",
    "---"
   ]
  },
  {
   "cell_type": "code",
   "execution_count": 10,
   "metadata": {},
   "outputs": [
    {
     "name": "stdout",
     "output_type": "stream",
     "text": [
      "arr1:\n",
      " [0 1 2 3 4 5 6 7 8 9] \n",
      "\n",
      "arr2: reshape(2,5)\n",
      " [[0 1 2 3 4]\n",
      " [5 6 7 8 9]] \n",
      "\n",
      "arr3: reshape(5,2)\n",
      " [[0 1]\n",
      " [2 3]\n",
      " [4 5]\n",
      " [6 7]\n",
      " [8 9]]\n"
     ]
    }
   ],
   "source": [
    "arr1 = np.arange(10)\n",
    "print('arr1:\\n', arr1,'\\n')\n",
    "\n",
    "arr2 = arr1.reshape(2,5)\n",
    "print('arr2: reshape(2,5)\\n', arr2,'\\n')\n",
    "\n",
    "arr3 = arr1.reshape(5,2)\n",
    "print('arr3: reshape(5,2)\\n', arr3)"
   ]
  },
  {
   "cell_type": "markdown",
   "metadata": {},
   "source": [
    "#### 변환할 수 없는 shape구조를 입력하면 오류 발생.\n",
    "---\n",
    "arr1: [0 1 2 3 4 5 6 7 8 9] 일 때\n",
    "\n",
    "print(arr1.reshape(4,3)) -> ERROR\n",
    "\n",
    "print(arr1.reshape(3,3)) -> ERROR\n",
    "\n",
    "print(arr1.reshape(3,4)) -> ERROR"
   ]
  },
  {
   "cell_type": "markdown",
   "metadata": {},
   "source": [
    "### 5-1. reshape()에 -1 인자값을 부여하여 특정 차원으로 고정해 가변적인 형태로 변환\n",
    "---"
   ]
  },
  {
   "cell_type": "code",
   "execution_count": 11,
   "metadata": {},
   "outputs": [
    {
     "name": "stdout",
     "output_type": "stream",
     "text": [
      "[0 1 2 3 4 5 6 7 8 9]\n",
      "arr2 shape: (2, 5)\n",
      "arr2:\n",
      " [[0 1 2 3 4]\n",
      " [5 6 7 8 9]] \n",
      "\n",
      "arr3 shape: (5, 2)\n",
      "arr3:\n",
      " [[0 1]\n",
      " [2 3]\n",
      " [4 5]\n",
      " [6 7]\n",
      " [8 9]]\n"
     ]
    }
   ],
   "source": [
    "arr1 = np.arange(10)\n",
    "print(arr1)\n",
    "\n",
    "# col = 5로 고정, row는 이에 맞춰 자동 변환, 즉 row = 10/5 = 2\n",
    "# shape = (2,5)\n",
    "arr2 = arr1.reshape(-1,5)\n",
    "print('arr2 shape:', arr2.shape)\n",
    "print('arr2:\\n',arr2,'\\n')\n",
    "\n",
    "#row = 5로 고정, col은 이에 맞춰 자동 변환, 즉 col = 10/5 = 2\n",
    "#shape = (5,2)\n",
    "arr3 = arr1.reshape(5,-1)\n",
    "print('arr3 shape:', arr3.shape)\n",
    "print('arr3:\\n',arr3)"
   ]
  },
  {
   "cell_type": "code",
   "execution_count": 12,
   "metadata": {},
   "outputs": [
    {
     "name": "stdout",
     "output_type": "stream",
     "text": [
      "arr1d_to_2 shape: (5, 1)\n",
      "arr1d_to_2:\n",
      " [[0]\n",
      " [1]\n",
      " [2]\n",
      " [3]\n",
      " [4]] \n",
      "\n",
      "arr1d shape: (5,)\n",
      "arr1d:\n",
      " [0 1 2 3 4]\n"
     ]
    }
   ],
   "source": [
    "#reshape()는 (-1,1), (-1,)와 같은 형태로 주로 사용한다.\n",
    "# 1차원 -> 2차원 / 2차원 -> 1차원으로 변환할 때 주로 사용\n",
    "\n",
    "arr1 = np.arange(5)\n",
    "\n",
    "arr1d_to_2 = arr1.reshape(-1,1)\n",
    "print('arr1d_to_2 shape:', arr1d_to_2.shape)\n",
    "print('arr1d_to_2:\\n',arr1d_to_2,'\\n')\n",
    "\n",
    "arr1d = arr1d_to_2.reshape(-1,)\n",
    "print('arr1d shape:', arr1d.shape)\n",
    "print('arr1d:\\n',arr1d)"
   ]
  },
  {
   "cell_type": "markdown",
   "metadata": {},
   "source": [
    "#### -1 적용해도 변환할 수 없는  형태라면 오류 발생\n",
    "---\n",
    "arr1 = np.arange(10)\n",
    "\n",
    "arr_err = arr1.reshape(-1,4) (x)\n"
   ]
  },
  {
   "cell_type": "markdown",
   "metadata": {},
   "source": [
    "#### -1값은 반드시 1개의 인자에만 입력\n",
    "---\n",
    "arr1.reshape(-1,-1) (x)"
   ]
  }
 ],
 "metadata": {
  "kernelspec": {
   "display_name": "Python 3",
   "language": "python",
   "name": "python3"
  },
  "language_info": {
   "codemirror_mode": {
    "name": "ipython",
    "version": 3
   },
   "file_extension": ".py",
   "mimetype": "text/x-python",
   "name": "python",
   "nbconvert_exporter": "python",
   "pygments_lexer": "ipython3",
   "version": "3.8.3"
  }
 },
 "nbformat": 4,
 "nbformat_minor": 4
}
