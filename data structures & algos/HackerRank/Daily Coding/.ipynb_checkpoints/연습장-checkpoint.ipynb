{
 "cells": [
  {
   "cell_type": "code",
   "execution_count": 9,
   "metadata": {},
   "outputs": [
    {
     "name": "stdout",
     "output_type": "stream",
     "text": [
      "1 12\n"
     ]
    },
    {
     "data": {
      "text/plain": [
       "[1, 2, 3, 4, 5, 6, 7, 8, 9, 10, 11, 12]"
      ]
     },
     "execution_count": 9,
     "metadata": {},
     "output_type": "execute_result"
    }
   ],
   "source": [
    "a = [i for i in range(1,13)]\n",
    "print(a[0],a[-1])\n",
    "a\n",
    "\n",
    "#2+2k, 3+2k"
   ]
  },
  {
   "cell_type": "code",
   "execution_count": 10,
   "metadata": {},
   "outputs": [
    {
     "name": "stdout",
     "output_type": "stream",
     "text": [
      "1 11\n"
     ]
    },
    {
     "data": {
      "text/plain": [
       "[1, 2, 3, 4, 5, 6, 7, 8, 9, 10, 11]"
      ]
     },
     "execution_count": 10,
     "metadata": {},
     "output_type": "execute_result"
    }
   ],
   "source": [
    "a = [i for i in range(1,12)]\n",
    "print(a[0],a[-1])\n",
    "a\n",
    "\n",
    "#2+2k, 3+2k"
   ]
  },
  {
   "cell_type": "code",
   "execution_count": 19,
   "metadata": {},
   "outputs": [
    {
     "data": {
      "text/plain": [
       "0"
      ]
     },
     "execution_count": 19,
     "metadata": {},
     "output_type": "execute_result"
    }
   ],
   "source": [
    "def pageCount(n, p):\n",
    "    \n",
    "    book = [i for i in range(1,n+1)] #1~n까지의 페이지수\n",
    "    \n",
    "    left, right = abs(p-book[0]), abs(p-book[-1]) #페이지부터 맨앞, 맨뒤까지의 거리\n",
    "    \n",
    "    lamTurned = lambda p: (p-2)//2 + 1 if (p%2==0) else (p-3)//2 + 1\n",
    "    \n",
    "    k = lamTurned(p)\n",
    "        \n",
    "    if (left < right):\n",
    "        #맨앞에서 더 가까울 때\n",
    "        return k\n",
    "            \n",
    "    else:\n",
    "        #맨뒤에서 더 가깝거나, 거리가 같을 때\n",
    "        revK = lamTurned(n) - k\n",
    "        return revK\n",
    "    \n",
    "    \n",
    "pageCount(5,4)"
   ]
  },
  {
   "cell_type": "code",
   "execution_count": 25,
   "metadata": {},
   "outputs": [
    {
     "data": {
      "text/plain": [
       "0"
      ]
     },
     "execution_count": 25,
     "metadata": {},
     "output_type": "execute_result"
    }
   ],
   "source": [
    "def pageCount(n, p):\n",
    "    \n",
    "    book = [i for i in range(1,n+1)] #1~n까지의 페이지 배열\n",
    "    \n",
    "    left, right = abs(p-book[0]), abs(p-book[-1]) #페이지부터 맨앞, 맨뒤까지의 거리\n",
    "    \n",
    "    #1페이지 이후 [2+2k, 3+2k]의 규칙이므로, 여기 해당하는 k를 구함 (1p부터 넘기는 기준임)\n",
    "    lamTurned = lambda p: (p-2)//2 + 1 if (p%2==0) else (p-3)//2 + 1\n",
    "    k = lamTurned(p)//2 + 1\n",
    "        \n",
    "    #맨앞에서 더 가까울 때\n",
    "    if (left < right): return k\n",
    "          \n",
    "    #맨뒤에서 더 가깝거나, 거리가 같을 때 -> 맨뒤의 k에서 현재 k를 빼면 역순\n",
    "    else: \n",
    "        revK = lamTurned(n) - k\n",
    "        return revK\n",
    "    \n",
    "pageCount(5,4)"
   ]
  },
  {
   "cell_type": "code",
   "execution_count": null,
   "metadata": {},
   "outputs": [],
   "source": []
  },
  {
   "cell_type": "code",
   "execution_count": null,
   "metadata": {},
   "outputs": [],
   "source": []
  },
  {
   "cell_type": "code",
   "execution_count": null,
   "metadata": {},
   "outputs": [],
   "source": []
  },
  {
   "cell_type": "code",
   "execution_count": null,
   "metadata": {},
   "outputs": [],
   "source": []
  },
  {
   "cell_type": "code",
   "execution_count": null,
   "metadata": {},
   "outputs": [],
   "source": []
  }
 ],
 "metadata": {
  "kernelspec": {
   "display_name": "Python 3",
   "language": "python",
   "name": "python3"
  },
  "language_info": {
   "codemirror_mode": {
    "name": "ipython",
    "version": 3
   },
   "file_extension": ".py",
   "mimetype": "text/x-python",
   "name": "python",
   "nbconvert_exporter": "python",
   "pygments_lexer": "ipython3",
   "version": "3.8.3"
  }
 },
 "nbformat": 4,
 "nbformat_minor": 4
}
