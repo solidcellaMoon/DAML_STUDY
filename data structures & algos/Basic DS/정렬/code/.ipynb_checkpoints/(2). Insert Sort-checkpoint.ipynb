{
 "cells": [
  {
   "cell_type": "markdown",
   "metadata": {},
   "source": [
    "# (2). 삽입정렬(Insert Sort)\n",
    "\n",
    "key값 뒤에 있는 원소와 순서대로 비교한다.\n",
    "\n",
    "## 1. 개요"
   ]
  },
  {
   "cell_type": "code",
   "execution_count": 1,
   "metadata": {},
   "outputs": [],
   "source": [
    "def insertSort(arr):\n",
    "    \n",
    "    for i in range(1,len(arr)): #맨 처음 원소는 비교하지 않기에 1부터 시작\n",
    "        \n",
    "        key = arr[i]\n",
    "        print('key: ',key)\n",
    "        \n",
    "        j = i - 1 #앞 원소와 비교하기 위해\n",
    "        while j >= 0 and key < arr[j]:\n",
    "            arr[j+1] = arr[j]\n",
    "            print(arr)\n",
    "            j -= 1\n",
    "            \n",
    "        arr[j+1] = key\n",
    "        print(arr)"
   ]
  },
  {
   "cell_type": "code",
   "execution_count": 2,
   "metadata": {},
   "outputs": [
    {
     "name": "stdout",
     "output_type": "stream",
     "text": [
      "key:  11\n",
      "[12, 12, 13, 5, 6]\n",
      "[11, 12, 13, 5, 6]\n",
      "key:  13\n",
      "[11, 12, 13, 5, 6]\n",
      "key:  5\n",
      "[11, 12, 13, 13, 6]\n",
      "[11, 12, 12, 13, 6]\n",
      "[11, 11, 12, 13, 6]\n",
      "[5, 11, 12, 13, 6]\n",
      "key:  6\n",
      "[5, 11, 12, 13, 13]\n",
      "[5, 11, 12, 12, 13]\n",
      "[5, 11, 11, 12, 13]\n",
      "[5, 6, 11, 12, 13]\n"
     ]
    }
   ],
   "source": [
    "list = [12,11,13,5,6]\n",
    "insertSort(list)"
   ]
  },
  {
   "cell_type": "markdown",
   "metadata": {},
   "source": [
    "## 2. 시간 복잡도\n",
    "\n",
    "### 2-1. 최선의 경우\n",
    "---\n",
    "O(N)"
   ]
  },
  {
   "cell_type": "code",
   "execution_count": 3,
   "metadata": {
    "scrolled": true
   },
   "outputs": [
    {
     "name": "stdout",
     "output_type": "stream",
     "text": [
      "key:  2\n",
      "[1, 2, 3, 4, 5]\n",
      "key:  3\n",
      "[1, 2, 3, 4, 5]\n",
      "key:  4\n",
      "[1, 2, 3, 4, 5]\n",
      "key:  5\n",
      "[1, 2, 3, 4, 5]\n"
     ]
    }
   ],
   "source": [
    "list = [1,2,3,4,5]\n",
    "insertSort(list)"
   ]
  },
  {
   "cell_type": "markdown",
   "metadata": {},
   "source": [
    "### 2-2. 최악의 경우\n",
    "---\n",
    "O(N^2)"
   ]
  },
  {
   "cell_type": "code",
   "execution_count": 4,
   "metadata": {},
   "outputs": [
    {
     "name": "stdout",
     "output_type": "stream",
     "text": [
      "key:  4\n",
      "[5, 5, 3, 2, 1]\n",
      "[4, 5, 3, 2, 1]\n",
      "key:  3\n",
      "[4, 5, 5, 2, 1]\n",
      "[4, 4, 5, 2, 1]\n",
      "[3, 4, 5, 2, 1]\n",
      "key:  2\n",
      "[3, 4, 5, 5, 1]\n",
      "[3, 4, 4, 5, 1]\n",
      "[3, 3, 4, 5, 1]\n",
      "[2, 3, 4, 5, 1]\n",
      "key:  1\n",
      "[2, 3, 4, 5, 5]\n",
      "[2, 3, 4, 4, 5]\n",
      "[2, 3, 3, 4, 5]\n",
      "[2, 2, 3, 4, 5]\n",
      "[1, 2, 3, 4, 5]\n"
     ]
    }
   ],
   "source": [
    "list = [5,4,3,2,1]\n",
    "insertSort(list)"
   ]
  },
  {
   "cell_type": "markdown",
   "metadata": {},
   "source": [
    "## 3. 코드"
   ]
  },
  {
   "cell_type": "code",
   "execution_count": 5,
   "metadata": {},
   "outputs": [],
   "source": [
    "def insertSort(arr):\n",
    "    \n",
    "    for i in range(1,len(arr)):\n",
    "        key = arr[i]\n",
    "        j = i - 1\n",
    "        \n",
    "        while j >= 0 and key < arr[j]:\n",
    "            arr[j+1] = arr[j]\n",
    "            j -= 1\n",
    "            \n",
    "        arr[j+1] = key"
   ]
  }
 ],
 "metadata": {
  "kernelspec": {
   "display_name": "Python 3",
   "language": "python",
   "name": "python3"
  },
  "language_info": {
   "codemirror_mode": {
    "name": "ipython",
    "version": 3
   },
   "file_extension": ".py",
   "mimetype": "text/x-python",
   "name": "python",
   "nbconvert_exporter": "python",
   "pygments_lexer": "ipython3",
   "version": "3.8.3"
  }
 },
 "nbformat": 4,
 "nbformat_minor": 4
}
