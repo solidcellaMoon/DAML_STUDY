{
 "cells": [
  {
   "cell_type": "markdown",
   "metadata": {},
   "source": [
    "https://www.acmicpc.net/problem/10994"
   ]
  },
  {
   "cell_type": "markdown",
   "metadata": {},
   "source": [
    "## 내 풀이\n",
    "별로..."
   ]
  },
  {
   "cell_type": "code",
   "execution_count": 89,
   "metadata": {},
   "outputs": [
    {
     "name": "stdout",
     "output_type": "stream",
     "text": [
      "5\n",
      "*****************\n",
      "*               *\n",
      "* ************* *\n",
      "* *           * *\n",
      "* * ********* * *\n",
      "* * *       * * *\n",
      "* * * ***** * * *\n",
      "* * * *   * * * *\n",
      "* * * * * * * * *\n",
      "* * * *   * * * *\n",
      "* * * ***** * * *\n",
      "* * *       * * *\n",
      "* * ********* * *\n",
      "* *           * *\n",
      "* ************* *\n",
      "*               *\n",
      "*****************\n"
     ]
    }
   ],
   "source": [
    "from collections import deque\n",
    "\n",
    "def square():\n",
    "    for i in range(len(arr)):\n",
    "        arr[i][0] = '* '+arr[i][0]\n",
    "        arr[i][-1] = arr[i][-1]+' *'\n",
    "            \n",
    "    length = len(arr) + 4\n",
    "            \n",
    "    arr.append(['*'+' '*(length-2)+'*'])\n",
    "    arr.appendleft(['*'+' '*(length-2)+'*'])\n",
    "    arr.append(['*'*(length)])\n",
    "    arr.appendleft(['*'*(length)])\n",
    "\n",
    "n = int(input())\n",
    "arr = [['*']]\n",
    "\n",
    "if n == 1:\n",
    "    print(arr[0][-1])\n",
    "    \n",
    "else:\n",
    "    arr = deque(arr)\n",
    "    for _ in range(n-1):\n",
    "        square()\n",
    "    print('\\n'.join([''.join([str(i) for i in row]) for row in arr ]))"
   ]
  },
  {
   "cell_type": "code",
   "execution_count": 43,
   "metadata": {},
   "outputs": [
    {
     "name": "stdout",
     "output_type": "stream",
     "text": [
      "5\n",
      "*****************\n",
      "*               *\n",
      "* ************* *\n",
      "* *           * *\n",
      "* * ********* * *\n",
      "* * *       * * *\n",
      "* * * ***** * * *\n",
      "* * * *   * * * *\n",
      "* * * * * * * * *\n",
      "* * * *   * * * *\n",
      "* * * ***** * * *\n",
      "* * *       * * *\n",
      "* * ********* * *\n",
      "* *           * *\n",
      "* ************* *\n",
      "*               *\n",
      "*****************\n"
     ]
    }
   ],
   "source": [
    "from collections import deque\n",
    "\n",
    "n = int(input())\n",
    "arr = [['*', '*', '*', '*', '*'],\n",
    " ['*', ' ', ' ', ' ', '*'],\n",
    " ['*', ' ', '*', ' ', '*'],\n",
    " ['*', ' ', ' ', ' ', '*'],\n",
    " ['*', '*', '*', '*', '*']]\n",
    "\n",
    "if n == 1:\n",
    "    print('*')\n",
    "elif n == 2:\n",
    "    print('\\n'.join([''.join([str(i) for i in row]) for row in arr ]))\n",
    "    \n",
    "else:\n",
    "    \n",
    "    arr = deque(arr)\n",
    "    \n",
    "    def square():\n",
    "        for i in range(len(arr)):\n",
    "            arr[i][0] = '* '+arr[i][0]\n",
    "            arr[i][-1] = arr[i][-1]+' *'\n",
    "            \n",
    "        length = len(arr) + 4\n",
    "            \n",
    "        arr.append(['*'+' '*(length-2)+'*'])\n",
    "        arr.appendleft(['*'+' '*(length-2)+'*'])\n",
    "        arr.append(['*'*(length)])\n",
    "        arr.appendleft(['*'*(length)])\n",
    "        \n",
    "    for i in range(n-2):\n",
    "        square()\n",
    "        \n",
    "    print('\\n'.join([''.join([str(i) for i in row]) for row in arr ]))\n",
    "    "
   ]
  },
  {
   "cell_type": "code",
   "execution_count": null,
   "metadata": {},
   "outputs": [],
   "source": []
  },
  {
   "cell_type": "code",
   "execution_count": null,
   "metadata": {},
   "outputs": [],
   "source": []
  }
 ],
 "metadata": {
  "kernelspec": {
   "display_name": "Python 3",
   "language": "python",
   "name": "python3"
  },
  "language_info": {
   "codemirror_mode": {
    "name": "ipython",
    "version": 3
   },
   "file_extension": ".py",
   "mimetype": "text/x-python",
   "name": "python",
   "nbconvert_exporter": "python",
   "pygments_lexer": "ipython3",
   "version": "3.8.3"
  }
 },
 "nbformat": 4,
 "nbformat_minor": 4
}
