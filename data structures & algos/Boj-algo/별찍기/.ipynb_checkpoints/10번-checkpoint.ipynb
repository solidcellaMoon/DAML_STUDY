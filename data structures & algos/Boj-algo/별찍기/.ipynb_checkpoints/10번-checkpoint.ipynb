{
 "cells": [
  {
   "cell_type": "markdown",
   "metadata": {},
   "source": [
    "# 10번\n",
    "https://www.acmicpc.net/problem/2447"
   ]
  },
  {
   "cell_type": "markdown",
   "metadata": {},
   "source": [
    "## 풀이\n",
    "\n",
    "https://study-all-night.tistory.com/5\n",
    "\n",
    "\n",
    "### 1) n = 3^1일 때\n",
    "![3^1](https://img1.daumcdn.net/thumb/R1280x0/?scode=mtistory2&fname=https%3A%2F%2Fblog.kakaocdn.net%2Fdn%2Fc4Gd26%2FbtqF4yxgYsb%2FiR0OHK2kdfKejHHjnN1R5k%2Fimg.png)\n",
    "\n",
    "3^1일 때는 가운데를 비워두고 별이 찍혔습니다.\n",
    "\n",
    "\n",
    "### 2) n = 3^i일 때\n",
    "![3^i](https://img1.daumcdn.net/thumb/R1280x0/?scode=mtistory2&fname=https%3A%2F%2Fblog.kakaocdn.net%2Fdn%2Fbh3GEd%2FbtqF7L9zccc%2FjKC5MBYKO5I6AnXqRqJjT1%2Fimg.png)\n",
    "\n",
    "가운데를 비워두고 3^(i-1)일 때 별이 찍힙니다.\n"
   ]
  },
  {
   "cell_type": "markdown",
   "metadata": {},
   "source": [
    "## 첫번째"
   ]
  },
  {
   "cell_type": "code",
   "execution_count": 31,
   "metadata": {},
   "outputs": [
    {
     "name": "stdout",
     "output_type": "stream",
     "text": [
      "3\n",
      "[['*', '*', '*'], ['*', '*', '*'], ['*', '*', '*']]\n",
      "1\n",
      "[1]\n",
      "***\n",
      "* *\n",
      "***\n"
     ]
    }
   ],
   "source": [
    "n = int(input()) #input\n",
    "\n",
    "#1. 크기 N의 패턴은 N×N 정사각형 모양\n",
    "arr = [['*']*n for _ in range(n)] #create output arr\n",
    "print(arr)\n",
    "\n",
    "v = n ; cnt = 0\n",
    "\n",
    "while v!=1: #입력받은 n이 3의 몇승인지?\n",
    "    v//=3\n",
    "    cnt += 1\n",
    "print(cnt)\n",
    "    \n",
    "#크기 3의 패턴은 가운데에 공백이 있고,\n",
    "#가운데를 제외한 모든 칸에 별이 하나씩 있는 패턴\n",
    "\n",
    "#2. N이 3보다 클 경우, 크기 N의 패턴은 공백으로 채워진\n",
    "#가운데의 (N/3)×(N/3) 정사각형을 크기 N/3의 패턴으로 둘러싼 형태\n",
    "\n",
    "\n",
    "for cnt_ in range(cnt):\n",
    "    #빈칸으로 채울 행/열 인덱스\n",
    "    idx = [i for i in range(n) if (i //(3 ** cnt_)) % 3 == 1 ]\n",
    "    print(idx)\n",
    "    for i in idx:\n",
    "        for j in idx:\n",
    "            arr[i][j] = ' '\n",
    "            \n",
    "#출력\n",
    "print('\\n'.join([''.join([str(i) for i in row]) for row in arr ]))"
   ]
  },
  {
   "cell_type": "markdown",
   "metadata": {},
   "source": [
    "## 두번째\n",
    "위의 코드를 함수로 묶기"
   ]
  },
  {
   "cell_type": "code",
   "execution_count": 33,
   "metadata": {},
   "outputs": [
    {
     "name": "stdout",
     "output_type": "stream",
     "text": [
      "9\n",
      "[['*', '*', '*', '*', '*', '*', '*', '*', '*'], ['*', '*', '*', '*', '*', '*', '*', '*', '*'], ['*', '*', '*', '*', '*', '*', '*', '*', '*'], ['*', '*', '*', '*', '*', '*', '*', '*', '*'], ['*', '*', '*', '*', '*', '*', '*', '*', '*'], ['*', '*', '*', '*', '*', '*', '*', '*', '*'], ['*', '*', '*', '*', '*', '*', '*', '*', '*'], ['*', '*', '*', '*', '*', '*', '*', '*', '*'], ['*', '*', '*', '*', '*', '*', '*', '*', '*']]\n",
      "2\n",
      "[1, 4, 7]\n",
      "[3, 4, 5]\n",
      "*********\n",
      "* ** ** *\n",
      "*********\n",
      "***   ***\n",
      "* *   * *\n",
      "***   ***\n",
      "*********\n",
      "* ** ** *\n",
      "*********\n"
     ]
    }
   ],
   "source": [
    "def star(i):\n",
    "    global arr #arr을 전역변수화\n",
    "    idx = [i for i in range(n) if (i //(3 ** cnt_)) % 3 == 1 ]\n",
    "    print(idx)\n",
    "    for i in idx:\n",
    "        for j in idx:\n",
    "            arr[i][j] = ' '\n",
    "\n",
    "n = int(input()) #input\n",
    "\n",
    "#1. 크기 N의 패턴은 N×N 정사각형 모양\n",
    "arr = [['*']*n for _ in range(n)] #create output arr\n",
    "print(arr)\n",
    "\n",
    "v = n ; cnt = 0\n",
    "\n",
    "while v!=1: #입력받은 n이 3의 몇승인지?\n",
    "    v//=3\n",
    "    cnt += 1\n",
    "print(cnt)\n",
    "\n",
    "#크기 3의 패턴은 가운데에 공백이 있고,\n",
    "#가운데를 제외한 모든 칸에 별이 하나씩 있는 패턴\n",
    "\n",
    "#2. N이 3보다 클 경우, 크기 N의 패턴은 공백으로 채워진\n",
    "#가운데의 (N/3)×(N/3) 정사각형을 크기 N/3의 패턴으로 둘러싼 형태\n",
    "\n",
    "\n",
    "for cnt_ in range(cnt):\n",
    "    #빈칸으로 채울 행/열 인덱스\n",
    "    star(cnt_)\n",
    "            \n",
    "#출력\n",
    "print('\\n'.join([''.join([str(i) for i in row]) for row in arr ]))"
   ]
  },
  {
   "cell_type": "markdown",
   "metadata": {},
   "source": [
    "## 세번째"
   ]
  },
  {
   "cell_type": "code",
   "execution_count": 28,
   "metadata": {},
   "outputs": [
    {
     "name": "stdout",
     "output_type": "stream",
     "text": [
      "n=3 ----------\n",
      "3\n",
      "1\n",
      "['***']\n",
      "['* *']\n",
      "['***', '* *', '***']\n",
      "***\n",
      "* *\n",
      "***\n",
      "n=9 ----------\n",
      "9\n",
      "3\n",
      "1\n",
      "['***']\n",
      "['* *']\n",
      "['***', '* *', '***']\n",
      "['*********', '* ** ** *', '*********']\n",
      "['***   ***', '* *   * *', '***   ***']\n",
      "['*********', '* ** ** *', '*********', '***   ***', '* *   * *', '***   ***', '*********', '* ** ** *', '*********']\n",
      "*********\n",
      "* ** ** *\n",
      "*********\n",
      "***   ***\n",
      "* *   * *\n",
      "***   ***\n",
      "*********\n",
      "* ** ** *\n",
      "*********\n"
     ]
    }
   ],
   "source": [
    "def concat(r1,r2):\n",
    "    return [''.join(x) for x in zip(r1,r2,r1)]\n",
    "\n",
    "def star2(n):\n",
    "    if n==1:\n",
    "        return ['*']\n",
    "    n//=3\n",
    "    print(n)\n",
    "    x = star2(n)\n",
    "    top_bottom = concat(x,x)\n",
    "    print(top_bottom)\n",
    "    middle = concat(x,[' '*n]*n)\n",
    "    print(middle)\n",
    "    print(top_bottom + middle + top_bottom)\n",
    "    return top_bottom + middle + top_bottom\n",
    "    \n",
    "print('n=3','-'*10)\n",
    "print('\\n'.join(star2(int(input()))))\n",
    "\n",
    "print('n=9','-'*10)\n",
    "print('\\n'.join(star2(int(input()))))"
   ]
  },
  {
   "cell_type": "markdown",
   "metadata": {},
   "source": [
    "## zip 함수\n",
    "각 리스트에서 같은 위치에 있는 원소들끼리 묶어준다"
   ]
  },
  {
   "cell_type": "code",
   "execution_count": 25,
   "metadata": {},
   "outputs": [
    {
     "data": {
      "text/plain": [
       "[(1, 4, 7), (2, 5, 8), (3, 6, 9)]"
      ]
     },
     "execution_count": 25,
     "metadata": {},
     "output_type": "execute_result"
    }
   ],
   "source": [
    "list(zip([1,2,3],[4,5,6],[7,8,9]))"
   ]
  },
  {
   "cell_type": "markdown",
   "metadata": {},
   "source": [
    "## 2차원 배열 초기화\n",
    "https://leedakyeong.tistory.com/14"
   ]
  },
  {
   "cell_type": "code",
   "execution_count": 39,
   "metadata": {},
   "outputs": [
    {
     "name": "stdout",
     "output_type": "stream",
     "text": [
      "['000', '000', '000']\n",
      "\n",
      "000\n",
      "000\n",
      "000\n"
     ]
    }
   ],
   "source": [
    "#3*3 배열 만들기\n",
    "arr = [[0]*3 for _ in range(3)]\n",
    "#한줄\n",
    "print([''.join([ str(i) for i in row]) for row in arr ])\n",
    "print()\n",
    "#전체\n",
    "print('\\n'.join([''.join([ str(i) for i in row]) for row in arr ]))"
   ]
  },
  {
   "cell_type": "code",
   "execution_count": 61,
   "metadata": {},
   "outputs": [
    {
     "name": "stdout",
     "output_type": "stream",
     "text": [
      "['121', '121', '121']\n",
      "\n",
      "121\n",
      "121\n",
      "121\n"
     ]
    }
   ],
   "source": [
    "#3*3 배열 만들기 - 2\n",
    "arr = [[0]*3]*3\n",
    "\n",
    "#★★★\n",
    "arr[0][0] = 1\n",
    "arr[2][2] = 1\n",
    "arr[1][1] = 2\n",
    "# arr = [[0]*3 for _ in range(3)] 면 적용 안되더라...\n",
    "\n",
    "#한줄\n",
    "print([''.join([ str(i) for i in row]) for row in arr ])\n",
    "print()\n",
    "#전체\n",
    "print('\\n'.join([''.join([ str(i) for i in row]) for row in arr ]))"
   ]
  },
  {
   "cell_type": "code",
   "execution_count": null,
   "metadata": {},
   "outputs": [],
   "source": []
  },
  {
   "cell_type": "code",
   "execution_count": null,
   "metadata": {},
   "outputs": [],
   "source": []
  }
 ],
 "metadata": {
  "kernelspec": {
   "display_name": "Python 3",
   "language": "python",
   "name": "python3"
  },
  "language_info": {
   "codemirror_mode": {
    "name": "ipython",
    "version": 3
   },
   "file_extension": ".py",
   "mimetype": "text/x-python",
   "name": "python",
   "nbconvert_exporter": "python",
   "pygments_lexer": "ipython3",
   "version": "3.8.3"
  }
 },
 "nbformat": 4,
 "nbformat_minor": 4
}
