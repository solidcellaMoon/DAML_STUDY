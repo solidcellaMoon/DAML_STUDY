{
 "cells": [
  {
   "cell_type": "code",
   "execution_count": 47,
   "metadata": {},
   "outputs": [
    {
     "data": {
      "text/plain": [
       "')'"
      ]
     },
     "execution_count": 47,
     "metadata": {},
     "output_type": "execute_result"
    }
   ],
   "source": [
    "a = '(())())'\n",
    "a = a.replace('()','')\n",
    "a\n",
    "a = a.replace('()','')\n",
    "a"
   ]
  },
  {
   "cell_type": "code",
   "execution_count": 59,
   "metadata": {},
   "outputs": [
    {
     "name": "stdout",
     "output_type": "stream",
     "text": [
      "1\n",
      "())))(()()()()()()()()()()()()\n",
      "NO\n"
     ]
    }
   ],
   "source": [
    "from collections import deque\n",
    "\n",
    "n = int(input())\n",
    "\n",
    "for _ in range(n):\n",
    "    cmd = deque(str(input()))\n",
    "    stk = deque([])\n",
    "    \n",
    "    if cmd[0] == ')':\n",
    "        print('NO')\n",
    "        continue\n",
    "    \n",
    "    while cmd:\n",
    "        target = cmd.popleft()\n",
    "        \n",
    "        if target == '(':\n",
    "            stk.append(target)\n",
    "        elif stk:\n",
    "            stk.pop()\n",
    "        else:\n",
    "            stk.append(target)\n",
    "            \n",
    "    if stk:\n",
    "        print('NO')\n",
    "    else:\n",
    "        print('YES')\n"
   ]
  },
  {
   "cell_type": "code",
   "execution_count": null,
   "metadata": {},
   "outputs": [],
   "source": []
  },
  {
   "cell_type": "code",
   "execution_count": null,
   "metadata": {},
   "outputs": [],
   "source": []
  },
  {
   "cell_type": "code",
   "execution_count": null,
   "metadata": {},
   "outputs": [],
   "source": []
  },
  {
   "cell_type": "code",
   "execution_count": 48,
   "metadata": {},
   "outputs": [
    {
     "name": "stdout",
     "output_type": "stream",
     "text": [
      "1\n",
      "(())())\n",
      "NO\n"
     ]
    }
   ],
   "source": [
    "n = int(input())\n",
    "\n",
    "for _ in range(n):\n",
    "    cmd = str(input())\n",
    "    \n",
    "    while len(cmd)>1:\n",
    "        cmd = cmd.replace('()','')\n",
    "            \n",
    "    if cmd:\n",
    "        print('NO')\n",
    "    else:\n",
    "        print('YES')\n"
   ]
  },
  {
   "cell_type": "code",
   "execution_count": null,
   "metadata": {},
   "outputs": [],
   "source": []
  },
  {
   "cell_type": "code",
   "execution_count": null,
   "metadata": {},
   "outputs": [],
   "source": []
  },
  {
   "cell_type": "code",
   "execution_count": null,
   "metadata": {},
   "outputs": [],
   "source": []
  },
  {
   "cell_type": "code",
   "execution_count": null,
   "metadata": {},
   "outputs": [],
   "source": [
    "from collections import deque\n",
    "\n",
    "n = int(input())\n",
    "\n",
    "for _ in range(n):\n",
    "    cmd = deque(str(input()))\n",
    "    stk = deque([])\n",
    "    \n",
    "    \n",
    "            \n",
    "            \n",
    "    if stk:\n",
    "        print('NO')\n",
    "    else:\n",
    "        print('YES')\n"
   ]
  },
  {
   "cell_type": "code",
   "execution_count": null,
   "metadata": {},
   "outputs": [],
   "source": []
  },
  {
   "cell_type": "code",
   "execution_count": null,
   "metadata": {},
   "outputs": [],
   "source": []
  },
  {
   "cell_type": "code",
   "execution_count": null,
   "metadata": {},
   "outputs": [],
   "source": []
  },
  {
   "cell_type": "code",
   "execution_count": null,
   "metadata": {},
   "outputs": [],
   "source": [
    "from collections import deque\n",
    "\n",
    "n = int(input())\n",
    "\n",
    "for _ in range(n):\n",
    "    cmd = deque(str(input()))\n",
    "    stk = deque([])\n",
    "    \n",
    "    if cmd[0] == ')':\n",
    "        print('NO')\n",
    "        continue\n",
    "    \n",
    "    while cmd:\n",
    "        stk.append(cmd.popleft())\n",
    "        if stk[-1] == ')' and len(stk) > 1:\n",
    "            \n",
    "            \n",
    "    if stk:\n",
    "        print('NO')\n",
    "    else:\n",
    "        print('YES')\n"
   ]
  },
  {
   "cell_type": "code",
   "execution_count": null,
   "metadata": {},
   "outputs": [],
   "source": []
  },
  {
   "cell_type": "code",
   "execution_count": null,
   "metadata": {},
   "outputs": [],
   "source": []
  },
  {
   "cell_type": "code",
   "execution_count": 35,
   "metadata": {},
   "outputs": [
    {
     "name": "stdout",
     "output_type": "stream",
     "text": [
      "1\n",
      "())(()\n",
      "NO\n"
     ]
    }
   ],
   "source": [
    "from collections import deque\n",
    "\n",
    "n = int(input())\n",
    "\n",
    "for _ in range(n):\n",
    "    cmd = deque(str(input()))\n",
    "    stk = deque([])\n",
    "    \n",
    "    if cmd[0] == ')':\n",
    "        print('NO')\n",
    "        continue\n",
    "    \n",
    "    while cmd:\n",
    "        target = cmd.popleft()\n",
    "        if target == ')' and len(stk) > 0:\n",
    "            stk.pop()\n",
    "        else:\n",
    "            stk.append('(')\n",
    "            \n",
    "    if stk:\n",
    "        print('NO')\n",
    "    else:\n",
    "        print('YES')\n"
   ]
  },
  {
   "cell_type": "code",
   "execution_count": 14,
   "metadata": {},
   "outputs": [
    {
     "data": {
      "text/plain": [
       "['2', '3']"
      ]
     },
     "execution_count": 14,
     "metadata": {},
     "output_type": "execute_result"
    }
   ],
   "source": [
    "['1','2','3'][-2:]"
   ]
  },
  {
   "cell_type": "code",
   "execution_count": null,
   "metadata": {},
   "outputs": [],
   "source": []
  }
 ],
 "metadata": {
  "kernelspec": {
   "display_name": "Python 3",
   "language": "python",
   "name": "python3"
  },
  "language_info": {
   "codemirror_mode": {
    "name": "ipython",
    "version": 3
   },
   "file_extension": ".py",
   "mimetype": "text/x-python",
   "name": "python",
   "nbconvert_exporter": "python",
   "pygments_lexer": "ipython3",
   "version": "3.8.3"
  }
 },
 "nbformat": 4,
 "nbformat_minor": 4
}
