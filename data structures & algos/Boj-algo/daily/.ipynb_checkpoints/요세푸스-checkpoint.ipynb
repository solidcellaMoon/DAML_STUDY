{
 "cells": [
  {
   "cell_type": "markdown",
   "metadata": {},
   "source": [
    "https://www.acmicpc.net/problem/1158"
   ]
  },
  {
   "cell_type": "code",
   "execution_count": 19,
   "metadata": {},
   "outputs": [
    {
     "name": "stdout",
     "output_type": "stream",
     "text": [
      "7 3\n",
      "<3, 6, 2, 7, 5, 1, 4>\n"
     ]
    }
   ],
   "source": [
    "N, K = map(int, input().split())\n",
    "\n",
    "arr = [i for i in range(1,N+1)]\n",
    "\n",
    "target = K-1\n",
    "result = []\n",
    "#print(arr[target])\n",
    "\n",
    "while arr:\n",
    "    result.append(arr.pop(target))\n",
    "    target += K-1\n",
    "    if not arr:\n",
    "        break\n",
    "    if target > len(arr)-1:\n",
    "        target %= len(arr)\n",
    "        \n",
    "    #print(arr, result)\n",
    "    \n",
    "print(str(result).replace('[','<').replace(']','>'))\n"
   ]
  }
 ],
 "metadata": {
  "kernelspec": {
   "display_name": "Python 3",
   "language": "python",
   "name": "python3"
  },
  "language_info": {
   "codemirror_mode": {
    "name": "ipython",
    "version": 3
   },
   "file_extension": ".py",
   "mimetype": "text/x-python",
   "name": "python",
   "nbconvert_exporter": "python",
   "pygments_lexer": "ipython3",
   "version": "3.8.3"
  }
 },
 "nbformat": 4,
 "nbformat_minor": 4
}
