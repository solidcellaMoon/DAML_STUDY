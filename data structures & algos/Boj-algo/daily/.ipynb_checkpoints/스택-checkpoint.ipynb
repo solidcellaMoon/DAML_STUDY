{
 "cells": [
  {
   "cell_type": "code",
   "execution_count": null,
   "metadata": {},
   "outputs": [],
   "source": [
    "#시간초과 방지용\n",
    "import sys\n",
    "input = sys.stdin.readline\n",
    "\n",
    "\n",
    "n = int(input())\n",
    "stack = []\n",
    "\n",
    "for _ in range(n):\n",
    "    cmd = input().split()\n",
    "    \n",
    "    if cmd[0] == 'push':\n",
    "        stack.append(int(cmd[1]))\n",
    "        \n",
    "    elif cmd[0] == 'pop':\n",
    "        if stack: print(stack.pop())\n",
    "        else: print(-1)\n",
    "            \n",
    "    elif cmd[0] == 'size':\n",
    "        print(len(stack))\n",
    "        \n",
    "    elif cmd[0] == 'empty':\n",
    "        if not stack: print(1)\n",
    "        else: print(0)\n",
    "            \n",
    "    elif cmd[0] == 'top':\n",
    "        if stack: print(stack[-1])\n",
    "        else: print(-1)"
   ]
  },
  {
   "cell_type": "code",
   "execution_count": null,
   "metadata": {},
   "outputs": [],
   "source": []
  },
  {
   "cell_type": "code",
   "execution_count": null,
   "metadata": {},
   "outputs": [],
   "source": []
  },
  {
   "cell_type": "code",
   "execution_count": null,
   "metadata": {},
   "outputs": [],
   "source": []
  },
  {
   "cell_type": "code",
   "execution_count": 15,
   "metadata": {},
   "outputs": [
    {
     "ename": "ValueError",
     "evalue": "invalid literal for int() with base 10: ''",
     "output_type": "error",
     "traceback": [
      "\u001b[1;31m---------------------------------------------------------------------------\u001b[0m",
      "\u001b[1;31mValueError\u001b[0m                                Traceback (most recent call last)",
      "\u001b[1;32m<ipython-input-15-8278560f5a19>\u001b[0m in \u001b[0;36m<module>\u001b[1;34m\u001b[0m\n\u001b[0;32m      3\u001b[0m \u001b[0minput\u001b[0m\u001b[1;33m=\u001b[0m\u001b[0msys\u001b[0m\u001b[1;33m.\u001b[0m\u001b[0mstdin\u001b[0m\u001b[1;33m.\u001b[0m\u001b[0mreadline\u001b[0m\u001b[1;33m\u001b[0m\u001b[1;33m\u001b[0m\u001b[0m\n\u001b[0;32m      4\u001b[0m \u001b[1;33m\u001b[0m\u001b[0m\n\u001b[1;32m----> 5\u001b[1;33m \u001b[0mn\u001b[0m \u001b[1;33m=\u001b[0m \u001b[0mint\u001b[0m\u001b[1;33m(\u001b[0m\u001b[0minput\u001b[0m\u001b[1;33m(\u001b[0m\u001b[1;33m)\u001b[0m\u001b[1;33m)\u001b[0m\u001b[1;33m\u001b[0m\u001b[1;33m\u001b[0m\u001b[0m\n\u001b[0m\u001b[0;32m      6\u001b[0m \u001b[0mstack\u001b[0m \u001b[1;33m=\u001b[0m \u001b[1;33m[\u001b[0m\u001b[1;33m]\u001b[0m\u001b[1;33m\u001b[0m\u001b[1;33m\u001b[0m\u001b[0m\n\u001b[0;32m      7\u001b[0m \u001b[0mcommand\u001b[0m \u001b[1;33m=\u001b[0m \u001b[1;33m[\u001b[0m\u001b[1;34m'push'\u001b[0m\u001b[1;33m,\u001b[0m\u001b[1;34m'pop'\u001b[0m\u001b[1;33m,\u001b[0m\u001b[1;34m'size'\u001b[0m\u001b[1;33m,\u001b[0m\u001b[1;34m'empty'\u001b[0m\u001b[1;33m,\u001b[0m\u001b[1;34m'top'\u001b[0m\u001b[1;33m]\u001b[0m\u001b[1;33m\u001b[0m\u001b[1;33m\u001b[0m\u001b[0m\n",
      "\u001b[1;31mValueError\u001b[0m: invalid literal for int() with base 10: ''"
     ]
    }
   ],
   "source": [
    "import sys\n",
    "\n",
    "input=sys.stdin.readline\n",
    "\n",
    "n = int(input())\n",
    "stack = []\n",
    "command = ['push','pop','size','empty','top']\n",
    "lens = 0\n",
    "\n",
    "for _ in range(n):\n",
    "    cmd = input().split(' ')\n",
    "    \n",
    "    if cmd[0] == 'push':\n",
    "        stack.append(int(cmd[1]))\n",
    "        lens += 1\n",
    "        \n",
    "    elif cmd[0] == 'pop':\n",
    "        if lens > 0:\n",
    "            print(stack.pop())\n",
    "            lens -= 1\n",
    "        else: print(-1)\n",
    "            \n",
    "    elif cmd[0] == 'size':\n",
    "        print(lens)\n",
    "        \n",
    "    elif cmd[0] == 'empty':\n",
    "        if lens == 0: print(1)\n",
    "        else: print(0)\n",
    "            \n",
    "    elif cmd[0] == 'top':\n",
    "        if lens > 0: print(stack[lens-1])\n",
    "        else: print(-1)"
   ]
  },
  {
   "cell_type": "code",
   "execution_count": null,
   "metadata": {},
   "outputs": [],
   "source": []
  }
 ],
 "metadata": {
  "kernelspec": {
   "display_name": "Python 3",
   "language": "python",
   "name": "python3"
  },
  "language_info": {
   "codemirror_mode": {
    "name": "ipython",
    "version": 3
   },
   "file_extension": ".py",
   "mimetype": "text/x-python",
   "name": "python",
   "nbconvert_exporter": "python",
   "pygments_lexer": "ipython3",
   "version": "3.8.3"
  }
 },
 "nbformat": 4,
 "nbformat_minor": 4
}
