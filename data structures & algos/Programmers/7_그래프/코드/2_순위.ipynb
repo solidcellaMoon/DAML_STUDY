{
 "cells": [
  {
   "cell_type": "markdown",
   "metadata": {},
   "source": [
    "# 프로그래머스 그래프 문제\n",
    "https://programmers.co.kr/learn/courses/30/parts/14393\n",
    "\n",
    "# 순위 (★★★)\n",
    "https://programmers.co.kr/learn/courses/30/lessons/49191\n",
    "\n",
    "## 문제 설명\n",
    "n명의 권투선수가 권투 대회에 참여했고 각각 1번부터 n번까지 번호를 받았습니다. 권투 경기는 1대1 방식으로 진행이 되고, 만약 A 선수가 B 선수보다 실력이 좋다면 A 선수는 B 선수를 항상 이깁니다. 심판은 주어진 경기 결과를 가지고 선수들의 순위를 매기려 합니다. 하지만 몇몇 경기 결과를 분실하여 정확하게 순위를 매길 수 없습니다.\n",
    "\n",
    "선수의 수 n, 경기 결과를 담은 2차원 배열 results가 매개변수로 주어질 때 정확하게 순위를 매길 수 있는 선수의 수를 return 하도록 solution 함수를 작성해주세요.\n",
    "\n",
    "### 제한 조건\n",
    "* 선수의 수는 1명 이상 100명 이하입니다.\n",
    "* 경기 결과는 1개 이상 4,500개 이하입니다.\n",
    "* results 배열 각 행 [A, B]는 A 선수가 B 선수를 이겼다는 의미입니다.\n",
    "* 모든 경기 결과에는 모순이 없습니다."
   ]
  },
  {
   "cell_type": "markdown",
   "metadata": {},
   "source": [
    "[[4, 3], [4, 2], [3, 2], [1, 2], [2, 5]]\n",
    "\n",
    "승\n",
    "4: 3, 2\n",
    "3: 2\n",
    "1: 2\n",
    "2: 5\n",
    "5: ?\n",
    "\n",
    "패\n",
    "1: ?\n",
    "2: 3,4\n",
    "3: 4\n",
    "4: ?\n",
    "5: 2"
   ]
  },
  {
   "cell_type": "code",
   "execution_count": 21,
   "metadata": {},
   "outputs": [],
   "source": [
    "n = 5\n",
    "results = [[4, 3], [4, 2], [3, 2], [1, 2], [2, 5]]\n",
    "#결과 2"
   ]
  },
  {
   "cell_type": "markdown",
   "metadata": {},
   "source": [
    "## 풀이\n",
    "와샬플로이드 알고리즘\n",
    "\n",
    "https://woongsin94.tistory.com/390"
   ]
  },
  {
   "cell_type": "code",
   "execution_count": 24,
   "metadata": {},
   "outputs": [],
   "source": [
    "def solutions(n, results):\n",
    "    answer = 0\n",
    "    \n",
    "    #n번 선수가 누구에게 이겼는지?\n",
    "    wins = {x:set() for x in range(1,n+1)}\n",
    "    \n",
    "    #n번 선수가 누구에게 졌는지?\n",
    "    loses = {x:set() for x in range(1,n+1)}\n",
    "    \n",
    "    for i, j in results:\n",
    "        wins[i].add(j)\n",
    "        loses[j].add(i)\n",
    "        \n",
    "    print('win:',wins)\n",
    "    print('lose:',loses)\n",
    "    \n",
    "    print()\n",
    "    \n",
    "    for i in range(1,n+1):\n",
    "        #i를 지게 한 사람들은, i가 이긴 사람들도 이긴다\n",
    "        for winner in loses[i]:\n",
    "            wins[winner].update(wins[i])\n",
    "        \n",
    "        #i에게 진 사람들은, i를 지게 한 사람들에게도 진다\n",
    "        for loser in wins[i]:\n",
    "            loses[loser].update(loses[i])\n",
    "            \n",
    "    print('win:',wins)\n",
    "    print('lose:',loses)\n",
    "            \n",
    "    for i in range(1,n+1):\n",
    "        #나를 제외한 모든 사람과의 기록이 있다면?\n",
    "        #실력을 매길 수 있음 -> 정답!\n",
    "        if len(wins[i]) + len(loses[i]) == n-1:\n",
    "            answer += 1\n",
    "    \n",
    "    return answer\n"
   ]
  },
  {
   "cell_type": "code",
   "execution_count": 25,
   "metadata": {},
   "outputs": [
    {
     "name": "stdout",
     "output_type": "stream",
     "text": [
      "win: {1: {2}, 2: {5}, 3: {2}, 4: {2, 3}, 5: set()}\n",
      "lose: {1: set(), 2: {1, 3, 4}, 3: {4}, 4: set(), 5: {2}}\n",
      "\n",
      "win: {1: {2, 5}, 2: {5}, 3: {2, 5}, 4: {2, 3, 5}, 5: set()}\n",
      "lose: {1: set(), 2: {1, 3, 4}, 3: {4}, 4: set(), 5: {1, 2, 3, 4}}\n"
     ]
    },
    {
     "data": {
      "text/plain": [
       "2"
      ]
     },
     "execution_count": 25,
     "metadata": {},
     "output_type": "execute_result"
    }
   ],
   "source": [
    "solutions(n, results)"
   ]
  },
  {
   "cell_type": "code",
   "execution_count": null,
   "metadata": {},
   "outputs": [],
   "source": []
  },
  {
   "cell_type": "code",
   "execution_count": null,
   "metadata": {},
   "outputs": [],
   "source": []
  },
  {
   "cell_type": "code",
   "execution_count": null,
   "metadata": {},
   "outputs": [],
   "source": []
  }
 ],
 "metadata": {
  "kernelspec": {
   "display_name": "Python 3",
   "language": "python",
   "name": "python3"
  },
  "language_info": {
   "codemirror_mode": {
    "name": "ipython",
    "version": 3
   },
   "file_extension": ".py",
   "mimetype": "text/x-python",
   "name": "python",
   "nbconvert_exporter": "python",
   "pygments_lexer": "ipython3",
   "version": "3.8.3"
  }
 },
 "nbformat": 4,
 "nbformat_minor": 4
}
