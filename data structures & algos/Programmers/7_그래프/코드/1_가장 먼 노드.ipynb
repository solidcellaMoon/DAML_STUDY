{
 "cells": [
  {
   "cell_type": "markdown",
   "metadata": {},
   "source": [
    "# 프로그래머스 그래프 문제\n",
    "https://programmers.co.kr/learn/courses/30/parts/14393\n",
    "\n",
    "# 가장 먼 노드\n",
    "https://programmers.co.kr/learn/courses/30/lessons/49189\n",
    "\n",
    "## 문제 설명\n",
    "n개의 노드가 있는 그래프가 있습니다. 각 노드는 1부터 n까지 번호가 적혀있습니다. 1번 노드에서 가장 멀리 떨어진 노드의 갯수를 구하려고 합니다. 가장 멀리 떨어진 노드란 최단경로로 이동했을 때 간선의 개수가 가장 많은 노드들을 의미합니다.\n",
    "\n",
    "노드의 개수 n, 간선에 대한 정보가 담긴 2차원 배열 vertex가 매개변수로 주어질 때, 1번 노드로부터 가장 멀리 떨어진 노드가 몇 개인지를 return 하도록 solution 함수를 작성해주세요.\n",
    "\n",
    "### 제한 조건\n",
    "* 노드의 개수 n은 2 이상 20,000 이하입니다.\n",
    "* 간선은 양방향이며 총 1개 이상 50,000개 이하의 간선이 있습니다.\n",
    "* vertex 배열 각 행 [a, b]는 a번 노드와 b번 노드 사이에 간선이 있다는 의미입니다."
   ]
  },
  {
   "cell_type": "code",
   "execution_count": 13,
   "metadata": {},
   "outputs": [],
   "source": [
    "n = 6\n",
    "vertex = [[3, 6], [4, 3], [3, 2], [1, 3], [1, 2], [2, 4], [5, 2]]\n",
    "#결과 3"
   ]
  },
  {
   "cell_type": "markdown",
   "metadata": {},
   "source": [
    "## 풀이\n",
    "https://velog.io/@devjuun_s/%EA%B0%80%EC%9E%A5-%EB%A8%BC-%EB%85%B8%EB%93%9C-%ED%94%84%EB%A1%9C%EA%B7%B8%EB%9E%98%EB%A8%B8%EC%8A%A4python"
   ]
  },
  {
   "cell_type": "code",
   "execution_count": 58,
   "metadata": {},
   "outputs": [],
   "source": [
    "from collections import deque\n",
    "\n",
    "def bfs(v, visited, adj):\n",
    "    \n",
    "    #노드 방문에 몇번을 거쳐 왔는지\n",
    "    #count를 q에 정점과 같이 넣어줌으로써 반복\n",
    "    \n",
    "    cnt = 0\n",
    "    q = deque([[v,cnt]])\n",
    "    \n",
    "    while q:\n",
    "        \n",
    "        value = q.popleft()\n",
    "        \n",
    "        v = value[0] #위치\n",
    "        cnt = value[1]#방문횟수\n",
    "        \n",
    "        if visited[v] == -1:\n",
    "            #각 인덱스(노드)에 count를 대입\n",
    "            visited[v] = cnt\n",
    "            cnt += 1\n",
    "            #v의 인접노드 넣기\n",
    "            for e in adj[v]:\n",
    "                q.append([e,cnt])\n",
    "                "
   ]
  },
  {
   "cell_type": "code",
   "execution_count": 59,
   "metadata": {},
   "outputs": [],
   "source": [
    "def solution(n,edge):\n",
    "    answer = 0\n",
    "    \n",
    "    visited = [-1] * (n+1)\n",
    "    \n",
    "    #인접리스트를 이용해서 노드가 각각 누구와 연결되어 있는지 정의\n",
    "    adj = [[] for _ in range(n + 1)]\n",
    "    \n",
    "    for e in edge:\n",
    "        x, y = e[0], e[1]\n",
    "        print(x,y)\n",
    "        adj[x].append(y)\n",
    "        adj[y].append(x)\n",
    "        \n",
    "    print(adj)\n",
    "    print(visited)\n",
    "        \n",
    "    #1부터 BFS로 탐색\n",
    "    bfs(1, visited, adj)\n",
    "        \n",
    "    for value in visited:\n",
    "        if value == max(visited):\n",
    "            answer += 1\n",
    "            \n",
    "    print(visited)\n",
    "    \n",
    "    return answer"
   ]
  },
  {
   "cell_type": "code",
   "execution_count": 60,
   "metadata": {},
   "outputs": [],
   "source": [
    "vertex = [[3, 6], [4, 3], [3, 2], [1, 3], [1, 2], [2, 4], [5, 2]]"
   ]
  },
  {
   "cell_type": "code",
   "execution_count": 61,
   "metadata": {},
   "outputs": [
    {
     "name": "stdout",
     "output_type": "stream",
     "text": [
      "3 6\n",
      "4 3\n",
      "3 2\n",
      "1 3\n",
      "1 2\n",
      "2 4\n",
      "5 2\n",
      "[[], [3, 2], [3, 1, 4, 5], [6, 4, 2, 1], [3, 2], [2], [3]]\n",
      "[-1, -1, -1, -1, -1, -1, -1]\n",
      "[3, 1]\n",
      "[2, 1]\n",
      "[6, 2]\n",
      "[4, 2]\n",
      "[2, 2]\n",
      "[1, 2]\n",
      "[3, 2]\n",
      "[1, 2]\n",
      "[4, 2]\n",
      "[5, 2]\n",
      "[3, 3]\n",
      "[3, 3]\n",
      "[2, 3]\n",
      "[2, 3]\n",
      "[-1, 0, 1, 1, 2, 2, 2]\n"
     ]
    },
    {
     "data": {
      "text/plain": [
       "3"
      ]
     },
     "execution_count": 61,
     "metadata": {},
     "output_type": "execute_result"
    }
   ],
   "source": [
    "solution(n,vertex)"
   ]
  },
  {
   "cell_type": "markdown",
   "metadata": {},
   "source": [
    "## 배워둘 것"
   ]
  },
  {
   "cell_type": "code",
   "execution_count": 62,
   "metadata": {},
   "outputs": [
    {
     "data": {
      "text/plain": [
       "['a', 'a', 'a', 'a', 'a']"
      ]
     },
     "execution_count": 62,
     "metadata": {},
     "output_type": "execute_result"
    }
   ],
   "source": [
    "list('a' for _ in range(5))"
   ]
  },
  {
   "cell_type": "code",
   "execution_count": null,
   "metadata": {},
   "outputs": [],
   "source": []
  },
  {
   "cell_type": "code",
   "execution_count": null,
   "metadata": {},
   "outputs": [],
   "source": []
  },
  {
   "cell_type": "code",
   "execution_count": null,
   "metadata": {},
   "outputs": [],
   "source": []
  }
 ],
 "metadata": {
  "kernelspec": {
   "display_name": "Python 3",
   "language": "python",
   "name": "python3"
  },
  "language_info": {
   "codemirror_mode": {
    "name": "ipython",
    "version": 3
   },
   "file_extension": ".py",
   "mimetype": "text/x-python",
   "name": "python",
   "nbconvert_exporter": "python",
   "pygments_lexer": "ipython3",
   "version": "3.8.3"
  }
 },
 "nbformat": 4,
 "nbformat_minor": 4
}
