{
 "cells": [
  {
   "cell_type": "markdown",
   "metadata": {},
   "source": [
    "# 프로그래머스 완전탐색 문제\n",
    "https://programmers.co.kr/learn/courses/30/parts/12230\n",
    "\n",
    "# 카펫 (★)\n",
    "https://programmers.co.kr/learn/courses/30/lessons/42842\n",
    "\n",
    "## 문제 설명\n",
    "Leo는 카펫을 사러 갔다가 아래 그림과 같이 중앙에는 노란색으로 칠해져 있고 테두리 1줄은 갈색으로 칠해져 있는 격자 모양 카펫을 봤습니다.\n",
    "\n",
    "Leo는 집으로 돌아와서 아까 본 카펫의 노란색과 갈색으로 색칠된 격자의 개수는 기억했지만, 전체 카펫의 크기는 기억하지 못했습니다.\n",
    "\n",
    "Leo가 본 카펫에서 갈색 격자의 수 brown, 노란색 격자의 수 yellow가 매개변수로 주어질 때 카펫의 가로, 세로 크기를 순서대로 배열에 담아 return 하도록 solution 함수를 작성해주세요.\n",
    "\n",
    "### 제한 조건\n",
    "* 갈색 격자의 수 brown은 8 이상 5,000 이하인 자연수입니다.\n",
    "* 노란색 격자의 수 yellow는 1 이상 2,000,000 이하인 자연수입니다.\n",
    "* 카펫의 가로 길이는 세로 길이와 같거나, 세로 길이보다 깁니다."
   ]
  },
  {
   "cell_type": "code",
   "execution_count": 1,
   "metadata": {},
   "outputs": [],
   "source": [
    "brown, yellow = 24, 24\n",
    "#결과 = [8,6]"
   ]
  },
  {
   "cell_type": "code",
   "execution_count": 2,
   "metadata": {},
   "outputs": [],
   "source": [
    "def solution(brown, yellow):\n",
    "    answer = []\n",
    "    \n",
    "    #가로, 세로\n",
    "    width, depth = 0, 0\n",
    "    \n",
    "    #전체 타일 수\n",
    "    total = brown+yellow\n",
    "    \n",
    "    #n*X = total이 되는 X를 구함. (단 X >= n)\n",
    "    for i in range(1,total+1):\n",
    "        \n",
    "        if (total % i == 0) & (i >= int(total/i)):\n",
    "            #큰 값이 가로, 작은 값이 세로\n",
    "            width, depth = i,int(total/i)\n",
    "            \n",
    "            #가로, 세로값이 주어진 타일색 개수와 부합하면 정답 (★)\n",
    "            # yellow = (width-2)*(depth-2)\n",
    "            # brown = 2*((width)+(depth-2))\n",
    "            if ((width-2)*(depth-2) == yellow) & (2*((width)+(depth-2)) == brown):\n",
    "                break\n",
    "            \n",
    "    answer.extend([width, depth])\n",
    "    \n",
    "    return answer"
   ]
  },
  {
   "cell_type": "code",
   "execution_count": 3,
   "metadata": {
    "scrolled": true
   },
   "outputs": [
    {
     "data": {
      "text/plain": [
       "[8, 6]"
      ]
     },
     "execution_count": 3,
     "metadata": {},
     "output_type": "execute_result"
    }
   ],
   "source": [
    "solution(brown, yellow)"
   ]
  },
  {
   "cell_type": "markdown",
   "metadata": {},
   "source": [
    "## 주의할 점\n",
    "\n",
    "#### total값이 동일한 경우, total = brown + yellow이 성립되는 경우는 여러개가 존재합니다.\n",
    "\n",
    "total = 48인 경우,\n",
    "(8,6) (12,4) (16,3) (24,2) (48,1) 에서\n",
    "* brown = 24 / yellow = 24 -> result (8,6)\n",
    "* brown = 28 / yellow = 20 -> result (12,4)\n",
    "\n",
    "### 따라서 해당 색깔의 타일 수 정보와 같은 경우가 정답입니다.\n",
    "조건문으로 확인해줘야 합니다.\n",
    "\n",
    "* yellow = (width-2)*(depth-2)\n",
    "* brown = 2*((width)+(depth-2))\n",
    "\n"
   ]
  },
  {
   "cell_type": "code",
   "execution_count": null,
   "metadata": {},
   "outputs": [],
   "source": []
  },
  {
   "cell_type": "code",
   "execution_count": null,
   "metadata": {},
   "outputs": [],
   "source": []
  }
 ],
 "metadata": {
  "kernelspec": {
   "display_name": "Python 3",
   "language": "python",
   "name": "python3"
  },
  "language_info": {
   "codemirror_mode": {
    "name": "ipython",
    "version": 3
   },
   "file_extension": ".py",
   "mimetype": "text/x-python",
   "name": "python",
   "nbconvert_exporter": "python",
   "pygments_lexer": "ipython3",
   "version": "3.8.3"
  }
 },
 "nbformat": 4,
 "nbformat_minor": 4
}
