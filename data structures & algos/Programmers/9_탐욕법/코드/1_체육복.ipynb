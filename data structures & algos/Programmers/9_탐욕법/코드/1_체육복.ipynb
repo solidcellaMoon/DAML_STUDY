{
 "cells": [
  {
   "cell_type": "markdown",
   "metadata": {},
   "source": [
    "# 프로그래머스 탐욕법 문제\n",
    "https://programmers.co.kr/learn/courses/30/parts/12244\n",
    "\n",
    "# 체육복\n",
    "https://programmers.co.kr/learn/courses/30/parts/12244\n",
    "\n",
    "## 문제 설명\n",
    "점심시간에 도둑이 들어, 일부 학생이 체육복을 도난당했습니다. 다행히 여벌 체육복이 있는 학생이 이들에게 체육복을 빌려주려 합니다. 학생들의 번호는 체격 순으로 매겨져 있어, 바로 앞번호의 학생이나 바로 뒷번호의 학생에게만 체육복을 빌려줄 수 있습니다. 예를 들어, 4번 학생은 3번 학생이나 5번 학생에게만 체육복을 빌려줄 수 있습니다. 체육복이 없으면 수업을 들을 수 없기 때문에 체육복을 적절히 빌려 최대한 많은 학생이 체육수업을 들어야 합니다.\n",
    "\n",
    "전체 학생의 수 n, 체육복을 도난당한 학생들의 번호가 담긴 배열 lost, 여벌의 체육복을 가져온 학생들의 번호가 담긴 배열 reserve가 매개변수로 주어질 때, 체육수업을 들을 수 있는 학생의 최댓값을 return 하도록 solution 함수를 작성해주세요.\n",
    "\n",
    "### 제한 조건\n",
    "* 전체 학생의 수는 2명 이상 30명 이하입니다.\n",
    "* 체육복을 도난당한 학생의 수는 1명 이상 n명 이하이고 중복되는 번호는 없습니다.\n",
    "* 여벌의 체육복을 가져온 학생의 수는 1명 이상 n명 이하이고 중복되는 번호는 없습니다.\n",
    "* 여벌 체육복이 있는 학생만 다른 학생에게 체육복을 빌려줄 수 있습니다.\n",
    "* 여벌 체육복을 가져온 학생이 체육복을 도난당했을 수 있습니다. 이때 이 학생은 체육복을 하나만 도난당했다고 가정하며, 남은 체육복이 하나이기에 다른 학생에게는 체육복을 빌려줄 수 없습니다."
   ]
  },
  {
   "cell_type": "code",
   "execution_count": 5,
   "metadata": {},
   "outputs": [],
   "source": [
    "n = 5\n",
    "lost = [2,4]\n",
    "reserve = [1,3,5]\n",
    "#결과 5"
   ]
  },
  {
   "cell_type": "markdown",
   "metadata": {},
   "source": [
    "2,4가 뺏김.\n",
    "\n",
    "1[2] / 2[0] / 3[2] / 4[0] / 5[2]\n",
    "\n",
    "1: 2\n",
    "\n",
    "3: 2,4\n",
    "\n",
    "5: 4\n",
    "\n",
    "1이 2에게, 3이 4에게 빌려주면 채워짐.\n",
    "\n",
    "1[1] -> 2[1] / 3[1] -> 4[1] / 5[2]\n"
   ]
  },
  {
   "cell_type": "code",
   "execution_count": 72,
   "metadata": {},
   "outputs": [],
   "source": [
    "n = 5\n",
    "lost = [2,4,5]\n",
    "reserve = [1,3,5]\n",
    "#결과 5"
   ]
  },
  {
   "cell_type": "markdown",
   "metadata": {},
   "source": [
    "#### 여벌 체육복을 가져온 학생이 체육복을 도난당했을 수 있습니다\n",
    "2,4,5가 뺏김.\n",
    "\n",
    "1[2] / 2[0] / 3[2] / 4[0] / 5[2]\n",
    "===>\n",
    "1[2] / 2[0] / 3[2] / 4[0] / 5[1]\n",
    "\n",
    "1: 2\n",
    "\n",
    "3: 2,4\n",
    "\n",
    "5: x\n",
    "\n",
    "1이 2에게, 3이 4에게 빌려주면 채워짐.\n",
    "\n",
    "1[1] -> 2[1] / 3[1] -> 4[1] / 5[1]\n"
   ]
  },
  {
   "cell_type": "markdown",
   "metadata": {},
   "source": [
    "## 풀이\n",
    "\n",
    "탐욕법이란...?\n",
    "\n",
    "https://wooaoe.tistory.com/78\n",
    "\n",
    "참고2: https://velog.io/@ju_h2/Python-%ED%8C%8C%EC%9D%B4%EC%8D%AC-%ED%83%90%EC%9A%95-%EC%95%8C%EA%B3%A0%EB%A6%AC%EC%A6%98%EA%B7%B8%EB%A6%AC%EB%94%94-%EA%B5%AC%ED%98%84-%EB%B0%B1%EC%A4%80-%EA%B4%80%EB%A0%A8-%EB%AC%B8%EC%A0%9C-%ED%92%80%EC%9D%B4"
   ]
  },
  {
   "cell_type": "code",
   "execution_count": 73,
   "metadata": {},
   "outputs": [],
   "source": [
    "def solution(n, lost, reserve):\n",
    "    \n",
    "    #여분 있는 사람중에 도난당하지 않는 경우\n",
    "    res_del = set(reserve) - set(lost)\n",
    "    \n",
    "    #도난당한 사람중에 여분이 없는 경우\n",
    "    lost_del = set(lost) - set(reserve)\n",
    "    \n",
    "    #빌려줄 수 있는 사람들\n",
    "    for i in res_del:\n",
    "        if i-1 in lost_del:\n",
    "            lost_del.remove(i-1)\n",
    "        elif i+1 in lost_del:\n",
    "            lost_del.remove(i+1)\n",
    "            \n",
    "    #최종 lost_del에 있다면, 마지막까지 체육복이 0인 경우\n",
    "    #즉 참여 못하는 인원수\n",
    "    \n",
    "    answer = n - len(lost_del)\n",
    "    \n",
    "    return answer"
   ]
  },
  {
   "cell_type": "code",
   "execution_count": 74,
   "metadata": {},
   "outputs": [
    {
     "data": {
      "text/plain": [
       "5"
      ]
     },
     "execution_count": 74,
     "metadata": {},
     "output_type": "execute_result"
    }
   ],
   "source": [
    "solution(n, lost, reserve)"
   ]
  },
  {
   "cell_type": "markdown",
   "metadata": {},
   "source": [
    "### 참고"
   ]
  },
  {
   "cell_type": "code",
   "execution_count": 68,
   "metadata": {
    "scrolled": true
   },
   "outputs": [
    {
     "name": "stdout",
     "output_type": "stream",
     "text": [
      "{2, 3}\n"
     ]
    }
   ],
   "source": [
    "a = [1,2,3]\n",
    "b = [1,4,5]\n",
    "\n",
    "print(set(a) - set(b))"
   ]
  },
  {
   "cell_type": "markdown",
   "metadata": {},
   "source": [
    "### 내 풀이(BAD)\n",
    "\n",
    "ㅠㅠㅠㅠ"
   ]
  },
  {
   "cell_type": "code",
   "execution_count": 64,
   "metadata": {},
   "outputs": [],
   "source": [
    "n = 10\n",
    "lost = [3,7]\n",
    "reserve = [4,10]"
   ]
  },
  {
   "cell_type": "code",
   "execution_count": 65,
   "metadata": {},
   "outputs": [],
   "source": [
    "def solution(n, lost, reserve):\n",
    "    answer = 0\n",
    "    \n",
    "    #인덱스 1~n에 각 번호학생의 체육복수 저장\n",
    "    student = [[1] for _ in range(n+1)]\n",
    "    #student[0][0]은 무시!!\n",
    "    \n",
    "    for i in lost:\n",
    "        student[i][0] -= 1\n",
    "        \n",
    "    for i in reserve:\n",
    "        student[i][0] += 1\n",
    "        \n",
    "    print(student)\n",
    "    \n",
    "    for i in range(1,n+1):\n",
    "        if student[i][0] > 1:\n",
    "            student[i][0] -= 1\n",
    "            if i != n and student[i+1][0] == 0:\n",
    "                student[i+1][0] += 1\n",
    "            if i != 1 and student[i-1][0] == 0:\n",
    "                student[i-1][0] += 1\n",
    "                answer += 1\n",
    "                \n",
    "        if student[i][0] >=1:\n",
    "            answer += 1\n",
    "        print(answer)\n",
    "                \n",
    "    \n",
    "    return answer"
   ]
  },
  {
   "cell_type": "code",
   "execution_count": 66,
   "metadata": {
    "scrolled": true
   },
   "outputs": [
    {
     "name": "stdout",
     "output_type": "stream",
     "text": [
      "[[1], [1], [1], [0], [2], [1], [1], [0], [1], [1], [2]]\n",
      "1\n",
      "2\n",
      "2\n",
      "4\n",
      "5\n",
      "6\n",
      "6\n",
      "7\n",
      "8\n",
      "9\n"
     ]
    },
    {
     "data": {
      "text/plain": [
       "9"
      ]
     },
     "execution_count": 66,
     "metadata": {},
     "output_type": "execute_result"
    }
   ],
   "source": [
    "solution(n, lost, reserve)"
   ]
  },
  {
   "cell_type": "code",
   "execution_count": null,
   "metadata": {},
   "outputs": [],
   "source": []
  },
  {
   "cell_type": "code",
   "execution_count": null,
   "metadata": {},
   "outputs": [],
   "source": []
  },
  {
   "cell_type": "code",
   "execution_count": null,
   "metadata": {},
   "outputs": [],
   "source": []
  }
 ],
 "metadata": {
  "kernelspec": {
   "display_name": "Python 3",
   "language": "python",
   "name": "python3"
  },
  "language_info": {
   "codemirror_mode": {
    "name": "ipython",
    "version": 3
   },
   "file_extension": ".py",
   "mimetype": "text/x-python",
   "name": "python",
   "nbconvert_exporter": "python",
   "pygments_lexer": "ipython3",
   "version": "3.8.3"
  }
 },
 "nbformat": 4,
 "nbformat_minor": 4
}
