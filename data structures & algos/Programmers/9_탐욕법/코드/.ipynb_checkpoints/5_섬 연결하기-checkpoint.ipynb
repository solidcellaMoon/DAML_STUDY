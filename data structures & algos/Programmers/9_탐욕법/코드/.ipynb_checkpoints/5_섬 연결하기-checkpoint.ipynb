{
 "cells": [
  {
   "cell_type": "markdown",
   "metadata": {},
   "source": [
    "# 프로그래머스 탐욕법 문제\n",
    "https://programmers.co.kr/learn/courses/30/parts/12244\n",
    "\n",
    "# 섬 연결하기\n",
    "https://programmers.co.kr/learn/courses/30/lessons/42861\n",
    "\n",
    "## 문제 설명\n",
    "n개의 섬 사이에 다리를 건설하는 비용(costs)이 주어질 때, 최소의 비용으로 모든 섬이 서로 통행 가능하도록 만들 때 필요한 최소 비용을 return 하도록 solution을 완성하세요.\n",
    "\n",
    "다리를 여러 번 건너더라도, 도달할 수만 있으면 통행 가능하다고 봅니다. 예를 들어 A 섬과 B 섬 사이에 다리가 있고, B 섬과 C 섬 사이에 다리가 있으면 A 섬과 C 섬은 서로 통행 가능합니다.\n",
    "\n",
    "\n",
    "### 제한 조건\n",
    "- 섬의 개수 n은 1 이상 100 이하입니다.\n",
    "- costs의 길이는 ((n-1) * n) / 2이하입니다.\n",
    "- 임의의 i에 대해, costs[i][0] 와 costs[i] [1]에는 다리가 연결되는 두 섬의 번호가 들어있고, costs[i] [2]에는 이 두 섬을 연결하는 다리를 건설할 때 드는 비용입니다.\n",
    "- 같은 연결은 두 번 주어지지 않습니다. 또한 순서가 바뀌더라도 같은 연결로 봅니다. 즉 0과 1 사이를 연결하는 비용이 주어졌을 때, 1과 0의 비용이 주어지지 않습니다.\n",
    "- 모든 섬 사이의 다리 건설 비용이 주어지지 않습니다. 이 경우, 두 섬 사이의 건설이 불가능한 것으로 봅니다.\n",
    "- 연결할 수 없는 섬은 주어지지 않습니다."
   ]
  },
  {
   "cell_type": "code",
   "execution_count": 14,
   "metadata": {},
   "outputs": [],
   "source": [
    "n = 4\n",
    "costs = [[0,1,1],[0,2,2],[1,2,5],[1,3,1],[2,3,8]]\n",
    "#최소비용 4"
   ]
  },
  {
   "cell_type": "markdown",
   "metadata": {},
   "source": [
    "[0-1] 1\n",
    "[0-2] 2\n",
    "[1-2] 5\n",
    "[1-3] 1\n",
    "[2-3] 8"
   ]
  },
  {
   "cell_type": "markdown",
   "metadata": {},
   "source": [
    "## 풀이\n",
    "\n",
    "#### 크루스칼 알고리즘\n",
    "=> 탐욕법으로 네트워크의 정점을 최소비용으로 연결\n",
    "\n",
    "https://jisun-rea.tistory.com/entry/python-%ED%94%84%EB%A1%9C%EA%B7%B8%EB%9E%98%EB%A8%B8%EC%8A%A4-Level3-%EC%84%AC-%EC%97%B0%EA%B2%B0%ED%95%98%EA%B8%B0-%ED%83%90%EC%9A%95%EB%B2%95"
   ]
  },
  {
   "cell_type": "code",
   "execution_count": 15,
   "metadata": {},
   "outputs": [],
   "source": [
    "def solution(n,costs):\n",
    "    \n",
    "    answer = 0\n",
    "    \n",
    "    #비용순으로 오름차순\n",
    "    costs.sort(key = lambda x: x[2])\n",
    "    \n",
    "    routes = set([costs[0][0]]) #집합\n",
    "    \n",
    "    while len(routes) != n:\n",
    "        \n",
    "        for i, cost in enumerate(costs):\n",
    "            \n",
    "            #시작점/끝점 모두 루트에 있으면 건설필요x -> 넘김\n",
    "            if cost[0] in routes and cost[1] in routes:\n",
    "                continue\n",
    "                \n",
    "            #시작점 또는 끝점이 루트에 있다면\n",
    "            # 둘다 True인 경우는 위에서 걸러지기 때문에\n",
    "            # 이 경우는 둘 중 하나만 True일 것\n",
    "            if cost[0] in routes or cost[1] in routes:\n",
    "                #다리건설: 루트에 넣음\n",
    "                routes.update([cost[0],cost[1]])\n",
    "                answer += cost[2]\n",
    "                costs[i] = [-1,-1,-1]\n",
    "                \n",
    "            print(routes)\n",
    "                \n",
    "        print(routes)\n",
    "    \n",
    "    \n",
    "    return answer"
   ]
  },
  {
   "cell_type": "code",
   "execution_count": 16,
   "metadata": {
    "scrolled": true
   },
   "outputs": [
    {
     "name": "stdout",
     "output_type": "stream",
     "text": [
      "{0, 1}\n",
      "{0, 1, 3}\n",
      "{0, 1, 2, 3}\n",
      "{0, 1, 2, 3}\n"
     ]
    },
    {
     "data": {
      "text/plain": [
       "4"
      ]
     },
     "execution_count": 16,
     "metadata": {},
     "output_type": "execute_result"
    }
   ],
   "source": [
    "solution(n,costs)"
   ]
  },
  {
   "cell_type": "markdown",
   "metadata": {},
   "source": [
    "## 참고\n",
    "\n",
    "집합형은 자동으로 중복제거됨"
   ]
  },
  {
   "cell_type": "code",
   "execution_count": 20,
   "metadata": {},
   "outputs": [
    {
     "data": {
      "text/plain": [
       "{1, 2, 3, 4}"
      ]
     },
     "execution_count": 20,
     "metadata": {},
     "output_type": "execute_result"
    }
   ],
   "source": [
    "routes = set([1])\n",
    "routes.update([2])\n",
    "routes.update([2,3])\n",
    "routes.update([2,3,4])\n",
    "routes"
   ]
  },
  {
   "cell_type": "code",
   "execution_count": null,
   "metadata": {},
   "outputs": [],
   "source": []
  },
  {
   "cell_type": "code",
   "execution_count": null,
   "metadata": {},
   "outputs": [],
   "source": []
  }
 ],
 "metadata": {
  "kernelspec": {
   "display_name": "Python 3",
   "language": "python",
   "name": "python3"
  },
  "language_info": {
   "codemirror_mode": {
    "name": "ipython",
    "version": 3
   },
   "file_extension": ".py",
   "mimetype": "text/x-python",
   "name": "python",
   "nbconvert_exporter": "python",
   "pygments_lexer": "ipython3",
   "version": "3.8.3"
  }
 },
 "nbformat": 4,
 "nbformat_minor": 4
}
