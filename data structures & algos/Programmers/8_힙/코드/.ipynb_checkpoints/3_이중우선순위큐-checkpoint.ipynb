{
 "cells": [
  {
   "cell_type": "markdown",
   "metadata": {},
   "source": [
    "# 프로그래머스 힙 문제\n",
    "https://programmers.co.kr/learn/courses/30/parts/12117\n",
    "\n",
    "# 이중우선순위큐\n",
    "https://programmers.co.kr/learn/courses/30/lessons/42628\n",
    "\n",
    "## 문제 설명\n",
    "이중 우선순위 큐는 다음 연산을 할 수 있는 자료구조를 말합니다.\n",
    "\n",
    "- I 숫자: \t큐에 주어진 숫자를 삽입합니다.\n",
    "- D 1:  \t큐에서 최댓값을 삭제합니다.\n",
    "- D -1: \t큐에서 최솟값을 삭제합니다.\n",
    "\n",
    "이중 우선순위 큐가 할 연산 operations가 매개변수로 주어질 때, 모든 연산을 처리한 후 큐가 비어있으면 [0,0] 비어있지 않으면 [최댓값, 최솟값]을 return 하도록 solution 함수를 구현해주세요.\n",
    "\n",
    "\n",
    "### 제한 조건\n",
    "- operations는 길이가 1 이상 1,000,000 이하인 문자열 배열입니다.\n",
    "- operations의 원소는 큐가 수행할 연산을 나타냅니다.\n",
    "    - 원소는 “명령어 데이터” 형식으로 주어집니다.\n",
    "    - 최댓값/최솟값을 삭제하는 연산에서 최댓값/최솟값이 둘 이상인 경우, 하나만 삭제합니다.\n",
    "- 빈 큐에 데이터를 삭제하라는 연산이 주어질 경우, 해당 연산은 무시합니다."
   ]
  },
  {
   "cell_type": "code",
   "execution_count": 11,
   "metadata": {},
   "outputs": [],
   "source": [
    "operations = ['I 7','I 5','I -5','D -1']\n",
    "#결과 7,5"
   ]
  },
  {
   "cell_type": "markdown",
   "metadata": {},
   "source": [
    "['I 7','I 5','I -5','D -1']\n",
    "\n",
    "I 7 => [7]\n",
    "\n",
    "I 5 => [7, 5]\n",
    "\n",
    "I -5 => [7, 5, -5]\n",
    "\n",
    "D -1 => [7, 5]\n",
    "\n"
   ]
  },
  {
   "cell_type": "markdown",
   "metadata": {},
   "source": [
    "## 풀이\n",
    "모두 https://codedrive.tistory.com/54"
   ]
  },
  {
   "cell_type": "markdown",
   "metadata": {},
   "source": [
    "### heapq (X)\n",
    "\n",
    "#### pass/continue\n",
    "\n",
    "- pass: 단순히 실행할 코드가 없다 (내용無)\n",
    "- continue: 이후 다음 순번의 루프가 돌도록 강제(건너뛰기)\n",
    "\n",
    "https://wlstnans.tistory.com/101\n"
   ]
  },
  {
   "cell_type": "code",
   "execution_count": 20,
   "metadata": {},
   "outputs": [],
   "source": [
    "def solution(operations):\n",
    "    answer = []\n",
    "    \n",
    "    for i in operations:\n",
    "        a,b = i.split(' ')\n",
    "        \n",
    "        if a == 'I':\n",
    "            answer.append(int(b))\n",
    "            \n",
    "        else:\n",
    "            #빈 큐가 아닐 때 D연산 수행\n",
    "            if len(answer)>0:\n",
    "                if b == '1': #최댓값 삭제\n",
    "                    answer.pop()\n",
    "                else: #최솟값 삭제\n",
    "                    answer.pop(0)\n",
    "            \n",
    "            #빈 큐에 데이터를 삭제하라는 연산이 주어질 경우\n",
    "            #해당 연산은 무시\n",
    "            else:\n",
    "                pass\n",
    "                \n",
    "        answer.sort()\n",
    "        \n",
    "    if len(answer) == 0:\n",
    "        return [0,0]\n",
    "    else:\n",
    "        return [max(answer),min(answer)]"
   ]
  },
  {
   "cell_type": "code",
   "execution_count": 17,
   "metadata": {
    "scrolled": true
   },
   "outputs": [
    {
     "data": {
      "text/plain": [
       "[7, 5]"
      ]
     },
     "execution_count": 17,
     "metadata": {},
     "output_type": "execute_result"
    }
   ],
   "source": [
    "solution(operations)"
   ]
  },
  {
   "cell_type": "markdown",
   "metadata": {},
   "source": [
    "### heapq (O)"
   ]
  },
  {
   "cell_type": "code",
   "execution_count": 18,
   "metadata": {},
   "outputs": [],
   "source": [
    "import heapq as hp\n",
    "\n",
    "def solution(operations):\n",
    "    answer = []\n",
    "    \n",
    "    for i in operations:\n",
    "        a,b = i.split(' ')\n",
    "        \n",
    "        if a == 'I':\n",
    "            hp.heappush(answer,int(b))\n",
    "            #answer.append(int(b))\n",
    "            \n",
    "        else:\n",
    "            #빈 큐가 아닐 때 D연산 수행\n",
    "            if len(answer)>0:\n",
    "                if b == '1': #최댓값 삭제\n",
    "                    answer.pop(answer.index(hp.nlargest(1,answer)[0]))\n",
    "                    #answer.pop()\n",
    "                else: #최솟값 삭제\n",
    "                    hp.heappop(answer)\n",
    "                    #answer.pop(0)\n",
    "            \n",
    "            #빈 큐에 데이터를 삭제하라는 연산이 주어질 경우\n",
    "            #해당 연산은 무시\n",
    "            else:\n",
    "                pass\n",
    "                \n",
    "        answer.sort()\n",
    "        \n",
    "    if len(answer) == 0:\n",
    "        return [0,0]\n",
    "    else:\n",
    "        return [max(answer),min(answer)]"
   ]
  },
  {
   "cell_type": "code",
   "execution_count": 19,
   "metadata": {},
   "outputs": [
    {
     "data": {
      "text/plain": [
       "[7, 5]"
      ]
     },
     "execution_count": 19,
     "metadata": {},
     "output_type": "execute_result"
    }
   ],
   "source": [
    "solution(operations)"
   ]
  },
  {
   "cell_type": "code",
   "execution_count": null,
   "metadata": {},
   "outputs": [],
   "source": []
  },
  {
   "cell_type": "code",
   "execution_count": null,
   "metadata": {},
   "outputs": [],
   "source": []
  },
  {
   "cell_type": "code",
   "execution_count": null,
   "metadata": {},
   "outputs": [],
   "source": []
  },
  {
   "cell_type": "code",
   "execution_count": null,
   "metadata": {},
   "outputs": [],
   "source": []
  }
 ],
 "metadata": {
  "kernelspec": {
   "display_name": "Python 3",
   "language": "python",
   "name": "python3"
  },
  "language_info": {
   "codemirror_mode": {
    "name": "ipython",
    "version": 3
   },
   "file_extension": ".py",
   "mimetype": "text/x-python",
   "name": "python",
   "nbconvert_exporter": "python",
   "pygments_lexer": "ipython3",
   "version": "3.8.3"
  }
 },
 "nbformat": 4,
 "nbformat_minor": 4
}
