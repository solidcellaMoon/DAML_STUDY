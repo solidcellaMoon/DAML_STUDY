{
 "cells": [
  {
   "cell_type": "markdown",
   "metadata": {},
   "source": [
    "# 프로그래머스 힙 문제\n",
    "https://programmers.co.kr/learn/courses/30/parts/12117\n",
    "\n",
    "# 더 맵게\n",
    "https://programmers.co.kr/learn/courses/30/lessons/42626\n",
    "\n",
    "## 문제 설명\n",
    "매운 것을 좋아하는 Leo는 모든 음식의 스코빌 지수를 K 이상으로 만들고 싶습니다. 모든 음식의 스코빌 지수를 K 이상으로 만들기 위해 Leo는 스코빌 지수가 가장 낮은 두 개의 음식을 아래와 같이 특별한 방법으로 섞어 새로운 음식을 만듭니다.\n",
    "\n",
    "#### 섞은 음식의 스코빌 지수 = 가장 맵지 않은 음식의 스코빌 지수 + (두 번째로 맵지 않은 음식의 스코빌 지수 * 2)\n",
    "\n",
    "Leo는 모든 음식의 스코빌 지수가 K 이상이 될 때까지 반복하여 섞습니다.\n",
    "\n",
    "Leo가 가진 음식의 스코빌 지수를 담은 배열 scoville과 원하는 스코빌 지수 K가 주어질 때, 모든 음식의 스코빌 지수를 K 이상으로 만들기 위해 섞어야 하는 최소 횟수를 return 하도록 solution 함수를 작성해주세요.\n",
    "\n",
    "\n",
    "### 제한 조건\n",
    "* scoville의 길이는 2 이상 1,000,000 이하입니다.\n",
    "* K는 0 이상 1,000,000,000 이하입니다.\n",
    "* scoville의 원소는 각각 0 이상 1,000,000 이하입니다.\n",
    "* 모든 음식의 스코빌 지수를 K 이상으로 만들 수 없는 경우에는 -1을 return 합니다."
   ]
  },
  {
   "cell_type": "code",
   "execution_count": 28,
   "metadata": {},
   "outputs": [],
   "source": [
    "scoville = [1, 2, 3, 9, 10, 12]\n",
    "K = 7\n",
    "#결과 2"
   ]
  },
  {
   "cell_type": "markdown",
   "metadata": {},
   "source": [
    "[1, 2, 3, 9, 10, 12]\n",
    "\n",
    "-\n",
    "\n",
    "[1,2] => 1 + (2*2) => 5\n",
    "\n",
    "-\n",
    "\n",
    "[3,5,9,10,12]\n",
    "\n",
    "-\n",
    "\n",
    "[3,5] => 3 + (5*2) => 13\n",
    "\n",
    "-\n",
    "\n",
    "[9,10,12,13]\n",
    "\n",
    "-\n",
    "\n",
    "총 두번 섞음!\n",
    "\n",
    "----\n",
    "모든 음식을 K로 만들 수 없는 경우?\n",
    "\n",
    "최종 한개 남았는데 K보다 작으면 됨"
   ]
  },
  {
   "cell_type": "markdown",
   "metadata": {},
   "source": [
    "## 풀이\n",
    "\n",
    "### heapq\n",
    "push/pop 할 때마다 자동 정렬해줌.\n",
    "\n",
    "https://itholic.github.io/kata-more-spicy/"
   ]
  },
  {
   "cell_type": "code",
   "execution_count": 37,
   "metadata": {},
   "outputs": [],
   "source": [
    "import heapq\n",
    "\n",
    "def solution(scoville, k):\n",
    "    \n",
    "    answer = 0\n",
    "    scov = []\n",
    "    \n",
    "    for num in scoville:\n",
    "        heapq.heappush(scov,num)\n",
    "        \n",
    "    \n",
    "    while scov[0] < k:\n",
    "        \n",
    "        first, second = heapq.heappop(scov), heapq.heappop(scov)\n",
    "        \n",
    "        heapq.heappush(scov, first + (second*2))\n",
    "        \n",
    "        if len(scov) == 1 and scov[0] < k:\n",
    "            return -1\n",
    "        \n",
    "        #동일한 기능\n",
    "        ''' try:\n",
    "            heapq.heappush(scov, heapq.heappop(scov) + (heapq.heappop(scov)*2))\n",
    "            \n",
    "        except IndexError:\n",
    "            return -1 '''\n",
    "        \n",
    "        answer += 1\n",
    "\n",
    "        \n",
    "    return answer "
   ]
  },
  {
   "cell_type": "code",
   "execution_count": 38,
   "metadata": {
    "scrolled": true
   },
   "outputs": [
    {
     "data": {
      "text/plain": [
       "2"
      ]
     },
     "execution_count": 38,
     "metadata": {},
     "output_type": "execute_result"
    }
   ],
   "source": [
    "solution(scoville, K)"
   ]
  },
  {
   "cell_type": "markdown",
   "metadata": {},
   "source": [
    "### 내 풀이 (실패)"
   ]
  },
  {
   "cell_type": "code",
   "execution_count": 26,
   "metadata": {},
   "outputs": [],
   "source": [
    "scoville = [1, 2, 3, 9, 10, 12]\n",
    "K = 7\n",
    "#결과 2\n",
    "\n",
    "def solution(scoville, K):\n",
    "    answer = 0\n",
    "    is_K = False\n",
    "    scov = sorted(scoville)\n",
    "    \n",
    "    if K == 0:\n",
    "        return 0\n",
    "    \n",
    "    while len(scov) > 1 and not is_K:\n",
    "        \n",
    "        #가장 작은거, 두번째로 작은거\n",
    "        first, second = scov.pop(0), scov.pop(0)\n",
    "        \n",
    "        new = first + (second*2)\n",
    "        \n",
    "        scov.append(new)\n",
    "        answer += 1\n",
    "        \n",
    "        #정렬\n",
    "        scov.sort()\n",
    "        \n",
    "        if scov[0] >= K:\n",
    "            is_K = True\n",
    "            break\n",
    "        \n",
    "        \n",
    "    if len(scov) == 1:\n",
    "        return -1\n",
    "    \n",
    "    return answer"
   ]
  },
  {
   "cell_type": "code",
   "execution_count": 27,
   "metadata": {
    "scrolled": true
   },
   "outputs": [
    {
     "data": {
      "text/plain": [
       "2"
      ]
     },
     "execution_count": 27,
     "metadata": {},
     "output_type": "execute_result"
    }
   ],
   "source": [
    "solution(scoville, K)"
   ]
  },
  {
   "cell_type": "code",
   "execution_count": null,
   "metadata": {},
   "outputs": [],
   "source": []
  },
  {
   "cell_type": "code",
   "execution_count": null,
   "metadata": {},
   "outputs": [],
   "source": []
  },
  {
   "cell_type": "code",
   "execution_count": null,
   "metadata": {},
   "outputs": [],
   "source": []
  }
 ],
 "metadata": {
  "kernelspec": {
   "display_name": "Python 3",
   "language": "python",
   "name": "python3"
  },
  "language_info": {
   "codemirror_mode": {
    "name": "ipython",
    "version": 3
   },
   "file_extension": ".py",
   "mimetype": "text/x-python",
   "name": "python",
   "nbconvert_exporter": "python",
   "pygments_lexer": "ipython3",
   "version": "3.8.3"
  }
 },
 "nbformat": 4,
 "nbformat_minor": 4
}
