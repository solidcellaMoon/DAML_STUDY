{
 "cells": [
  {
   "cell_type": "markdown",
   "metadata": {},
   "source": [
    "# 프로그래머스 DFS/BFS 문제\n",
    "https://programmers.co.kr/learn/courses/30/parts/12421\n",
    "\n",
    "# 여행경로 (★★★)\n",
    "https://programmers.co.kr/learn/courses/30/lessons/43164\n",
    "\n",
    "## 문제 설명\n",
    "주어진 항공권을 모두 이용하여 여행경로를 짜려고 합니다. 항상 ICN 공항에서 출발합니다.\n",
    "\n",
    "항공권 정보가 담긴 2차원 배열 tickets가 매개변수로 주어질 때, 방문하는 공항 경로를 배열에 담아 return 하도록 solution 함수를 작성해주세요.\n",
    "\n",
    "\n",
    "### 제한 조건\n",
    "* 모든 공항은 알파벳 대문자 3글자로 이루어집니다.\n",
    "* 주어진 공항 수는 3개 이상 10,000개 이하입니다.\n",
    "* tickets의 각 행 [a, b]는 a 공항에서 b 공항으로 가는 항공권이 있다는 의미입니다.\n",
    "* 주어진 항공권은 모두 사용해야 합니다.\n",
    "* 만일 가능한 경로가 2개 이상일 경우 알파벳 순서가 앞서는 경로를 return 합니다.\n",
    "* 모든 도시를 방문할 수 없는 경우는 주어지지 않습니다."
   ]
  },
  {
   "cell_type": "code",
   "execution_count": 1,
   "metadata": {},
   "outputs": [],
   "source": [
    "tickets = [['ICN', 'JFK'], ['HND', 'IAD'], ['JFK', 'HND']]\n",
    "#결과 [ICN, JFK, HND, IAD]"
   ]
  },
  {
   "cell_type": "markdown",
   "metadata": {},
   "source": [
    "0[1,2] / 1[3,4] / 2[2,3]\n",
    "\n",
    "0[1-2] - 2[2-3] - 1[3-4]\n",
    "\n",
    "=> 1 - 2 - 3 - 4"
   ]
  },
  {
   "cell_type": "code",
   "execution_count": 2,
   "metadata": {},
   "outputs": [],
   "source": [
    "tickets = [['ICN', 'SFO'], ['ICN', 'ATL'], ['SFO', 'ATL'], ['ATL', 'ICN'], ['ATL','SFO']]\n",
    "# 만일 가능한 경로가 2개 이상일 경우 알파벳 순서가 앞서는 경로를 return 합니다.\n",
    "#결과 [ICN, ATL, ICN, SFO, ATL, SFO]"
   ]
  },
  {
   "cell_type": "markdown",
   "metadata": {},
   "source": [
    "0[a,c] / 1[a,b] / 2[c,b] / 3[b,a] / 4[b,c]\n",
    "\n",
    "1[a - b] / 3[b - a] / 0[a - c] / 2[c - b] / 4[b - c]\n",
    "\n",
    "a b a c b c"
   ]
  },
  {
   "cell_type": "markdown",
   "metadata": {},
   "source": [
    "## 풀이\n",
    "https://jisun-rea.tistory.com/entry/python-%ED%94%84%EB%A1%9C%EA%B7%B8%EB%9E%98%EB%A8%B8%EC%8A%A4-Level3-%EC%97%AC%ED%96%89%EA%B2%BD%EB%A1%9C-DFS\n",
    "\n",
    "동일한 코드를 쓴 강사님의 풀이..?:\n",
    "https://gurumee92.tistory.com/165"
   ]
  },
  {
   "cell_type": "code",
   "execution_count": 3,
   "metadata": {},
   "outputs": [],
   "source": [
    "from collections import defaultdict\n",
    "\n",
    "def solution(tickets):\n",
    "    answer = []\n",
    "    \n",
    "    #출발지점 알파벳 뒷순으로 정렬\n",
    "    tickets.sort(reverse = True)\n",
    "    \n",
    "    #경로를 저장할 딕셔너리\n",
    "    routes = defaultdict(list)\n",
    "    \n",
    "    #딕셔너리에 출발역/도착역 정보를 저장\n",
    "    for t1, t2 in tickets:\n",
    "        #이미 출발역 키값이 있다면\n",
    "        if t1 in routes:\n",
    "            #'출발역' : ['도착역1','도착역2',...]\n",
    "            routes[t1].append(t2)\n",
    "        else: #아니면 새로 넣는다\n",
    "            routes[t1] = [t2]\n",
    "            \n",
    "    #초기 루트 딕셔너리\n",
    "    print(routes)\n",
    "    \n",
    "    #출발역은 언제나 ICN, 스택 자료구조\n",
    "    stack = ['ICN']\n",
    "    \n",
    "    #시작리스트가 빌 때까지\n",
    "    #DFS 알고리즘으로 모든 점을 순회!\n",
    "    while stack:\n",
    "        print(routes)\n",
    "        print(stack)\n",
    "        #pop(): 출발역 스택에서 pop()!!\n",
    "        top = stack[-1]\n",
    "        \n",
    "        #top역이 경로에 없거나 / 길이가 0이라면\n",
    "        #즉!! top을 시작점으로 하는 티켓이 없다면!\n",
    "        #=> 맨 처음으로 answer에 저장되는건 종착역..?\n",
    "        if top not in routes or len(routes[top]) == 0:\n",
    "            #answer에 top을 넣는다\n",
    "            answer.append(stack.pop())\n",
    "        \n",
    "        #그렇지 않다면\n",
    "        else:\n",
    "            #루트 딕셔너리의 top 부분에서 pop으로 꺼내 stack에 넣음\n",
    "            #여기서 pop한 역은 위에 이미 정렬됐으므로 알파벳순 만족함!\n",
    "            #이 때 넣은게 다음 시작점이 된다\n",
    "            stack.append(routes[top].pop())\n",
    "            \n",
    "        print(answer)\n",
    "        print('--------')\n",
    "            \n",
    "    #스택은 거꾸로 돌아가니, 최종은 역순으로\n",
    "    answer.reverse()\n",
    "                 \n",
    "    return answer"
   ]
  },
  {
   "cell_type": "code",
   "execution_count": 4,
   "metadata": {
    "scrolled": false
   },
   "outputs": [
    {
     "name": "stdout",
     "output_type": "stream",
     "text": [
      "defaultdict(<class 'list'>, {'SFO': ['ATL'], 'ICN': ['SFO', 'ATL'], 'ATL': ['SFO', 'ICN']})\n",
      "defaultdict(<class 'list'>, {'SFO': ['ATL'], 'ICN': ['SFO', 'ATL'], 'ATL': ['SFO', 'ICN']})\n",
      "['ICN']\n",
      "[]\n",
      "--------\n",
      "defaultdict(<class 'list'>, {'SFO': ['ATL'], 'ICN': ['SFO'], 'ATL': ['SFO', 'ICN']})\n",
      "['ICN', 'ATL']\n",
      "[]\n",
      "--------\n",
      "defaultdict(<class 'list'>, {'SFO': ['ATL'], 'ICN': ['SFO'], 'ATL': ['SFO']})\n",
      "['ICN', 'ATL', 'ICN']\n",
      "[]\n",
      "--------\n",
      "defaultdict(<class 'list'>, {'SFO': ['ATL'], 'ICN': [], 'ATL': ['SFO']})\n",
      "['ICN', 'ATL', 'ICN', 'SFO']\n",
      "[]\n",
      "--------\n",
      "defaultdict(<class 'list'>, {'SFO': [], 'ICN': [], 'ATL': ['SFO']})\n",
      "['ICN', 'ATL', 'ICN', 'SFO', 'ATL']\n",
      "[]\n",
      "--------\n",
      "defaultdict(<class 'list'>, {'SFO': [], 'ICN': [], 'ATL': []})\n",
      "['ICN', 'ATL', 'ICN', 'SFO', 'ATL', 'SFO']\n",
      "['SFO']\n",
      "--------\n",
      "defaultdict(<class 'list'>, {'SFO': [], 'ICN': [], 'ATL': []})\n",
      "['ICN', 'ATL', 'ICN', 'SFO', 'ATL']\n",
      "['SFO', 'ATL']\n",
      "--------\n",
      "defaultdict(<class 'list'>, {'SFO': [], 'ICN': [], 'ATL': []})\n",
      "['ICN', 'ATL', 'ICN', 'SFO']\n",
      "['SFO', 'ATL', 'SFO']\n",
      "--------\n",
      "defaultdict(<class 'list'>, {'SFO': [], 'ICN': [], 'ATL': []})\n",
      "['ICN', 'ATL', 'ICN']\n",
      "['SFO', 'ATL', 'SFO', 'ICN']\n",
      "--------\n",
      "defaultdict(<class 'list'>, {'SFO': [], 'ICN': [], 'ATL': []})\n",
      "['ICN', 'ATL']\n",
      "['SFO', 'ATL', 'SFO', 'ICN', 'ATL']\n",
      "--------\n",
      "defaultdict(<class 'list'>, {'SFO': [], 'ICN': [], 'ATL': []})\n",
      "['ICN']\n",
      "['SFO', 'ATL', 'SFO', 'ICN', 'ATL', 'ICN']\n",
      "--------\n"
     ]
    },
    {
     "data": {
      "text/plain": [
       "['ICN', 'ATL', 'ICN', 'SFO', 'ATL', 'SFO']"
      ]
     },
     "execution_count": 4,
     "metadata": {},
     "output_type": "execute_result"
    }
   ],
   "source": [
    "solution(tickets)"
   ]
  },
  {
   "cell_type": "markdown",
   "metadata": {},
   "source": [
    "### 내 풀이 (BAD)\n",
    "망했다!!! ㅠㅠㅠㅠ\n",
    "\n",
    "참고: https://programmers.co.kr/questions/15603"
   ]
  },
  {
   "cell_type": "code",
   "execution_count": 5,
   "metadata": {},
   "outputs": [],
   "source": [
    "tickets = [['ICN','B'],['B','ICN'],['ICN','A'],['A','D'],['D','A']]\n",
    "\n",
    "def dfs(now,tickets,answer):\n",
    "    depth = []\n",
    "    \n",
    "    if tickets:\n",
    "        \n",
    "        for start,end in tickets:\n",
    "            if start == now:\n",
    "                depth.append([start,end])\n",
    "                \n",
    "        #실패 경로\n",
    "        if not depth:\n",
    "            print('실패')\n",
    "            while answer:\n",
    "                tickets.append(answer.pop())\n",
    "            dfs(tickets[0][0],tickets,answer)\n",
    "\n",
    "        else:\n",
    "            now_ticket = depth.pop(0)\n",
    "\n",
    "            #첫번째 요소는 answer로\n",
    "            answer.append(now_ticket)\n",
    "            tickets.pop(tickets.index(now_ticket))\n",
    "\n",
    "            #현재 티켓의 목적지가 다음 시작지\n",
    "            now = now_ticket[1]\n",
    "            dfs(now,tickets,answer)\n",
    "        \n",
    "        \n",
    "def solution(tickets):\n",
    "    answer = []\n",
    "    begins = []\n",
    "    final = []\n",
    "    \n",
    "    #티켓 정렬하기\n",
    "    tickets.sort(key = lambda x: (x[0],x[1]))\n",
    "    \n",
    "    for start, end in tickets:\n",
    "        if start == 'ICN':\n",
    "            begins.append([start,end])\n",
    "            \n",
    "    for start, end in begins:\n",
    "        tickets.remove([start,end])\n",
    "    \n",
    "    #최종 티켓: 출발점 노드부터, 그리고 알파벳 정렬 모두 끝냄\n",
    "    begins.extend(tickets)\n",
    "    tickets = begins\n",
    "    print(tickets)\n",
    "    \n",
    "    dfs(tickets[0][0],tickets,answer)\n",
    "    \n",
    "    for i in range(len(answer)):\n",
    "        if i == len(answer)-1:\n",
    "            final.append(answer[i][0])\n",
    "            final.append(answer[i][1])\n",
    "        else:\n",
    "            final.append(answer[i][0])\n",
    "    \n",
    "    return final"
   ]
  },
  {
   "cell_type": "code",
   "execution_count": 6,
   "metadata": {
    "scrolled": true
   },
   "outputs": [
    {
     "name": "stdout",
     "output_type": "stream",
     "text": [
      "[['ICN', 'A'], ['ICN', 'B'], ['A', 'D'], ['B', 'ICN'], ['D', 'A']]\n",
      "실패\n"
     ]
    },
    {
     "data": {
      "text/plain": [
       "['ICN', 'B', 'ICN', 'A', 'D', 'A']"
      ]
     },
     "execution_count": 6,
     "metadata": {},
     "output_type": "execute_result"
    }
   ],
   "source": [
    "solution(tickets)"
   ]
  },
  {
   "cell_type": "code",
   "execution_count": null,
   "metadata": {},
   "outputs": [],
   "source": []
  },
  {
   "cell_type": "code",
   "execution_count": null,
   "metadata": {},
   "outputs": [],
   "source": []
  }
 ],
 "metadata": {
  "kernelspec": {
   "display_name": "Python 3",
   "language": "python",
   "name": "python3"
  },
  "language_info": {
   "codemirror_mode": {
    "name": "ipython",
    "version": 3
   },
   "file_extension": ".py",
   "mimetype": "text/x-python",
   "name": "python",
   "nbconvert_exporter": "python",
   "pygments_lexer": "ipython3",
   "version": "3.8.3"
  }
 },
 "nbformat": 4,
 "nbformat_minor": 4
}
