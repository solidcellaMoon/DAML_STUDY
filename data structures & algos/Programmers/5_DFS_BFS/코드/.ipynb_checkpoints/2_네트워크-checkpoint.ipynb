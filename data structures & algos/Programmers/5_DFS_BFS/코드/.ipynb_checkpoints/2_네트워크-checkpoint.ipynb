{
 "cells": [
  {
   "cell_type": "markdown",
   "metadata": {},
   "source": [
    "# 프로그래머스 DFS/BFS 문제\n",
    "https://programmers.co.kr/learn/courses/30/parts/12421\n",
    "\n",
    "# 네트워크 (★★)\n",
    "https://programmers.co.kr/learn/courses/30/lessons/43162\n",
    "\n",
    "## 문제 설명\n",
    "네트워크란 컴퓨터 상호 간에 정보를 교환할 수 있도록 연결된 형태를 의미합니다. 예를 들어, 컴퓨터 A와 컴퓨터 B가 직접적으로 연결되어있고, 컴퓨터 B와 컴퓨터 C가 직접적으로 연결되어 있을 때 컴퓨터 A와 컴퓨터 C도 간접적으로 연결되어 정보를 교환할 수 있습니다. 따라서 컴퓨터 A, B, C는 모두 같은 네트워크 상에 있다고 할 수 있습니다.\n",
    "\n",
    "\n",
    "컴퓨터의 개수 n, 연결에 대한 정보가 담긴 2차원 배열 computers가 매개변수로 주어질 때, 네트워크의 개수를 return 하도록 solution 함수를 작성하시오.\n",
    "\n",
    "\n",
    "### 제한 조건\n",
    "* 컴퓨터의 개수 n은 1 이상 200 이하인 자연수입니다.\n",
    "* 각 컴퓨터는 0부터 n-1인 정수로 표현합니다.\n",
    "* i번 컴퓨터와 j번 컴퓨터가 연결되어 있으면 computers[i][j]를 1로 표현합니다.\n",
    "* computer[i][i]는 항상 1입니다.\n",
    "\n",
    "풀이: https://m.blog.naver.com/PostView.nhn?blogId=jaeyoon_95&logNo=221763404171&proxyReferer=https:%2F%2Fwww.google.com%2F"
   ]
  },
  {
   "cell_type": "code",
   "execution_count": 74,
   "metadata": {},
   "outputs": [],
   "source": [
    "n = 3\n",
    "computers = [[1, 1, 0], [1, 1, 0], [0, 0, 1]]\n",
    "#결과 = 2 "
   ]
  },
  {
   "cell_type": "code",
   "execution_count": 111,
   "metadata": {},
   "outputs": [],
   "source": [
    "def dfs(computers, visited, start):\n",
    "    #시작컴퓨터를 스택에 삽입\n",
    "    record = [start]\n",
    "    \n",
    "    #스택이 빌 때까지\n",
    "    while record:\n",
    "        print('현재 기록된 컴퓨터:',record)\n",
    "        #pop\n",
    "        j = record.pop()\n",
    "        print(j,'번째 컴퓨터 방문!!!')\n",
    "        \n",
    "        #만일 방문하지 않았다면 방문처리\n",
    "        if visited[j] == 0: visited[j] = 1\n",
    "        \n",
    "        #다른 컴퓨터와의 관계 확인\n",
    "        for i in range(len(computers)):\n",
    "            print(j,'와',i,'의 관계 확인 중: ',end=' ')\n",
    "            #다른 컴퓨터 i와 연결되어있고 i를 방문하지 않았다면\n",
    "            if computers[i][j] == 1 and visited[i] == 0:\n",
    "                print('연결 확인!',i,'를 기록에 추가')\n",
    "                #기록에 i 추가\n",
    "                record.append(i)\n",
    "            else: print('X')\n",
    "    \n",
    "\n",
    "def solution(n,computers):\n",
    "    answer = 0\n",
    "    #컴퓨터를 방문했는지 확인하는 리스트\n",
    "    visited = [0] * n\n",
    "    #시작하는 컴퓨터\n",
    "    start = 0\n",
    "    \n",
    "    #모든 컴퓨터를 방문할 때까지\n",
    "    while 0 in visited:\n",
    "        print('현재 방문한 컴퓨터:',visited,'\\n')\n",
    "        #아직 방문하지 않은 컴퓨터라면\n",
    "        if visited[start] == 0:\n",
    "            print(start,'번째 컴퓨터를 방문합니다-------')\n",
    "            #dfs 수행\n",
    "            dfs(computers, visited, start)\n",
    "            answer +=1\n",
    "            print(answer,'개의 네트워크 확인')\n",
    "        else: print(start,'는 이미 방문한 컴퓨터입니다')\n",
    "        #다음 순서의 컴퓨터로\n",
    "        start += 1\n",
    "        print('\\n',start,'번째 컴퓨터로 넘어갑니다-------\\n')\n",
    "\n",
    "        \n",
    "    return answer"
   ]
  },
  {
   "cell_type": "code",
   "execution_count": 112,
   "metadata": {},
   "outputs": [
    {
     "name": "stdout",
     "output_type": "stream",
     "text": [
      "현재 방문한 컴퓨터: [0, 0, 0] \n",
      "\n",
      "0 번째 컴퓨터를 방문합니다-------\n",
      "현재 기록된 컴퓨터: [0]\n",
      "0 번째 컴퓨터 방문!!!\n",
      "0 와 0 의 관계 확인 중:  X\n",
      "0 와 1 의 관계 확인 중:  연결 확인! 1 를 기록에 추가\n",
      "0 와 2 의 관계 확인 중:  X\n",
      "현재 기록된 컴퓨터: [1]\n",
      "1 번째 컴퓨터 방문!!!\n",
      "1 와 0 의 관계 확인 중:  X\n",
      "1 와 1 의 관계 확인 중:  X\n",
      "1 와 2 의 관계 확인 중:  X\n",
      "1 개의 네트워크 확인\n",
      "\n",
      " 1 번째 컴퓨터로 넘어갑니다-------\n",
      "\n",
      "현재 방문한 컴퓨터: [1, 1, 0] \n",
      "\n",
      "1 는 이미 방문한 컴퓨터입니다\n",
      "\n",
      " 2 번째 컴퓨터로 넘어갑니다-------\n",
      "\n",
      "현재 방문한 컴퓨터: [1, 1, 0] \n",
      "\n",
      "2 번째 컴퓨터를 방문합니다-------\n",
      "현재 기록된 컴퓨터: [2]\n",
      "2 번째 컴퓨터 방문!!!\n",
      "2 와 0 의 관계 확인 중:  X\n",
      "2 와 1 의 관계 확인 중:  X\n",
      "2 와 2 의 관계 확인 중:  X\n",
      "2 개의 네트워크 확인\n",
      "\n",
      " 3 번째 컴퓨터로 넘어갑니다-------\n",
      "\n"
     ]
    },
    {
     "data": {
      "text/plain": [
       "2"
      ]
     },
     "execution_count": 112,
     "metadata": {},
     "output_type": "execute_result"
    }
   ],
   "source": [
    "solution(n,computers)"
   ]
  },
  {
   "cell_type": "code",
   "execution_count": null,
   "metadata": {},
   "outputs": [],
   "source": []
  },
  {
   "cell_type": "code",
   "execution_count": null,
   "metadata": {},
   "outputs": [],
   "source": []
  },
  {
   "cell_type": "code",
   "execution_count": null,
   "metadata": {},
   "outputs": [],
   "source": []
  },
  {
   "cell_type": "code",
   "execution_count": null,
   "metadata": {},
   "outputs": [],
   "source": []
  },
  {
   "cell_type": "code",
   "execution_count": null,
   "metadata": {},
   "outputs": [],
   "source": []
  },
  {
   "cell_type": "code",
   "execution_count": null,
   "metadata": {},
   "outputs": [],
   "source": []
  },
  {
   "cell_type": "code",
   "execution_count": null,
   "metadata": {},
   "outputs": [],
   "source": []
  }
 ],
 "metadata": {
  "kernelspec": {
   "display_name": "Python 3",
   "language": "python",
   "name": "python3"
  },
  "language_info": {
   "codemirror_mode": {
    "name": "ipython",
    "version": 3
   },
   "file_extension": ".py",
   "mimetype": "text/x-python",
   "name": "python",
   "nbconvert_exporter": "python",
   "pygments_lexer": "ipython3",
   "version": "3.8.3"
  }
 },
 "nbformat": 4,
 "nbformat_minor": 4
}
