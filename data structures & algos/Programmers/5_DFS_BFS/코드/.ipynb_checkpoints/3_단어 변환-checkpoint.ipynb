{
 "cells": [
  {
   "cell_type": "markdown",
   "metadata": {},
   "source": [
    "# 프로그래머스 DFS/BFS 문제\n",
    "https://programmers.co.kr/learn/courses/30/parts/12421\n",
    "\n",
    "# 단어 변환\n",
    "https://programmers.co.kr/learn/courses/30/lessons/43163\n",
    "\n",
    "## 문제 설명\n",
    "두 개의 단어 begin, target과 단어의 집합 words가 있습니다. 아래와 같은 규칙을 이용하여 begin에서 target으로 변환하는 가장 짧은 변환 과정을 찾으려고 합니다.\n",
    "\n",
    "\n",
    "1. 한 번에 한 개의 알파벳만 바꿀 수 있습니다.\n",
    "2. words에 있는 단어로만 변환할 수 있습니다.\n",
    "\n",
    "\n",
    "예를 들어 begin이 hit, target가 cog, words가 [hot,dot,dog,lot,log,cog]라면 hit -> hot -> dot -> dog -> cog와 같이 4단계를 거쳐 변환할 수 있습니다.\n",
    "\n",
    "\n",
    "두 개의 단어 begin, target과 단어의 집합 words가 매개변수로 주어질 때, 최소 몇 단계의 과정을 거쳐 begin을 target으로 변환할 수 있는지 return 하도록 solution 함수를 작성해주세요.\n",
    "\n",
    "\n",
    "### 제한 조건\n",
    "* 각 단어는 알파벳 소문자로만 이루어져 있습니다.\n",
    "* 각 단어의 길이는 3 이상 10 이하이며 모든 단어의 길이는 같습니다.\n",
    "* words에는 3개 이상 50개 이하의 단어가 있으며 중복되는 단어는 없습니다.\n",
    "* begin과 target은 같지 않습니다.\n",
    "* 변환할 수 없는 경우에는 0를 return 합니다."
   ]
  },
  {
   "cell_type": "markdown",
   "metadata": {},
   "source": [
    "### 풀이\n",
    "https://gingerkang.tistory.com/6"
   ]
  },
  {
   "cell_type": "code",
   "execution_count": 15,
   "metadata": {},
   "outputs": [],
   "source": [
    "begin = 'hit'\n",
    "target = 'cog'\n",
    "\n",
    "words = ['hot', 'dot', 'dog', 'lot', 'log', 'cog']\n",
    "#결과 = 4\n",
    "\n",
    "#words = ['hot', 'dot', 'dog', 'lot', 'log']\n",
    "#결과 = 0"
   ]
  },
  {
   "cell_type": "code",
   "execution_count": 16,
   "metadata": {},
   "outputs": [],
   "source": [
    "def dfs(begin, words, answer, target):\n",
    "    \n",
    "    print('begin:',begin)\n",
    "    print('words:',words)\n",
    "    \n",
    "    if begin == target:\n",
    "        print(target,'과 같음!')\n",
    "        return answer\n",
    "    \n",
    "    diff = []\n",
    "    \n",
    "    #words 배열에서 각 단어마다\n",
    "    for i in range(len(words)):\n",
    "        \n",
    "        diffCnt = 0\n",
    "        \n",
    "        for j in range(len(begin)):\n",
    "            #begin과 다른 글자 개수를 센다\n",
    "            if words[i][j] != begin[j]:\n",
    "                diffCnt += 1\n",
    "                \n",
    "        #words의 대상과 한글자만 다르고 대상이 정답이면 (★)\n",
    "        if diffCnt == 1 and words[i] == target:\n",
    "            answer.append(words[i])\n",
    "            return answer \n",
    "        \n",
    "        #각 단어와 begin의 문자 차이 수를 저장한다\n",
    "        diff.append(diffCnt)\n",
    "        \n",
    "    print(diff)\n",
    "    \n",
    "    #단어 변환 불가능한 경우\n",
    "    if not 1 in diff:\n",
    "        print('diff에 1이 없어요')\n",
    "        return 0    \n",
    "    \n",
    "    #단어 변환 가능한 경우\n",
    "    else:\n",
    "        \n",
    "        #diff수가 1인 인덱스 위치가 다음 단어\n",
    "        next_word = words[diff.index(1)]\n",
    "        \n",
    "        #즉 거쳐가야하는 단어임\n",
    "        answer.append(next_word)\n",
    "        \n",
    "        #다음 단어를 words에서 뺌 - pop()안에 인덱스를 써줌\n",
    "        words.pop(diff.index(1))\n",
    "        \n",
    "        #다음 단어로 dfs 수행\n",
    "        dfs(next_word, words, answer, target)    "
   ]
  },
  {
   "cell_type": "code",
   "execution_count": 17,
   "metadata": {},
   "outputs": [],
   "source": [
    "def solution(begin, target, words):\n",
    "    #최종결과로 변환 불가능하면 바로 0\n",
    "    if not target in words:\n",
    "        return 0\n",
    "    \n",
    "    #아닌 경우 - 탐색\n",
    "    else:\n",
    "        answer = []\n",
    "        dfs(begin, words, answer, target)\n",
    "        return len(answer)"
   ]
  },
  {
   "cell_type": "code",
   "execution_count": 18,
   "metadata": {
    "scrolled": true
   },
   "outputs": [
    {
     "name": "stdout",
     "output_type": "stream",
     "text": [
      "begin: hit\n",
      "words: ['hot', 'dot', 'dog', 'lot', 'log', 'cog']\n",
      "[1, 2, 3, 2, 3, 3]\n",
      "begin: hot\n",
      "words: ['dot', 'dog', 'lot', 'log', 'cog']\n",
      "[1, 2, 1, 2, 2]\n",
      "begin: dot\n",
      "words: ['dog', 'lot', 'log', 'cog']\n",
      "[1, 1, 2, 2]\n",
      "begin: dog\n",
      "words: ['lot', 'log', 'cog']\n"
     ]
    },
    {
     "data": {
      "text/plain": [
       "4"
      ]
     },
     "execution_count": 18,
     "metadata": {},
     "output_type": "execute_result"
    }
   ],
   "source": [
    "solution(begin, target, words)"
   ]
  },
  {
   "cell_type": "code",
   "execution_count": null,
   "metadata": {},
   "outputs": [],
   "source": []
  },
  {
   "cell_type": "code",
   "execution_count": null,
   "metadata": {},
   "outputs": [],
   "source": []
  },
  {
   "cell_type": "code",
   "execution_count": null,
   "metadata": {},
   "outputs": [],
   "source": []
  },
  {
   "cell_type": "code",
   "execution_count": null,
   "metadata": {},
   "outputs": [],
   "source": []
  },
  {
   "cell_type": "code",
   "execution_count": null,
   "metadata": {},
   "outputs": [],
   "source": []
  },
  {
   "cell_type": "code",
   "execution_count": null,
   "metadata": {},
   "outputs": [],
   "source": []
  },
  {
   "cell_type": "code",
   "execution_count": null,
   "metadata": {},
   "outputs": [],
   "source": []
  }
 ],
 "metadata": {
  "kernelspec": {
   "display_name": "Python 3",
   "language": "python",
   "name": "python3"
  },
  "language_info": {
   "codemirror_mode": {
    "name": "ipython",
    "version": 3
   },
   "file_extension": ".py",
   "mimetype": "text/x-python",
   "name": "python",
   "nbconvert_exporter": "python",
   "pygments_lexer": "ipython3",
   "version": "3.8.3"
  }
 },
 "nbformat": 4,
 "nbformat_minor": 4
}
