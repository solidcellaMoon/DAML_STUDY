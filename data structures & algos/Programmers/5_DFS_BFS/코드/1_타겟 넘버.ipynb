{
 "cells": [
  {
   "cell_type": "markdown",
   "metadata": {},
   "source": [
    "# 프로그래머스 DFS/BFS 문제\n",
    "https://programmers.co.kr/learn/courses/30/parts/12421\n",
    "\n",
    "# 타겟 넘버\n",
    "https://programmers.co.kr/learn/courses/30/lessons/43165\n",
    "\n",
    "## 문제 설명\n",
    "n개의 음이 아닌 정수가 있습니다. 이 수를 적절히 더하거나 빼서 타겟 넘버를 만들려고 합니다. 예를 들어 [1, 1, 1, 1, 1]로 숫자 3을 만들려면 다음 다섯 방법을 쓸 수 있습니다.\n",
    "\n",
    "* -1+1+1+1+1 = 3\n",
    "* +1-1+1+1+1 = 3\n",
    "* +1+1-1+1+1 = 3\n",
    "* +1+1+1-1+1 = 3\n",
    "* +1+1+1+1-1 = 3\n",
    "\n",
    "사용할 수 있는 숫자가 담긴 배열 numbers, 타겟 넘버 target이 매개변수로 주어질 때 숫자를 적절히 더하고 빼서 타겟 넘버를 만드는 방법의 수를 return 하도록 solution 함수를 작성해주세요.\n",
    "\n",
    "### 제한 조건\n",
    "* 주어지는 숫자의 개수는 2개 이상 20개 이하입니다.\n",
    "* 각 숫자는 1 이상 50 이하인 자연수입니다.\n",
    "* 타겟 넘버는 1 이상 1000 이하인 자연수입니다."
   ]
  },
  {
   "cell_type": "code",
   "execution_count": 1,
   "metadata": {},
   "outputs": [],
   "source": [
    "numbers = [1, 1, 1, 1, 1]\n",
    "target = 3\n",
    "#결과 5"
   ]
  },
  {
   "cell_type": "markdown",
   "metadata": {},
   "source": [
    "## 내 풀이: 완전탐색"
   ]
  },
  {
   "cell_type": "code",
   "execution_count": 2,
   "metadata": {},
   "outputs": [],
   "source": [
    "from itertools import product\n",
    "\n",
    "def solution(numbers, target):\n",
    "    answer = 0\n",
    "    \n",
    "    #중복순열을 통해 전체 연산 경우의 수 표현\n",
    "    for arr in product([-1,1],repeat=len(numbers)):\n",
    "        \n",
    "        num = 0 #계산 결과를 저장합니다\n",
    "        \n",
    "        #numbers 배열과 연산 경우 배열을 곱한 후 더해나감\n",
    "        for i in range(len(arr)):\n",
    "            num += numbers[i]*arr[i]\n",
    "            \n",
    "        #num == target이면 정답\n",
    "        if num == target:\n",
    "            answer +=1\n",
    "    \n",
    "    return answer"
   ]
  },
  {
   "cell_type": "code",
   "execution_count": 3,
   "metadata": {
    "scrolled": false
   },
   "outputs": [
    {
     "data": {
      "text/plain": [
       "5"
      ]
     },
     "execution_count": 3,
     "metadata": {},
     "output_type": "execute_result"
    }
   ],
   "source": [
    "solution(numbers, target)"
   ]
  },
  {
   "cell_type": "markdown",
   "metadata": {},
   "source": [
    "## DFS/BFS 풀이 (★)\n",
    "\n",
    "### DFS 풀이\n",
    "\n",
    "https://eda-ai-lab.tistory.com/475"
   ]
  },
  {
   "cell_type": "code",
   "execution_count": 4,
   "metadata": {},
   "outputs": [],
   "source": [
    "answer = 0\n",
    "\n",
    "def dfs(idx, numbers, target, value):\n",
    "    # idx = 인덱스, value = 계산결과 저장\n",
    "    \n",
    "    global answer\n",
    "    num = len(numbers) #배열 길이\n",
    "    \n",
    "    #배열 끝까지 계산하고 타겟과 같다면 정답\n",
    "    if(idx == num and value == target):\n",
    "        answer += 1\n",
    "        return\n",
    "    \n",
    "    #배열 끝까지 계산했으면 끝\n",
    "    if(idx == num):\n",
    "        return\n",
    "    \n",
    "    #다음 요소 계산 => +/- 경우 둘 다!\n",
    "    dfs(idx+1,numbers,target,value+numbers[idx])\n",
    "    dfs(idx+1,numbers,target,value-numbers[idx])\n",
    "    \n",
    "\n",
    "def solution(numbers, target):\n",
    "    global answer\n",
    "    \n",
    "    dfs(0, numbers, target, 0)\n",
    "    \n",
    "    return answer"
   ]
  },
  {
   "cell_type": "code",
   "execution_count": 5,
   "metadata": {},
   "outputs": [
    {
     "data": {
      "text/plain": [
       "5"
      ]
     },
     "execution_count": 5,
     "metadata": {},
     "output_type": "execute_result"
    }
   ],
   "source": [
    "solution(numbers, target)"
   ]
  },
  {
   "cell_type": "markdown",
   "metadata": {},
   "source": [
    "### BFS 풀이\n",
    "\n",
    "https://velog.io/@ju_h2/Python-%ED%94%84%EB%A1%9C%EA%B7%B8%EB%9E%98%EB%A8%B8%EC%8A%A4-level2-%ED%83%80%EA%B2%9F%EB%84%98%EB%B2%84-BFSDFS"
   ]
  },
  {
   "cell_type": "code",
   "execution_count": 6,
   "metadata": {},
   "outputs": [],
   "source": [
    "from collections import deque\n",
    "\n",
    "def solution(numbers, target):\n",
    "    answer = 0\n",
    "    queue = deque()\n",
    "    n = len(numbers)\n",
    "    \n",
    "    # 시작노드를 큐에 추가 (+/- 경우 나눠서)\n",
    "    queue.append([numbers[0],0])\n",
    "    queue.append([-1*numbers[0],0])\n",
    "    \n",
    "    #큐가 빌 때까지 반복한다\n",
    "    while queue:\n",
    "        # 시작노드를 큐에서 제거 (value와 idx 세트로)\n",
    "        value, idx = queue.popleft()\n",
    "        \n",
    "        # 다음 인덱스로\n",
    "        idx += 1\n",
    "        \n",
    "        if idx < n: # 배열 끝이 아니라면\n",
    "            # +/- 나눠서 다음 계산\n",
    "            queue.append([value+numbers[idx], idx])\n",
    "            queue.append([value-numbers[idx],idx])\n",
    "        else: # 배열 끝났다면\n",
    "            if value == target: #타겟과 값이 같다면 정답\n",
    "                answer += 1\n",
    "                \n",
    "    return answer"
   ]
  },
  {
   "cell_type": "code",
   "execution_count": 7,
   "metadata": {
    "scrolled": false
   },
   "outputs": [
    {
     "data": {
      "text/plain": [
       "5"
      ]
     },
     "execution_count": 7,
     "metadata": {},
     "output_type": "execute_result"
    }
   ],
   "source": [
    "solution(numbers, target)"
   ]
  },
  {
   "cell_type": "code",
   "execution_count": null,
   "metadata": {},
   "outputs": [],
   "source": []
  },
  {
   "cell_type": "code",
   "execution_count": null,
   "metadata": {},
   "outputs": [],
   "source": []
  },
  {
   "cell_type": "code",
   "execution_count": null,
   "metadata": {},
   "outputs": [],
   "source": []
  }
 ],
 "metadata": {
  "kernelspec": {
   "display_name": "Python 3",
   "language": "python",
   "name": "python3"
  },
  "language_info": {
   "codemirror_mode": {
    "name": "ipython",
    "version": 3
   },
   "file_extension": ".py",
   "mimetype": "text/x-python",
   "name": "python",
   "nbconvert_exporter": "python",
   "pygments_lexer": "ipython3",
   "version": "3.8.3"
  }
 },
 "nbformat": 4,
 "nbformat_minor": 4
}
