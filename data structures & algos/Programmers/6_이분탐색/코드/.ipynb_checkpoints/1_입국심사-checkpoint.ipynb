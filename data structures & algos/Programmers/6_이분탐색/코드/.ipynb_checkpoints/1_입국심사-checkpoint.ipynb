{
 "cells": [
  {
   "cell_type": "markdown",
   "metadata": {},
   "source": [
    "# 프로그래머스 이분탐색 문제\n",
    "https://programmers.co.kr/learn/courses/30/parts/12486\n",
    "\n",
    "# 입국심사\n",
    "https://programmers.co.kr/learn/courses/30/lessons/43238\n",
    "\n",
    "## 문제 설명\n",
    "n명이 입국심사를 위해 줄을 서서 기다리고 있습니다. 각 입국심사대에 있는 심사관마다 심사하는데 걸리는 시간은 다릅니다.\n",
    "\n",
    "처음에 모든 심사대는 비어있습니다. 한 심사대에서는 동시에 한 명만 심사를 할 수 있습니다. 가장 앞에 서 있는 사람은 비어 있는 심사대로 가서 심사를 받을 수 있습니다. 하지만 더 빨리 끝나는 심사대가 있으면 기다렸다가 그곳으로 가서 심사를 받을 수도 있습니다.\n",
    "\n",
    "모든 사람이 심사를 받는데 걸리는 시간을 최소로 하고 싶습니다.\n",
    "\n",
    "입국심사를 기다리는 사람 수 n, 각 심사관이 한 명을 심사하는데 걸리는 시간이 담긴 배열 times가 매개변수로 주어질 때, 모든 사람이 심사를 받는데 걸리는 시간의 최솟값을 return 하도록 solution 함수를 작성해주세요.\n",
    "\n",
    "\n",
    "### 제한 조건\n",
    "* 입국심사를 기다리는 사람은 1명 이상 1,000,000,000명 이하입니다.\n",
    "* 각 심사관이 한 명을 심사하는데 걸리는 시간은 1분 이상 1,000,000,000분 이하입니다.\n",
    "* 심사관은 1명 이상 100,000명 이하입니다"
   ]
  },
  {
   "cell_type": "code",
   "execution_count": 1,
   "metadata": {},
   "outputs": [],
   "source": [
    "n = 6\n",
    "times = [7,10]\n",
    "#결과 28"
   ]
  },
  {
   "cell_type": "markdown",
   "metadata": {},
   "source": [
    "## 풀이\n",
    "https://wwlee94.github.io/category/algorithm/binary-search/immigration/\n",
    "\n",
    "\n",
    "문제를 처음 보았을 때는 for 문을 돌면서 일일히 확인하는 문제인가 싶었지만 수의 범위가 너무 크기에 불가능해서 해당 방법으로는 풀 수 없다고 판단하여 이분 탐색의 개념에 대해 더 알아보고 문제에 접근했습니다.\n",
    "\n",
    "문제의 핵심은 최소, 최대 범위를 구한 뒤 구하려고 하는 답을 이분 탐색으로 범위를 좁혀가며 답을 구하는 것 입니다.\n",
    "\n",
    "* 문제에서 최대 범위는 심사관 중 가장 오래걸리는 심사관을 계속 검사 받는 경우입니다.\n",
    "\n",
    "\n",
    "\n",
    "* 최소, 최대 범위의 중간값인 mid가 n명을 심사 할 수 있는 지 아닌 지를 파악하며 이분 탐색을 진행합니다.\n",
    "\n",
    "    * n명을 심사 할 수 있다면, 답을 갱신하고, 최대 범위를 줄여봅니다.\n",
    "    * n명을 심사 할 수 없다면, 최소범위를 늘려봅니다."
   ]
  },
  {
   "cell_type": "code",
   "execution_count": 37,
   "metadata": {},
   "outputs": [],
   "source": [
    "def solution(n,times):\n",
    "    answer = 0\n",
    "    \n",
    "    leng = len(times)\n",
    "    left = 1\n",
    "    right = (leng+1) * max(times) #최대 범위 - 첫 n+1번째 사람의 경우\n",
    "    \n",
    "    while left <= right:\n",
    "        \n",
    "        print('----')\n",
    "        print('left:',left)\n",
    "        print('right:',right)\n",
    "        \n",
    "        # // -> 결과가 정수형으로 나옴 (ex 3.5 -> 3)\n",
    "        mid = (left + right) // 2\n",
    "        print('mid:',mid)\n",
    "        \n",
    "        cnt = 0\n",
    "        \n",
    "        for time in times:\n",
    "            cnt += mid // time\n",
    "            print('cnt:',cnt)\n",
    "            #심사인원수를 넘으면 다음 단계\n",
    "            if cnt >= n:\n",
    "                break\n",
    "                \n",
    "        #n명을 심사할 수 있는 경우\n",
    "        #한 심사관에게 주어진 시간을 줄여본다\n",
    "        if cnt >= n:\n",
    "            answer = mid\n",
    "            right = mid - 1\n",
    "                \n",
    "        #없는 경우:\n",
    "        elif cnt < n:\n",
    "            left = mid + 1\n",
    "            \n",
    "        print('answer:',answer)\n",
    "        \n",
    "    return answer"
   ]
  },
  {
   "cell_type": "code",
   "execution_count": 38,
   "metadata": {
    "scrolled": false
   },
   "outputs": [
    {
     "name": "stdout",
     "output_type": "stream",
     "text": [
      "----\n",
      "left: 1\n",
      "right: 24\n",
      "mid: 12\n",
      "cnt: 1\n",
      "cnt: 2\n",
      "answer: 0\n",
      "----\n",
      "left: 13\n",
      "right: 24\n",
      "mid: 18\n",
      "cnt: 2\n",
      "cnt: 4\n",
      "answer: 0\n",
      "----\n",
      "left: 19\n",
      "right: 24\n",
      "mid: 21\n",
      "cnt: 3\n",
      "cnt: 5\n",
      "answer: 0\n",
      "----\n",
      "left: 22\n",
      "right: 24\n",
      "mid: 23\n",
      "cnt: 3\n",
      "cnt: 5\n",
      "answer: 0\n",
      "----\n",
      "left: 24\n",
      "right: 24\n",
      "mid: 24\n",
      "cnt: 3\n",
      "cnt: 6\n",
      "answer: 24\n"
     ]
    },
    {
     "data": {
      "text/plain": [
       "24"
      ]
     },
     "execution_count": 38,
     "metadata": {},
     "output_type": "execute_result"
    }
   ],
   "source": [
    "solution(n,times)"
   ]
  },
  {
   "cell_type": "markdown",
   "metadata": {},
   "source": [
    "# 배워둘 것\n",
    "\n",
    "## 이진탐색 기본 프레임\n",
    "https://wayhome25.github.io/cs/2017/04/15/cs-16/"
   ]
  },
  {
   "cell_type": "code",
   "execution_count": 32,
   "metadata": {},
   "outputs": [
    {
     "data": {
      "text/plain": [
       "3"
      ]
     },
     "execution_count": 32,
     "metadata": {},
     "output_type": "execute_result"
    }
   ],
   "source": [
    "def bin_search(target,data):\n",
    "    data.sort()\n",
    "    \n",
    "    left = 0 #시작\n",
    "    right = len(data) - 1 #끝\n",
    "    \n",
    "    while left <= right:\n",
    "        \n",
    "        mid = (left + right) // 2\n",
    "        \n",
    "        #정답!\n",
    "        if data[mid] == target:\n",
    "            return mid\n",
    "        \n",
    "        elif data[mid] < target:\n",
    "            left = mid + 1\n",
    "        \n",
    "        else:\n",
    "            right = mid - 1\n",
    "            \n",
    "    return None\n",
    "\n",
    "\n",
    "bin_search(10,[1,2,3,10,99,2394,234])"
   ]
  },
  {
   "cell_type": "code",
   "execution_count": null,
   "metadata": {},
   "outputs": [],
   "source": []
  },
  {
   "cell_type": "code",
   "execution_count": null,
   "metadata": {},
   "outputs": [],
   "source": []
  },
  {
   "cell_type": "code",
   "execution_count": null,
   "metadata": {},
   "outputs": [],
   "source": []
  }
 ],
 "metadata": {
  "kernelspec": {
   "display_name": "Python 3",
   "language": "python",
   "name": "python3"
  },
  "language_info": {
   "codemirror_mode": {
    "name": "ipython",
    "version": 3
   },
   "file_extension": ".py",
   "mimetype": "text/x-python",
   "name": "python",
   "nbconvert_exporter": "python",
   "pygments_lexer": "ipython3",
   "version": "3.8.3"
  }
 },
 "nbformat": 4,
 "nbformat_minor": 4
}
