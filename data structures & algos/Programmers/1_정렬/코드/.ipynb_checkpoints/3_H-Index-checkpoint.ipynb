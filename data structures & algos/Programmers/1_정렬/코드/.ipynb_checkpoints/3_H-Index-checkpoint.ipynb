{
 "cells": [
  {
   "cell_type": "markdown",
   "metadata": {},
   "source": [
    "# 프로그래머스 정렬 문제\n",
    "https://programmers.co.kr/learn/courses/30/parts/12198"
   ]
  },
  {
   "cell_type": "markdown",
   "metadata": {},
   "source": [
    "# H-Index\n",
    "https://programmers.co.kr/learn/courses/30/lessons/42747\n",
    "\n",
    "## 문제 설명\n",
    "H-Index는 과학자의 생산성과 영향력을 나타내는 지표입니다. 어느 과학자의 H-Index를 나타내는 값인 h를 구하려고 합니다. 위키백과1에 따르면, H-Index는 다음과 같이 구합니다.\n",
    "\n",
    "\n",
    "어떤 과학자가 발표한 논문 n편 중, h번 이상 인용된 논문이 h편 이상이고 나머지 논문이 h번 이하 인용되었다면 h의 최댓값이 이 과학자의 H-Index입니다.\n",
    "\n",
    "\n",
    "어떤 과학자가 발표한 논문의 인용 횟수를 담은 배열 citations가 매개변수로 주어질 때, 이 과학자의 H-Index를 return 하도록 solution 함수를 작성해주세요.\n",
    "\n",
    "\n",
    "### 제한사항\n",
    "* 과학자가 발표한 논문의 수는 1편 이상 1,000편 이하입니다.\n",
    "* 논문별 인용 횟수는 0회 이상 10,000회 이하입니다.\n",
    "\n",
    "풀이: https://eda-ai-lab.tistory.com/471"
   ]
  },
  {
   "cell_type": "code",
   "execution_count": 7,
   "metadata": {},
   "outputs": [],
   "source": [
    "#입출력 예\n",
    "citations = [3, 0, 6, 1, 5]\n",
    "# return = 3"
   ]
  },
  {
   "cell_type": "code",
   "execution_count": 107,
   "metadata": {},
   "outputs": [],
   "source": [
    "def solution(citations):\n",
    "    #내림차순 정렬\n",
    "    citations.sort(reverse=True)\n",
    "    \n",
    "    #enumerate로 순서 잡기\n",
    "    arr = enumerate(citations, start=1)\n",
    "    for i, value in arr:\n",
    "        print(i,\":\",value)\n",
    "        \n",
    "    #인덱스와 비교해서 작은 수 추출\n",
    "    arr = list(map(min, enumerate(citations, start=1)))\n",
    "    print(arr)\n",
    "    \n",
    "    # 그 중 가장 큰 값\n",
    "    print(max(arr))\n",
    "    \n",
    "    #위의 과정을 한줄로 요약\n",
    "    answer = max(map(min, enumerate(citations, start=1)))\n",
    "    \n",
    "    return answer"
   ]
  },
  {
   "cell_type": "code",
   "execution_count": 108,
   "metadata": {},
   "outputs": [
    {
     "name": "stdout",
     "output_type": "stream",
     "text": [
      "1 : 6\n",
      "2 : 5\n",
      "3 : 3\n",
      "4 : 1\n",
      "5 : 0\n",
      "[1, 2, 3, 1, 0]\n",
      "3\n"
     ]
    },
    {
     "data": {
      "text/plain": [
       "3"
      ]
     },
     "execution_count": 108,
     "metadata": {},
     "output_type": "execute_result"
    }
   ],
   "source": [
    "solution(citations)"
   ]
  },
  {
   "cell_type": "markdown",
   "metadata": {},
   "source": [
    "## 배워둘 것\n",
    "## range & enumerate 함수\n",
    "\n",
    "### range 함수\n",
    "\n",
    "#### range(start, stop, step)\n",
    "* start~stop-1까지 step 단위로 증감\n"
   ]
  },
  {
   "cell_type": "code",
   "execution_count": 89,
   "metadata": {},
   "outputs": [
    {
     "name": "stdout",
     "output_type": "stream",
     "text": [
      "[0, 1, 2, 3, 4]\n",
      "[1, 2, 3, 4, 5]\n",
      "[1, 3, 5]\n",
      "[6, 5, 4, 3, 2]\n",
      "[6, 4, 2]\n"
     ]
    }
   ],
   "source": [
    "print(list(range(5))) #[0, 1, 2, 3, 4]\n",
    "\n",
    "print(list(range(1,6))) #[1, 2, 3, 4, 5]\n",
    "print(list(range(1,6,2))) #[1, 3, 5]\n",
    "\n",
    "print(list(range(6,1,-1))) #[6, 5, 4, 3, 2]\n",
    "print(list(range(6,1,-2))) #[6, 4, 2]"
   ]
  },
  {
   "cell_type": "markdown",
   "metadata": {},
   "source": [
    "### enumerate 함수 (★)\n",
    "\n",
    "#### enumerate(sequence, start=0)\n",
    "\n",
    "* enumerate는 “열거하다”라는 뜻입니다.\n",
    "* 리스트가 있는 경우 순서와 리스트의 값을 전달하는 기능을 가집니다.\n",
    "* 이 함수는 순서가 있는 자료형(list, set, tuple, dictionary, string)을 입력으로 받아 인덱스 값을 포함하는 enumerate 객체를 리턴합니다.\n",
    "* 보통 enumerate 함수는 for문과 함께 자주 사용됩니다.\n",
    "* start=1로 하면 인덱스가 1부터 시작 (기본은 0부터 시작)\n",
    "\n",
    "https://wikidocs.net/20792"
   ]
  },
  {
   "cell_type": "code",
   "execution_count": 97,
   "metadata": {},
   "outputs": [
    {
     "name": "stdout",
     "output_type": "stream",
     "text": [
      "0 : 1\n",
      "1 : 2\n",
      "2 : 3\n",
      "\n",
      "0 : 1\n",
      "1 : 2\n",
      "2 : 3\n",
      "\n",
      "0 : 이름 aaa\n",
      "1 : 나이 11\n",
      "\n",
      "0 : 안\n",
      "1 : 녕\n",
      "2 :  \n",
      "3 : 하\n",
      "4 : 세\n",
      "5 : 요\n",
      "\n"
     ]
    }
   ],
   "source": [
    "arr = enumerate((1,2,3))\n",
    "for i, value in arr:\n",
    "    print(i,\":\",value)\n",
    "\n",
    "print()\n",
    "\n",
    "arr = enumerate([1,2,3])\n",
    "for i, value in arr:\n",
    "    print(i,\":\",value)\n",
    "\n",
    "print()\n",
    "\n",
    "dict1 = {'이름': 'aaa', '나이': 11}\n",
    "data = enumerate(dict1)\n",
    "for i, key in data:\n",
    "    print(i, \":\", key, dict1[key])\n",
    "    \n",
    "print()\n",
    "\n",
    "data = enumerate(\"안녕 하세요\")\n",
    "for i, value in data:\n",
    "    print(i, \":\", value)\n",
    "    \n",
    "print()"
   ]
  },
  {
   "cell_type": "code",
   "execution_count": null,
   "metadata": {},
   "outputs": [],
   "source": []
  }
 ],
 "metadata": {
  "kernelspec": {
   "display_name": "Python 3",
   "language": "python",
   "name": "python3"
  },
  "language_info": {
   "codemirror_mode": {
    "name": "ipython",
    "version": 3
   },
   "file_extension": ".py",
   "mimetype": "text/x-python",
   "name": "python",
   "nbconvert_exporter": "python",
   "pygments_lexer": "ipython3",
   "version": "3.8.3"
  }
 },
 "nbformat": 4,
 "nbformat_minor": 4
}
