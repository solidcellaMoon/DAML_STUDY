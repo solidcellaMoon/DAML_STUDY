{
 "cells": [
  {
   "cell_type": "markdown",
   "metadata": {},
   "source": [
    "# 프로그래머스 스택/큐 문제\n",
    "https://programmers.co.kr/learn/courses/30/parts/12081\n",
    "\n",
    "# 기능개발\n",
    "https://programmers.co.kr/learn/courses/30/lessons/42586\n",
    "\n",
    "## 문제 설명\n",
    "프로그래머스 팀에서는 기능 개선 작업을 수행 중입니다. 각 기능은 진도가 100%일 때 서비스에 반영할 수 있습니다.\n",
    "\n",
    "\n",
    "또, 각 기능의 개발속도는 모두 다르기 때문에 뒤에 있는 기능이 앞에 있는 기능보다 먼저 개발될 수 있고, 이때 뒤에 있는 기능은 앞에 있는 기능이 배포될 때 함께 배포됩니다.\n",
    "\n",
    "\n",
    "먼저 배포되어야 하는 순서대로 작업의 진도가 적힌 정수 배열 progresses와 각 작업의 개발 속도가 적힌 정수 배열 speeds가 주어질 때 각 배포마다 몇 개의 기능이 배포되는지를 return 하도록 solution 함수를 완성하세요.\n",
    "\n",
    "\n",
    "### 제한 조건\n",
    "* 작업의 개수(progresses, speeds배열의 길이)는 100개 이하입니다.\n",
    "* 작업 진도는 100 미만의 자연수입니다.\n",
    "* 작업 속도는 100 이하의 자연수입니다.\n",
    "* 배포는 하루에 한 번만 할 수 있으며, 하루의 끝에 이루어진다고 가정합니다. 예를 들어 진도율이 95%인 작업의 개발 속도가 하루에 4%라면 배포는 2일 뒤에 이루어집니다."
   ]
  },
  {
   "cell_type": "code",
   "execution_count": 3,
   "metadata": {},
   "outputs": [],
   "source": [
    "progresses = [93, 30, 55]\n",
    "speeds = [1, 30, 5]\n",
    "#결과 [2,1]"
   ]
  },
  {
   "cell_type": "markdown",
   "metadata": {},
   "source": [
    "## 내 풀이"
   ]
  },
  {
   "cell_type": "code",
   "execution_count": 92,
   "metadata": {},
   "outputs": [],
   "source": [
    "from collections import deque\n",
    "\n",
    "def solution(progresses, speeds):\n",
    "    answer = []\n",
    "    \n",
    "    #작업상황 넣는 큐\n",
    "    queue = deque(progresses)\n",
    "    \n",
    "    #작업속도 넣는 큐\n",
    "    spd_que = deque(speeds)\n",
    "    \n",
    "    #큐가 빌 때까지!\n",
    "    while queue:\n",
    "\n",
    "        #첫번째 작업이 100 미만이면\n",
    "        if queue[0] < 100:\n",
    "            #각 작업이 완성될 때까지 속도를 더함\n",
    "            for i in range(len(queue)):\n",
    "                    queue[i] += spd_que[i]      \n",
    "\n",
    "                    \n",
    "        #첫번째 작업이 100 이상이면\n",
    "        else: \n",
    "            num = 0\n",
    "            #완성된 작업들 꺼냄\n",
    "            while queue:\n",
    "                \n",
    "                pro = queue.popleft()\n",
    "                \n",
    "                if pro >= 100: # 100 이상 작업은 꺼냄\n",
    "                    spd_que.popleft()\n",
    "                    num += 1\n",
    "                    \n",
    "                else: # 100 미만 작업은 도로 넣고 탈출\n",
    "                    queue.appendleft(pro)\n",
    "                    break\n",
    "\n",
    "            answer.append(num)\n",
    "    \n",
    "    return answer"
   ]
  },
  {
   "cell_type": "code",
   "execution_count": 93,
   "metadata": {},
   "outputs": [
    {
     "data": {
      "text/plain": [
       "[2, 1]"
      ]
     },
     "execution_count": 93,
     "metadata": {},
     "output_type": "execute_result"
    }
   ],
   "source": [
    "solution(progresses, speeds)"
   ]
  },
  {
   "cell_type": "markdown",
   "metadata": {},
   "source": [
    "### 연습장"
   ]
  },
  {
   "cell_type": "markdown",
   "metadata": {},
   "source": [
    "[93, 30, 55] [1,30,5]\n",
    "\n",
    "+= 1\n",
    "\n",
    "[94,60,60]\n",
    "\n",
    "+= 1\n",
    "\n",
    "[95, 90, 65]\n",
    "\n",
    "+= 1\n",
    "\n",
    "[96,120,70] => 3일째에 두번째꺼 완성\n",
    "\n",
    "+= 1\n",
    "\n",
    "[97, 150, 75]\n",
    "\n",
    "+= 1\n",
    "\n",
    "[98, 180, 80]\n",
    "\n",
    "+= 1\n",
    "\n",
    "[99, 210, 85]\n",
    "\n",
    "+= 1\n",
    "\n",
    "[100, 240, 90] => 7일째에 첫번째꺼 완성\n",
    "첫번째, 두번째 배포 가능 -> [2]\n",
    " => [90]\n",
    "\n",
    "+= 1\n",
    "\n",
    "[95]\n",
    "\n",
    "+= 1\n",
    "\n",
    "[100] => 9일째에 완성, 배포가능\n",
    "-> [2,1]\n",
    "[]"
   ]
  },
  {
   "cell_type": "code",
   "execution_count": null,
   "metadata": {},
   "outputs": [],
   "source": []
  },
  {
   "cell_type": "code",
   "execution_count": null,
   "metadata": {},
   "outputs": [],
   "source": []
  },
  {
   "cell_type": "code",
   "execution_count": null,
   "metadata": {},
   "outputs": [],
   "source": []
  }
 ],
 "metadata": {
  "kernelspec": {
   "display_name": "Python 3",
   "language": "python",
   "name": "python3"
  },
  "language_info": {
   "codemirror_mode": {
    "name": "ipython",
    "version": 3
   },
   "file_extension": ".py",
   "mimetype": "text/x-python",
   "name": "python",
   "nbconvert_exporter": "python",
   "pygments_lexer": "ipython3",
   "version": "3.8.3"
  }
 },
 "nbformat": 4,
 "nbformat_minor": 4
}
