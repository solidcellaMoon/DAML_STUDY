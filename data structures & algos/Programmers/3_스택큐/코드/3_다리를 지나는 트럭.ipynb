{
 "cells": [
  {
   "cell_type": "markdown",
   "metadata": {},
   "source": [
    "# 프로그래머스 스택/큐 문제\n",
    "https://programmers.co.kr/learn/courses/30/parts/12081\n",
    "\n",
    "# 다리를 지나는 트럭 (★)\n",
    "https://programmers.co.kr/learn/courses/30/lessons/42583\n",
    "\n",
    "## 문제 설명\n",
    "트럭 여러 대가 강을 가로지르는 일 차선 다리를 정해진 순으로 건너려 합니다. 모든 트럭이 다리를 건너려면 최소 몇 초가 걸리는지 알아내야 합니다. 트럭은 1초에 1만큼 움직이며, 다리 길이는 bridge_length이고 다리는 무게 weight까지 견딥니다.\n",
    "※ 트럭이 다리에 완전히 오르지 않은 경우, 이 트럭의 무게는 고려하지 않습니다.\n",
    "\n",
    "\n",
    "예를 들어, 길이가 2이고 10kg 무게를 견디는 다리가 있습니다. 무게가 [7, 4, 5, 6]kg인 트럭이 순서대로 최단 시간 안에 다리를 건너려면 다음과 같이 건너야 합니다.\n",
    "\n",
    "\n",
    "따라서, 모든 트럭이 다리를 지나려면 최소 8초가 걸립니다.\n",
    "\n",
    "\n",
    "solution 함수의 매개변수로 다리 길이 bridge_length, 다리가 견딜 수 있는 무게 weight, 트럭별 무게 truck_weights가 주어집니다. 이때 모든 트럭이 다리를 건너려면 최소 몇 초가 걸리는지 return 하도록 solution 함수를 완성하세요.\n",
    "\n",
    "\n",
    "### 제한 조건\n",
    "* bridge_length는 1 이상 10,000 이하입니다.\n",
    "* weight는 1 이상 10,000 이하입니다.\n",
    "* truck_weights의 길이는 1 이상 10,000 이하입니다.\n",
    "* 모든 트럭의 무게는 1 이상 weight 이하입니다.\n",
    "\n",
    "풀이: https://velog.io/@devjuun_s/%EB%8B%A4%EB%A6%AC%EB%A5%BC-%EC%A7%80%EB%82%98%EB%8A%94-%ED%8A%B8%EB%9F%AD-%ED%94%84%EB%A1%9C%EA%B7%B8%EB%9E%98%EB%A8%B8%EC%8A%A4"
   ]
  },
  {
   "cell_type": "code",
   "execution_count": 20,
   "metadata": {},
   "outputs": [],
   "source": [
    "bridge_length = 2\n",
    "weight = 10\n",
    "truck_weights = [7,4,5,6]\n",
    "#결과 = 8"
   ]
  },
  {
   "cell_type": "code",
   "execution_count": 18,
   "metadata": {},
   "outputs": [],
   "source": [
    "def solution(bridge_length, weight, truck_weights):\n",
    "    time = 0\n",
    "    \n",
    "    #브릿지의 길이를 큐 형식으로 표현\n",
    "    #즉, 통과중인 트럭을 담는다\n",
    "    queue =[0] * bridge_length\n",
    "    # [0, 0, *] 시작\n",
    "    # [0, *, 0]\n",
    "    # [*, 0, 0] 끝\n",
    "\n",
    "    while queue:\n",
    "        #한 반복주기당 time +=1\n",
    "        time += 1\n",
    "\n",
    "        #큐에서 하나 꺼냄\n",
    "        queue.pop(0)\n",
    "\n",
    "        #건너지 못한 트럭이 있을 때\n",
    "        if truck_weights:\n",
    "            # 큐의 합 + 맨앞 트럭 무게가 한도보다 낮거나 같다면\n",
    "            if sum(queue) + truck_weights[0] <= weight:\n",
    "                #맨앞 트럭을 꺼내서 큐의 맨 뒤에 넣음\n",
    "                queue.append(truck_weights.pop(0))\n",
    "            else: #한도보다 크다면 통과시키지 않는다 (즉, 0 삽입)\n",
    "                queue.append(0)\n",
    "    \n",
    "    # time이 최종 답임\n",
    "    return time"
   ]
  },
  {
   "cell_type": "code",
   "execution_count": 19,
   "metadata": {},
   "outputs": [
    {
     "data": {
      "text/plain": [
       "8"
      ]
     },
     "execution_count": 19,
     "metadata": {},
     "output_type": "execute_result"
    }
   ],
   "source": [
    "solution(bridge_length, weight, truck_weights)"
   ]
  },
  {
   "cell_type": "markdown",
   "metadata": {},
   "source": [
    "### 일부 변형한 내 풀이 (시간초과로 실패)\n",
    "\n",
    "큐 부분을 리스트가 아닌 deque로 바꿔서 popleft()등을 쓰면 시간초과가 뜸.\n",
    "\n",
    "기능상 deque.popleft() == list.pop(0) \n",
    "\n",
    "#### popleft()보단 pop(0)이 속도면으로 더 빠른 것 같음!\n",
    "\n"
   ]
  },
  {
   "cell_type": "code",
   "execution_count": 21,
   "metadata": {},
   "outputs": [],
   "source": [
    "from collections import deque\n",
    "\n",
    "def solution(bridge_length, weight, truck_weights):\n",
    "    answer = 0\n",
    "    time = 0\n",
    "    \n",
    "    #브릿지의 길이를 큐 형식으로 표현\n",
    "    #즉, 통과중인 트럭을 담는다\n",
    "    queue = deque([0] * bridge_length)\n",
    "    # [0, 0, *] 시작\n",
    "    # [0, *, 0]\n",
    "    # [*, 0, 0] 끝\n",
    "\n",
    "    while queue:\n",
    "        #한 반복주기당 time +=1\n",
    "        time += 1\n",
    "\n",
    "        #큐에서 하나 꺼냄\n",
    "        queue.popleft()\n",
    "\n",
    "        #건너지 못한 트럭이 있을 때\n",
    "        if truck_weights:\n",
    "            # 큐의 합 + 맨앞 트럭 무게가 한도보다 낮거나 같다면\n",
    "            if sum(queue) + truck_weights[0] <= weight:\n",
    "                #맨앞 트럭을 꺼내서 큐의 맨 뒤에 넣음\n",
    "                queue.append(truck_weights.pop(0))\n",
    "            else: #한도보다 크다면 통과시키지 않는다 (즉, 0 삽입)\n",
    "                queue.append(0)\n",
    "    \n",
    "    # time이 최종 답임\n",
    "    answer = time\n",
    "    \n",
    "    return answer"
   ]
  },
  {
   "cell_type": "code",
   "execution_count": 22,
   "metadata": {},
   "outputs": [
    {
     "data": {
      "text/plain": [
       "8"
      ]
     },
     "execution_count": 22,
     "metadata": {},
     "output_type": "execute_result"
    }
   ],
   "source": [
    "solution(bridge_length, weight, truck_weights)"
   ]
  },
  {
   "cell_type": "code",
   "execution_count": null,
   "metadata": {},
   "outputs": [],
   "source": []
  },
  {
   "cell_type": "code",
   "execution_count": null,
   "metadata": {},
   "outputs": [],
   "source": []
  },
  {
   "cell_type": "code",
   "execution_count": null,
   "metadata": {},
   "outputs": [],
   "source": []
  }
 ],
 "metadata": {
  "kernelspec": {
   "display_name": "Python 3",
   "language": "python",
   "name": "python3"
  },
  "language_info": {
   "codemirror_mode": {
    "name": "ipython",
    "version": 3
   },
   "file_extension": ".py",
   "mimetype": "text/x-python",
   "name": "python",
   "nbconvert_exporter": "python",
   "pygments_lexer": "ipython3",
   "version": "3.8.3"
  }
 },
 "nbformat": 4,
 "nbformat_minor": 4
}
