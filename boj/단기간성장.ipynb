{
 "cells": [
  {
   "cell_type": "markdown",
   "metadata": {},
   "source": [
    "https://www.acmicpc.net/workbook/view/4349"
   ]
  },
  {
   "cell_type": "markdown",
   "metadata": {},
   "source": [
    "## 1. 평범한 배낭\n",
    "https://www.acmicpc.net/problem/12865"
   ]
  },
  {
   "cell_type": "code",
   "execution_count": 65,
   "metadata": {},
   "outputs": [
    {
     "name": "stdout",
     "output_type": "stream",
     "text": [
      "[[20, 3], [1, 1], [10, 1], [2, 1], [2, 0]]\n",
      "0\n"
     ]
    }
   ],
   "source": [
    "from collections import deque\n",
    "#n,k = list(map(int,input().split()))\n",
    "\n",
    "arr = []\n",
    "\n",
    "#for _ in range(n):\n",
    "#    arr.append(list(map(int,input().split())))\n",
    "\n",
    "n,k = 4, 3\n",
    "arr = [[1,1],[20,3],[10,1],[2,1],[2,0]]\n",
    "\n",
    "    \n",
    "#가치 큰 순으로 내림차순\n",
    "arr.sort(key = lambda x: (x[1]), reverse = True)\n",
    "print(arr)\n",
    "\n",
    "#현재 무게를 저장할 변수\n",
    "sums = k+1\n",
    "\n",
    "while sums > k:\n",
    "    \n",
    "    sums = 0\n",
    "    \n",
    "    for w,v in arr:\n",
    "        sums += w\n",
    "        if sums > k:\n",
    "            sums -= w\n",
    "            arr = arr[:arr.index([w,v])]\n",
    "            break\n",
    "    \n",
    "answer = 0\n",
    "\n",
    "for w,v in arr:\n",
    "    answer += v\n",
    "    \n",
    "print(answer)"
   ]
  },
  {
   "cell_type": "code",
   "execution_count": 62,
   "metadata": {},
   "outputs": [
    {
     "name": "stdout",
     "output_type": "stream",
     "text": [
      "[1, 2]\n"
     ]
    }
   ],
   "source": [
    "arr = [1,2,3,4,5]\n",
    "print(arr[:2])"
   ]
  },
  {
   "cell_type": "code",
   "execution_count": null,
   "metadata": {},
   "outputs": [],
   "source": []
  },
  {
   "cell_type": "code",
   "execution_count": null,
   "metadata": {},
   "outputs": [],
   "source": []
  },
  {
   "cell_type": "code",
   "execution_count": null,
   "metadata": {},
   "outputs": [],
   "source": []
  },
  {
   "cell_type": "code",
   "execution_count": null,
   "metadata": {},
   "outputs": [],
   "source": []
  },
  {
   "cell_type": "code",
   "execution_count": null,
   "metadata": {},
   "outputs": [],
   "source": []
  }
 ],
 "metadata": {
  "kernelspec": {
   "display_name": "Python 3",
   "language": "python",
   "name": "python3"
  },
  "language_info": {
   "codemirror_mode": {
    "name": "ipython",
    "version": 3
   },
   "file_extension": ".py",
   "mimetype": "text/x-python",
   "name": "python",
   "nbconvert_exporter": "python",
   "pygments_lexer": "ipython3",
   "version": "3.8.3"
  }
 },
 "nbformat": 4,
 "nbformat_minor": 4
}
