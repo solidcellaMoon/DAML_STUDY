{
 "cells": [
  {
   "cell_type": "markdown",
   "metadata": {},
   "source": [
    "https://www.acmicpc.net/problem/1271"
   ]
  },
  {
   "cell_type": "code",
   "execution_count": 6,
   "metadata": {},
   "outputs": [
    {
     "name": "stdout",
     "output_type": "stream",
     "text": [
      "1 1\n",
      "1\n",
      "0\n"
     ]
    }
   ],
   "source": [
    "nm = input().split()\n",
    "\n",
    "n,m = int(nm[0]), int(nm[1])\n",
    "\n",
    "print(n//m)\n",
    "print(n%m)"
   ]
  },
  {
   "cell_type": "markdown",
   "metadata": {},
   "source": [
    "## 16진수 (★)\n",
    "https://www.acmicpc.net/problem/1550\n",
    "\n",
    "끙...ㅠ\n",
    "\n",
    "16진수 테이블: https://www.ibm.com/support/knowledgecenter/ko/ssw_aix_71/network/conversion_table.html"
   ]
  },
  {
   "cell_type": "code",
   "execution_count": 60,
   "metadata": {},
   "outputs": [
    {
     "name": "stdout",
     "output_type": "stream",
     "text": [
      "AA\n",
      "170\n"
     ]
    }
   ],
   "source": [
    "number = input()\n",
    "result = 0\n",
    "\n",
    "number = list(number)\n",
    "\n",
    "#alphabet = ['A', 'B', 'C', 'D', 'E', 'F']\n",
    "alpha_num = list(enumerate([chr(i) for i in range(65,71)],start = 10))\n",
    "#[(10, 'A'), (11, 'B'), (12, 'C'), (13, 'D'), (14, 'E'), (15, 'F')]\n",
    "\n",
    "maxlen = len(number) - 1\n",
    "\n",
    "for idx in range(len(number)):\n",
    "    try: #숫자일 경우\n",
    "        result += pow(16,maxlen - idx)*int(number[idx])\n",
    "    except: #알파벳일때\n",
    "        for num,char in alpha_num:\n",
    "            if number[idx] == char:\n",
    "                result += pow(16,maxlen -idx)*num\n",
    "                break\n",
    "                \n",
    "print(result)"
   ]
  },
  {
   "cell_type": "markdown",
   "metadata": {},
   "source": [
    "## 긴자리 계산\n",
    "\n",
    "https://www.acmicpc.net/problem/2338\n",
    "\n",
    "문자열 처리할 필요가 없었...?"
   ]
  },
  {
   "cell_type": "code",
   "execution_count": 63,
   "metadata": {},
   "outputs": [
    {
     "name": "stdout",
     "output_type": "stream",
     "text": [
      "1\n",
      "-1\n",
      "0\n",
      "2\n",
      "-1\n"
     ]
    }
   ],
   "source": [
    "a = int(input())\n",
    "b = int(input())\n",
    "\n",
    "print(a+b)\n",
    "print(a-b)\n",
    "print(a*b)"
   ]
  },
  {
   "cell_type": "markdown",
   "metadata": {},
   "source": [
    "## 검증수\n",
    "https://www.acmicpc.net/problem/2475"
   ]
  },
  {
   "cell_type": "code",
   "execution_count": 72,
   "metadata": {},
   "outputs": [
    {
     "name": "stdout",
     "output_type": "stream",
     "text": [
      "0 4 2 5 6\n",
      "1\n"
     ]
    }
   ],
   "source": [
    "arr = list(map(int,input().split()))\n",
    "verify = 0\n",
    "\n",
    "for num in arr:\n",
    "    verify += pow(num,2)\n",
    "    \n",
    "print(verify%10)"
   ]
  },
  {
   "cell_type": "markdown",
   "metadata": {},
   "source": [
    "## 파티가 끝나고 난 뒤\n",
    "https://www.acmicpc.net/problem/2845"
   ]
  },
  {
   "cell_type": "code",
   "execution_count": 74,
   "metadata": {},
   "outputs": [
    {
     "name": "stdout",
     "output_type": "stream",
     "text": [
      "5 20\n",
      "99 101 1000 0 97\n",
      "-1 1 900 -100 -3 "
     ]
    }
   ],
   "source": [
    "party = list(map(int,input().split()))\n",
    "news = list(map(int,input().split()))\n",
    "\n",
    "for n in news:\n",
    "    print(n-(party[0]*party[1]),end = ' ')"
   ]
  },
  {
   "cell_type": "markdown",
   "metadata": {},
   "source": [
    "## 저작권\n",
    "https://www.acmicpc.net/problem/2914\n",
    "\n",
    "올림을 구현하는 법임"
   ]
  },
  {
   "cell_type": "code",
   "execution_count": 82,
   "metadata": {},
   "outputs": [
    {
     "name": "stdout",
     "output_type": "stream",
     "text": [
      "38 24\n",
      "875\n"
     ]
    }
   ],
   "source": [
    "inputs = list(map(int,input().split()))\n",
    "#[0] = 개수 / [1] = 올림된 평균\n",
    "inputs[1] -= 1\n",
    "\n",
    "print((inputs[0]*inputs[1])+1)"
   ]
  },
  {
   "cell_type": "markdown",
   "metadata": {},
   "source": [
    "## 체스 (★)\n",
    "\n",
    "https://www.acmicpc.net/problem/3003\n",
    "\n",
    "절댓값 문제가 아니다\n",
    "\n",
    "#### 만약 수가 양수라면 동혁이는 그 개수 만큼 피스를 더해야 하는 것이고, 음수라면 제거해야 하는 것이다."
   ]
  },
  {
   "cell_type": "code",
   "execution_count": 88,
   "metadata": {},
   "outputs": [
    {
     "name": "stdout",
     "output_type": "stream",
     "text": [
      "100 1 2 2 2 7\n",
      "-99 0 0 0 0 1 "
     ]
    }
   ],
   "source": [
    "arr = list(map(int,input().split()))\n",
    "rights = [1,1,2,2,2,8]\n",
    "\n",
    "for i in range(len(arr)):\n",
    "    print(-(arr[i]-rights[i]),end = ' ')"
   ]
  },
  {
   "cell_type": "code",
   "execution_count": null,
   "metadata": {},
   "outputs": [],
   "source": []
  },
  {
   "cell_type": "code",
   "execution_count": null,
   "metadata": {},
   "outputs": [],
   "source": []
  },
  {
   "cell_type": "code",
   "execution_count": null,
   "metadata": {},
   "outputs": [],
   "source": []
  },
  {
   "cell_type": "code",
   "execution_count": null,
   "metadata": {},
   "outputs": [],
   "source": []
  },
  {
   "cell_type": "code",
   "execution_count": null,
   "metadata": {},
   "outputs": [],
   "source": []
  },
  {
   "cell_type": "code",
   "execution_count": null,
   "metadata": {},
   "outputs": [],
   "source": []
  },
  {
   "cell_type": "code",
   "execution_count": null,
   "metadata": {},
   "outputs": [],
   "source": []
  },
  {
   "cell_type": "code",
   "execution_count": null,
   "metadata": {},
   "outputs": [],
   "source": []
  },
  {
   "cell_type": "code",
   "execution_count": null,
   "metadata": {},
   "outputs": [],
   "source": []
  },
  {
   "cell_type": "code",
   "execution_count": null,
   "metadata": {},
   "outputs": [],
   "source": []
  },
  {
   "cell_type": "code",
   "execution_count": null,
   "metadata": {},
   "outputs": [],
   "source": []
  },
  {
   "cell_type": "code",
   "execution_count": null,
   "metadata": {},
   "outputs": [],
   "source": []
  },
  {
   "cell_type": "code",
   "execution_count": null,
   "metadata": {},
   "outputs": [],
   "source": []
  }
 ],
 "metadata": {
  "kernelspec": {
   "display_name": "Python 3",
   "language": "python",
   "name": "python3"
  },
  "language_info": {
   "codemirror_mode": {
    "name": "ipython",
    "version": 3
   },
   "file_extension": ".py",
   "mimetype": "text/x-python",
   "name": "python",
   "nbconvert_exporter": "python",
   "pygments_lexer": "ipython3",
   "version": "3.8.3"
  }
 },
 "nbformat": 4,
 "nbformat_minor": 4
}
