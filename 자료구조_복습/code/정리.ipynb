{
 "cells": [
  {
   "cell_type": "markdown",
   "metadata": {},
   "source": [
    "\n",
    "## 1. 연결리스트\n",
    "\n",
    "각 Node가 데이터를 갖고 포인터로 다음 노드나 이전 노드를 가리키는 자료구조.\n"
   ]
  },
  {
   "cell_type": "code",
   "execution_count": 1,
   "metadata": {},
   "outputs": [],
   "source": [
    "class Node :\n",
    "    def __init__(self,data):\n",
    "        self.data = data\n",
    "        self.next = None\n",
    "\n",
    "node1 = Node(10)\n",
    "node2 = Node(20)\n",
    "node3 = Node(30)\n",
    "\n",
    "node1.next = node2\n",
    "node2.next = node3\n",
    "\n",
    "# n1 - n2 - n3 형식으로 연결된다."
   ]
  },
  {
   "cell_type": "markdown",
   "metadata": {},
   "source": [
    "## 2. 스택\n",
    "\n",
    "LIFO 구조"
   ]
  },
  {
   "cell_type": "code",
   "execution_count": 2,
   "metadata": {},
   "outputs": [],
   "source": [
    "class Node :\n",
    "    def __init__(self,data):\n",
    "        self.data = data\n",
    "        self.next = None\n",
    "\n",
    "class Stack:\n",
    "    def __init__(self):\n",
    "        self.head = None\n",
    "        \n",
    "    def push(self,data):\n",
    "        # 스택이 비어있을 때\n",
    "        if self.head is None:\n",
    "            self.head = Node(data)\n",
    "        \n",
    "        # 스택이 비어있지 않을 때\n",
    "        else:\n",
    "            new_node = Node(data)\n",
    "            new_node.next = self.head\n",
    "            self.head = new_node\n",
    "            \n",
    "    def pop(self):\n",
    "        # 스택이 비었을 때\n",
    "        if self.head is None:\n",
    "            return None\n",
    "        \n",
    "        # 스택에 데이터가 없을 때\n",
    "        else:\n",
    "            popdata = self.head.data #head는 맨 위를 의미\n",
    "            self.head = self.head.next\n",
    "            return popdata"
   ]
  },
  {
   "cell_type": "code",
   "execution_count": 3,
   "metadata": {},
   "outputs": [
    {
     "name": "stdout",
     "output_type": "stream",
     "text": [
      "8\n",
      "6\n",
      "2\n",
      "3\n",
      "4\n",
      "5\n",
      "None\n"
     ]
    }
   ],
   "source": [
    "list = [5,4,3,2,6,8]\n",
    "s = Stack()\n",
    "\n",
    "for i in list:\n",
    "    s.push(i)\n",
    "    \n",
    "for _ in range(len(list)):\n",
    "    print(s.pop())\n",
    "    \n",
    "print(s.pop())"
   ]
  },
  {
   "cell_type": "markdown",
   "metadata": {},
   "source": [
    "## 3. 큐\n",
    "FIFO 구조"
   ]
  },
  {
   "cell_type": "code",
   "execution_count": 4,
   "metadata": {},
   "outputs": [],
   "source": [
    "class Node:\n",
    "    def __init__(self,data):\n",
    "        self.data = data\n",
    "        self.next = None\n",
    "        \n",
    "# Queue\n",
    "class Queue:\n",
    "    def __init__(self):\n",
    "        self.head = None\n",
    "        self.tail = None\n",
    "        \n",
    "    # 비어있는지 확인\n",
    "    def isEmpty(self):\n",
    "        if self.head is None:\n",
    "            return True\n",
    "        else:\n",
    "            return False\n",
    "    \n",
    "    #enqueue: ADD\n",
    "    def enqueue(self,data):\n",
    "        #비어있을 때\n",
    "        if self.tail is None:\n",
    "            self.head = self.tail = Node(data)\n",
    "        \n",
    "        #비어있지 않을 때\n",
    "        else:\n",
    "            #새로운 노드를 생성해 뒤에 붙이고\n",
    "            self.tail.next = Node(data)\n",
    "            #tail의 위치를 조정\n",
    "            self.tail = self.tail.next\n",
    "    \n",
    "    \n",
    "    #dequeue: REMOVE\n",
    "    def dequeue(self):\n",
    "        #empty\n",
    "        if self.head is None:\n",
    "            return None\n",
    "        \n",
    "        #not empty\n",
    "        else:\n",
    "            rm_data = self.head.data\n",
    "            self.head = self.head.next\n",
    "            return rm_data"
   ]
  },
  {
   "cell_type": "code",
   "execution_count": 5,
   "metadata": {},
   "outputs": [
    {
     "name": "stdout",
     "output_type": "stream",
     "text": [
      "isEmpty?:  False\n",
      "5\n",
      "4\n",
      "3\n",
      "2\n",
      "6\n",
      "8\n",
      "isEmpty?:  True\n"
     ]
    }
   ],
   "source": [
    "list = [5,4,3,2,6,8]\n",
    "q = Queue()\n",
    "\n",
    "for i in list:\n",
    "    q.enqueue(i)\n",
    "print('isEmpty?: ', q.isEmpty())\n",
    "\n",
    "for _ in range(len(list)):\n",
    "    print(q.dequeue())\n",
    "print('isEmpty?: ', q.isEmpty())"
   ]
  },
  {
   "cell_type": "markdown",
   "metadata": {},
   "source": [
    "## 4. 이진탐색트리\n",
    "\n",
    "#### 시간복잡도\n",
    "* 트리 형태: O(logN) \n",
    "* 최악의 경우: O(N) 트리가 일직선 형태\n"
   ]
  },
  {
   "cell_type": "code",
   "execution_count": 6,
   "metadata": {},
   "outputs": [],
   "source": [
    "class Node:\n",
    "    def __init__(self,val):\n",
    "        self.val = val\n",
    "        self.left = None\n",
    "        self.right = None\n",
    "        \n",
    "def insert(node,val):\n",
    "    # root가 비어있다면 node를 root로 만든다.\n",
    "    if node is None:\n",
    "        return Node(val)\n",
    "        \n",
    "    #만약 root의 val값이 input보다 클 경우\n",
    "    if val < node.val: #왼쪽에 넣는다\n",
    "        node.left = insert(node.left,val)\n",
    "            \n",
    "    #만약 root의 val값이 input보다 작을 경우\n",
    "    else: #오른쪽에 넣는다\n",
    "        node.right = insert(node.right,val)\n",
    "            \n",
    "    #root값을 return\n",
    "    return node\n",
    "\n",
    "#작은 순서대로 출력하는 함수---\n",
    "def inorder(root):\n",
    "    if root is not None:\n",
    "        inorder(root.left)\n",
    "        print(root.val)\n",
    "        inorder(root.right)\n",
    "        \n",
    "#최솟값 출력---\n",
    "def min_val(node):\n",
    "    #노드가 가장 왼쪽으로 가면 된다!!\n",
    "    while node.left is not None:\n",
    "        node = node.left\n",
    "    return node.val"
   ]
  },
  {
   "cell_type": "code",
   "execution_count": 7,
   "metadata": {},
   "outputs": [
    {
     "name": "stdout",
     "output_type": "stream",
     "text": [
      "==inorder==\n",
      "2\n",
      "3\n",
      "4\n",
      "5\n",
      "6\n",
      "8\n",
      "최솟값: 2\n"
     ]
    }
   ],
   "source": [
    "list = [5,4,3,2,6,8]\n",
    "root = None\n",
    "\n",
    "for i in list:\n",
    "    root = insert(root,i)\n",
    "\n",
    "print('==inorder==')\n",
    "inorder(root)\n",
    "\n",
    "print('최솟값:',min_val(root))"
   ]
  }
 ],
 "metadata": {
  "kernelspec": {
   "display_name": "Python 3",
   "language": "python",
   "name": "python3"
  },
  "language_info": {
   "codemirror_mode": {
    "name": "ipython",
    "version": 3
   },
   "file_extension": ".py",
   "mimetype": "text/x-python",
   "name": "python",
   "nbconvert_exporter": "python",
   "pygments_lexer": "ipython3",
   "version": "3.8.3"
  }
 },
 "nbformat": 4,
 "nbformat_minor": 4
}
