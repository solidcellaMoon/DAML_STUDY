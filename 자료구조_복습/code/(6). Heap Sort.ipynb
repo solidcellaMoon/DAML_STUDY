{
 "cells": [
  {
   "cell_type": "markdown",
   "metadata": {},
   "source": [
    "# (6). 힙정렬 (Heap Sort)\n",
    "\n",
    "#### Heap 이란?\n",
    "최댓값 및 최솟값을 찾아내기 위해 고안된 완전이진트리 형태의 자료구조\n",
    "\n",
    "힙형태를 갖추도록 정렬해나가고 root와 찾아낸 자식 값을 바꾼 뒤 다시 정렬하는 방식\n",
    "\n",
    "\n",
    "## 1. 개요"
   ]
  },
  {
   "cell_type": "code",
   "execution_count": 1,
   "metadata": {},
   "outputs": [],
   "source": [
    "def heapify(arr,n,i):\n",
    "    root = i\n",
    "    left = 2*i + 1\n",
    "    right = 2*i + 2\n",
    "    print('list: ',arr,'n: ',n,'root: ',root)\n",
    "    \n",
    "    # 왼쪽 노드가 존재하고, 루트보다 더 큰 값일 때\n",
    "    if left < n and arr[root] < arr[left]:\n",
    "        print('왼쪽 노드가 루트보다 더 크다.')\n",
    "        print('root: ',arr[root],'left: ',arr[left])\n",
    "        root = left\n",
    "    \n",
    "    # 오른쪽 노드가 존재하고, 루트보다 더 큰 값일 때\n",
    "    if right < n and arr[root] < arr[right]:\n",
    "        print('오른쪽 노드가 루트보다 더 크다.')\n",
    "        print('root: ',arr[root],'right: ',arr[right])\n",
    "        root = right\n",
    "        \n",
    "    # 왼쪽, 오른쪽 자식 노드들과 바꿔줄 위치를 찾았을 때\n",
    "    if root != i:\n",
    "        print('heapify_swap')\n",
    "        print('list: ',arr,'n: ',n,'root: ',root)\n",
    "        # 찾아낸 값과 swap\n",
    "        arr[i],arr[root] = arr[root],arr[i]\n",
    "        # 계속 heap 형태를 갖출 때까지 실행\n",
    "        heapify(arr,n,root)\n",
    "        \n",
    "    print('.')"
   ]
  },
  {
   "cell_type": "code",
   "execution_count": 2,
   "metadata": {},
   "outputs": [],
   "source": [
    "def heapSort(arr):\n",
    "    \n",
    "    n = len(arr)\n",
    "     \n",
    "    # heap 형태로 데이터를 정렬한다.\n",
    "    for i in range(n,-1,-1):\n",
    "        print('Sort-heapify')\n",
    "        heapify(arr,n,i)\n",
    "        \n",
    "    # root와 마지막값을 바꿔 정렬하고 바뀐값을 기준으로 다시 heapify\n",
    "    for i in range(n-1,0,-1):\n",
    "        print('Sort-swap')\n",
    "        arr[i],arr[0] = arr[0],arr[i]\n",
    "        heapify(arr,i,0)"
   ]
  },
  {
   "cell_type": "code",
   "execution_count": 3,
   "metadata": {},
   "outputs": [
    {
     "name": "stdout",
     "output_type": "stream",
     "text": [
      "Sort-heapify\n",
      "list:  [1, 3, 2] n:  3 root:  3\n",
      ".\n",
      "Sort-heapify\n",
      "list:  [1, 3, 2] n:  3 root:  2\n",
      ".\n",
      "Sort-heapify\n",
      "list:  [1, 3, 2] n:  3 root:  1\n",
      ".\n",
      "Sort-heapify\n",
      "list:  [1, 3, 2] n:  3 root:  0\n",
      "왼쪽 노드가 루트보다 더 크다.\n",
      "root:  1 left:  3\n",
      "heapify_swap\n",
      "list:  [1, 3, 2] n:  3 root:  1\n",
      "list:  [3, 1, 2] n:  3 root:  1\n",
      ".\n",
      ".\n",
      "Sort-swap\n",
      "list:  [2, 1, 3] n:  2 root:  0\n",
      ".\n",
      "Sort-swap\n",
      "list:  [1, 2, 3] n:  1 root:  0\n",
      ".\n",
      "result:  [1, 2, 3]\n"
     ]
    }
   ],
   "source": [
    "list = [1,3,2]\n",
    "heapSort(list)\n",
    "print('result: ',list)"
   ]
  },
  {
   "cell_type": "markdown",
   "metadata": {},
   "source": [
    "## 2. 시간복잡도 및 특징\n",
    "\n",
    "모든 경우에서 O(NlogN)의 시간복잡도를 갖는다. 추가적 메모리가 필요없는게 장점.\n",
    "\n",
    "또한 최악의 경우에서도 O(NlogN)이 보장된다.\n",
    "\n",
    "* 트리형태로 정렬할 때 O(logN)\n",
    "\n",
    "#### 단점\n",
    "1. 데이터 분포에 따라 결과가 다르게 나오는 불안정성이 있다.\n",
    "2. unstable 정렬이다.\n",
    "\n",
    "## 3. 코드\n",
    "\n",
    "### 3-1. heapSort"
   ]
  },
  {
   "cell_type": "code",
   "execution_count": 6,
   "metadata": {},
   "outputs": [],
   "source": [
    "def heapSort(arr):\n",
    "    \n",
    "    n = len(arr)\n",
    "     \n",
    "    # heap 형태로 데이터를 정렬한다.\n",
    "    for i in range(n,-1,-1):\n",
    "        heapify(arr,n,i)\n",
    "        \n",
    "    # root와 마지막값을 바꿔 정렬하고 바뀐값을 기준으로 다시 heapify\n",
    "    for i in range(n-1,0,-1):\n",
    "        arr[i],arr[0] = arr[0],arr[i]\n",
    "        heapify(arr,i,0)\n",
    "        \n",
    "    return arr"
   ]
  },
  {
   "cell_type": "markdown",
   "metadata": {},
   "source": [
    "### 3-2. heapify"
   ]
  },
  {
   "cell_type": "code",
   "execution_count": 5,
   "metadata": {},
   "outputs": [],
   "source": [
    "def heapify(arr,n,i):\n",
    "    root = i\n",
    "    left = 2*i + 1\n",
    "    right = 2*i + 2\n",
    "    \n",
    "    # 왼쪽 노드가 존재하고, 루트보다 더 큰 값일 때\n",
    "    if left < n and arr[root] < arr[left]:\n",
    "        root = left\n",
    "    \n",
    "    # 오른쪽 노드가 존재하고, 루트보다 더 큰 값일 때\n",
    "    if right < n and arr[root] < arr[right]:\n",
    "        root = right\n",
    "        \n",
    "    # 왼쪽, 오른쪽 자식 노드들과 바꿔줄 위치를 찾았을 때\n",
    "    if root != i:\n",
    "        # 찾아낸 값과 swap\n",
    "        arr[i],arr[root] = arr[root],arr[i]\n",
    "        # 계속 heap 형태를 갖출 때까지 실행\n",
    "        heapify(arr,n,root)  "
   ]
  },
  {
   "cell_type": "markdown",
   "metadata": {},
   "source": [
    "### 참고 - 정렬과정 출력"
   ]
  },
  {
   "cell_type": "code",
   "execution_count": 4,
   "metadata": {
    "scrolled": false
   },
   "outputs": [
    {
     "name": "stdout",
     "output_type": "stream",
     "text": [
      "Sort-heapify\n",
      "list:  [4, 10, 3, 5, 1] n:  5 root:  5\n",
      ".\n",
      "Sort-heapify\n",
      "list:  [4, 10, 3, 5, 1] n:  5 root:  4\n",
      ".\n",
      "Sort-heapify\n",
      "list:  [4, 10, 3, 5, 1] n:  5 root:  3\n",
      ".\n",
      "Sort-heapify\n",
      "list:  [4, 10, 3, 5, 1] n:  5 root:  2\n",
      ".\n",
      "Sort-heapify\n",
      "list:  [4, 10, 3, 5, 1] n:  5 root:  1\n",
      ".\n",
      "Sort-heapify\n",
      "list:  [4, 10, 3, 5, 1] n:  5 root:  0\n",
      "왼쪽 노드가 루트보다 더 크다.\n",
      "root:  4 left:  10\n",
      "heapify_swap\n",
      "list:  [4, 10, 3, 5, 1] n:  5 root:  1\n",
      "list:  [10, 4, 3, 5, 1] n:  5 root:  1\n",
      "왼쪽 노드가 루트보다 더 크다.\n",
      "root:  4 left:  5\n",
      "heapify_swap\n",
      "list:  [10, 4, 3, 5, 1] n:  5 root:  3\n",
      "list:  [10, 5, 3, 4, 1] n:  5 root:  3\n",
      ".\n",
      ".\n",
      ".\n",
      "Sort-swap\n",
      "list:  [1, 5, 3, 4, 10] n:  4 root:  0\n",
      "왼쪽 노드가 루트보다 더 크다.\n",
      "root:  1 left:  5\n",
      "heapify_swap\n",
      "list:  [1, 5, 3, 4, 10] n:  4 root:  1\n",
      "list:  [5, 1, 3, 4, 10] n:  4 root:  1\n",
      "왼쪽 노드가 루트보다 더 크다.\n",
      "root:  1 left:  4\n",
      "heapify_swap\n",
      "list:  [5, 1, 3, 4, 10] n:  4 root:  3\n",
      "list:  [5, 4, 3, 1, 10] n:  4 root:  3\n",
      ".\n",
      ".\n",
      ".\n",
      "Sort-swap\n",
      "list:  [1, 4, 3, 5, 10] n:  3 root:  0\n",
      "왼쪽 노드가 루트보다 더 크다.\n",
      "root:  1 left:  4\n",
      "heapify_swap\n",
      "list:  [1, 4, 3, 5, 10] n:  3 root:  1\n",
      "list:  [4, 1, 3, 5, 10] n:  3 root:  1\n",
      ".\n",
      ".\n",
      "Sort-swap\n",
      "list:  [3, 1, 4, 5, 10] n:  2 root:  0\n",
      ".\n",
      "Sort-swap\n",
      "list:  [1, 3, 4, 5, 10] n:  1 root:  0\n",
      ".\n",
      "result:  [1, 3, 4, 5, 10]\n"
     ]
    }
   ],
   "source": [
    "list = [4,10,3,5,1]\n",
    "heapSort(list)\n",
    "print('result: ',list)"
   ]
  }
 ],
 "metadata": {
  "kernelspec": {
   "display_name": "Python 3",
   "language": "python",
   "name": "python3"
  },
  "language_info": {
   "codemirror_mode": {
    "name": "ipython",
    "version": 3
   },
   "file_extension": ".py",
   "mimetype": "text/x-python",
   "name": "python",
   "nbconvert_exporter": "python",
   "pygments_lexer": "ipython3",
   "version": "3.8.3"
  }
 },
 "nbformat": 4,
 "nbformat_minor": 4
}
