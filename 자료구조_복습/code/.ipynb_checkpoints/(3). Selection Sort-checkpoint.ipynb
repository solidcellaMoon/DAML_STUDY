{
 "cells": [
  {
   "cell_type": "markdown",
   "metadata": {},
   "source": [
    "# (3). 선택 정렬(Selection Sort)\n",
    "\n",
    "가장 작은 값을 갖는 위치를 찾아서 교환한다.\n",
    "\n",
    "## 1. 개요"
   ]
  },
  {
   "cell_type": "code",
   "execution_count": 1,
   "metadata": {},
   "outputs": [],
   "source": [
    "def selectSort(arr):\n",
    "    \n",
    "    for i in range(len(arr)-1):\n",
    "        print('i: ',i)\n",
    "        min_index = i # 가장 작은 값의 위치\n",
    "        \n",
    "        # 리스트 나머지에서 가장 작은 값을 찾는다.\n",
    "        for j in range(i+1,len(arr)):\n",
    "            if arr[min_index] > arr[j]:\n",
    "                print('arr[min_index]: ',arr[min_index])\n",
    "                print('arr[j]: ',arr[j])\n",
    "                min_index = j\n",
    "        \n",
    "        # swap\n",
    "        arr[i],arr[min_index] = arr[min_index],arr[i]\n",
    "        print(arr)\n",
    "        print()"
   ]
  },
  {
   "cell_type": "code",
   "execution_count": 2,
   "metadata": {},
   "outputs": [
    {
     "name": "stdout",
     "output_type": "stream",
     "text": [
      "i:  0\n",
      "arr[min_index]:  64\n",
      "arr[j]:  25\n",
      "arr[min_index]:  25\n",
      "arr[j]:  12\n",
      "arr[min_index]:  12\n",
      "arr[j]:  11\n",
      "[11, 25, 12, 22, 64]\n",
      "\n",
      "i:  1\n",
      "arr[min_index]:  25\n",
      "arr[j]:  12\n",
      "[11, 12, 25, 22, 64]\n",
      "\n",
      "i:  2\n",
      "arr[min_index]:  25\n",
      "arr[j]:  22\n",
      "[11, 12, 22, 25, 64]\n",
      "\n",
      "i:  3\n",
      "[11, 12, 22, 25, 64]\n",
      "\n"
     ]
    }
   ],
   "source": [
    "list = [64,25,12,22,11]\n",
    "selectSort(list)"
   ]
  },
  {
   "cell_type": "markdown",
   "metadata": {},
   "source": [
    "## 2. 시간복잡도\n",
    "\n",
    "* 최선의 경우: O(N)\n",
    "* 최악의 경우: O(N^2)"
   ]
  },
  {
   "cell_type": "code",
   "execution_count": 3,
   "metadata": {
    "scrolled": true
   },
   "outputs": [
    {
     "name": "stdout",
     "output_type": "stream",
     "text": [
      "i:  0\n",
      "[1, 2, 3, 4, 5]\n",
      "\n",
      "i:  1\n",
      "[1, 2, 3, 4, 5]\n",
      "\n",
      "i:  2\n",
      "[1, 2, 3, 4, 5]\n",
      "\n",
      "i:  3\n",
      "[1, 2, 3, 4, 5]\n",
      "\n"
     ]
    }
   ],
   "source": [
    "list = [1,2,3,4,5]\n",
    "selectSort(list)"
   ]
  },
  {
   "cell_type": "markdown",
   "metadata": {},
   "source": [
    "## 3. 코드"
   ]
  },
  {
   "cell_type": "code",
   "execution_count": 4,
   "metadata": {},
   "outputs": [],
   "source": [
    "def selectSort(arr):\n",
    "    \n",
    "    for i in range(len(arr)-1):\n",
    "        min_index = i\n",
    "        \n",
    "        for j in range(i+1,len(arr)):\n",
    "            if arr[min_index] > arr[j]:\n",
    "                min_index = j\n",
    "        \n",
    "        arr[i],arr[min_index] = arr[min_index],arr[i]\n",
    "        \n",
    "    return arr"
   ]
  },
  {
   "cell_type": "code",
   "execution_count": 5,
   "metadata": {
    "scrolled": true
   },
   "outputs": [
    {
     "name": "stdout",
     "output_type": "stream",
     "text": [
      "[11, 12, 22, 25, 64]\n"
     ]
    }
   ],
   "source": [
    "list = [64,25,12,22,11]\n",
    "print(selectSort(list))"
   ]
  }
 ],
 "metadata": {
  "kernelspec": {
   "display_name": "Python 3",
   "language": "python",
   "name": "python3"
  },
  "language_info": {
   "codemirror_mode": {
    "name": "ipython",
    "version": 3
   },
   "file_extension": ".py",
   "mimetype": "text/x-python",
   "name": "python",
   "nbconvert_exporter": "python",
   "pygments_lexer": "ipython3",
   "version": "3.8.3"
  }
 },
 "nbformat": 4,
 "nbformat_minor": 4
}
