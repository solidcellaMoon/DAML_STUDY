{
 "cells": [
  {
   "cell_type": "markdown",
   "metadata": {},
   "source": [
    "\n",
    "## 1. 연결리스트\n",
    "\n",
    "각 Node가 데이터를 갖고 포인터로 다음 노드나 이전 노드를 가리키는 자료구조.\n"
   ]
  },
  {
   "cell_type": "code",
   "execution_count": 1,
   "metadata": {},
   "outputs": [],
   "source": [
    "class Node :\n",
    "    def __init__(self,data):\n",
    "        self.data = data\n",
    "        self.next = None\n",
    "\n",
    "node1 = Node(10)\n",
    "node2 = Node(20)\n",
    "node3 = Node(30)\n",
    "\n",
    "node1.next = node2\n",
    "node2.next = node3\n",
    "\n",
    "# n1 - n2 - n3 형식으로 연결된다."
   ]
  },
  {
   "cell_type": "markdown",
   "metadata": {},
   "source": [
    "## 2. 스택\n",
    "\n",
    "LIFO 구조"
   ]
  },
  {
   "cell_type": "code",
   "execution_count": 2,
   "metadata": {},
   "outputs": [],
   "source": [
    "class Node :\n",
    "    def __init__(self,data):\n",
    "        self.data = data\n",
    "        self.next = None\n",
    "\n",
    "class Stack:\n",
    "    def __init__(self):\n",
    "        self.head = None\n",
    "        \n",
    "    def push(self,data):\n",
    "        # 스택이 비어있을 때\n",
    "        if self.head is None:\n",
    "            self.head = Node(data)\n",
    "        \n",
    "        # 스택이 비어있지 않을 때\n",
    "        else:\n",
    "            new_node = Node(data)\n",
    "            new_node.next = self.head\n",
    "            self.head = new_node\n",
    "            \n",
    "    def pop(self):\n",
    "        # 스택이 비었을 때\n",
    "        if self.head is None:\n",
    "            return None\n",
    "        \n",
    "        # 스택에 데이터가 없을 때\n",
    "        else:\n",
    "            popdata = self.head.data #head는 맨 위를 의미\n",
    "            self.head = self.head.next\n",
    "            return popdata"
   ]
  },
  {
   "cell_type": "code",
   "execution_count": 3,
   "metadata": {},
   "outputs": [
    {
     "name": "stdout",
     "output_type": "stream",
     "text": [
      "d\n",
      "c\n",
      "b\n",
      "a\n",
      "None\n"
     ]
    }
   ],
   "source": [
    "s = Stack()\n",
    "\n",
    "s.push('a')\n",
    "s.push('b')\n",
    "s.push('c')\n",
    "s.push('d')\n",
    "\n",
    "print(s.pop())\n",
    "print(s.pop())\n",
    "print(s.pop())\n",
    "print(s.pop())\n",
    "print(s.pop())"
   ]
  }
 ],
 "metadata": {
  "kernelspec": {
   "display_name": "Python 3",
   "language": "python",
   "name": "python3"
  },
  "language_info": {
   "codemirror_mode": {
    "name": "ipython",
    "version": 3
   },
   "file_extension": ".py",
   "mimetype": "text/x-python",
   "name": "python",
   "nbconvert_exporter": "python",
   "pygments_lexer": "ipython3",
   "version": "3.8.3"
  }
 },
 "nbformat": 4,
 "nbformat_minor": 4
}
