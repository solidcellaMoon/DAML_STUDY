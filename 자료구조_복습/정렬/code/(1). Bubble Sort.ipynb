{
 "cells": [
  {
   "cell_type": "markdown",
   "metadata": {},
   "source": [
    "# (1). 버블정렬(Bubble Sort)\n",
    "---\n",
    "\n",
    "리스트에서 인접한 두 수를 비교하여, 작은 숫자는 왼쪽으로, 큰 숫자는 오른쪽으로 이동한다.\n",
    "\n",
    "## 1. 기본적인 버블정렬\n",
    "---\n",
    "정렬 과정 이해를 위해 print문을 포함한다."
   ]
  },
  {
   "cell_type": "code",
   "execution_count": 1,
   "metadata": {},
   "outputs": [],
   "source": [
    "def bubbleSort(arr):\n",
    "    \n",
    "    length = len(arr) - 1\n",
    "    \n",
    "    for i in range(length):\n",
    "        print(i,'th round')\n",
    "        \n",
    "        for j in range(length-i):\n",
    "            print(arr,'-',j)\n",
    "            \n",
    "            if(arr[j] > arr[j+1]): # 앞이 뒤보다 크다면 서로 값을 바꾼다.\n",
    "                arr[j], arr[j+1] = arr[j+1], arr[j]\n",
    "                \n",
    "        print('\\n')\n",
    "                \n",
    "    return arr"
   ]
  },
  {
   "cell_type": "markdown",
   "metadata": {},
   "source": [
    "### 1-1. 정렬 과정\n",
    "---"
   ]
  },
  {
   "cell_type": "code",
   "execution_count": 2,
   "metadata": {
    "scrolled": false
   },
   "outputs": [
    {
     "name": "stdout",
     "output_type": "stream",
     "text": [
      "0 th round\n",
      "[5, 1, 4, 2, 8] - 0\n",
      "[1, 5, 4, 2, 8] - 1\n",
      "[1, 4, 5, 2, 8] - 2\n",
      "[1, 4, 2, 5, 8] - 3\n",
      "\n",
      "\n",
      "1 th round\n",
      "[1, 4, 2, 5, 8] - 0\n",
      "[1, 4, 2, 5, 8] - 1\n",
      "[1, 2, 4, 5, 8] - 2\n",
      "\n",
      "\n",
      "2 th round\n",
      "[1, 2, 4, 5, 8] - 0\n",
      "[1, 2, 4, 5, 8] - 1\n",
      "\n",
      "\n",
      "3 th round\n",
      "[1, 2, 4, 5, 8] - 0\n",
      "\n",
      "\n"
     ]
    },
    {
     "data": {
      "text/plain": [
       "[1, 2, 4, 5, 8]"
      ]
     },
     "execution_count": 2,
     "metadata": {},
     "output_type": "execute_result"
    }
   ],
   "source": [
    "list = [5,1,4,2,8]\n",
    "bubbleSort(list)"
   ]
  },
  {
   "cell_type": "markdown",
   "metadata": {},
   "source": [
    "### 1-2. 시간복잡도 및 특징\n",
    "---\n",
    "\n",
    "최선, 평균, 최악의 경우: 모두 O(N^2)\n",
    "\n",
    "\n",
    "* 장점:\n",
    "    * 구현이 간단하고 이해하기 쉽다.\n",
    "    \n",
    "\n",
    "* 단점:\n",
    "    * O(N^2)이라는 일정한 시간복잡도 -> 비효율적\n"
   ]
  },
  {
   "cell_type": "markdown",
   "metadata": {},
   "source": [
    "## 2. 개선된 버블정렬\n",
    "---\n",
    "\n",
    "정렬이 완료됐거나 최선의 경우에 break를 걸어서 시간복잡도를 낮출 수 있다.\n"
   ]
  },
  {
   "cell_type": "code",
   "execution_count": 3,
   "metadata": {},
   "outputs": [],
   "source": [
    "def bubble_modified(arr):\n",
    "    \n",
    "    length = len(arr) - 1\n",
    "    \n",
    "    for i in range(length):\n",
    "        print(i,'th round')\n",
    "        isSort = False # Sort 되었는지 확인하기 위한 boolean 변수\n",
    "        \n",
    "        for j in range(length-i):\n",
    "            print(arr,'-',j)\n",
    "            \n",
    "            if(arr[j] > arr[j+1]): # 앞이 뒤보다 크다면 서로 값을 바꾼다.\n",
    "                arr[j], arr[j+1] = arr[j+1], arr[j]\n",
    "                isSort = True # 정렬했으니 True\n",
    "                \n",
    "        if isSort == False: # 정렬할 필요가 없는 경우, break\n",
    "            break\n",
    "                \n",
    "        print('\\n')\n",
    "                \n",
    "    return arr"
   ]
  },
  {
   "cell_type": "markdown",
   "metadata": {},
   "source": [
    "### 2-1. 정렬 과정\n",
    "---"
   ]
  },
  {
   "cell_type": "code",
   "execution_count": 4,
   "metadata": {},
   "outputs": [
    {
     "name": "stdout",
     "output_type": "stream",
     "text": [
      "0 th round\n",
      "[1, 2, 3, 4, 5] - 0\n",
      "[1, 2, 3, 4, 5] - 1\n",
      "[1, 2, 3, 4, 5] - 2\n",
      "[1, 2, 3, 4, 5] - 3\n"
     ]
    },
    {
     "data": {
      "text/plain": [
       "[1, 2, 3, 4, 5]"
      ]
     },
     "execution_count": 4,
     "metadata": {},
     "output_type": "execute_result"
    }
   ],
   "source": [
    "list2 = [1,2,3,4,5]\n",
    "bubble_modified(list2)"
   ]
  },
  {
   "cell_type": "code",
   "execution_count": 5,
   "metadata": {
    "scrolled": false
   },
   "outputs": [
    {
     "name": "stdout",
     "output_type": "stream",
     "text": [
      "0 th round\n",
      "[5, 1, 4, 2, 8] - 0\n",
      "[1, 5, 4, 2, 8] - 1\n",
      "[1, 4, 5, 2, 8] - 2\n",
      "[1, 4, 2, 5, 8] - 3\n",
      "\n",
      "\n",
      "1 th round\n",
      "[1, 4, 2, 5, 8] - 0\n",
      "[1, 4, 2, 5, 8] - 1\n",
      "[1, 2, 4, 5, 8] - 2\n",
      "\n",
      "\n",
      "2 th round\n",
      "[1, 2, 4, 5, 8] - 0\n",
      "[1, 2, 4, 5, 8] - 1\n"
     ]
    },
    {
     "data": {
      "text/plain": [
       "[1, 2, 4, 5, 8]"
      ]
     },
     "execution_count": 5,
     "metadata": {},
     "output_type": "execute_result"
    }
   ],
   "source": [
    "list = [5,1,4,2,8]\n",
    "bubble_modified(list)"
   ]
  },
  {
   "cell_type": "markdown",
   "metadata": {},
   "source": [
    "### 2-2. 시간복잡도 및 특징\n",
    "---\n",
    "\n",
    "* 최선의 경우: O(N)\n",
    "* 최악의 경우: O(N^2)\n",
    "\n",
    "\n",
    "## 3. 소스코드 정리\n",
    "---\n",
    "### 3-1. 기본 버블정렬"
   ]
  },
  {
   "cell_type": "code",
   "execution_count": 6,
   "metadata": {},
   "outputs": [],
   "source": [
    "def bubbleSort(arr):\n",
    "    \n",
    "    length = len(arr) - 1\n",
    "    \n",
    "    for i in range(length):\n",
    "        for j in range(length-i):\n",
    "            if(arr[j] > arr[j+1]):\n",
    "                arr[j], arr[j+1] = arr[j+1], arr[j]\n",
    "                \n",
    "    return arr"
   ]
  },
  {
   "cell_type": "markdown",
   "metadata": {},
   "source": [
    "### 3-2. 개선된 버블정렬"
   ]
  },
  {
   "cell_type": "code",
   "execution_count": 7,
   "metadata": {},
   "outputs": [],
   "source": [
    "def bubble_modified(arr):\n",
    "    \n",
    "    length = len(arr) - 1\n",
    "    \n",
    "    for i in range(length):\n",
    "        isSort = False\n",
    "        \n",
    "        for j in range(length-i):\n",
    "            if(arr[j] > arr[j+1]):\n",
    "                arr[j], arr[j+1] = arr[j+1], arr[j]\n",
    "                isSort = True\n",
    "                \n",
    "        if isSort == False:\n",
    "            break\n",
    "                \n",
    "    return arr"
   ]
  }
 ],
 "metadata": {
  "kernelspec": {
   "display_name": "Python 3",
   "language": "python",
   "name": "python3"
  },
  "language_info": {
   "codemirror_mode": {
    "name": "ipython",
    "version": 3
   },
   "file_extension": ".py",
   "mimetype": "text/x-python",
   "name": "python",
   "nbconvert_exporter": "python",
   "pygments_lexer": "ipython3",
   "version": "3.8.3"
  }
 },
 "nbformat": 4,
 "nbformat_minor": 4
}
