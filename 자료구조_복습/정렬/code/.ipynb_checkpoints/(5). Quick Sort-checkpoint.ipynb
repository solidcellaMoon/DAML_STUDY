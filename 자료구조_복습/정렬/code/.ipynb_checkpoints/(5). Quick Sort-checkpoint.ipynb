{
 "cells": [
  {
   "cell_type": "markdown",
   "metadata": {},
   "source": [
    "# (5). 퀵 정렬 (Quick Sort)\n",
    "\n",
    "기준이 되는 pivot값을 정한 후 pivot 기준으로 분할, 정렬한다.\n",
    "\n",
    "\n",
    "## 1. 개요"
   ]
  },
  {
   "cell_type": "code",
   "execution_count": 5,
   "metadata": {},
   "outputs": [],
   "source": [
    "def split(arr,low,high):\n",
    "    #pivot 정하기\n",
    "    pivot = arr[high] #정하는 기준은 맘대로\n",
    "    \n",
    "    #pivot 기준으로 리스트를 정렬한다.\n",
    "    i = low - 1\n",
    "    print('\\npivot: ',pivot)\n",
    "    \n",
    "    for j in range(low,high):\n",
    "        if arr[j] < pivot:\n",
    "            i += 1\n",
    "            #swap\n",
    "            arr[i],arr[j] = arr[j],arr[i]\n",
    "            print('list: ',arr)\n",
    "            \n",
    "    #마지막으로 pivot이 들어갈 위치를 바꿔준다.\n",
    "    arr[i+1], arr[high] = arr[high], arr[i+1]\n",
    "    print('list_after: ',arr)\n",
    "    \n",
    "    #pivot index를 반환한다.\n",
    "    return i+1"
   ]
  },
  {
   "cell_type": "code",
   "execution_count": 2,
   "metadata": {},
   "outputs": [],
   "source": [
    "def quickSort(arr,low,high):\n",
    "    \n",
    "    # pivot이 알맞은 위치에 있어 퀵정렬을 실행해도 되는지 확인\n",
    "    if low < high:\n",
    "        #pivot 기준으로 쪼개기 위해 pivot 위치를 가져옴\n",
    "        pivot_pos = split(arr,low,high)\n",
    "        \n",
    "        #그리고 왼쪽과 오른쪽으로 쪼갠다\n",
    "        quickSort(arr,low,pivot_pos - 1)\n",
    "        quickSort(arr,pivot_pos + 1,high)\n",
    "        \n",
    "    return arr"
   ]
  },
  {
   "cell_type": "code",
   "execution_count": 3,
   "metadata": {},
   "outputs": [
    {
     "name": "stdout",
     "output_type": "stream",
     "text": [
      "\n",
      "pivot:  70\n",
      "list:  [10, 80, 30, 90, 40, 50, 70]\n",
      "list:  [10, 30, 80, 90, 40, 50, 70]\n",
      "list:  [10, 30, 40, 90, 80, 50, 70]\n",
      "list:  [10, 30, 40, 50, 80, 90, 70]\n",
      "list_after:  [10, 30, 40, 50, 70, 90, 80]\n",
      "\n",
      "pivot:  50\n",
      "list:  [10, 30, 40, 50, 70, 90, 80]\n",
      "list:  [10, 30, 40, 50, 70, 90, 80]\n",
      "list:  [10, 30, 40, 50, 70, 90, 80]\n",
      "list_after:  [10, 30, 40, 50, 70, 90, 80]\n",
      "\n",
      "pivot:  40\n",
      "list:  [10, 30, 40, 50, 70, 90, 80]\n",
      "list:  [10, 30, 40, 50, 70, 90, 80]\n",
      "list_after:  [10, 30, 40, 50, 70, 90, 80]\n",
      "\n",
      "pivot:  30\n",
      "list:  [10, 30, 40, 50, 70, 90, 80]\n",
      "list_after:  [10, 30, 40, 50, 70, 90, 80]\n",
      "\n",
      "pivot:  80\n",
      "list_after:  [10, 30, 40, 50, 70, 80, 90]\n"
     ]
    },
    {
     "data": {
      "text/plain": [
       "[10, 30, 40, 50, 70, 80, 90]"
      ]
     },
     "execution_count": 3,
     "metadata": {},
     "output_type": "execute_result"
    }
   ],
   "source": [
    "list = [10,80,30,90,40,50,70]\n",
    "quickSort(list,0,len(list)-1)"
   ]
  },
  {
   "cell_type": "markdown",
   "metadata": {},
   "source": [
    "## 2. 시간복잡도\n",
    "\n",
    "평균적으로 O(NlogN)으로 빠른 시간에 정렬된다.\n",
    "* 분할 과정: O(logN)\n",
    "* 정렬 과정: O(N)\n",
    "* 최선의 성능을 낼 때는 병합정렬, 힙정렬보다 빠르다.\n",
    "\n",
    "\n",
    "### 2-1. 그러나 최악의 경우는...?\n",
    "\n",
    "* 정렬하는데 다 한쪽으로 쏠리면... O(N^2)로 시간이 더 걸림.\n",
    "* 최악의 경우를 피하기 위해 피벗값을 중간이나 랜덤하게 잡는다.\n",
    "\n",
    "#### 파생되는 단점\n",
    "1. 신뢰성이 낮다. 피벗에 따라 시간복잡도가 크게 달라지기 때문.\n",
    "2. 최악의 경우 O(N^2)의 시간복잡도를 갖는다.\n",
    "3. 안정적인 시간복잡도가 요구된다면(ex. DB쿼리 결과 생성 등) 사용 X\n",
    "4. unstable 정렬이다. 중복되는 key값에 대해 순서대로 정렬되지 않음.\n",
    "\n",
    "퀵정렬은 리스트에 중복값이 없는걸 전제로 하는 듯...\n",
    "\n",
    "중복값이 있을 때 코드에 따라 무한루프를 도는 경우도 있음.\n",
    "\n",
    "\n",
    "### 비교 1. pivot이 오른쪽 끝 값일 때"
   ]
  },
  {
   "cell_type": "code",
   "execution_count": 4,
   "metadata": {},
   "outputs": [
    {
     "name": "stdout",
     "output_type": "stream",
     "text": [
      "\n",
      "pivot:  5\n",
      "list:  [1, 2, 3, 4, 5]\n",
      "list:  [1, 2, 3, 4, 5]\n",
      "list:  [1, 2, 3, 4, 5]\n",
      "list:  [1, 2, 3, 4, 5]\n",
      "list_after:  [1, 2, 3, 4, 5]\n",
      "\n",
      "pivot:  4\n",
      "list:  [1, 2, 3, 4, 5]\n",
      "list:  [1, 2, 3, 4, 5]\n",
      "list:  [1, 2, 3, 4, 5]\n",
      "list_after:  [1, 2, 3, 4, 5]\n",
      "\n",
      "pivot:  3\n",
      "list:  [1, 2, 3, 4, 5]\n",
      "list:  [1, 2, 3, 4, 5]\n",
      "list_after:  [1, 2, 3, 4, 5]\n",
      "\n",
      "pivot:  2\n",
      "list:  [1, 2, 3, 4, 5]\n",
      "list_after:  [1, 2, 3, 4, 5]\n"
     ]
    },
    {
     "data": {
      "text/plain": [
       "[1, 2, 3, 4, 5]"
      ]
     },
     "execution_count": 4,
     "metadata": {},
     "output_type": "execute_result"
    }
   ],
   "source": [
    "list = [1,2,3,4,5]\n",
    "quickSort(list,0,len(list)-1)"
   ]
  },
  {
   "cell_type": "markdown",
   "metadata": {},
   "source": [
    "### 비교 2. pivot이 중간 위치일 때"
   ]
  },
  {
   "cell_type": "code",
   "execution_count": 6,
   "metadata": {},
   "outputs": [
    {
     "name": "stdout",
     "output_type": "stream",
     "text": [
      "\n",
      "pivot:  3\n",
      "list:  [1, 2, 3, 4, 5]\n",
      "list:  [1, 2, 3, 4, 5]\n",
      "list_after:  [1, 2, 5, 4, 3]\n",
      "\n",
      "pivot:  1\n",
      "list_after:  [2, 1, 5, 4, 3]\n",
      "\n",
      "pivot:  2\n",
      "list_after:  [2, 1, 5, 3, 4]\n"
     ]
    },
    {
     "data": {
      "text/plain": [
       "[2, 1, 5, 3, 4]"
      ]
     },
     "execution_count": 6,
     "metadata": {},
     "output_type": "execute_result"
    }
   ],
   "source": [
    "list = [1,2,3,4,5]\n",
    "quickSort(list,0,len(list)-1)"
   ]
  },
  {
   "cell_type": "markdown",
   "metadata": {},
   "source": [
    "## 3. 코드\n",
    "\n",
    "### 3-1. 퀵정렬"
   ]
  },
  {
   "cell_type": "code",
   "execution_count": 7,
   "metadata": {},
   "outputs": [],
   "source": [
    "def quickSort(arr,low,high):\n",
    "    \n",
    "    # pivot이 알맞은 위치에 있어 퀵정렬을 실행해도 되는지 확인\n",
    "    if low < high:\n",
    "        #pivot 기준으로 쪼개기 위해 pivot 위치를 가져옴\n",
    "        pivot_pos = split(arr,low,high)\n",
    "        \n",
    "        #그리고 왼쪽과 오른쪽으로 쪼갠다\n",
    "        quickSort(arr,low,pivot_pos - 1)\n",
    "        quickSort(arr,pivot_pos + 1,high)\n",
    "        \n",
    "    return arr"
   ]
  },
  {
   "cell_type": "markdown",
   "metadata": {},
   "source": [
    "### 3-2. split"
   ]
  },
  {
   "cell_type": "code",
   "execution_count": 8,
   "metadata": {},
   "outputs": [],
   "source": [
    "def split(arr,low,high):\n",
    "    #pivot 정하기\n",
    "    pivot = arr[(high-low)//2] #정하는 기준은 맘대로 (중간이나 랜덤)\n",
    "    \n",
    "    #pivot 기준으로 리스트를 정렬한다.\n",
    "    i = low - 1\n",
    "    \n",
    "    for j in range(low,high):\n",
    "        if arr[j] < pivot:\n",
    "            i += 1\n",
    "            #swap\n",
    "            arr[i],arr[j] = arr[j],arr[i]\n",
    "            \n",
    "    #마지막으로 pivot이 들어갈 위치를 바꿔준다.\n",
    "    arr[i+1], arr[high] = arr[high], arr[i+1]\n",
    "    \n",
    "    #pivot index를 반환한다.\n",
    "    return i+1"
   ]
  }
 ],
 "metadata": {
  "kernelspec": {
   "display_name": "Python 3",
   "language": "python",
   "name": "python3"
  },
  "language_info": {
   "codemirror_mode": {
    "name": "ipython",
    "version": 3
   },
   "file_extension": ".py",
   "mimetype": "text/x-python",
   "name": "python",
   "nbconvert_exporter": "python",
   "pygments_lexer": "ipython3",
   "version": "3.8.3"
  }
 },
 "nbformat": 4,
 "nbformat_minor": 4
}
