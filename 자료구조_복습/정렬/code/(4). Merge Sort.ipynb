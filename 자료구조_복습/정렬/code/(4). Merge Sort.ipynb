{
 "cells": [
  {
   "cell_type": "markdown",
   "metadata": {},
   "source": [
    "# (4). 병합정렬(Merge Sort)\n",
    "\n",
    "## 1. 개요\n",
    "\n",
    "1. 리스트를 left, right로 절반씩 나눈다. 이 때 리스트 원소가 1개가 될 때까지 나누는 작업을 수행한다.\n",
    "2. 나누는 작업이 완료되면 left와 right의 원소를 비교해가며 정렬한다.\n"
   ]
  },
  {
   "cell_type": "code",
   "execution_count": 1,
   "metadata": {},
   "outputs": [],
   "source": [
    "def mergeSort(arr):\n",
    "    \n",
    "    # 원소 개수가 1개일때까지 쪼개는 과정\n",
    "    if len(arr) > 1:\n",
    "        mid = len(arr) // 2\n",
    "        left = arr[:mid]\n",
    "        right = arr[mid:]\n",
    "        \n",
    "        # 왼쪽, 오른쪽도 쪼갬\n",
    "        print(\"left: \",left)\n",
    "        mergeSort(left)\n",
    "        \n",
    "        print(\"right: \",right)\n",
    "        mergeSort(right)\n",
    "        \n",
    "        #합치기\n",
    "        i,j,k = 0,0,0\n",
    "        \n",
    "        #임시로 정렬하기\n",
    "        while i < len(left) and j < len(right):\n",
    "            if left[i] < right[j]:\n",
    "                arr[k] = left[i]\n",
    "                i += 1\n",
    "            else:\n",
    "                arr[k] = right[j]\n",
    "                j += 1\n",
    "            k += 1\n",
    "        print(\"임시로 정렬: \",arr)\n",
    "        \n",
    "        #각 array에 남아있는 원소 합치기\n",
    "        while i < len(left):\n",
    "            arr[k] = left[i]\n",
    "            i+=1\n",
    "            k+=1\n",
    "            \n",
    "        while j < len(right):\n",
    "            arr[k] = right[j]\n",
    "            j+=1\n",
    "            k+=1\n",
    "            \n",
    "        print(\"최종 정렬: \",arr)\n",
    "        print(\"\")"
   ]
  },
  {
   "cell_type": "code",
   "execution_count": 2,
   "metadata": {},
   "outputs": [
    {
     "name": "stdout",
     "output_type": "stream",
     "text": [
      "left:  [38, 27, 43]\n",
      "left:  [38]\n",
      "right:  [27, 43]\n",
      "left:  [27]\n",
      "right:  [43]\n",
      "임시로 정렬:  [27, 43]\n",
      "최종 정렬:  [27, 43]\n",
      "\n",
      "임시로 정렬:  [27, 38, 43]\n",
      "최종 정렬:  [27, 38, 43]\n",
      "\n",
      "right:  [3, 9, 82, 10]\n",
      "left:  [3, 9]\n",
      "left:  [3]\n",
      "right:  [9]\n",
      "임시로 정렬:  [3, 9]\n",
      "최종 정렬:  [3, 9]\n",
      "\n",
      "right:  [82, 10]\n",
      "left:  [82]\n",
      "right:  [10]\n",
      "임시로 정렬:  [10, 10]\n",
      "최종 정렬:  [10, 82]\n",
      "\n",
      "임시로 정렬:  [3, 9, 82, 10]\n",
      "최종 정렬:  [3, 9, 10, 82]\n",
      "\n",
      "임시로 정렬:  [3, 9, 10, 27, 38, 43, 10]\n",
      "최종 정렬:  [3, 9, 10, 27, 38, 43, 82]\n",
      "\n"
     ]
    }
   ],
   "source": [
    "list = [38,27,43,3,9,82,10]\n",
    "mergeSort(list)"
   ]
  },
  {
   "cell_type": "markdown",
   "metadata": {},
   "source": [
    "## 2. 시간복잡도 및 특징\n",
    "\n",
    "* 전체: O(NlogN) (어떤 경우든 일정하다)\n",
    "* 쪼개는 시간: O(log2N)\n",
    "* 합치는 시간: O(N)\n",
    "\n",
    "퀵정렬은 최악의 경우 O(N^2)의 시간복잡도를 가지지만, 병합정렬은 정확히 반씩 나누기 때문에 최악의 경우에도 O(NlogN)의 시간복잡도를 보장한다.\n",
    "\n",
    "#### 장점\n",
    "* 안정적이고 일정한 시간복잡도 (★)\n",
    "* stable 정렬\n",
    "\n",
    "#### 단점\n",
    "* 추가적인 메모리가 필요 (배열 크기가 매우 크면 부담스러움)\n",
    "\n",
    "\n",
    "## 3. 코드"
   ]
  },
  {
   "cell_type": "code",
   "execution_count": 3,
   "metadata": {},
   "outputs": [],
   "source": [
    "def mergeSort(arr):\n",
    "    \n",
    "    if len(arr) > 1:\n",
    "        # 쪼개는 과정\n",
    "        mid = len(arr) // 2\n",
    "        left = arr[:mid]\n",
    "        right = arr[mid:]\n",
    "        \n",
    "        mergeSort(left)\n",
    "        mergeSort(right)\n",
    "        \n",
    "        #합치는 과정 - 임시로 정렬\n",
    "        i,j,k = 0,0,0\n",
    "        while i < len(left) and j < len(right):\n",
    "            if left[i] < right[j]:\n",
    "                arr[k] = left[i]\n",
    "                i += 1\n",
    "            else:\n",
    "                arr[k] = right[j]\n",
    "                j += 1\n",
    "            k += 1\n",
    "            \n",
    "        #각각 남아있는 원소 합치기\n",
    "        while i < len(left):\n",
    "            arr[k] = left[i]\n",
    "            i+=1\n",
    "            k+=1\n",
    "        while j < len(right):\n",
    "            arr[k] = right[j]\n",
    "            j+=1\n",
    "            k+=1\n",
    "            \n",
    "    return arr"
   ]
  },
  {
   "cell_type": "code",
   "execution_count": 4,
   "metadata": {},
   "outputs": [
    {
     "data": {
      "text/plain": [
       "[3, 9, 10, 27, 38, 43, 82]"
      ]
     },
     "execution_count": 4,
     "metadata": {},
     "output_type": "execute_result"
    }
   ],
   "source": [
    "list = [38,27,43,3,9,82,10]\n",
    "mergeSort(list)"
   ]
  }
 ],
 "metadata": {
  "kernelspec": {
   "display_name": "Python 3",
   "language": "python",
   "name": "python3"
  },
  "language_info": {
   "codemirror_mode": {
    "name": "ipython",
    "version": 3
   },
   "file_extension": ".py",
   "mimetype": "text/x-python",
   "name": "python",
   "nbconvert_exporter": "python",
   "pygments_lexer": "ipython3",
   "version": "3.8.3"
  }
 },
 "nbformat": 4,
 "nbformat_minor": 4
}
