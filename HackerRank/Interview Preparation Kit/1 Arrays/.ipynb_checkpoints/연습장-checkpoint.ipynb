{
 "cells": [
  {
   "cell_type": "code",
   "execution_count": null,
   "metadata": {},
   "outputs": [],
   "source": []
  },
  {
   "cell_type": "code",
   "execution_count": null,
   "metadata": {},
   "outputs": [],
   "source": []
  },
  {
   "cell_type": "code",
   "execution_count": null,
   "metadata": {},
   "outputs": [],
   "source": [
    "def arrayManipulation(n, queries):\n",
    "    \n",
    "    #모든 쿼리에서 겹치는 범위에 최댓값이 있음 => k는 0 이상이기에 안심\n",
    "    inters = [0,0]\n",
    "    #근데 k값에 따라 제외해도 되는 범위가....\n",
    "    \n",
    "    for left, right, k in queries:\n",
    "        \n",
    "        \n",
    "        \n",
    "    \n",
    "    return max(arr)\n",
    "\n",
    "arrayManipulation(5, [[1,2,100],[2,5,100],[3,4,100]])"
   ]
  },
  {
   "cell_type": "code",
   "execution_count": null,
   "metadata": {},
   "outputs": [],
   "source": []
  },
  {
   "cell_type": "code",
   "execution_count": null,
   "metadata": {},
   "outputs": [],
   "source": []
  },
  {
   "cell_type": "code",
   "execution_count": 389,
   "metadata": {},
   "outputs": [
    {
     "name": "stdout",
     "output_type": "stream",
     "text": [
      "[100, 0, 0, 0, 0]\n",
      "[100, 100, 0, 0, 0]\n",
      "[100, 200, 0, 0, 0]\n",
      "[100, 200, 100, 0, 0]\n",
      "[100, 200, 100, 100, 0]\n",
      "[100, 200, 100, 100, 100]\n",
      "[100, 200, 200, 100, 100]\n",
      "[100, 200, 200, 200, 100]\n"
     ]
    },
    {
     "data": {
      "text/plain": [
       "200"
      ]
     },
     "execution_count": 389,
     "metadata": {},
     "output_type": "execute_result"
    }
   ],
   "source": [
    "def arrayManipulation(n, queries):\n",
    "    \n",
    "    arr = [0 for _ in range(n)]\n",
    "    \n",
    "    for left, right, k in queries:\n",
    "        for i in range(left-1,right):\n",
    "            arr[i] += k\n",
    "            print(arr)\n",
    "    \n",
    "    return max(arr)\n",
    "\n",
    "arrayManipulation(5, [[1,2,100],[2,5,100],[3,4,100]])"
   ]
  },
  {
   "cell_type": "code",
   "execution_count": null,
   "metadata": {},
   "outputs": [],
   "source": []
  },
  {
   "cell_type": "code",
   "execution_count": null,
   "metadata": {},
   "outputs": [],
   "source": []
  },
  {
   "cell_type": "code",
   "execution_count": null,
   "metadata": {},
   "outputs": [],
   "source": []
  },
  {
   "cell_type": "code",
   "execution_count": null,
   "metadata": {},
   "outputs": [],
   "source": []
  },
  {
   "cell_type": "code",
   "execution_count": null,
   "metadata": {},
   "outputs": [],
   "source": []
  },
  {
   "cell_type": "code",
   "execution_count": null,
   "metadata": {},
   "outputs": [],
   "source": []
  }
 ],
 "metadata": {
  "kernelspec": {
   "display_name": "Python 3",
   "language": "python",
   "name": "python3"
  },
  "language_info": {
   "codemirror_mode": {
    "name": "ipython",
    "version": 3
   },
   "file_extension": ".py",
   "mimetype": "text/x-python",
   "name": "python",
   "nbconvert_exporter": "python",
   "pygments_lexer": "ipython3",
   "version": "3.8.3"
  }
 },
 "nbformat": 4,
 "nbformat_minor": 4
}
