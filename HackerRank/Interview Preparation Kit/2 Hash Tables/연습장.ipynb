{
 "cells": [
  {
   "cell_type": "code",
   "execution_count": null,
   "metadata": {},
   "outputs": [],
   "source": []
  },
  {
   "cell_type": "code",
   "execution_count": 28,
   "metadata": {},
   "outputs": [
    {
     "name": "stdout",
     "output_type": "stream",
     "text": [
      "{'two': 2, 'times': 1, 'is': 1, 'four': 1}\n",
      "{'two': 1, 'times': 1, 'is': 1, 'four': 1}\n",
      "No\n"
     ]
    }
   ],
   "source": [
    "from collections import defaultdict\n",
    "\n",
    "def checkMagazine(magazine, note):\n",
    "    \n",
    "    \n",
    "    note = note.split(' ')\n",
    "    magaz = magazine.split(' ')\n",
    "    \n",
    "    dics = {}\n",
    "    magazDics = {}\n",
    "\n",
    "    for key in note:\n",
    "        dics[key] = note.count(key)\n",
    "        magazDics[key] = 0\n",
    "    \n",
    "    for item in magaz:\n",
    "        if item in dics.keys():\n",
    "            magazDics[item] += 1\n",
    "            \n",
    "    print(dics)\n",
    "    print(magazDics)\n",
    "            \n",
    "    for key in dics.keys():\n",
    "        if dics[key] != magazDics[key]:\n",
    "            print('No')\n",
    "            return\n",
    "        \n",
    "    print('Yes')\n",
    "\n",
    "checkMagazine('two times three is not four','two times two is four')"
   ]
  },
  {
   "cell_type": "code",
   "execution_count": 21,
   "metadata": {},
   "outputs": [
    {
     "data": {
      "text/plain": [
       "2"
      ]
     },
     "execution_count": 21,
     "metadata": {},
     "output_type": "execute_result"
    }
   ],
   "source": [
    "arr = [1,2,3,4,2]\n",
    "arr.count(2)"
   ]
  },
  {
   "cell_type": "code",
   "execution_count": null,
   "metadata": {},
   "outputs": [],
   "source": []
  },
  {
   "cell_type": "code",
   "execution_count": null,
   "metadata": {},
   "outputs": [],
   "source": []
  }
 ],
 "metadata": {
  "kernelspec": {
   "display_name": "Python 3",
   "language": "python",
   "name": "python3"
  },
  "language_info": {
   "codemirror_mode": {
    "name": "ipython",
    "version": 3
   },
   "file_extension": ".py",
   "mimetype": "text/x-python",
   "name": "python",
   "nbconvert_exporter": "python",
   "pygments_lexer": "ipython3",
   "version": "3.8.3"
  }
 },
 "nbformat": 4,
 "nbformat_minor": 4
}
