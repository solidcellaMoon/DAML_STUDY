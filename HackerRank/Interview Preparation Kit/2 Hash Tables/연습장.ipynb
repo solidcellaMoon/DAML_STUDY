{
 "cells": [
  {
   "cell_type": "code",
   "execution_count": null,
   "metadata": {},
   "outputs": [],
   "source": []
  },
  {
   "cell_type": "code",
   "execution_count": null,
   "metadata": {},
   "outputs": [],
   "source": []
  },
  {
   "cell_type": "code",
   "execution_count": null,
   "metadata": {},
   "outputs": [],
   "source": [
    "def checkMagazine(magaz, note):  \n",
    "    note = note.split(' ')\n",
    "    magaz = magaz.split(' ')\n",
    "    dics = {}\n",
    "    \n",
    "    print(set(note) & set(magaz))\n",
    "\n",
    "    dics = dict(zip(note, [note.count(i) for i in note]))\n",
    "    inters = (set(note) & set(magaz))\n",
    "    \n",
    "    if len(inters) != len(note):\n",
    "        print('No')\n",
    "        return\n",
    "    \n",
    "    for item in inters:\n",
    "        try:\n",
    "            dics[item] -= magaz.count(item)\n",
    "            print(dics)\n",
    "            if dics[item] != 0:\n",
    "                print('No')\n",
    "                return\n",
    "        except:\n",
    "            pass\n",
    "        \n",
    "    print('Yes')\n",
    "\n",
    "checkMagazine('two times three three is not four','two times two is four')"
   ]
  },
  {
   "cell_type": "code",
   "execution_count": null,
   "metadata": {},
   "outputs": [],
   "source": []
  },
  {
   "cell_type": "code",
   "execution_count": null,
   "metadata": {},
   "outputs": [],
   "source": []
  },
  {
   "cell_type": "code",
   "execution_count": null,
   "metadata": {},
   "outputs": [],
   "source": []
  },
  {
   "cell_type": "code",
   "execution_count": 72,
   "metadata": {},
   "outputs": [
    {
     "name": "stdout",
     "output_type": "stream",
     "text": [
      "{'two', 'is', 'four', 'times'}\n",
      "two\n",
      "is\n",
      "four\n",
      "times\n",
      "No\n"
     ]
    }
   ],
   "source": [
    "def checkMagazine(magaz, note):  \n",
    "    note = note.split(' ')\n",
    "    magaz = magaz.split(' ')\n",
    "    dics = {}\n",
    "    \n",
    "    print(set(note) & set(magaz))\n",
    "\n",
    "    dics = dict(zip(note, [note.count(i) for i in note]))\n",
    "    inters = (set(note) & set(magaz))\n",
    "    \n",
    "    if len(inters) != len(note):\n",
    "        print('No')\n",
    "        return\n",
    "    \n",
    "    for item in inters:\n",
    "        try:\n",
    "            dics[item] -= magaz.count(item)\n",
    "            print(dics)\n",
    "            if dics[item] != 0:\n",
    "                print('No')\n",
    "                return\n",
    "        except:\n",
    "            pass\n",
    "        \n",
    "    print('Yes')\n",
    "\n",
    "checkMagazine('two times three three is not four','two times two is four')"
   ]
  },
  {
   "cell_type": "code",
   "execution_count": null,
   "metadata": {},
   "outputs": [],
   "source": []
  },
  {
   "cell_type": "code",
   "execution_count": null,
   "metadata": {},
   "outputs": [],
   "source": []
  },
  {
   "cell_type": "code",
   "execution_count": null,
   "metadata": {},
   "outputs": [],
   "source": []
  },
  {
   "cell_type": "code",
   "execution_count": 74,
   "metadata": {},
   "outputs": [
    {
     "name": "stdout",
     "output_type": "stream",
     "text": [
      "No\n"
     ]
    }
   ],
   "source": [
    "def checkMagazine(magaz, note):  \n",
    "    note = note.split(' ')\n",
    "    magaz = magaz.split(' ')\n",
    "    dics = {}\n",
    "    \n",
    "    dics = dict(zip(magaz, [magaz.count(i) for i in magaz]))\n",
    "    \n",
    "    for i in note:\n",
    "        if i  not in dics.keys():\n",
    "            print('No')\n",
    "            return\n",
    "        else:\n",
    "            dics[i] -= 1\n",
    "            \n",
    "            if dics[i] < 0:\n",
    "                print('No')\n",
    "                return\n",
    "    \n",
    "    print('Yes')\n",
    "    \n",
    "\n",
    "checkMagazine('two times three is not four','two times two is four')"
   ]
  },
  {
   "cell_type": "markdown",
   "metadata": {},
   "source": [
    "### 내 풀이"
   ]
  },
  {
   "cell_type": "code",
   "execution_count": 1,
   "metadata": {},
   "outputs": [
    {
     "ename": "NameError",
     "evalue": "name 'Counter' is not defined",
     "output_type": "error",
     "traceback": [
      "\u001b[1;31m---------------------------------------------------------------------------\u001b[0m",
      "\u001b[1;31mNameError\u001b[0m                                 Traceback (most recent call last)",
      "\u001b[1;32m<ipython-input-1-8d70b41fbcdb>\u001b[0m in \u001b[0;36m<module>\u001b[1;34m\u001b[0m\n\u001b[0;32m     25\u001b[0m     \u001b[0mprint\u001b[0m\u001b[1;33m(\u001b[0m\u001b[1;34m'No'\u001b[0m\u001b[1;33m)\u001b[0m\u001b[1;33m\u001b[0m\u001b[1;33m\u001b[0m\u001b[0m\n\u001b[0;32m     26\u001b[0m \u001b[1;33m\u001b[0m\u001b[0m\n\u001b[1;32m---> 27\u001b[1;33m \u001b[0mcheckMagazine\u001b[0m\u001b[1;33m(\u001b[0m\u001b[1;34m'two times three is not four'\u001b[0m\u001b[1;33m,\u001b[0m\u001b[1;34m'two times two is four'\u001b[0m\u001b[1;33m)\u001b[0m\u001b[1;33m\u001b[0m\u001b[1;33m\u001b[0m\u001b[0m\n\u001b[0m",
      "\u001b[1;32m<ipython-input-1-8d70b41fbcdb>\u001b[0m in \u001b[0;36mcheckMagazine\u001b[1;34m(magaz, note)\u001b[0m\n\u001b[0;32m      4\u001b[0m     \u001b[0mdics\u001b[0m \u001b[1;33m=\u001b[0m \u001b[1;33m{\u001b[0m\u001b[1;33m}\u001b[0m\u001b[1;33m\u001b[0m\u001b[1;33m\u001b[0m\u001b[0m\n\u001b[0;32m      5\u001b[0m \u001b[1;33m\u001b[0m\u001b[0m\n\u001b[1;32m----> 6\u001b[1;33m     \u001b[0mprint\u001b[0m\u001b[1;33m(\u001b[0m\u001b[0mdict\u001b[0m\u001b[1;33m(\u001b[0m\u001b[0mCounter\u001b[0m\u001b[1;33m(\u001b[0m\u001b[0mnote\u001b[0m\u001b[1;33m)\u001b[0m\u001b[1;33m)\u001b[0m\u001b[1;33m)\u001b[0m\u001b[1;33m\u001b[0m\u001b[1;33m\u001b[0m\u001b[0m\n\u001b[0m\u001b[0;32m      7\u001b[0m \u001b[1;33m\u001b[0m\u001b[0m\n\u001b[0;32m      8\u001b[0m     \u001b[1;32mfor\u001b[0m \u001b[0mi\u001b[0m \u001b[1;32min\u001b[0m \u001b[0mnote\u001b[0m\u001b[1;33m:\u001b[0m\u001b[1;33m\u001b[0m\u001b[1;33m\u001b[0m\u001b[0m\n",
      "\u001b[1;31mNameError\u001b[0m: name 'Counter' is not defined"
     ]
    }
   ],
   "source": [
    "def checkMagazine(magaz, note):\n",
    "    note = note.split(' ')\n",
    "    magaz = magaz.split(' ')\n",
    "    dics = {}\n",
    "    \n",
    "    print(dict(Counter(note)))\n",
    "    \n",
    "    for i in note:\n",
    "        if i not in dics.keys():\n",
    "            dics[i] = 1\n",
    "        else:\n",
    "            dics[i] += 1\n",
    "    \n",
    "    cnt = len(dics)\n",
    "    \n",
    "    for item in magaz:\n",
    "        if item not in dics.keys(): continue\n",
    "        else:\n",
    "            dics[item] -= 1\n",
    "            if dics[item] == 0: cnt -= 1\n",
    "            if cnt == 0:\n",
    "                print('Yes')\n",
    "                return\n",
    "                \n",
    "    print('No')\n",
    "    \n",
    "checkMagazine('two times three is not four','two times two is four')"
   ]
  },
  {
   "cell_type": "markdown",
   "metadata": {},
   "source": [
    "### 남의 풀이"
   ]
  },
  {
   "cell_type": "code",
   "execution_count": 78,
   "metadata": {},
   "outputs": [
    {
     "name": "stdout",
     "output_type": "stream",
     "text": [
      "No\n"
     ]
    }
   ],
   "source": [
    "def checkMagazine(magaz, note):\n",
    "    note = note.split(' ')\n",
    "    magaz = magaz.split(' ')\n",
    "    dics = {}\n",
    "    \n",
    "    for i in magaz:\n",
    "        if i not in dics.keys():\n",
    "            dics[i] = 1\n",
    "        else:\n",
    "            dics[i] += 1\n",
    "    \n",
    "    for item in note:\n",
    "        if item not in dics.keys():\n",
    "            print('No')\n",
    "            return\n",
    "        else:\n",
    "            dics[item] -= 1\n",
    "            if dics[item] < 0:\n",
    "                print('No')\n",
    "                return\n",
    "                \n",
    "    print('Yes')\n",
    "    \n",
    "checkMagazine('two times three is not four','two times two is four')"
   ]
  },
  {
   "cell_type": "code",
   "execution_count": null,
   "metadata": {},
   "outputs": [],
   "source": []
  },
  {
   "cell_type": "code",
   "execution_count": null,
   "metadata": {},
   "outputs": [],
   "source": []
  },
  {
   "cell_type": "code",
   "execution_count": null,
   "metadata": {},
   "outputs": [],
   "source": []
  },
  {
   "cell_type": "code",
   "execution_count": null,
   "metadata": {},
   "outputs": [],
   "source": []
  },
  {
   "cell_type": "code",
   "execution_count": 41,
   "metadata": {},
   "outputs": [
    {
     "name": "stdout",
     "output_type": "stream",
     "text": [
      "[2, 1, 2, 1, 1]\n",
      "{'two': 2, 'times': 1, 'is': 1, 'four': 1}\n",
      "{'two': 1}\n",
      "No\n"
     ]
    }
   ],
   "source": [
    "def checkMagazine(magaz, note):  \n",
    "    note = note.split(' ')\n",
    "    magaz = magaz.split(' ')\n",
    "    dics = {}\n",
    "    \n",
    "    print([note.count(i) for i in note])\n",
    "    \n",
    "    dics = dict(zip(note, [note.count(i) for i in note]))\n",
    "    \n",
    "    print(dics)\n",
    "    \n",
    "    for item in magaz:\n",
    "        try:\n",
    "            if dics[item]: dics[item] -= 1\n",
    "            if dics[item] == 0: dics.pop(item)\n",
    "        except:\n",
    "            pass\n",
    "        \n",
    "    if dics:\n",
    "        print('No')\n",
    "        return\n",
    "            \n",
    "    for key in dics:\n",
    "        if dics[key] != 0:\n",
    "            print('No')\n",
    "            return\n",
    "        \n",
    "    print('Yes')\n",
    "\n",
    "checkMagazine('two times three is not four','two times two is four')"
   ]
  },
  {
   "cell_type": "code",
   "execution_count": null,
   "metadata": {},
   "outputs": [],
   "source": []
  },
  {
   "cell_type": "code",
   "execution_count": 9,
   "metadata": {},
   "outputs": [
    {
     "name": "stdout",
     "output_type": "stream",
     "text": [
      "{'two': 1, 'times': 0, 'is': 0, 'four': 0}\n",
      "No\n"
     ]
    }
   ],
   "source": [
    "from collections import defaultdict\n",
    "\n",
    "def checkMagazine(magazine, note):\n",
    "    \n",
    "    \n",
    "    note = note.split(' ')\n",
    "    magaz = magazine.split(' ')\n",
    "    \n",
    "    dics = {}\n",
    "    magazDics = {}\n",
    "\n",
    "    for key in note:\n",
    "        dics[key] = note.count(key)\n",
    "        magazDics[key] = 0\n",
    "    \n",
    "    for item in magaz:\n",
    "        if item in dics.keys():\n",
    "            dics[item] -= 1\n",
    "            #magazDics[item] += 1\n",
    "            \n",
    "    print(dics)\n",
    "    #print(magazDics)\n",
    "            \n",
    "    for key in dics.keys():\n",
    "        if dics[key] != 0:\n",
    "            print('No')\n",
    "            return\n",
    "        \n",
    "    print('Yes')\n",
    "\n",
    "checkMagazine('two times three is not four','two times two is four')"
   ]
  },
  {
   "cell_type": "code",
   "execution_count": 21,
   "metadata": {},
   "outputs": [
    {
     "data": {
      "text/plain": [
       "2"
      ]
     },
     "execution_count": 21,
     "metadata": {},
     "output_type": "execute_result"
    }
   ],
   "source": [
    "arr = [1,2,3,4,2]\n",
    "arr.count(2)"
   ]
  },
  {
   "cell_type": "code",
   "execution_count": null,
   "metadata": {},
   "outputs": [],
   "source": []
  },
  {
   "cell_type": "code",
   "execution_count": null,
   "metadata": {},
   "outputs": [],
   "source": []
  }
 ],
 "metadata": {
  "kernelspec": {
   "display_name": "Python 3",
   "language": "python",
   "name": "python3"
  },
  "language_info": {
   "codemirror_mode": {
    "name": "ipython",
    "version": 3
   },
   "file_extension": ".py",
   "mimetype": "text/x-python",
   "name": "python",
   "nbconvert_exporter": "python",
   "pygments_lexer": "ipython3",
   "version": "3.8.3"
  }
 },
 "nbformat": 4,
 "nbformat_minor": 4
}
