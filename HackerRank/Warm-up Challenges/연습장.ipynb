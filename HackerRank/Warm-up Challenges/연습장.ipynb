{
 "cells": [
  {
   "cell_type": "markdown",
   "metadata": {},
   "source": [
    "https://www.hackerrank.com/challenges/sock-merchant/problem?h_l=interview&playlist_slugs%5B%5D=interview-preparation-kit&playlist_slugs%5B%5D=warmup"
   ]
  },
  {
   "cell_type": "code",
   "execution_count": null,
   "metadata": {},
   "outputs": [],
   "source": [
    "#!/bin/python3\n",
    "\n",
    "import math\n",
    "import os\n",
    "import random\n",
    "import re\n",
    "import sys\n",
    "\n",
    "from collections import defaultdict\n",
    "\n",
    "# Complete the sockMerchant function below.\n",
    "def sockMerchant(n, ar):\n",
    "    dics = defaultdict(list)\n",
    "    answer = 0\n",
    "\n",
    "    for i in ar:\n",
    "        dics[i].append(i)\n",
    "        \n",
    "    for key in dics.keys():\n",
    "        lens = len(dics[key])\n",
    "        \n",
    "        if lens > 1:\n",
    "            if lens % 2 != 0:\n",
    "                lens -= 1\n",
    "            answer += int(lens/2)\n",
    "\n",
    "    return answer\n",
    "    \n",
    "\n",
    "if __name__ == '__main__':\n",
    "    fptr = open(os.environ['OUTPUT_PATH'], 'w')\n",
    "\n",
    "    n = int(input())\n",
    "\n",
    "    ar = list(map(int, input().rstrip().split()))\n",
    "\n",
    "    result = sockMerchant(n, ar)\n",
    "\n",
    "    fptr.write(str(result) + '\\n')\n",
    "\n",
    "    fptr.close()"
   ]
  }
 ],
 "metadata": {
  "kernelspec": {
   "display_name": "Python 3",
   "language": "python",
   "name": "python3"
  },
  "language_info": {
   "codemirror_mode": {
    "name": "ipython",
    "version": 3
   },
   "file_extension": ".py",
   "mimetype": "text/x-python",
   "name": "python",
   "nbconvert_exporter": "python",
   "pygments_lexer": "ipython3",
   "version": "3.8.3"
  }
 },
 "nbformat": 4,
 "nbformat_minor": 4
}
