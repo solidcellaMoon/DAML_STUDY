{
 "cells": [
  {
   "cell_type": "code",
   "execution_count": 13,
   "metadata": {
    "scrolled": true
   },
   "outputs": [
    {
     "name": "stdout",
     "output_type": "stream",
     "text": [
      "[1, 2, 3, 4, 5]\n",
      "[0, 0, 0, 0, 0]\n",
      "5\n",
      "no\n"
     ]
    }
   ],
   "source": [
    "q = [i for i in range(1,6)] #이건 입력 변수\n",
    "bribes = [0 for _ in range(5)]\n",
    "print(q)\n",
    "print(bribes)\n",
    "print(q.pop())\n",
    "\n",
    "\n",
    "if q == [1,2,3,5,4]:\n",
    "    print('yes')\n",
    "else:\n",
    "    print('no')"
   ]
  },
  {
   "cell_type": "markdown",
   "metadata": {},
   "source": [
    "원래 인덱스랑 바뀐 후 인덱스 차이가 2이상이면 불가능한거?"
   ]
  },
  {
   "cell_type": "code",
   "execution_count": null,
   "metadata": {},
   "outputs": [],
   "source": []
  },
  {
   "cell_type": "code",
   "execution_count": null,
   "metadata": {},
   "outputs": [],
   "source": []
  },
  {
   "cell_type": "code",
   "execution_count": null,
   "metadata": {},
   "outputs": [],
   "source": []
  },
  {
   "cell_type": "code",
   "execution_count": 80,
   "metadata": {},
   "outputs": [
    {
     "name": "stdout",
     "output_type": "stream",
     "text": [
      "7\n"
     ]
    }
   ],
   "source": [
    "def minimumBribes(q):\n",
    "    origin = [i for i in range(1,len(q)+1)] #원상태\n",
    "    now = origin\n",
    "    idx, cnt = 0, 0\n",
    "    \n",
    "    while now != q:\n",
    "        \n",
    "        target = now[idx] \n",
    "        bribeNum = now.index(target) - q.index(target) #현재와 원상태의 위치 차이\n",
    "        \n",
    "        if bribeNum > 0: #타겟이 앞으로 갔을 때\n",
    "            if bribeNum > 2: #조건 위반되면 끝\n",
    "                print('Too chaotic')\n",
    "                break\n",
    "            elif bribeNum != 0: #1 이상이면 => 위치 이동\n",
    "                now.remove(target) #타겟을 꺼내서\n",
    "                now.insert(q.index(target), target) #이 인덱스에 삽입\n",
    "                cnt += bribeNum\n",
    "            \n",
    "        else: #뇌물이 아님.\n",
    "            pass\n",
    "        \n",
    "        idx = (idx+1) % len(q) #다음 인덱스로 이동\n",
    "\n",
    "    if now == q: #정답에 도달\n",
    "        print(cnt)\n",
    "    \n",
    "minimumBribes([1,2,5,3,7,8,6,4])"
   ]
  },
  {
   "cell_type": "code",
   "execution_count": null,
   "metadata": {},
   "outputs": [],
   "source": []
  },
  {
   "cell_type": "code",
   "execution_count": null,
   "metadata": {},
   "outputs": [],
   "source": []
  },
  {
   "cell_type": "code",
   "execution_count": null,
   "metadata": {},
   "outputs": [],
   "source": []
  },
  {
   "cell_type": "code",
   "execution_count": 75,
   "metadata": {},
   "outputs": [
    {
     "name": "stdout",
     "output_type": "stream",
     "text": [
      "[1, 2, 3, 4, 5, 6, 7, 8]\n",
      "1\n",
      "1 은 변화없음\n",
      "2\n",
      "2 은 변화없음\n",
      "3\n",
      "3 은 뒤에 위치함\n",
      "4\n",
      "4 은 뒤에 위치함\n",
      "5\n",
      "뇌물수: 2\n",
      "[1, 2, 5, 3, 4, 6, 7, 8]\n",
      "6\n",
      "6 은 뒤에 위치함\n",
      "7\n",
      "뇌물수: 2\n",
      "[1, 2, 5, 3, 7, 4, 6, 8]\n",
      "8\n",
      "뇌물수: 2\n",
      "[1, 2, 5, 3, 7, 8, 4, 6]\n",
      "1\n",
      "1 은 변화없음\n",
      "2\n",
      "2 은 변화없음\n",
      "5\n",
      "5 은 변화없음\n",
      "3\n",
      "3 은 변화없음\n",
      "7\n",
      "7 은 변화없음\n",
      "8\n",
      "8 은 변화없음\n",
      "4\n",
      "4 은 뒤에 위치함\n",
      "6\n",
      "뇌물수: 1\n",
      "[1, 2, 5, 3, 7, 8, 6, 4]\n",
      "정답: 7\n"
     ]
    }
   ],
   "source": [
    "from collections import deque\n",
    "\n",
    "def minimumBribes(q):\n",
    "    origin = [i for i in range(1,len(q)+1)] #원상태\n",
    "    now = origin\n",
    "    cnt = 0\n",
    "    print(origin)\n",
    "    \n",
    "    idx = 0\n",
    "    \n",
    "    while now != q:\n",
    "        \n",
    "        target = now[idx]\n",
    "        print(target)\n",
    "        \n",
    "        bribeNum = now.index(target) - q.index(target) #현재와 원상태의 위치 차이\n",
    "        \n",
    "        if bribeNum >= 0: #타겟이 앞으로 갔다면\n",
    "            \n",
    "            if bribeNum > 2: #조건 위반되면 끝\n",
    "                print('Too chaotic')\n",
    "                break\n",
    "\n",
    "            elif bribeNum != 0: #1 이상이면 => 위치 이동\n",
    "                print('뇌물수:',bribeNum)\n",
    "                now.remove(target)\n",
    "                now.insert(q.index(target), target)\n",
    "                cnt += bribeNum\n",
    "                print(now)\n",
    "\n",
    "            #else: 변화 없으므로 무시\n",
    "            else:\n",
    "                print(target,\"은 변화없음\")\n",
    "                pass\n",
    "            \n",
    "        else: #타겟이 뒤로 이동했다면, 뇌물이 아님.\n",
    "            print(target,\"은 뒤에 위치함\")\n",
    "            pass\n",
    "        \n",
    "        idx = (idx+1) % len(q)\n",
    "\n",
    "    if now == q:\n",
    "        print('정답:',cnt)\n",
    "    \n",
    "minimumBribes([1,2,5,3,7,8,6,4])"
   ]
  },
  {
   "cell_type": "markdown",
   "metadata": {},
   "source": [
    "1 2 3 4 5 6 7 8\n",
    "\n",
    "1 2 5 3 4 6 7 8 (2)\n",
    "\n",
    "1 2 5 3 7 4 6 8 (4)\n",
    "\n",
    "1 2 5 3 7 8 4 6 (6)\n",
    "\n",
    "1 2 5 3 7 8 6 4 (1)"
   ]
  },
  {
   "cell_type": "code",
   "execution_count": null,
   "metadata": {},
   "outputs": [],
   "source": []
  },
  {
   "cell_type": "code",
   "execution_count": null,
   "metadata": {},
   "outputs": [],
   "source": []
  },
  {
   "cell_type": "code",
   "execution_count": null,
   "metadata": {},
   "outputs": [],
   "source": []
  },
  {
   "cell_type": "code",
   "execution_count": null,
   "metadata": {},
   "outputs": [],
   "source": []
  },
  {
   "cell_type": "code",
   "execution_count": null,
   "metadata": {},
   "outputs": [],
   "source": []
  },
  {
   "cell_type": "code",
   "execution_count": 22,
   "metadata": {},
   "outputs": [
    {
     "name": "stdout",
     "output_type": "stream",
     "text": [
      "deque([1, 2, 5, 3, 4])\n",
      "[0, 0, 0, 0, 2]\n",
      "4 은 변화없음\n",
      "deque([1, 2, 5, 3])\n",
      "[0, 0, 0, 0, 2]\n",
      "3 은 변화없음\n",
      "deque([1, 2, 5])\n",
      "[0, 0, 0, 0, 2]\n",
      "5 은 변화없음\n",
      "deque([1, 2])\n",
      "[0, 0, 0, 0, 2]\n",
      "deque([2, 1])\n",
      "[0, 1, 0, 0, 2]\n",
      "1 은 변화없음\n",
      "deque([2])\n",
      "[0, 1, 0, 0, 2]\n",
      "2 은 변화없음\n",
      "deque([])\n",
      "[0, 1, 0, 0, 2]\n"
     ]
    },
    {
     "data": {
      "text/plain": [
       "3"
      ]
     },
     "execution_count": 22,
     "metadata": {},
     "output_type": "execute_result"
    }
   ],
   "source": [
    "from collections import deque\n",
    "\n",
    "def minimumBribes(q):\n",
    "    origin = [i for i in range(1,len(q)+1)] #원상태\n",
    "    bribes = [0 for _ in range(len(q))] #각 사람의 뇌물 수\n",
    "    cnt = 0\n",
    "    \n",
    "    while origin:\n",
    "        originIdx = origin.index(origin[-1]) #원상태의 인덱스\n",
    "        target = origin.pop() #맨뒤를 꺼냄\n",
    "        bribeNum = abs(q.index(target) - originIdx) #현재와 원상태의 위치 차이\n",
    "        \n",
    "        if bribeNum > 2: #조건 위반되면 끝\n",
    "            return 'Too chaotic'\n",
    "        \n",
    "        elif bribeNum != 0: #1 이상이면 => 위치 이동\n",
    "            origin.insert(q.index(target), target)\n",
    "            bribes[target-1] = bribeNum\n",
    "            \n",
    "        #else: 변화 없으므로 무시\n",
    "        else:\n",
    "            pass\n",
    "            print(target,\"은 변화없음\")\n",
    "            \n",
    "        print(origin)\n",
    "        print(bribes)\n",
    "\n",
    "    return sum(bribes)\n",
    "    \n",
    "minimumBribes([2,1,5,3,4])"
   ]
  },
  {
   "cell_type": "code",
   "execution_count": null,
   "metadata": {},
   "outputs": [],
   "source": []
  },
  {
   "cell_type": "code",
   "execution_count": null,
   "metadata": {},
   "outputs": [],
   "source": []
  },
  {
   "cell_type": "code",
   "execution_count": null,
   "metadata": {},
   "outputs": [],
   "source": []
  },
  {
   "cell_type": "code",
   "execution_count": null,
   "metadata": {},
   "outputs": [],
   "source": []
  },
  {
   "cell_type": "code",
   "execution_count": null,
   "metadata": {},
   "outputs": [],
   "source": []
  },
  {
   "cell_type": "code",
   "execution_count": null,
   "metadata": {},
   "outputs": [],
   "source": []
  },
  {
   "cell_type": "code",
   "execution_count": null,
   "metadata": {},
   "outputs": [],
   "source": []
  }
 ],
 "metadata": {
  "kernelspec": {
   "display_name": "Python 3",
   "language": "python",
   "name": "python3"
  },
  "language_info": {
   "codemirror_mode": {
    "name": "ipython",
    "version": 3
   },
   "file_extension": ".py",
   "mimetype": "text/x-python",
   "name": "python",
   "nbconvert_exporter": "python",
   "pygments_lexer": "ipython3",
   "version": "3.8.3"
  }
 },
 "nbformat": 4,
 "nbformat_minor": 4
}
