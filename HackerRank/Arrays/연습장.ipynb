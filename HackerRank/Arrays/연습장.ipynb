{
 "cells": [
  {
   "cell_type": "code",
   "execution_count": null,
   "metadata": {},
   "outputs": [],
   "source": [
    "def arrayManipulation(n, queries):\n",
    "    \n",
    "    arr = [0 for _ in range(n)]\n",
    "    \n",
    "    for left, right, k in queries:\n",
    "        for i in range(left-1,right):\n",
    "            arr[i] += k\n",
    "    \n",
    "    return max(arr)"
   ]
  },
  {
   "cell_type": "markdown",
   "metadata": {},
   "source": [
    "[ 1 1 0 0 0 ] 12 1\n",
    "[ 1 3 2 2 2 ] 25 2\n",
    "[ 1 3 7 7 2 ] 34 5"
   ]
  },
  {
   "cell_type": "code",
   "execution_count": null,
   "metadata": {},
   "outputs": [],
   "source": []
  },
  {
   "cell_type": "code",
   "execution_count": 487,
   "metadata": {
    "scrolled": true
   },
   "outputs": [
    {
     "name": "stdout",
     "output_type": "stream",
     "text": [
      "[3, 0, 0, 0, 0, -3, 0, 0, 0, 0, 0]\n",
      "[3, 0, 0, 7, 0, -3, 0, 0, -7, 0, 0]\n",
      "[3, 0, 0, 7, 0, -2, 0, 0, -7, -1, 0]\n"
     ]
    },
    {
     "data": {
      "text/plain": [
       "10"
      ]
     },
     "execution_count": 487,
     "metadata": {},
     "output_type": "execute_result"
    }
   ],
   "source": [
    "def arrayManipulation(n, queries):\n",
    "    \n",
    "    arr = [0 for _ in range(n+1)]\n",
    "    maxNum = -1\n",
    "    total = 0\n",
    "    \n",
    "    for left, right, k in queries:\n",
    "        \n",
    "        arr[left - 1] += k\n",
    "        arr[right] -= k\n",
    "        \n",
    "        print(arr)\n",
    "    \n",
    "    for i in range(len(arr)):\n",
    "        total += arr[i]\n",
    "        if maxNum < total:\n",
    "            maxNum = total\n",
    "    \n",
    "    return maxNum\n",
    "\n",
    "arrayManipulation(10, [[1,5,3],[4,8,7],[6,9,1]])"
   ]
  },
  {
   "cell_type": "code",
   "execution_count": null,
   "metadata": {},
   "outputs": [],
   "source": []
  },
  {
   "cell_type": "code",
   "execution_count": null,
   "metadata": {},
   "outputs": [],
   "source": []
  },
  {
   "cell_type": "code",
   "execution_count": null,
   "metadata": {},
   "outputs": [],
   "source": []
  },
  {
   "cell_type": "code",
   "execution_count": null,
   "metadata": {},
   "outputs": [],
   "source": [
    "def arrayManipulation(n, queries):\n",
    "    \n",
    "    arr = [0 for _ in range(n)]\n",
    "    maxNum = 0\n",
    "    \n",
    "    for left, right, k in queries:\n",
    "        arr[left-1], arr[right] += k\n",
    "        \n",
    "    for i in \n",
    "    \n",
    "    return maxNum\n",
    "\n",
    "arrayManipulation(10, [[1,5,3],[4,8,7],[6,9,1]])"
   ]
  },
  {
   "cell_type": "code",
   "execution_count": null,
   "metadata": {},
   "outputs": [],
   "source": []
  },
  {
   "cell_type": "code",
   "execution_count": null,
   "metadata": {},
   "outputs": [],
   "source": []
  },
  {
   "cell_type": "code",
   "execution_count": null,
   "metadata": {},
   "outputs": [],
   "source": []
  },
  {
   "cell_type": "code",
   "execution_count": 473,
   "metadata": {},
   "outputs": [
    {
     "data": {
      "text/plain": [
       "10"
      ]
     },
     "execution_count": 473,
     "metadata": {},
     "output_type": "execute_result"
    }
   ],
   "source": [
    "def arrayManipulation(n, queries):\n",
    "    \n",
    "    arr = [0 for _ in range(n)]\n",
    "    maxNum = 0\n",
    "    \n",
    "    for left, right, k in queries:\n",
    "        for i in range(left-1,right):\n",
    "            arr[i] += k\n",
    "            if arr[i] > maxNum:\n",
    "                maxNum = arr[i]\n",
    "    \n",
    "    return maxNum\n",
    "\n",
    "arrayManipulation(10, [[1,5,3],[4,8,7],[6,9,1]])"
   ]
  },
  {
   "cell_type": "code",
   "execution_count": null,
   "metadata": {},
   "outputs": [],
   "source": []
  },
  {
   "cell_type": "code",
   "execution_count": null,
   "metadata": {},
   "outputs": [],
   "source": []
  },
  {
   "cell_type": "code",
   "execution_count": null,
   "metadata": {},
   "outputs": [],
   "source": []
  },
  {
   "cell_type": "code",
   "execution_count": 471,
   "metadata": {},
   "outputs": [
    {
     "name": "stdout",
     "output_type": "stream",
     "text": [
      "inters: [1, 2]\n",
      "maxs: [1, 1]\n",
      "inters: [2, 2]\n",
      "maxs: [1, 2]\n",
      "inters: [3, 4]\n",
      "maxs: [1, 2]\n"
     ]
    },
    {
     "data": {
      "text/plain": [
       "2"
      ]
     },
     "execution_count": 471,
     "metadata": {},
     "output_type": "execute_result"
    }
   ],
   "source": [
    "import sys\n",
    "\n",
    "def arrayManipulation(n, queries):\n",
    "    \n",
    "    #모든 쿼리에서 겹치는 범위에 최댓값이 있음 => k는 0 이상이기에 안심\n",
    "    inters = [0,n]\n",
    "    maxs = [sys.maxsize,0]\n",
    "    #근데 k값에 따라 제외해도 되는 범위가....\n",
    "    \n",
    "    for left, right, k in queries:\n",
    "        \n",
    "        pre = maxs[1] - maxs[0]\n",
    "        \n",
    "        if inters[1] < left and pre + k < maxs[1]:\n",
    "            print('ddd')\n",
    "            continue\n",
    "\n",
    "        \n",
    "        #모든 교집합 범위...\n",
    "        if inters[0] == inters[1] and pre + k >= maxs[1]:\n",
    "            inters = [left, right]\n",
    "            maxs[1] = pre\n",
    "        \n",
    "        if left > inters[0]:\n",
    "            inters[0] = left\n",
    "        if right < inters[1]:\n",
    "            inters[1] = right\n",
    "            \n",
    "        \n",
    "            \n",
    "        \n",
    "        print('inters:',inters)\n",
    "        \n",
    "        maxs[0] = min(k, maxs[0])\n",
    "        maxs[1] += k\n",
    "        \n",
    "        print('maxs:',maxs)\n",
    "        \n",
    "    \n",
    "    return maxs[1]\n",
    "\n",
    "arrayManipulation(5, [[1,2,1],[2,5,1],[3,4,1]])\n",
    "#arrayManipulation(10, [[1,5,3],[4,8,7],[6,9,1]])"
   ]
  },
  {
   "cell_type": "code",
   "execution_count": null,
   "metadata": {},
   "outputs": [],
   "source": []
  },
  {
   "cell_type": "code",
   "execution_count": null,
   "metadata": {},
   "outputs": [],
   "source": []
  },
  {
   "cell_type": "code",
   "execution_count": 389,
   "metadata": {},
   "outputs": [
    {
     "name": "stdout",
     "output_type": "stream",
     "text": [
      "[100, 0, 0, 0, 0]\n",
      "[100, 100, 0, 0, 0]\n",
      "[100, 200, 0, 0, 0]\n",
      "[100, 200, 100, 0, 0]\n",
      "[100, 200, 100, 100, 0]\n",
      "[100, 200, 100, 100, 100]\n",
      "[100, 200, 200, 100, 100]\n",
      "[100, 200, 200, 200, 100]\n"
     ]
    },
    {
     "data": {
      "text/plain": [
       "200"
      ]
     },
     "execution_count": 389,
     "metadata": {},
     "output_type": "execute_result"
    }
   ],
   "source": [
    "def arrayManipulation(n, queries):\n",
    "    \n",
    "    arr = [0 for _ in range(n)]\n",
    "    \n",
    "    for left, right, k in queries:\n",
    "        for i in range(left-1,right):\n",
    "            arr[i] += k\n",
    "            print(arr)\n",
    "    \n",
    "    return max(arr)\n",
    "\n",
    "arrayManipulation(5, [[1,2,100],[2,5,100],[3,4,100]])"
   ]
  },
  {
   "cell_type": "code",
   "execution_count": null,
   "metadata": {},
   "outputs": [],
   "source": []
  },
  {
   "cell_type": "code",
   "execution_count": null,
   "metadata": {},
   "outputs": [],
   "source": []
  },
  {
   "cell_type": "code",
   "execution_count": null,
   "metadata": {},
   "outputs": [],
   "source": []
  },
  {
   "cell_type": "code",
   "execution_count": null,
   "metadata": {},
   "outputs": [],
   "source": []
  },
  {
   "cell_type": "code",
   "execution_count": null,
   "metadata": {},
   "outputs": [],
   "source": []
  },
  {
   "cell_type": "code",
   "execution_count": null,
   "metadata": {},
   "outputs": [],
   "source": []
  }
 ],
 "metadata": {
  "kernelspec": {
   "display_name": "Python 3",
   "language": "python",
   "name": "python3"
  },
  "language_info": {
   "codemirror_mode": {
    "name": "ipython",
    "version": 3
   },
   "file_extension": ".py",
   "mimetype": "text/x-python",
   "name": "python",
   "nbconvert_exporter": "python",
   "pygments_lexer": "ipython3",
   "version": "3.8.3"
  }
 },
 "nbformat": 4,
 "nbformat_minor": 4
}
