{
 "cells": [
  {
   "cell_type": "markdown",
   "metadata": {},
   "source": [
    "연속정수, 정렬x, 중복x\n",
    "두 요소 스왑 가능\n",
    "최소 스왑수 <- 소팅하기 위한(오름차순으로)"
   ]
  },
  {
   "cell_type": "markdown",
   "metadata": {},
   "source": [
    "### 1\n",
    "시간초과"
   ]
  },
  {
   "cell_type": "code",
   "execution_count": 327,
   "metadata": {},
   "outputs": [],
   "source": [
    "def minimumSwaps(arr):\n",
    "    \n",
    "    origin = [i for i in range(1,len(arr)+1)]\n",
    "    idx = len(arr)-1\n",
    "    cnt = 0\n",
    "    \n",
    "    while arr != origin:\n",
    "        if arr[idx] is not origin[idx]:\n",
    "            notsort, sort = arr[idx], origin[idx]\n",
    "            arr[sort-1], arr[notsort - 1] = arr[notsort - 1], notsort\n",
    "            cnt += 1\n",
    "        elif idx != 0:\n",
    "            idx -= 1\n",
    "        \n",
    "    return cnt"
   ]
  },
  {
   "cell_type": "markdown",
   "metadata": {},
   "source": [
    "## 2\n",
    "시간초과"
   ]
  },
  {
   "cell_type": "code",
   "execution_count": null,
   "metadata": {},
   "outputs": [],
   "source": [
    "def minimumSwaps(arr):\n",
    "    idx, cnt = 0, 0\n",
    "    origin = [i for i in range(1,len(arr)+1)]\n",
    "    \n",
    "    while arr != origin:\n",
    "        \n",
    "        while arr[idx] is idx+1:\n",
    "            idx += 1\n",
    "        \n",
    "        while arr[idx] is not idx+1:\n",
    "            notsort, sort = arr[idx], idx+1\n",
    "            arr[sort-1], arr[notsort - 1] = arr[notsort - 1], notsort\n",
    "            cnt += 1         \n",
    "            \n",
    "    return cnt\n",
    "    \n",
    "minimumSwaps([1,3,5,2,4,6,7])"
   ]
  },
  {
   "cell_type": "code",
   "execution_count": null,
   "metadata": {},
   "outputs": [],
   "source": []
  },
  {
   "cell_type": "code",
   "execution_count": 372,
   "metadata": {},
   "outputs": [
    {
     "data": {
      "text/plain": [
       "3"
      ]
     },
     "execution_count": 372,
     "metadata": {},
     "output_type": "execute_result"
    }
   ],
   "source": [
    "def minimumSwaps(arr):\n",
    "    idx, cnt = 0, 0\n",
    "    origin = [i for i in range(1,len(arr)+1)]\n",
    "    \n",
    "    for idx in range(len(arr)):\n",
    "        \n",
    "        while arr[idx] is not idx+1:\n",
    "            notsort, sort = arr[idx], idx+1\n",
    "            arr[sort-1], arr[notsort - 1] = arr[notsort - 1], notsort\n",
    "            cnt += 1         \n",
    "            \n",
    "    return cnt\n",
    "    \n",
    "minimumSwaps([1,3,5,2,4,6,7])"
   ]
  },
  {
   "cell_type": "code",
   "execution_count": null,
   "metadata": {},
   "outputs": [],
   "source": []
  },
  {
   "cell_type": "code",
   "execution_count": null,
   "metadata": {},
   "outputs": [],
   "source": []
  },
  {
   "cell_type": "code",
   "execution_count": null,
   "metadata": {},
   "outputs": [],
   "source": [
    "def minimumSwaps(arr):\n",
    "    cnt = 0\n",
    "    \n",
    "    for i in range(len(arr)):\n",
    "        while arr[i] is not i+1:\n",
    "            \n",
    "            notsort = arr[i]\n",
    "            arr[i] = arr[notsort - 1]\n",
    "            arr[notsort - 1] = notsort\n",
    "            \n",
    "            cnt += 1\n",
    "            \n",
    "    return cnt"
   ]
  },
  {
   "cell_type": "code",
   "execution_count": 368,
   "metadata": {},
   "outputs": [
    {
     "data": {
      "text/plain": [
       "5"
      ]
     },
     "execution_count": 368,
     "metadata": {},
     "output_type": "execute_result"
    }
   ],
   "source": [
    "def minimumSwaps(arr):\n",
    "    cnt = 0\n",
    "    \n",
    "    for i in range(len(arr)):\n",
    "        while arr[i] != i+1:\n",
    "            temp = arr[i]\n",
    "            arr[i] = arr[temp-1]\n",
    "            arr[temp-1] = temp\n",
    "            cnt = cnt + 1\n",
    "            \n",
    "    return cnt\n",
    "\n",
    "minimumSwaps([7,1,3,2,4,5,6])"
   ]
  },
  {
   "cell_type": "code",
   "execution_count": null,
   "metadata": {},
   "outputs": [],
   "source": []
  },
  {
   "cell_type": "code",
   "execution_count": null,
   "metadata": {},
   "outputs": [],
   "source": []
  },
  {
   "cell_type": "code",
   "execution_count": null,
   "metadata": {},
   "outputs": [],
   "source": [
    "def minimumSwaps(arr):\n",
    "    cnt = 0\n",
    "    \n",
    "    for i in range(len(arr)):\n",
    "        while arr[i] is not i+1:\n",
    "            \n",
    "            notsort = arr[i]\n",
    "            arr[i], arr[notsort - 1] = arr[notsort - 1], notsort\n",
    "            cnt += 1\n",
    "            \n",
    "    return cnt\n",
    "\n",
    "minimumSwaps([7,1,3,2,4,5,6])"
   ]
  },
  {
   "cell_type": "code",
   "execution_count": 367,
   "metadata": {},
   "outputs": [
    {
     "name": "stdout",
     "output_type": "stream",
     "text": [
      "[6, 1, 3, 2, 4, 5, 7]\n",
      "[5, 1, 3, 2, 4, 6, 7]\n",
      "[4, 1, 3, 2, 5, 6, 7]\n",
      "[2, 1, 3, 4, 5, 6, 7]\n",
      "[1, 2, 3, 4, 5, 6, 7]\n"
     ]
    },
    {
     "data": {
      "text/plain": [
       "5"
      ]
     },
     "execution_count": 367,
     "metadata": {},
     "output_type": "execute_result"
    }
   ],
   "source": [
    "def minimumSwaps(arr):\n",
    "    cnt = 0\n",
    "    \n",
    "    for i in range(len(arr)):\n",
    "        \n",
    "        while arr[i] is not i+1:\n",
    "            \n",
    "            #notsort = arr[i]\n",
    "            #arr[i] = arr[notsort - 1]\n",
    "            #arr[notsort - 1] = notsort\n",
    "            \n",
    "            notsort, sort = arr[i], i+1\n",
    "            arr[sort-1], arr[notsort - 1] = arr[notsort - 1], notsort\n",
    "            print(arr)\n",
    "            cnt += 1\n",
    "            \n",
    "    return cnt\n",
    "\n",
    "minimumSwaps([7,1,3,2,4,5,6])"
   ]
  },
  {
   "cell_type": "code",
   "execution_count": null,
   "metadata": {},
   "outputs": [],
   "source": []
  },
  {
   "cell_type": "code",
   "execution_count": null,
   "metadata": {},
   "outputs": [],
   "source": []
  },
  {
   "cell_type": "code",
   "execution_count": null,
   "metadata": {},
   "outputs": [],
   "source": []
  },
  {
   "cell_type": "code",
   "execution_count": null,
   "metadata": {},
   "outputs": [],
   "source": [
    "def minimumSwaps(arr):\n",
    "    idx, cnt = 0, 0\n",
    "    origin = [i for i in range(1,len(arr)+1)]\n",
    "    \n",
    "    while arr != origin:\n",
    "        \n",
    "        while arr[idx] is idx+1:\n",
    "            idx += 1\n",
    "        \n",
    "        while arr[idx] is not idx+1:\n",
    "            notsort, sort = arr[idx], idx+1\n",
    "            arr[sort-1], arr[notsort - 1] = arr[notsort - 1], notsort\n",
    "            cnt += 1         \n",
    "            \n",
    "    return cnt\n",
    "\n",
    "minimumSwaps([7,1,3,2,4,5,6])"
   ]
  },
  {
   "cell_type": "code",
   "execution_count": null,
   "metadata": {},
   "outputs": [],
   "source": []
  },
  {
   "cell_type": "code",
   "execution_count": null,
   "metadata": {},
   "outputs": [],
   "source": []
  },
  {
   "cell_type": "code",
   "execution_count": null,
   "metadata": {},
   "outputs": [],
   "source": []
  },
  {
   "cell_type": "code",
   "execution_count": null,
   "metadata": {},
   "outputs": [],
   "source": []
  },
  {
   "cell_type": "code",
   "execution_count": null,
   "metadata": {},
   "outputs": [],
   "source": []
  },
  {
   "cell_type": "code",
   "execution_count": null,
   "metadata": {},
   "outputs": [],
   "source": [
    "def minimumSwaps(arr):\n",
    "    idx, cnt = 0, 0\n",
    "    origin = [i for i in range(1,len(arr)+1)]\n",
    "    \n",
    "    subs = [arr.index(y) for x,y in enumerate(arr,1) if x-y != 0]\n",
    "    \n",
    "    while subs:\n",
    "        \n",
    "        idx = subs.pop()\n",
    "        \n",
    "        while arr[idx] != idx+1:\n",
    "            notsort, sort = arr[idx], idx+1\n",
    "            arr[sort-1], arr[notsort - 1] = arr[notsort - 1], notsort\n",
    "            cnt += 1\n",
    "            print(arr)\n",
    "            \n",
    "        if arr == origin:\n",
    "            break\n",
    "            \n",
    "        print(idx)\n",
    "            \n",
    "            \n",
    "    return cnt\n",
    "    \n",
    "minimumSwaps([1,3,5,2,4,6,7])"
   ]
  },
  {
   "cell_type": "code",
   "execution_count": null,
   "metadata": {},
   "outputs": [],
   "source": []
  },
  {
   "cell_type": "code",
   "execution_count": null,
   "metadata": {},
   "outputs": [],
   "source": []
  },
  {
   "cell_type": "code",
   "execution_count": 369,
   "metadata": {},
   "outputs": [
    {
     "name": "stdout",
     "output_type": "stream",
     "text": [
      "[1, 2, 3, 4]\n",
      "[1, 3, 5, 4, 2, 6, 7]\n",
      "[1, 2, 5, 4, 3, 6, 7]\n",
      "[1, 2, 3, 4, 5, 6, 7]\n"
     ]
    },
    {
     "data": {
      "text/plain": [
       "3"
      ]
     },
     "execution_count": 369,
     "metadata": {},
     "output_type": "execute_result"
    }
   ],
   "source": [
    "def minimumSwaps(arr):\n",
    "    idx, cnt = 0, 0\n",
    "    origin = [i for i in range(1,len(arr)+1)]\n",
    "    \n",
    "    subs = [arr.index(y) for x,y in enumerate(arr,1) if x-y != 0]\n",
    "    print(subs)\n",
    "    \n",
    "    while subs:\n",
    "        \n",
    "        idx = subs.pop()\n",
    "        \n",
    "        while arr[idx] is not idx+1:\n",
    "            notsort, sort = arr[idx], idx+1\n",
    "            arr[sort-1], arr[notsort - 1] = arr[notsort - 1], notsort\n",
    "            cnt += 1\n",
    "            print(arr)\n",
    "            \n",
    "        if arr == origin:\n",
    "            break\n",
    "            \n",
    "        print(idx)\n",
    "            \n",
    "            \n",
    "    return cnt\n",
    "    \n",
    "minimumSwaps([1,3,5,2,4,6,7])"
   ]
  },
  {
   "cell_type": "code",
   "execution_count": null,
   "metadata": {},
   "outputs": [],
   "source": []
  },
  {
   "cell_type": "code",
   "execution_count": null,
   "metadata": {},
   "outputs": [],
   "source": []
  },
  {
   "cell_type": "code",
   "execution_count": null,
   "metadata": {},
   "outputs": [],
   "source": []
  },
  {
   "cell_type": "code",
   "execution_count": null,
   "metadata": {},
   "outputs": [],
   "source": []
  },
  {
   "cell_type": "code",
   "execution_count": 312,
   "metadata": {},
   "outputs": [
    {
     "name": "stdout",
     "output_type": "stream",
     "text": [
      "[6, 1, 3, 2, 4, 5, 7]\n",
      "[5, 1, 3, 2, 4, 6, 7]\n",
      "[4, 1, 3, 2, 5, 6, 7]\n",
      "[2, 1, 3, 4, 5, 6, 7]\n",
      "[1, 2, 3, 4, 5, 6, 7]\n"
     ]
    },
    {
     "data": {
      "text/plain": [
       "5"
      ]
     },
     "execution_count": 312,
     "metadata": {},
     "output_type": "execute_result"
    }
   ],
   "source": [
    "def minimumSwaps(arr):\n",
    "    cnt = 0\n",
    "    idx = 0\n",
    "    isSorted = 0\n",
    "    origin = [i for i in range(1,len(arr)+1)]\n",
    "    \n",
    "    while idx < len(arr)-1:\n",
    "        \n",
    "        notsort, sort = arr[idx], idx+1\n",
    "        \n",
    "        if notsort is not sort:\n",
    "            arr[sort-1], arr[notsort - 1] = arr[notsort - 1], notsort\n",
    "            cnt += 1\n",
    "            print(arr)\n",
    "        else:\n",
    "            print(arr[idx],'is Sorted, so skip')\n",
    "            idx +=1\n",
    "            \n",
    "        if arr == origin:\n",
    "            break\n",
    "            \n",
    "    return cnt\n",
    "    \n",
    "minimumSwaps([7,1,3,2,4,5,6])"
   ]
  },
  {
   "cell_type": "code",
   "execution_count": 290,
   "metadata": {},
   "outputs": [
    {
     "name": "stdout",
     "output_type": "stream",
     "text": [
      "6 [1, 3, 5, 2, 4, 6, 7]\n",
      "skip\n",
      "5 [1, 3, 5, 2, 4, 6, 7]\n",
      "skip\n",
      "4 [1, 3, 5, 2, 4, 6, 7]\n",
      "4 [1, 3, 5, 4, 2, 6, 7]\n",
      "4 [1, 2, 5, 4, 3, 6, 7]\n",
      "3\n"
     ]
    }
   ],
   "source": [
    "def minimumSwaps(arr):\n",
    "    cnt = 0\n",
    "    idx = len(arr)-1\n",
    "    origin = [i for i in range(1,len(arr)+1)]\n",
    "    \n",
    "    while idx > 0:\n",
    "        print(idx, arr)\n",
    "        if arr[idx] is not idx+1:\n",
    "            notsort, sort = arr[idx], idx+1\n",
    "            arr[sort-1], arr[notsort - 1] = arr[notsort - 1], notsort\n",
    "            cnt += 1\n",
    "        else:\n",
    "            idx -=1\n",
    "            print('skip')\n",
    "            \n",
    "        if arr == origin:\n",
    "            break\n",
    "            \n",
    "        \n",
    "    print(cnt)\n",
    "    \n",
    "minimumSwaps([1,3,5,2,4,6,7])"
   ]
  },
  {
   "cell_type": "code",
   "execution_count": null,
   "metadata": {},
   "outputs": [],
   "source": []
  },
  {
   "cell_type": "code",
   "execution_count": null,
   "metadata": {},
   "outputs": [],
   "source": []
  },
  {
   "cell_type": "code",
   "execution_count": 264,
   "metadata": {},
   "outputs": [
    {
     "name": "stdout",
     "output_type": "stream",
     "text": [
      "6\n",
      "[7, 1, 3, 2, 4, 6, 5]\n",
      "5\n",
      "[7, 1, 3, 2, 5, 4, 5]\n",
      "4\n",
      "[7, 1, 3, 4, 2, 4, 5]\n",
      "2\n",
      "[7, 2, 3, 1, 2, 4, 5]\n",
      "[7, 2, 3, 1, 2, 4, 5]\n",
      "1\n",
      "[1, 7, 3, 1, 2, 4, 5]\n",
      "7\n",
      "[5, 7, 3, 1, 2, 4, 7]\n"
     ]
    }
   ],
   "source": [
    "def minimumSwaps(arr):\n",
    "    \n",
    "    for sort, notsort in reversed(list(enumerate(arr,1))):\n",
    "        #print(sort, notsort)\n",
    "        \n",
    "        if notsort is not sort:\n",
    "            print(notsort)\n",
    "            arr[sort-1], arr[notsort - 1] = arr[notsort - 1], notsort\n",
    "            \n",
    "        print(arr)\n",
    "        \n",
    "        \n",
    "        \n",
    "    \n",
    "    \n",
    "    \n",
    "    \n",
    "minimumSwaps([7,1,3,2,4,5,6])"
   ]
  },
  {
   "cell_type": "code",
   "execution_count": null,
   "metadata": {},
   "outputs": [],
   "source": []
  },
  {
   "cell_type": "code",
   "execution_count": null,
   "metadata": {},
   "outputs": [],
   "source": []
  },
  {
   "cell_type": "code",
   "execution_count": 251,
   "metadata": {},
   "outputs": [
    {
     "name": "stdout",
     "output_type": "stream",
     "text": [
      "[(1, 7), (2, 1), (3, 3), (4, 2), (5, 4), (6, 5), (7, 6)]\n"
     ]
    }
   ],
   "source": [
    "def minimumSwaps(arr):\n",
    "    \n",
    "    sortedArr = [i for i in range(1,len(arr)+1)]\n",
    "    idx = len(arr) - 1\n",
    "    cnt = 0\n",
    "    \n",
    "    while arr != sortedArr:\n",
    "        front = 1\n",
    "        \n",
    "        if arr[idx] == sortedArr[idx]:\n",
    "            continue\n",
    "            \n",
    "        elif idx > 0:\n",
    "            \n",
    "            if (idx-front)\n",
    "        \n",
    "        \n",
    "        \n",
    "    \n",
    "    \n",
    "    \n",
    "    \n",
    "minimumSwaps([7,1,3,2,4,5,6])"
   ]
  },
  {
   "cell_type": "code",
   "execution_count": 254,
   "metadata": {},
   "outputs": [
    {
     "data": {
      "text/plain": [
       "[1, 2, 3, 4, 5, 6, 7]"
      ]
     },
     "execution_count": 254,
     "metadata": {},
     "output_type": "execute_result"
    }
   ],
   "source": [
    "[i for i in range(1,8)]"
   ]
  },
  {
   "cell_type": "code",
   "execution_count": null,
   "metadata": {},
   "outputs": [],
   "source": []
  },
  {
   "cell_type": "code",
   "execution_count": null,
   "metadata": {},
   "outputs": [],
   "source": []
  },
  {
   "cell_type": "code",
   "execution_count": null,
   "metadata": {},
   "outputs": [],
   "source": []
  },
  {
   "cell_type": "code",
   "execution_count": null,
   "metadata": {},
   "outputs": [],
   "source": []
  },
  {
   "cell_type": "code",
   "execution_count": null,
   "metadata": {},
   "outputs": [],
   "source": []
  },
  {
   "cell_type": "code",
   "execution_count": null,
   "metadata": {},
   "outputs": [],
   "source": []
  },
  {
   "cell_type": "code",
   "execution_count": null,
   "metadata": {},
   "outputs": [],
   "source": []
  },
  {
   "cell_type": "code",
   "execution_count": null,
   "metadata": {},
   "outputs": [],
   "source": []
  }
 ],
 "metadata": {
  "kernelspec": {
   "display_name": "Python 3",
   "language": "python",
   "name": "python3"
  },
  "language_info": {
   "codemirror_mode": {
    "name": "ipython",
    "version": 3
   },
   "file_extension": ".py",
   "mimetype": "text/x-python",
   "name": "python",
   "nbconvert_exporter": "python",
   "pygments_lexer": "ipython3",
   "version": "3.8.3"
  }
 },
 "nbformat": 4,
 "nbformat_minor": 4
}
