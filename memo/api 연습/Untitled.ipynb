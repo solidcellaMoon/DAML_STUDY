{
 "cells": [
  {
   "cell_type": "code",
   "execution_count": 3,
   "metadata": {},
   "outputs": [
    {
     "name": "stdout",
     "output_type": "stream",
     "text": [
      "{\"data\":{\"languages\":[{\"language\":\"af\"},{\"language\":\"am\"},{\"language\":\"ar\"},{\"language\":\"az\"},{\"language\":\"be\"},{\"language\":\"bg\"},{\"language\":\"bn\"},{\"language\":\"bs\"},{\"language\":\"ca\"},{\"language\":\"ceb\"},{\"language\":\"co\"},{\"language\":\"cs\"},{\"language\":\"cy\"},{\"language\":\"da\"},{\"language\":\"de\"},{\"language\":\"el\"},{\"language\":\"en\"},{\"language\":\"eo\"},{\"language\":\"es\"},{\"language\":\"et\"},{\"language\":\"eu\"},{\"language\":\"fa\"},{\"language\":\"fi\"},{\"language\":\"fr\"},{\"language\":\"fy\"},{\"language\":\"ga\"},{\"language\":\"gd\"},{\"language\":\"gl\"},{\"language\":\"gu\"},{\"language\":\"ha\"},{\"language\":\"haw\"},{\"language\":\"he\"},{\"language\":\"hi\"},{\"language\":\"hmn\"},{\"language\":\"hr\"},{\"language\":\"ht\"},{\"language\":\"hu\"},{\"language\":\"hy\"},{\"language\":\"id\"},{\"language\":\"ig\"},{\"language\":\"is\"},{\"language\":\"it\"},{\"language\":\"iw\"},{\"language\":\"ja\"},{\"language\":\"jw\"},{\"language\":\"ka\"},{\"language\":\"kk\"},{\"language\":\"km\"},{\"language\":\"kn\"},{\"language\":\"ko\"},{\"language\":\"ku\"},{\"language\":\"ky\"},{\"language\":\"la\"},{\"language\":\"lb\"},{\"language\":\"lo\"},{\"language\":\"lt\"},{\"language\":\"lv\"},{\"language\":\"mg\"},{\"language\":\"mi\"},{\"language\":\"mk\"},{\"language\":\"ml\"},{\"language\":\"mn\"},{\"language\":\"mr\"},{\"language\":\"ms\"},{\"language\":\"mt\"},{\"language\":\"my\"},{\"language\":\"ne\"},{\"language\":\"nl\"},{\"language\":\"no\"},{\"language\":\"ny\"},{\"language\":\"or\"},{\"language\":\"pa\"},{\"language\":\"pl\"},{\"language\":\"ps\"},{\"language\":\"pt\"},{\"language\":\"ro\"},{\"language\":\"ru\"},{\"language\":\"rw\"},{\"language\":\"sd\"},{\"language\":\"si\"},{\"language\":\"sk\"},{\"language\":\"sl\"},{\"language\":\"sm\"},{\"language\":\"sn\"},{\"language\":\"so\"},{\"language\":\"sq\"},{\"language\":\"sr\"},{\"language\":\"st\"},{\"language\":\"su\"},{\"language\":\"sv\"},{\"language\":\"sw\"},{\"language\":\"ta\"},{\"language\":\"te\"},{\"language\":\"tg\"},{\"language\":\"th\"},{\"language\":\"tk\"},{\"language\":\"tl\"},{\"language\":\"tr\"},{\"language\":\"tt\"},{\"language\":\"ug\"},{\"language\":\"uk\"},{\"language\":\"ur\"},{\"language\":\"uz\"},{\"language\":\"vi\"},{\"language\":\"xh\"},{\"language\":\"yi\"},{\"language\":\"yo\"},{\"language\":\"zh\"},{\"language\":\"zh-CN\"},{\"language\":\"zh-TW\"},{\"language\":\"zu\"}]}}\n"
     ]
    }
   ],
   "source": [
    "import http.client\n",
    "\n",
    "conn = http.client.HTTPSConnection(\"google-translate1.p.rapidapi.com\")\n",
    "\n",
    "headers = {\n",
    "    'x-rapidapi-host': \"google-translate1.p.rapidapi.com\",\n",
    "    'x-rapidapi-key': \"faa885837fmsha53fec9fd5b1675p1e7f04jsnb9ea03868a28\",\n",
    "    'accept-encoding': \"application/gzip\"\n",
    "    }\n",
    "\n",
    "conn.request(\"GET\", \"/language/translate/v2/languages\", headers=headers)\n",
    "\n",
    "res = conn.getresponse()\n",
    "data = res.read()\n",
    "\n",
    "print(data.decode(\"utf-8\"))"
   ]
  }
 ],
 "metadata": {
  "kernelspec": {
   "display_name": "Python 3",
   "language": "python",
   "name": "python3"
  },
  "language_info": {
   "codemirror_mode": {
    "name": "ipython",
    "version": 3
   },
   "file_extension": ".py",
   "mimetype": "text/x-python",
   "name": "python",
   "nbconvert_exporter": "python",
   "pygments_lexer": "ipython3",
   "version": "3.8.3"
  }
 },
 "nbformat": 4,
 "nbformat_minor": 4
}
