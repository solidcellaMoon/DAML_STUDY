{
 "cells": [
  {
   "cell_type": "code",
   "execution_count": null,
   "metadata": {},
   "outputs": [],
   "source": [
    "print('컴퓨터공학과 문지현 1771093')"
   ]
  },
  {
   "cell_type": "markdown",
   "metadata": {},
   "source": [
    "## 경사 하강법 구현"
   ]
  },
  {
   "cell_type": "code",
   "execution_count": 1,
   "metadata": {},
   "outputs": [
    {
     "name": "stdout",
     "output_type": "stream",
     "text": [
      "1.2532418085611319 2.745502230882486\n"
     ]
    },
    {
     "data": {
      "image/png": "[encoded data removed]",
      "text/plain": [
       "<Figure size 432x288 with 1 Axes>"
      ]
     },
     "metadata": {
      "needs_background": "light"
     },
     "output_type": "display_data"
    }
   ],
   "source": [
    "import numpy as np\n",
    "import matplotlib.pyplot as plt\n",
    "\n",
    "X = np.array([0.0, 1.0, 2.0])\n",
    "y = np.array([3.0, 3.5, 5.5])\n",
    "\n",
    "W = 0 # 기울기\n",
    "b = 0 # 절편\n",
    "lrate = 0.01 # 학습률\n",
    "epochs = 1000 # 반복 횟수\n",
    "n = float(len(X)) # 입력 데이터의 개수\n",
    "\n",
    "# 경사 하강법\n",
    "\n",
    "for i in range(epochs):\n",
    "    y_pred = W*X + b # 예측값\n",
    "    dW = (2/n) * sum(X * (y_pred-y))\n",
    "    db = (2/n) * sum(y_pred-y)\n",
    "    W = W - lrate * dW # 기울기 수정\n",
    "    b = b - lrate * db # 절편 수정\n",
    "    \n",
    "# 기울기와 절편을 출력한다.\n",
    "print (W, b)\n",
    "\n",
    "# 예측값을 만든다.\n",
    "y_pred = W*X + b\n",
    "\n",
    "# 입력 데이터를 그래프 상에 찍는다.\n",
    "plt.scatter(X, y)\n",
    "\n",
    "# 예측값은 선그래프로 그린다.\n",
    "plt.plot([min(X), max(X)], [min(y_pred), max(y_pred)], color='red')\n",
    "plt.show()"
   ]
  },
  {
   "cell_type": "markdown",
   "metadata": {},
   "source": [
    "## 선형 회귀 예제 1"
   ]
  },
  {
   "cell_type": "code",
   "execution_count": 2,
   "metadata": {},
   "outputs": [
    {
     "name": "stdout",
     "output_type": "stream",
     "text": [
      "[1.25]\n",
      "2.7500000000000004\n",
      "0.8928571428571429\n",
      "[9.]\n"
     ]
    }
   ],
   "source": [
    "import matplotlib.pylab as plt\n",
    "from sklearn import linear_model\n",
    "\n",
    "# 선형 회귀 모델을 생성한다.\n",
    "reg = linear_model.LinearRegression()\n",
    "\n",
    "# 데이터는 파이썬의 리스트로 만들어도 되고 아니면 넘파이의 배열로 만들어도 됨\n",
    "X = [[0], [1], [2]] # 2차원으로 만들어야 함\n",
    "y = [3, 3.5, 5.5] # y = x + 3\n",
    "\n",
    "# 학습을 시킨다.\n",
    "reg.fit(X, y)\n",
    "\n",
    "print(reg.coef_) # 직선의 기울기\n",
    "print(reg.intercept_) # 직선의 y-절편\n",
    "print(reg.score(X, y))\n",
    "print(reg.predict([[5]]))\n",
    "\n",
    "# 그래프! ----\n",
    "# 학습 데이터와 y 값을 산포도로 그린다.\n",
    "plt.scatter(X, y, color='black')\n",
    "# 학습 데이터를 입력으로 하여 예측값을 계산한다.\n",
    "y_pred = reg.predict(X)\n",
    "# 학습 데이터와 예측값으로 선그래프로 그린다.\n",
    "# 계산된 기울기와 y 절편을 가지는 직선이 그려진다.\n",
    "plt.plot(X, y_pred, color='blue', linewidth=3)\n",
    "plt.show()\n",
    "\n",
    "\n"
   ]
  },
  {
   "cell_type": "markdown",
   "metadata": {},
   "source": [
    "## 선형 회귀 실습2\n",
    "### 키와 몸무게 데이터 활용"
   ]
  },
  {
   "cell_type": "code",
   "execution_count": 3,
   "metadata": {},
   "outputs": [
    {
     "name": "stdout",
     "output_type": "stream",
     "text": [
      "[67.30998637]\n"
     ]
    },
    {
     "data": {
      "image/png": "[encoded data removed]",
      "text/plain": [
       "<Figure size 432x288 with 1 Axes>"
      ]
     },
     "metadata": {
      "needs_background": "light"
     },
     "output_type": "display_data"
    }
   ],
   "source": [
    "import matplotlib.pylab as plt\n",
    "from sklearn import linear_model\n",
    "\n",
    "reg = linear_model.LinearRegression()\n",
    "\n",
    "X = [[174], [152], [138], [128], [186]]\n",
    "y = [71, 55, 46, 38, 88]\n",
    "\n",
    "reg.fit(X, y) # 학습\n",
    "\n",
    "print(reg.predict([[165]]))\n",
    "\n",
    "# 학습 데이터와 y 값을 산포도로 그린다.\n",
    "plt.scatter(X, y, color='black')\n",
    "\n",
    "# 학습 데이터를 입력으로 하여 예측값을 계산한다.\n",
    "y_pred = reg.predict(X)\n",
    "\n",
    "# 학습 데이터와 예측값으로 선그래프로 그린다.\n",
    "# 계산된 기울기와 y 절편을 가지는 직선이 그려진다.\n",
    "plt.plot(X, y_pred, color='blue', linewidth=3)\n",
    "plt.show()"
   ]
  },
  {
   "cell_type": "markdown",
   "metadata": {},
   "source": [
    "## 선형 회귀 실습3\n",
    "### 당뇨병 데이터 활용\n",
    "\n",
    "sklearn 라이브러리에는 당뇨병 환자들의 데이터가 기본적으로 포함\n",
    "되어 있다"
   ]
  },
  {
   "cell_type": "code",
   "execution_count": 4,
   "metadata": {},
   "outputs": [
    {
     "data": {
      "image/png": "[encoded data removed]",
      "text/plain": [
       "<Figure size 432x288 with 1 Axes>"
      ]
     },
     "metadata": {
      "needs_background": "light"
     },
     "output_type": "display_data"
    }
   ],
   "source": [
    "import matplotlib.pylab as plt\n",
    "import numpy as np\n",
    "from sklearn.linear_model import LinearRegression\n",
    "from sklearn import datasets\n",
    "\n",
    "# 당뇨병 데이터 세트를 적재한다.\n",
    "diabetes = datasets.load_diabetes()\n",
    "\n",
    "# 학습 데이터와 테스트 데이터를 분리한다.\n",
    "from sklearn.model_selection import train_test_split\n",
    "X_train, X_test, y_train, y_test = train_test_split(diabetes.data, diabetes.target,\n",
    "test_size=0.2, random_state=0)\n",
    "\n",
    "#선형 회귀 모델로 학습을 수행한다.\n",
    "model = LinearRegression()\n",
    "model.fit(X_train, y_train)\n",
    "\n",
    "# 테스트 데이터로 예측해보자.\n",
    "y_pred = model.predict(X_test)\n",
    "\n",
    "# 실제 데이터와 예측 데이터를 비교해보자.\n",
    "plt.plot(y_test, y_pred, '.')\n",
    "\n",
    "# 직선을 그리기 위하여 완벽한 선형 데이터를 생성한다.\n",
    "x = np.linspace(0, 330, 100)\n",
    "y = x\n",
    "plt.plot(x, y)\n",
    "plt.show()"
   ]
  },
  {
   "cell_type": "markdown",
   "metadata": {},
   "source": [
    "## 선형 회귀 실습4\n",
    "### 면적에 따른 집값 예측\n",
    "\n",
    "사용자가 아파트 면적을 입력하면, 아파트의 가격이 출력되는 시스템을 만들어보자.\n",
    "\n",
    "아파트 면적과 가격은 모두 실수이므로 기계 학습의\n",
    "방법 중에서 선형 회귀를 사용하여야 한다."
   ]
  },
  {
   "cell_type": "code",
   "execution_count": 5,
   "metadata": {},
   "outputs": [
    {
     "ename": "ModuleNotFoundError",
     "evalue": "No module named 'google.colab'",
     "output_type": "error",
     "traceback": [
      "\u001b[1;31m---------------------------------------------------------------------------\u001b[0m",
      "\u001b[1;31mModuleNotFoundError\u001b[0m                       Traceback (most recent call last)",
      "\u001b[1;32m<ipython-input-5-7e6c59f3c0c0>\u001b[0m in \u001b[0;36m<module>\u001b[1;34m\u001b[0m\n\u001b[0;32m      3\u001b[0m \u001b[1;32mimport\u001b[0m \u001b[0msklearn\u001b[0m\u001b[1;33m\u001b[0m\u001b[1;33m\u001b[0m\u001b[0m\n\u001b[0;32m      4\u001b[0m \u001b[1;32mimport\u001b[0m \u001b[0mnumpy\u001b[0m \u001b[1;32mas\u001b[0m \u001b[0mnp\u001b[0m\u001b[1;33m\u001b[0m\u001b[1;33m\u001b[0m\u001b[0m\n\u001b[1;32m----> 5\u001b[1;33m \u001b[1;32mfrom\u001b[0m \u001b[0mgoogle\u001b[0m\u001b[1;33m.\u001b[0m\u001b[0mcolab\u001b[0m \u001b[1;32mimport\u001b[0m \u001b[0mfiles\u001b[0m\u001b[1;33m\u001b[0m\u001b[1;33m\u001b[0m\u001b[0m\n\u001b[0m\u001b[0;32m      6\u001b[0m \u001b[1;33m\u001b[0m\u001b[0m\n\u001b[0;32m      7\u001b[0m \u001b[0mfiles\u001b[0m\u001b[1;33m.\u001b[0m\u001b[0mupload\u001b[0m\u001b[1;33m(\u001b[0m\u001b[1;33m)\u001b[0m\u001b[1;33m\u001b[0m\u001b[1;33m\u001b[0m\u001b[0m\n",
      "\u001b[1;31mModuleNotFoundError\u001b[0m: No module named 'google.colab'"
     ]
    }
   ],
   "source": [
    "import pandas as pd\n",
    "import matplotlib\n",
    "import sklearn\n",
    "import numpy as np\n",
    "from google.colab import files\n",
    "\n",
    "files.upload()\n",
    "\n",
    "#df = pd.read_csv(\"real_estate1.csv\", parse_dates =[\"date\"], index_col =\"date\")\n",
    "df = pd.read_csv(\"data.csv\")\n",
    "\n",
    "print(df)\n",
    "\n",
    "X = np.array(df[\"Area\"])\n",
    "X= X.reshape(len(X),1)\n",
    "\n",
    "print(X)\n",
    "\n",
    "y = np.array(df[\"Price\"])\n",
    "\n",
    "print(y)\n"
   ]
  },
  {
   "cell_type": "code",
   "execution_count": null,
   "metadata": {},
   "outputs": [],
   "source": []
  },
  {
   "cell_type": "code",
   "execution_count": null,
   "metadata": {},
   "outputs": [],
   "source": []
  },
  {
   "cell_type": "code",
   "execution_count": null,
   "metadata": {},
   "outputs": [],
   "source": []
  },
  {
   "cell_type": "code",
   "execution_count": null,
   "metadata": {},
   "outputs": [],
   "source": []
  },
  {
   "cell_type": "code",
   "execution_count": null,
   "metadata": {},
   "outputs": [],
   "source": []
  }
 ],
 "metadata": {
  "kernelspec": {
   "display_name": "Python 3",
   "language": "python",
   "name": "python3"
  },
  "language_info": {
   "codemirror_mode": {
    "name": "ipython",
    "version": 3
   },
   "file_extension": ".py",
   "mimetype": "text/x-python",
   "name": "python",
   "nbconvert_exporter": "python",
   "pygments_lexer": "ipython3",
   "version": "3.8.3"
  }
 },
 "nbformat": 4,
 "nbformat_minor": 4
}
