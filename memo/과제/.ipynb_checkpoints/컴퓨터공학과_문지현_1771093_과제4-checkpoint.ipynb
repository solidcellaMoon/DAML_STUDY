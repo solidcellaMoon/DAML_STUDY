{
 "cells": [
  {
   "cell_type": "code",
   "execution_count": 1,
   "metadata": {},
   "outputs": [
    {
     "name": "stdout",
     "output_type": "stream",
     "text": [
      "컴퓨터공학과 문지현 1771093\n"
     ]
    }
   ],
   "source": [
    "print('컴퓨터공학과 문지현 1771093')"
   ]
  },
  {
   "cell_type": "markdown",
   "metadata": {},
   "source": [
    "### 1. 리스트 vs 넘파이"
   ]
  },
  {
   "cell_type": "code",
   "execution_count": 2,
   "metadata": {},
   "outputs": [
    {
     "name": "stdout",
     "output_type": "stream",
     "text": [
      "[10, 20, 30, 70, 80, 90]\n",
      "[ 80 100 120]\n",
      "[10. 20. 30.]\n",
      "[70. 80. 90.]\n",
      "[ 80. 100. 120.]\n"
     ]
    }
   ],
   "source": [
    "mid_scores = [10, 20, 30]\n",
    "final_scores = [70, 80, 90]\n",
    "\n",
    "total = (mid_scores + final_scores)\n",
    "print(total)\n",
    "\n",
    "\n",
    "import numpy as np\n",
    "\n",
    "mid_scores = np.array([10, 20, 30])\n",
    "final_scores = np.array([70, 80, 90])\n",
    "\n",
    "total = (mid_scores + final_scores)\n",
    "print(total)\n",
    "\n",
    "mid_scores = np.array([10, 20, 30], dtype = float)\n",
    "final_scores = np.array([70, 80, 90], dtype = float)\n",
    "print(mid_scores)\n",
    "print(final_scores)\n",
    "\n",
    "total = mid_scores + final_scores\n",
    "print(total)"
   ]
  },
  {
   "cell_type": "markdown",
   "metadata": {},
   "source": [
    "### 2. BMI 계산"
   ]
  },
  {
   "cell_type": "code",
   "execution_count": 3,
   "metadata": {},
   "outputs": [
    {
     "data": {
      "text/plain": [
       "array([25.68007405, 23.88946281, 20.65754   , 27.45982194, 25.53544639,\n",
       "       22.72043837])"
      ]
     },
     "execution_count": 3,
     "metadata": {},
     "output_type": "execute_result"
    }
   ],
   "source": [
    "import numpy as np\n",
    "\n",
    "heights = [ 1.83, 1.76, 1.69, 1.86, 1.77, 1.73 ]\n",
    "weights = [ 86, 74, 59, 95, 80, 68 ]\n",
    "\n",
    "np_heights = np.array(heights)\n",
    "np_weights = np.array(weights)\n",
    "\n",
    "bmi = np_weights/(np_heights**2)\n",
    "bmi\n"
   ]
  },
  {
   "cell_type": "markdown",
   "metadata": {},
   "source": [
    "### 3. 배열의 일부 선택하기 (인덱싱/슬라이싱)\n",
    "\n",
    "* 인덱싱: 인덱스를 사용해서 배열의 요소에 접근\n",
    "* 슬라이싱: 범위를 지정해 선택해서 객체들을 가져온다\n"
   ]
  },
  {
   "cell_type": "code",
   "execution_count": 4,
   "metadata": {},
   "outputs": [
    {
     "name": "stdout",
     "output_type": "stream",
     "text": [
      "93\n",
      "94\n",
      "[72, 93, 94]\n",
      "[72, 93]\n",
      "[88, 72, 93]\n",
      "['a', 'c', 'e']\n",
      "['e', 'd', 'c', 'b', 'a']\n",
      "b [ 0  1  2  3  4  5  6  7  8  9 10]\n",
      "b_idx [0 1 2 3 4]\n",
      "[10 10 10  3  4]\n",
      "[10 10 10  3  4  5  6  7  8  9 10]\n"
     ]
    }
   ],
   "source": [
    "grades=[88, 72, 93, 94]\n",
    "\n",
    "#인덱싱\n",
    "print(grades[2])\n",
    "print(grades[-1])\n",
    "\n",
    "#슬라이싱\n",
    "#특정 시작위치부터 끝가지 가져오기\n",
    "print(grades[1:])\n",
    "#특정 위치부터 특정 위치까지 모두 가져오기\n",
    "print(grades[1:3])\n",
    "#시작점부터 특정 위치까지 모두 가져오기\n",
    "print(grades[:3])\n",
    "#step 예제\n",
    "a = ['a','b','c','d','e']\n",
    "#2칸씩 이동하며 가져옴\n",
    "print(a[ : : 2])\n",
    "#전체를 거꾸로 가져옴\n",
    "print(a[ : : -1])\n",
    "\n",
    "#array slices are views of the original array and are not a copy!\n",
    "b = np.array([0,1,2,3,4,5,6,7,8,9,10])\n",
    "print(\"b\",b)\n",
    "\n",
    "b_idx = b[0:5]\n",
    "print(\"b_idx\",b_idx)\n",
    "\n",
    "#Assigning(Broadcasting) a scalar to a slice of 10 array\n",
    "b_idx[0:3] = 10\n",
    "print(b_idx)\n",
    "\n",
    "#compare this 'b' with the original array 'b' above, it's different!!!\n",
    "print(b)\n"
   ]
  },
  {
   "cell_type": "markdown",
   "metadata": {},
   "source": [
    "### 4. 논리적 인덱싱"
   ]
  },
  {
   "cell_type": "code",
   "execution_count": 5,
   "metadata": {
    "scrolled": true
   },
   "outputs": [
    {
     "name": "stdout",
     "output_type": "stream",
     "text": [
      "[False False  True  True  True]\n",
      "[25 30 28]\n"
     ]
    }
   ],
   "source": [
    "ages = np.array([18, 19, 25, 30, 28])\n",
    "y = ages > 20\n",
    "print(y)\n",
    "print(ages[ ages > 20 ])"
   ]
  },
  {
   "cell_type": "markdown",
   "metadata": {},
   "source": [
    "#### BMI가 20 이상인 사람 출력하기"
   ]
  },
  {
   "cell_type": "code",
   "execution_count": 6,
   "metadata": {},
   "outputs": [
    {
     "name": "stdout",
     "output_type": "stream",
     "text": [
      "[25.68007405 23.88946281 20.65754    27.45982194 25.53544639 22.72043837]\n"
     ]
    }
   ],
   "source": [
    "import numpy as np\n",
    "\n",
    "heights = [ 1.83, 1.76, 1.69, 1.86, 1.77, 1.73 ]\n",
    "weights = [ 86, 74, 59, 95, 80, 68 ]\n",
    "\n",
    "np_heights = np.array(heights)\n",
    "np_weights = np.array(weights)\n",
    "\n",
    "bmi = np_weights/(np_heights**2)\n",
    "\n",
    "print(bmi[bmi > 20])"
   ]
  },
  {
   "cell_type": "markdown",
   "metadata": {},
   "source": [
    "### 5. 2차원 배열"
   ]
  },
  {
   "cell_type": "code",
   "execution_count": 7,
   "metadata": {},
   "outputs": [
    {
     "name": "stdout",
     "output_type": "stream",
     "text": [
      "[[1, 2, 3], [4, 5, 6], [7, 8, 9]]\n",
      "[[1 2 3]\n",
      " [4 5 6]\n",
      " [7 8 9]]\n"
     ]
    }
   ],
   "source": [
    "import numpy as np\n",
    "\n",
    "y = [[1,2,3], [4,5,6], [7,8,9]]\n",
    "print(y)\n",
    "\n",
    "ny = np.array(y)\n",
    "print(ny)"
   ]
  },
  {
   "cell_type": "markdown",
   "metadata": {},
   "source": [
    "#### 2차원 배열에서 인덱스"
   ]
  },
  {
   "cell_type": "code",
   "execution_count": 8,
   "metadata": {},
   "outputs": [
    {
     "data": {
      "text/plain": [
       "3"
      ]
     },
     "execution_count": 8,
     "metadata": {},
     "output_type": "execute_result"
    }
   ],
   "source": [
    "ny[0][2]"
   ]
  },
  {
   "cell_type": "markdown",
   "metadata": {},
   "source": [
    "### 6.  arange() 함수,  linspace() 함수, reshape() 함수"
   ]
  },
  {
   "cell_type": "code",
   "execution_count": 9,
   "metadata": {},
   "outputs": [
    {
     "name": "stdout",
     "output_type": "stream",
     "text": [
      "[0 1 2 3 4]\n",
      "[1 2 3 4 5]\n",
      "[1 3 5 7 9]\n"
     ]
    }
   ],
   "source": [
    "import numpy as np\n",
    "\n",
    "#arange()\n",
    "print(np.arange(5))\n",
    "print(np.arange(1, 6))\n",
    "print(np.arange(1, 10, 2))"
   ]
  },
  {
   "cell_type": "code",
   "execution_count": 10,
   "metadata": {},
   "outputs": [
    {
     "name": "stdout",
     "output_type": "stream",
     "text": [
      "[ 0.          0.1010101   0.2020202   0.3030303   0.4040404   0.50505051\n",
      "  0.60606061  0.70707071  0.80808081  0.90909091  1.01010101  1.11111111\n",
      "  1.21212121  1.31313131  1.41414141  1.51515152  1.61616162  1.71717172\n",
      "  1.81818182  1.91919192  2.02020202  2.12121212  2.22222222  2.32323232\n",
      "  2.42424242  2.52525253  2.62626263  2.72727273  2.82828283  2.92929293\n",
      "  3.03030303  3.13131313  3.23232323  3.33333333  3.43434343  3.53535354\n",
      "  3.63636364  3.73737374  3.83838384  3.93939394  4.04040404  4.14141414\n",
      "  4.24242424  4.34343434  4.44444444  4.54545455  4.64646465  4.74747475\n",
      "  4.84848485  4.94949495  5.05050505  5.15151515  5.25252525  5.35353535\n",
      "  5.45454545  5.55555556  5.65656566  5.75757576  5.85858586  5.95959596\n",
      "  6.06060606  6.16161616  6.26262626  6.36363636  6.46464646  6.56565657\n",
      "  6.66666667  6.76767677  6.86868687  6.96969697  7.07070707  7.17171717\n",
      "  7.27272727  7.37373737  7.47474747  7.57575758  7.67676768  7.77777778\n",
      "  7.87878788  7.97979798  8.08080808  8.18181818  8.28282828  8.38383838\n",
      "  8.48484848  8.58585859  8.68686869  8.78787879  8.88888889  8.98989899\n",
      "  9.09090909  9.19191919  9.29292929  9.39393939  9.49494949  9.5959596\n",
      "  9.6969697   9.7979798   9.8989899  10.        ]\n",
      "[1.00000000e+00 3.59381366e+00 1.29154967e+01 4.64158883e+01\n",
      " 1.66810054e+02 5.99484250e+02 2.15443469e+03 7.74263683e+03\n",
      " 2.78255940e+04 1.00000000e+05]\n"
     ]
    }
   ],
   "source": [
    "#linspace()\n",
    "print(np.linspace(0, 10, 100))\n",
    "print(np.logspace(0, 5, 10))"
   ]
  },
  {
   "cell_type": "code",
   "execution_count": 11,
   "metadata": {},
   "outputs": [
    {
     "name": "stdout",
     "output_type": "stream",
     "text": [
      "[[ 0  1  2  3]\n",
      " [ 4  5  6  7]\n",
      " [ 8  9 10 11]]\n",
      "\n",
      "[[ 0  1]\n",
      " [ 2  3]\n",
      " [ 4  5]\n",
      " [ 6  7]\n",
      " [ 8  9]\n",
      " [10 11]]\n"
     ]
    }
   ],
   "source": [
    "#reshape()\n",
    "y = np.arange(12)\n",
    "\n",
    "print(y.reshape(3, 4))\n",
    "print()\n",
    "print(y.reshape(6, -1) )"
   ]
  },
  {
   "cell_type": "markdown",
   "metadata": {},
   "source": [
    "### 7. 난수 생성"
   ]
  },
  {
   "cell_type": "code",
   "execution_count": 12,
   "metadata": {},
   "outputs": [
    {
     "name": "stdout",
     "output_type": "stream",
     "text": [
      "[0.54340494 0.27836939 0.42451759 0.84477613 0.00471886]\n",
      "[[0.12156912 0.67074908 0.82585276]\n",
      " [0.13670659 0.57509333 0.89132195]\n",
      " [0.20920212 0.18532822 0.10837689]\n",
      " [0.21969749 0.97862378 0.81168315]\n",
      " [0.17194101 0.81622475 0.27407375]]\n",
      "[14.31704184 19.4002982  18.17649379 13.3611195  11.75410454]\n",
      "[4 1 3 2 2 4 3 6 4 1]\n",
      "[[ 2  1  8  7  3  1  9]\n",
      " [ 3  6  2  9  2  6  5]\n",
      " [ 3  9  4  6  1 10  4]\n",
      " [ 7  4  5  8  7  4 10]]\n"
     ]
    }
   ],
   "source": [
    "np.random.seed(100)\n",
    "\n",
    "print(np.random.rand(5))\n",
    "\n",
    "print(np.random.rand(5, 3))\n",
    "\n",
    "# 10~20사이의 값 난수 5개 생성\n",
    "a = 10; b= 20\n",
    "r = (b-a)*np.random.rand(5)+a\n",
    "print(r)\n",
    "\n",
    "# 1~6 사이의 정수 난수 생성\n",
    "print(np.random.randint(1,7, size=10))\n",
    "\n",
    "# 1~10 사이의 정수 난수 , 4X7인 2차원 배열\n",
    "print(np.random.randint(1,11, size=(4,7)))"
   ]
  },
  {
   "cell_type": "markdown",
   "metadata": {},
   "source": [
    "#### 정규 분포 난수 생성"
   ]
  },
  {
   "cell_type": "code",
   "execution_count": 13,
   "metadata": {},
   "outputs": [
    {
     "name": "stdout",
     "output_type": "stream",
     "text": [
      "[-1.02933685 -0.51099219 -2.36027053  0.10359513  1.73881773]\n",
      "[[ 1.24187584  0.13241276  0.57779396 -1.57590571]\n",
      " [-1.29279424 -0.65991979 -0.87400478 -0.68955061]\n",
      " [-0.53547985  1.52795302  0.64720579 -0.67733661]\n",
      " [-0.2650188   0.74610644 -3.13078483  0.05962178]\n",
      " [-0.87521111  1.06487833 -0.57315265 -0.80327849]]\n",
      "\n",
      "[12.18594325 11.30255516 14.32104958  8.72173986  9.33262494]\n"
     ]
    }
   ],
   "source": [
    "print(np.random.randn(5))\n",
    "\n",
    "print(np.random.randn(5, 4))\n",
    "\n",
    "print()\n",
    "# 평균값이 10이고 표준편차가 2인 정규 분포에서 난수 생성\n",
    "m = 10; sigma = 2\n",
    "print(m + sigma*np.random.randn(5))"
   ]
  },
  {
   "cell_type": "markdown",
   "metadata": {},
   "source": [
    "### 8. Lab: 정규 분포 그래프 그리기"
   ]
  },
  {
   "cell_type": "code",
   "execution_count": 14,
   "metadata": {},
   "outputs": [
    {
     "data": {
      "image/png": "[encoded data removed]",
      "text/plain": [
       "<Figure size 720x432 with 1 Axes>"
      ]
     },
     "metadata": {
      "needs_background": "light"
     },
     "output_type": "display_data"
    }
   ],
   "source": [
    "import numpy as np\n",
    "import matplotlib.pyplot as plt\n",
    "\n",
    "m = 10; sigma = 2\n",
    "\n",
    "x1 = np.random.randn(10000)\n",
    "x2 = m+sigma*np.random.randn(10000)\n",
    "\n",
    "plt.figure(figsize=(10,6))\n",
    "plt.hist(x1, bins=20, alpha=0.4) # 20개의 상자를 이용하여 히스토그램 계산\n",
    "plt.hist(x2, bins=20, alpha=0.4)\n",
    "plt.show()"
   ]
  }
 ],
 "metadata": {
  "kernelspec": {
   "display_name": "Python 3",
   "language": "python",
   "name": "python3"
  },
  "language_info": {
   "codemirror_mode": {
    "name": "ipython",
    "version": 3
   },
   "file_extension": ".py",
   "mimetype": "text/x-python",
   "name": "python",
   "nbconvert_exporter": "python",
   "pygments_lexer": "ipython3",
   "version": "3.8.3"
  }
 },
 "nbformat": 4,
 "nbformat_minor": 4
}
