{
 "cells": [
  {
   "cell_type": "markdown",
   "metadata": {},
   "source": [
    "## 2. 가운데를 말해요\n",
    "https://www.acmicpc.net/problem/1655"
   ]
  },
  {
   "cell_type": "markdown",
   "metadata": {},
   "source": [
    "# 최대최소 힙\n",
    "pypy3으로...\n",
    "\n",
    "흑...흑....\n",
    "\n",
    "https://claude-u.tistory.com/155\n"
   ]
  },
  {
   "cell_type": "code",
   "execution_count": null,
   "metadata": {},
   "outputs": [],
   "source": []
  },
  {
   "cell_type": "markdown",
   "metadata": {},
   "source": [
    "# bisect\n",
    "https://jjangsungwon.tistory.com/58\n",
    "\n",
    "왜 안돼!!! ㅠㅠㅠ"
   ]
  },
  {
   "cell_type": "code",
   "execution_count": 86,
   "metadata": {},
   "outputs": [
    {
     "name": "stdout",
     "output_type": "stream",
     "text": [
      "7\n",
      "1\n",
      "5\n",
      "2\n",
      "10\n",
      "-99\n",
      "7\n",
      "5\n"
     ]
    },
    {
     "data": {
      "text/plain": [
       "[1, 2, 2, 2, 2, 5]"
      ]
     },
     "execution_count": 86,
     "metadata": {},
     "output_type": "execute_result"
    }
   ],
   "source": [
    "from bisect import bisect_left\n",
    "\n",
    "n = int(input())\n",
    "\n",
    "#말하는 번호 순서 저장\n",
    "inputs = []\n",
    "\n",
    "#정답 출력용 리스트\n",
    "answer = []\n",
    "\n",
    "lens = 1\n",
    "\n",
    "#첫 번째 숫자 입력\n",
    "inputs.append(int(input()))\n",
    "\n",
    "for _ in range(n-1):\n",
    "    num = int(input())\n",
    "    idx = bisect_left(inputs,num)\n",
    "    inputs.insert(idx,num)\n",
    "    \n",
    "    lens += 1\n",
    "    \n",
    "    if lens % 2 == 0:\n",
    "        answer.append(inputs[lens//2 - 1])\n",
    "        #print(inputs[len(inputs)//2 - 1])\n",
    "    else:\n",
    "        answer.append(inputs[lens//2])\n",
    "        #print(inputs[len(inputs)//2])\n",
    "        \n",
    "answer"
   ]
  },
  {
   "cell_type": "markdown",
   "metadata": {},
   "source": [
    "# 파이썬의 이진탐색 모듈"
   ]
  },
  {
   "cell_type": "markdown",
   "metadata": {},
   "source": [
    "학점 예제: https://m.blog.naver.com/PostView.nhn?blogId=wideeyed&logNo=221389084876&proxyReferer=https:%2F%2Fwww.google.com%2F"
   ]
  },
  {
   "cell_type": "code",
   "execution_count": 84,
   "metadata": {
    "scrolled": true
   },
   "outputs": [
    {
     "name": "stdout",
     "output_type": "stream",
     "text": [
      "===== bisect_right =====\n",
      "95점은?: b\n",
      "97점은?: b\n",
      "100점은?: a\n",
      "60점은?: d\n",
      "30점은?: f\n",
      "75점은?: c\n",
      "70점은?: c\n",
      "===== bisect_left =====\n",
      "95점은?: b\n",
      "97점은?: b\n",
      "100점은?: b\n",
      "60점은?: d\n",
      "30점은?: f\n",
      "75점은?: c\n",
      "70점은?: d\n"
     ]
    }
   ],
   "source": [
    "import bisect\n",
    "\n",
    "arr = [50,70,90,100]\n",
    "score = ['f','d','c','b','a']\n",
    "\n",
    "print('='*5,'bisect_right','='*5)\n",
    "print('95점은?:',score[bisect.bisect_right(arr,95)])\n",
    "print('97점은?:',score[bisect.bisect_right(arr,97)])\n",
    "print('100점은?:',score[bisect.bisect_right(arr,100)])\n",
    "print('60점은?:',score[bisect.bisect_right(arr,60)])\n",
    "print('30점은?:',score[bisect.bisect_right(arr,30)])\n",
    "print('75점은?:',score[bisect.bisect_right(arr,75)])\n",
    "print('70점은?:',score[bisect.bisect_right(arr,70)])\n",
    "\n",
    "print('='*5,'bisect_left','='*5)\n",
    "print('95점은?:',score[bisect.bisect_left(arr,95)])\n",
    "print('97점은?:',score[bisect.bisect_left(arr,97)])\n",
    "print('100점은?:',score[bisect.bisect_left(arr,100)])\n",
    "print('60점은?:',score[bisect.bisect_left(arr,60)])\n",
    "print('30점은?:',score[bisect.bisect_left(arr,30)])\n",
    "print('75점은?:',score[bisect.bisect_left(arr,75)])\n",
    "print('70점은?:',score[bisect.bisect_left(arr,70)])"
   ]
  },
  {
   "cell_type": "markdown",
   "metadata": {},
   "source": [
    "# 실패한 것들...ㅠㅠ"
   ]
  },
  {
   "cell_type": "markdown",
   "metadata": {},
   "source": [
    "## 이진탐색"
   ]
  },
  {
   "cell_type": "code",
   "execution_count": 54,
   "metadata": {},
   "outputs": [
    {
     "name": "stdout",
     "output_type": "stream",
     "text": [
      "7\n",
      "1\n",
      "[1]\n",
      "5\n",
      "[1, 5]\n",
      "2\n",
      "[1, 5, 2]\n",
      "10\n",
      "[1, 2, 5, 10]\n",
      "-99\n",
      "[1, 2, 5, 10, -99]\n",
      "7\n",
      "[-99, 1, 2, 5, 10, 7]\n",
      "5\n",
      "[-99, 1, 2, 5, 7, 10, 5]\n"
     ]
    },
    {
     "data": {
      "text/plain": [
       "[1, 1, 2, 2, 2, 2, 5]"
      ]
     },
     "execution_count": 54,
     "metadata": {},
     "output_type": "execute_result"
    }
   ],
   "source": [
    "n = int(input())\n",
    "\n",
    "#결과\n",
    "answers = []\n",
    "\n",
    "#말하는 번호 순서 저장\n",
    "inputs = []\n",
    "\n",
    "answer = []\n",
    "\n",
    "for _ in range(n):\n",
    "    inputs.append(int(input()))\n",
    "    print(inputs)\n",
    "    \n",
    "    inputs.sort()\n",
    "    \n",
    "    if len(inputs) % 2 == 1:\n",
    "        target = len(inputs)//2\n",
    "    else:\n",
    "        target = len(inputs)//2 - 1\n",
    "        \n",
    "    left, right = 0, n - 1\n",
    "\n",
    "    while left <= right:\n",
    "\n",
    "        mid = (left + right) // 2\n",
    "\n",
    "        if mid == target:\n",
    "            answer.append(inputs[mid])\n",
    "            break\n",
    "\n",
    "        elif mid < target:\n",
    "            left = mid + 1\n",
    "\n",
    "        else:\n",
    "            right = mid - 1\n",
    "        \n",
    "answer"
   ]
  },
  {
   "cell_type": "markdown",
   "metadata": {},
   "source": [
    "## 정렬"
   ]
  },
  {
   "cell_type": "code",
   "execution_count": 49,
   "metadata": {},
   "outputs": [
    {
     "name": "stdout",
     "output_type": "stream",
     "text": [
      "7\n",
      "1\n",
      "5\n",
      "2\n",
      "10\n",
      "-99\n",
      "7\n",
      "5\n",
      "1\n",
      "1\n",
      "2\n",
      "2\n",
      "2\n",
      "2\n",
      "5\n"
     ]
    }
   ],
   "source": [
    "n = int(input())\n",
    "\n",
    "#결과\n",
    "answers = []\n",
    "\n",
    "#말하는 번호 순서 저장\n",
    "inputs = []\n",
    "\n",
    "for _ in range(n):\n",
    "    inputs.append(int(input()))\n",
    "    inputs.sort()\n",
    "    if len(inputs) % 2 == 1:\n",
    "        answers.append(inputs[len(inputs)//2])\n",
    "    else:\n",
    "        answers.append(inputs[(len(inputs)//2) - 1])\n",
    "        \n",
    "for i in answers:\n",
    "    print(i)"
   ]
  },
  {
   "cell_type": "markdown",
   "metadata": {},
   "source": [
    "## heapq\n",
    "1, 5, 2, 10, -99, 7, 5\n",
    "\n",
    "1\n",
    "\n",
    "1\n",
    "\n",
    "2\n",
    "\n",
    "2\n",
    "\n",
    "2\n",
    "\n",
    "-99 1 2 5 7 10 => 2\n",
    "\n",
    "-99 1 2 5 5 7 10 => 5\n",
    "\n",
    "배열은 늘 정렬된다고 하자. [0]을 1번째라고 칠 때,\n",
    "\n",
    "- 배열이 홀수개 => n//2 + 1\n",
    "- 배열이 짝수개 => n//2 - 1\n",
    "\n",
    "즉!\n",
    "\n",
    "\n",
    "0 1 2 3 4 5 => 2\n",
    "* len(n)//2  - 1\n",
    "\n",
    "0 1 2 3 4 5 6 => 3\n",
    "* len(n)//2\n",
    "\n",
    "heapq를 쓰자"
   ]
  },
  {
   "cell_type": "code",
   "execution_count": 32,
   "metadata": {},
   "outputs": [
    {
     "name": "stdout",
     "output_type": "stream",
     "text": [
      "1\n",
      "1\n",
      "2\n",
      "2\n",
      "2\n",
      "2\n",
      "5\n"
     ]
    }
   ],
   "source": [
    "import heapq as hp\n",
    "\n",
    "#말하는 번호 순서\n",
    "inputs = [1, 5, 2, 10, -99, 7, 5]\n",
    "\n",
    "#힙큐\n",
    "heaps = []\n",
    "\n",
    "#결과\n",
    "answers = []\n",
    "\n",
    "def heapsort(arr):\n",
    "    heap = []\n",
    "    result = []\n",
    "    \n",
    "    for value in arr:\n",
    "        hp.heappush(heap, value)\n",
    "        \n",
    "    for i in range(len(heap)):\n",
    "        result.append(hp.heappop(heap))\n",
    "        \n",
    "    return result\n",
    "\n",
    "for num in inputs:\n",
    "    answers.append(num)\n",
    "    answers = heapsort(answers)\n",
    "    \n",
    "    if len(answers) % 2 == 1:\n",
    "        print(answers[len(answers)//2])\n",
    "    else:\n",
    "        print(answers[(len(answers)//2) - 1])"
   ]
  },
  {
   "cell_type": "markdown",
   "metadata": {},
   "source": [
    "### 백준 제출용"
   ]
  },
  {
   "cell_type": "code",
   "execution_count": 42,
   "metadata": {},
   "outputs": [
    {
     "name": "stdout",
     "output_type": "stream",
     "text": [
      "7\n",
      "1\n",
      "5\n",
      "2\n",
      "10\n",
      "-99\n",
      "7\n",
      "5\n",
      "1\n",
      "1\n",
      "2\n",
      "2\n",
      "2\n",
      "2\n",
      "5\n"
     ]
    }
   ],
   "source": [
    "import heapq as hp\n",
    "\n",
    "n = int(input())\n",
    "\n",
    "#힙큐\n",
    "heaps = []\n",
    "\n",
    "#결과\n",
    "answers = []\n",
    "\n",
    "#말하는 번호 순서 저장\n",
    "inputs = []\n",
    "for _ in range(n):\n",
    "    inputs.append(int(input()))\n",
    "    \n",
    "def heapsort(arr):\n",
    "    heap = []\n",
    "    result = []\n",
    "    \n",
    "    for value in arr:\n",
    "        hp.heappush(heap, value)\n",
    "    for i in range(len(heap)):\n",
    "        result.append(hp.heappop(heap))\n",
    "        \n",
    "    return result\n",
    "\n",
    "\n",
    "for num in inputs:\n",
    "    answers.append(num)\n",
    "    answers = heapsort(answers)\n",
    "    \n",
    "    if len(answers) % 2 == 1:\n",
    "        print(answers[len(answers)//2])\n",
    "    else:\n",
    "        print(answers[(len(answers)//2) - 1])"
   ]
  },
  {
   "cell_type": "code",
   "execution_count": null,
   "metadata": {},
   "outputs": [],
   "source": []
  },
  {
   "cell_type": "code",
   "execution_count": null,
   "metadata": {},
   "outputs": [],
   "source": []
  },
  {
   "cell_type": "code",
   "execution_count": null,
   "metadata": {},
   "outputs": [],
   "source": []
  },
  {
   "cell_type": "code",
   "execution_count": null,
   "metadata": {},
   "outputs": [],
   "source": []
  },
  {
   "cell_type": "code",
   "execution_count": null,
   "metadata": {},
   "outputs": [],
   "source": []
  }
 ],
 "metadata": {
  "kernelspec": {
   "display_name": "Python 3",
   "language": "python",
   "name": "python3"
  },
  "language_info": {
   "codemirror_mode": {
    "name": "ipython",
    "version": 3
   },
   "file_extension": ".py",
   "mimetype": "text/x-python",
   "name": "python",
   "nbconvert_exporter": "python",
   "pygments_lexer": "ipython3",
   "version": "3.8.3"
  }
 },
 "nbformat": 4,
 "nbformat_minor": 4
}
